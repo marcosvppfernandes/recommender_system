{
 "cells": [
  {
   "cell_type": "code",
   "execution_count": 1,
   "metadata": {},
   "outputs": [],
   "source": [
    "import pandas as pd\n",
    "import numpy as np\n",
    "import matplotlib as plt\n",
    "import seaborn as sns\n",
    "from surprise import Reader, Dataset, SVD\n",
    "from surprise.model_selection import cross_validate\n",
    "%matplotlib inline\n",
    "from scipy import stats\n",
    "from ast import literal_eval\n",
    "from sklearn.feature_extraction.text import TfidfVectorizer, CountVectorizer\n",
    "from sklearn.metrics.pairwise import linear_kernel, cosine_similarity\n",
    "from scipy.sparse import csc_matrix\n",
    "from scipy.sparse.linalg import svds\n",
    "from surprise.prediction_algorithms import knns\n",
    "from surprise.similarities import cosine, msd, pearson\n",
    "from surprise import accuracy\n",
    "from surprise.prediction_algorithms.knns import KNNBasic\n",
    "\n",
    "import warnings; warnings.simplefilter('ignore')"
   ]
  },
  {
   "cell_type": "markdown",
   "metadata": {},
   "source": [
    "### Assign the tables: "
   ]
  },
  {
   "cell_type": "code",
   "execution_count": 2,
   "metadata": {},
   "outputs": [],
   "source": [
    "games = pd.read_csv('../../../games_detailed_info.csv')\n",
    "bgg_reviews = pd.read_csv('../../../bgg-15m-reviews.csv')\n",
    "testezinho = pd.read_csv('../../../2020-08-19.csv')"
   ]
  },
  {
   "cell_type": "markdown",
   "metadata": {},
   "source": [
    "### Bring useful functions to the data exploration"
   ]
  },
  {
   "cell_type": "code",
   "execution_count": 3,
   "metadata": {},
   "outputs": [],
   "source": [
    "def basic_info(data):\n",
    "    \"\"\" Gets basic information to understand more of the data, also useful to delete columns that we know are categorical\"\"\"\n",
    "    print(\"Dataset shape is: \", data.shape)\n",
    "    print(\"Dataset size is: \", data.size)\n",
    "    print(data.duplicated().sum())\n",
    "    print(\"Dataset columns are: \", data.columns)\n",
    "    print(\"Dataset info is: \", data.info())\n",
    "    categorical = []\n",
    "    numerical = []\n",
    "    for i in data.columns:\n",
    "        if data[i].dtype == object:\n",
    "            categorical.append(i)\n",
    "        else:\n",
    "            numerical.append(i)\n",
    "    print(\"Categorical variables are:\\n \", categorical)\n",
    "    print(\"Numerical variables are:\\n \", numerical)\n",
    "    return categorical, numerical"
   ]
  },
  {
   "cell_type": "code",
   "execution_count": 4,
   "metadata": {},
   "outputs": [],
   "source": [
    "def columns_w_nan(data):\n",
    "    \"\"\" Returns the columns that have over 30% of its data as missing value \"\"\"\n",
    "    temp = []\n",
    "    temp_perce = []\n",
    "    for x in data.columns:\n",
    "        if data[x].isna().sum() > 0:\n",
    "            percentage_of_data = data[x].isna().sum()/(list(data.shape)[0])\n",
    "            print(\"Row: {} : is made {}% of NaN Values.\".format(x, percentage_of_data.round(3)))\n",
    "            if percentage_of_data > 0.3:\n",
    "                temp.append(x)\n",
    "                temp_perce.append(percentage_of_data)\n",
    "    if len(temp) > 0:\n",
    "        print('')            \n",
    "        print(temp)\n",
    "        print('')\n",
    "        print(temp_perce)"
   ]
  },
  {
   "cell_type": "code",
   "execution_count": 5,
   "metadata": {},
   "outputs": [],
   "source": [
    "def columns_repeat(data, data1, data2):\n",
    "    \"\"\"\" This function has as objective to:\n",
    "    1 - Find possible columns to merge dataframes\n",
    "    2 - Find columns that have to be deleted before the merging\n",
    "    \"\"\"\n",
    "    data_columns = []\n",
    "    data1_columns = []\n",
    "    data2_columns = []\n",
    "    data_data1 = []\n",
    "    data_data2 = []\n",
    "    data_data3 = []\n",
    "    for x in data.columns:\n",
    "        data_columns.append(x)\n",
    "    for y in data1.columns:\n",
    "        data1_columns.append(y)\n",
    "    for z in data2.columns:\n",
    "        data2_columns.append(z)\n",
    "     \n",
    "    for a in data_columns:\n",
    "        if a in data1_columns:\n",
    "            data_data1.append(a)\n",
    "            \n",
    "    for b in data_columns:\n",
    "        if b in data2_columns:\n",
    "            data_data2.append(b)\n",
    "    \n",
    "    for c in data1_columns:\n",
    "        if c in data2_columns:\n",
    "            data_data3.append(c)\n",
    "        \n",
    "    return(data_data1, data_data2, data_data3)"
   ]
  },
  {
   "cell_type": "markdown",
   "metadata": {},
   "source": [
    "### EDA \"games\""
   ]
  },
  {
   "cell_type": "code",
   "execution_count": 6,
   "metadata": {
    "scrolled": true
   },
   "outputs": [
    {
     "name": "stdout",
     "output_type": "stream",
     "text": [
      "Dataset shape is:  (19230, 56)\n",
      "Dataset size is:  1076880\n",
      "0\n",
      "Dataset columns are:  Index(['Unnamed: 0', 'type', 'id', 'thumbnail', 'image', 'primary',\n",
      "       'alternate', 'description', 'yearpublished', 'minplayers', 'maxplayers',\n",
      "       'suggested_num_players', 'suggested_playerage',\n",
      "       'suggested_language_dependence', 'playingtime', 'minplaytime',\n",
      "       'maxplaytime', 'minage', 'boardgamecategory', 'boardgamemechanic',\n",
      "       'boardgamefamily', 'boardgameexpansion', 'boardgameimplementation',\n",
      "       'boardgamedesigner', 'boardgameartist', 'boardgamepublisher',\n",
      "       'usersrated', 'average', 'bayesaverage', 'Board Game Rank',\n",
      "       'Strategy Game Rank', 'Family Game Rank', 'stddev', 'median', 'owned',\n",
      "       'trading', 'wanting', 'wishing', 'numcomments', 'numweights',\n",
      "       'averageweight', 'boardgameintegration', 'boardgamecompilation',\n",
      "       'Party Game Rank', 'Abstract Game Rank', 'Thematic Rank',\n",
      "       'War Game Rank', 'Customizable Rank', 'Children's Game Rank',\n",
      "       'RPG Item Rank', 'Accessory Rank', 'Video Game Rank', 'Amiga Rank',\n",
      "       'Commodore 64 Rank', 'Arcade Rank', 'Atari ST Rank'],\n",
      "      dtype='object')\n",
      "<class 'pandas.core.frame.DataFrame'>\n",
      "RangeIndex: 19230 entries, 0 to 19229\n",
      "Data columns (total 56 columns):\n",
      " #   Column                         Non-Null Count  Dtype  \n",
      "---  ------                         --------------  -----  \n",
      " 0   Unnamed: 0                     19230 non-null  int64  \n",
      " 1   type                           19230 non-null  object \n",
      " 2   id                             19230 non-null  int64  \n",
      " 3   thumbnail                      19211 non-null  object \n",
      " 4   image                          19211 non-null  object \n",
      " 5   primary                        19230 non-null  object \n",
      " 6   alternate                      7685 non-null   object \n",
      " 7   description                    19229 non-null  object \n",
      " 8   yearpublished                  19230 non-null  int64  \n",
      " 9   minplayers                     19230 non-null  int64  \n",
      " 10  maxplayers                     19230 non-null  int64  \n",
      " 11  suggested_num_players          19230 non-null  object \n",
      " 12  suggested_playerage            16884 non-null  object \n",
      " 13  suggested_language_dependence  16645 non-null  object \n",
      " 14  playingtime                    19230 non-null  int64  \n",
      " 15  minplaytime                    19230 non-null  int64  \n",
      " 16  maxplaytime                    19230 non-null  int64  \n",
      " 17  minage                         19230 non-null  int64  \n",
      " 18  boardgamecategory              19009 non-null  object \n",
      " 19  boardgamemechanic              17681 non-null  object \n",
      " 20  boardgamefamily                14743 non-null  object \n",
      " 21  boardgameexpansion             4784 non-null   object \n",
      " 22  boardgameimplementation        4091 non-null   object \n",
      " 23  boardgamedesigner              18800 non-null  object \n",
      " 24  boardgameartist                13833 non-null  object \n",
      " 25  boardgamepublisher             19230 non-null  object \n",
      " 26  usersrated                     19230 non-null  int64  \n",
      " 27  average                        19230 non-null  float64\n",
      " 28  bayesaverage                   19230 non-null  float64\n",
      " 29  Board Game Rank                19230 non-null  int64  \n",
      " 30  Strategy Game Rank             2075 non-null   float64\n",
      " 31  Family Game Rank               2001 non-null   float64\n",
      " 32  stddev                         19230 non-null  float64\n",
      " 33  median                         19230 non-null  int64  \n",
      " 34  owned                          19230 non-null  int64  \n",
      " 35  trading                        19230 non-null  int64  \n",
      " 36  wanting                        19230 non-null  int64  \n",
      " 37  wishing                        19230 non-null  int64  \n",
      " 38  numcomments                    19230 non-null  int64  \n",
      " 39  numweights                     19230 non-null  int64  \n",
      " 40  averageweight                  19230 non-null  float64\n",
      " 41  boardgameintegration           1418 non-null   object \n",
      " 42  boardgamecompilation           694 non-null    object \n",
      " 43  Party Game Rank                582 non-null    float64\n",
      " 44  Abstract Game Rank             1026 non-null   float64\n",
      " 45  Thematic Rank                  1125 non-null   float64\n",
      " 46  War Game Rank                  3213 non-null   float64\n",
      " 47  Customizable Rank              289 non-null    float64\n",
      " 48  Children's Game Rank           810 non-null    float64\n",
      " 49  RPG Item Rank                  1 non-null      float64\n",
      " 50  Accessory Rank                 1 non-null      float64\n",
      " 51  Video Game Rank                1 non-null      float64\n",
      " 52  Amiga Rank                     1 non-null      float64\n",
      " 53  Commodore 64 Rank              1 non-null      float64\n",
      " 54  Arcade Rank                    1 non-null      float64\n",
      " 55  Atari ST Rank                  1 non-null      float64\n",
      "dtypes: float64(19), int64(18), object(19)\n",
      "memory usage: 8.2+ MB\n",
      "Dataset info is:  None\n",
      "Categorical variables are:\n",
      "  ['type', 'thumbnail', 'image', 'primary', 'alternate', 'description', 'suggested_num_players', 'suggested_playerage', 'suggested_language_dependence', 'boardgamecategory', 'boardgamemechanic', 'boardgamefamily', 'boardgameexpansion', 'boardgameimplementation', 'boardgamedesigner', 'boardgameartist', 'boardgamepublisher', 'boardgameintegration', 'boardgamecompilation']\n",
      "Numerical variables are:\n",
      "  ['Unnamed: 0', 'id', 'yearpublished', 'minplayers', 'maxplayers', 'playingtime', 'minplaytime', 'maxplaytime', 'minage', 'usersrated', 'average', 'bayesaverage', 'Board Game Rank', 'Strategy Game Rank', 'Family Game Rank', 'stddev', 'median', 'owned', 'trading', 'wanting', 'wishing', 'numcomments', 'numweights', 'averageweight', 'Party Game Rank', 'Abstract Game Rank', 'Thematic Rank', 'War Game Rank', 'Customizable Rank', \"Children's Game Rank\", 'RPG Item Rank', 'Accessory Rank', 'Video Game Rank', 'Amiga Rank', 'Commodore 64 Rank', 'Arcade Rank', 'Atari ST Rank']\n"
     ]
    },
    {
     "data": {
      "text/plain": [
       "(['type',\n",
       "  'thumbnail',\n",
       "  'image',\n",
       "  'primary',\n",
       "  'alternate',\n",
       "  'description',\n",
       "  'suggested_num_players',\n",
       "  'suggested_playerage',\n",
       "  'suggested_language_dependence',\n",
       "  'boardgamecategory',\n",
       "  'boardgamemechanic',\n",
       "  'boardgamefamily',\n",
       "  'boardgameexpansion',\n",
       "  'boardgameimplementation',\n",
       "  'boardgamedesigner',\n",
       "  'boardgameartist',\n",
       "  'boardgamepublisher',\n",
       "  'boardgameintegration',\n",
       "  'boardgamecompilation'],\n",
       " ['Unnamed: 0',\n",
       "  'id',\n",
       "  'yearpublished',\n",
       "  'minplayers',\n",
       "  'maxplayers',\n",
       "  'playingtime',\n",
       "  'minplaytime',\n",
       "  'maxplaytime',\n",
       "  'minage',\n",
       "  'usersrated',\n",
       "  'average',\n",
       "  'bayesaverage',\n",
       "  'Board Game Rank',\n",
       "  'Strategy Game Rank',\n",
       "  'Family Game Rank',\n",
       "  'stddev',\n",
       "  'median',\n",
       "  'owned',\n",
       "  'trading',\n",
       "  'wanting',\n",
       "  'wishing',\n",
       "  'numcomments',\n",
       "  'numweights',\n",
       "  'averageweight',\n",
       "  'Party Game Rank',\n",
       "  'Abstract Game Rank',\n",
       "  'Thematic Rank',\n",
       "  'War Game Rank',\n",
       "  'Customizable Rank',\n",
       "  \"Children's Game Rank\",\n",
       "  'RPG Item Rank',\n",
       "  'Accessory Rank',\n",
       "  'Video Game Rank',\n",
       "  'Amiga Rank',\n",
       "  'Commodore 64 Rank',\n",
       "  'Arcade Rank',\n",
       "  'Atari ST Rank'])"
      ]
     },
     "execution_count": 6,
     "metadata": {},
     "output_type": "execute_result"
    }
   ],
   "source": [
    "basic_info(games)"
   ]
  },
  {
   "cell_type": "code",
   "execution_count": 7,
   "metadata": {
    "scrolled": true
   },
   "outputs": [
    {
     "name": "stdout",
     "output_type": "stream",
     "text": [
      "Row: thumbnail : is made 0.001% of NaN Values.\n",
      "Row: image : is made 0.001% of NaN Values.\n",
      "Row: alternate : is made 0.6% of NaN Values.\n",
      "Row: description : is made 0.0% of NaN Values.\n",
      "Row: suggested_playerage : is made 0.122% of NaN Values.\n",
      "Row: suggested_language_dependence : is made 0.134% of NaN Values.\n",
      "Row: boardgamecategory : is made 0.011% of NaN Values.\n",
      "Row: boardgamemechanic : is made 0.081% of NaN Values.\n",
      "Row: boardgamefamily : is made 0.233% of NaN Values.\n",
      "Row: boardgameexpansion : is made 0.751% of NaN Values.\n",
      "Row: boardgameimplementation : is made 0.787% of NaN Values.\n",
      "Row: boardgamedesigner : is made 0.022% of NaN Values.\n",
      "Row: boardgameartist : is made 0.281% of NaN Values.\n",
      "Row: Strategy Game Rank : is made 0.892% of NaN Values.\n",
      "Row: Family Game Rank : is made 0.896% of NaN Values.\n",
      "Row: boardgameintegration : is made 0.926% of NaN Values.\n",
      "Row: boardgamecompilation : is made 0.964% of NaN Values.\n",
      "Row: Party Game Rank : is made 0.97% of NaN Values.\n",
      "Row: Abstract Game Rank : is made 0.947% of NaN Values.\n",
      "Row: Thematic Rank : is made 0.941% of NaN Values.\n",
      "Row: War Game Rank : is made 0.833% of NaN Values.\n",
      "Row: Customizable Rank : is made 0.985% of NaN Values.\n",
      "Row: Children's Game Rank : is made 0.958% of NaN Values.\n",
      "Row: RPG Item Rank : is made 1.0% of NaN Values.\n",
      "Row: Accessory Rank : is made 1.0% of NaN Values.\n",
      "Row: Video Game Rank : is made 1.0% of NaN Values.\n",
      "Row: Amiga Rank : is made 1.0% of NaN Values.\n",
      "Row: Commodore 64 Rank : is made 1.0% of NaN Values.\n",
      "Row: Arcade Rank : is made 1.0% of NaN Values.\n",
      "Row: Atari ST Rank : is made 1.0% of NaN Values.\n",
      "\n",
      "['alternate', 'boardgameexpansion', 'boardgameimplementation', 'Strategy Game Rank', 'Family Game Rank', 'boardgameintegration', 'boardgamecompilation', 'Party Game Rank', 'Abstract Game Rank', 'Thematic Rank', 'War Game Rank', 'Customizable Rank', \"Children's Game Rank\", 'RPG Item Rank', 'Accessory Rank', 'Video Game Rank', 'Amiga Rank', 'Commodore 64 Rank', 'Arcade Rank', 'Atari ST Rank']\n",
      "\n",
      "[0.6003640145605824, 0.7512220488819553, 0.7872594903796152, 0.892095683827353, 0.8959438377535102, 0.9262610504420177, 0.9639105564222569, 0.9697347893915756, 0.9466458658346334, 0.9414976599063962, 0.8329173166926677, 0.9849713988559542, 0.9578783151326054, 0.9999479979199168, 0.9999479979199168, 0.9999479979199168, 0.9999479979199168, 0.9999479979199168, 0.9999479979199168, 0.9999479979199168]\n"
     ]
    }
   ],
   "source": [
    "columns_w_nan(games)"
   ]
  },
  {
   "cell_type": "code",
   "execution_count": 8,
   "metadata": {},
   "outputs": [],
   "source": [
    "# Dropping the columns that have over 30% of its data missing \n",
    "# (actually we aim to 30, but the one with least is 60% getting to 100% in this list)\n",
    "games1 = games.drop(['alternate', 'boardgameexpansion', 'boardgameimplementation', \n",
    "                     'Strategy Game Rank', 'Family Game Rank', 'boardgameintegration', \n",
    "                     'boardgamecompilation', 'Party Game Rank', 'Abstract Game Rank',\n",
    "                     'Thematic Rank', 'War Game Rank', 'Customizable Rank', \"Children's Game Rank\", \n",
    "                     'RPG Item Rank', 'Accessory Rank', 'Video Game Rank', 'Amiga Rank', 'Commodore 64 Rank',\n",
    "                     'Arcade Rank', 'Atari ST Rank', 'Unnamed: 0'], axis=1)"
   ]
  },
  {
   "cell_type": "code",
   "execution_count": 9,
   "metadata": {
    "scrolled": true
   },
   "outputs": [
    {
     "data": {
      "text/html": [
       "<div>\n",
       "<style scoped>\n",
       "    .dataframe tbody tr th:only-of-type {\n",
       "        vertical-align: middle;\n",
       "    }\n",
       "\n",
       "    .dataframe tbody tr th {\n",
       "        vertical-align: top;\n",
       "    }\n",
       "\n",
       "    .dataframe thead th {\n",
       "        text-align: right;\n",
       "    }\n",
       "</style>\n",
       "<table border=\"1\" class=\"dataframe\">\n",
       "  <thead>\n",
       "    <tr style=\"text-align: right;\">\n",
       "      <th></th>\n",
       "      <th>type</th>\n",
       "      <th>id</th>\n",
       "      <th>thumbnail</th>\n",
       "      <th>image</th>\n",
       "      <th>primary</th>\n",
       "      <th>description</th>\n",
       "      <th>yearpublished</th>\n",
       "      <th>minplayers</th>\n",
       "      <th>maxplayers</th>\n",
       "      <th>suggested_num_players</th>\n",
       "      <th>...</th>\n",
       "      <th>Board Game Rank</th>\n",
       "      <th>stddev</th>\n",
       "      <th>median</th>\n",
       "      <th>owned</th>\n",
       "      <th>trading</th>\n",
       "      <th>wanting</th>\n",
       "      <th>wishing</th>\n",
       "      <th>numcomments</th>\n",
       "      <th>numweights</th>\n",
       "      <th>averageweight</th>\n",
       "    </tr>\n",
       "  </thead>\n",
       "  <tbody>\n",
       "    <tr>\n",
       "      <th>0</th>\n",
       "      <td>boardgame</td>\n",
       "      <td>30549</td>\n",
       "      <td>https://cf.geekdo-images.com/thumb/img/HEKrtpT...</td>\n",
       "      <td>https://cf.geekdo-images.com/original/img/j-pf...</td>\n",
       "      <td>Pandemic</td>\n",
       "      <td>In Pandemic, several virulent diseases have br...</td>\n",
       "      <td>2008</td>\n",
       "      <td>2</td>\n",
       "      <td>4</td>\n",
       "      <td>[OrderedDict([('@numplayers', '1'), ('result',...</td>\n",
       "      <td>...</td>\n",
       "      <td>91</td>\n",
       "      <td>1.32632</td>\n",
       "      <td>0</td>\n",
       "      <td>144727</td>\n",
       "      <td>2191</td>\n",
       "      <td>640</td>\n",
       "      <td>8571</td>\n",
       "      <td>15778</td>\n",
       "      <td>5232</td>\n",
       "      <td>2.4148</td>\n",
       "    </tr>\n",
       "    <tr>\n",
       "      <th>1</th>\n",
       "      <td>boardgame</td>\n",
       "      <td>822</td>\n",
       "      <td>https://cf.geekdo-images.com/thumb/img/kqE4YJS...</td>\n",
       "      <td>https://cf.geekdo-images.com/original/img/o4p6...</td>\n",
       "      <td>Carcassonne</td>\n",
       "      <td>Carcassonne is a tile-placement game in which ...</td>\n",
       "      <td>2000</td>\n",
       "      <td>2</td>\n",
       "      <td>5</td>\n",
       "      <td>[OrderedDict([('@numplayers', '1'), ('result',...</td>\n",
       "      <td>...</td>\n",
       "      <td>173</td>\n",
       "      <td>1.30369</td>\n",
       "      <td>0</td>\n",
       "      <td>140066</td>\n",
       "      <td>1587</td>\n",
       "      <td>539</td>\n",
       "      <td>6286</td>\n",
       "      <td>17720</td>\n",
       "      <td>7304</td>\n",
       "      <td>1.9158</td>\n",
       "    </tr>\n",
       "    <tr>\n",
       "      <th>2</th>\n",
       "      <td>boardgame</td>\n",
       "      <td>13</td>\n",
       "      <td>https://cf.geekdo-images.com/thumb/img/g8LvJsd...</td>\n",
       "      <td>https://cf.geekdo-images.com/original/img/A-0y...</td>\n",
       "      <td>Catan</td>\n",
       "      <td>In Catan (formerly The Settlers of Catan), pla...</td>\n",
       "      <td>1995</td>\n",
       "      <td>3</td>\n",
       "      <td>4</td>\n",
       "      <td>[OrderedDict([('@numplayers', '1'), ('result',...</td>\n",
       "      <td>...</td>\n",
       "      <td>381</td>\n",
       "      <td>1.47908</td>\n",
       "      <td>0</td>\n",
       "      <td>144656</td>\n",
       "      <td>1825</td>\n",
       "      <td>474</td>\n",
       "      <td>5310</td>\n",
       "      <td>17859</td>\n",
       "      <td>7187</td>\n",
       "      <td>2.3264</td>\n",
       "    </tr>\n",
       "  </tbody>\n",
       "</table>\n",
       "<p>3 rows × 35 columns</p>\n",
       "</div>"
      ],
      "text/plain": [
       "        type     id                                          thumbnail  \\\n",
       "0  boardgame  30549  https://cf.geekdo-images.com/thumb/img/HEKrtpT...   \n",
       "1  boardgame    822  https://cf.geekdo-images.com/thumb/img/kqE4YJS...   \n",
       "2  boardgame     13  https://cf.geekdo-images.com/thumb/img/g8LvJsd...   \n",
       "\n",
       "                                               image      primary  \\\n",
       "0  https://cf.geekdo-images.com/original/img/j-pf...     Pandemic   \n",
       "1  https://cf.geekdo-images.com/original/img/o4p6...  Carcassonne   \n",
       "2  https://cf.geekdo-images.com/original/img/A-0y...        Catan   \n",
       "\n",
       "                                         description  yearpublished  \\\n",
       "0  In Pandemic, several virulent diseases have br...           2008   \n",
       "1  Carcassonne is a tile-placement game in which ...           2000   \n",
       "2  In Catan (formerly The Settlers of Catan), pla...           1995   \n",
       "\n",
       "   minplayers  maxplayers                              suggested_num_players  \\\n",
       "0           2           4  [OrderedDict([('@numplayers', '1'), ('result',...   \n",
       "1           2           5  [OrderedDict([('@numplayers', '1'), ('result',...   \n",
       "2           3           4  [OrderedDict([('@numplayers', '1'), ('result',...   \n",
       "\n",
       "   ... Board Game Rank   stddev  median   owned  trading  wanting wishing  \\\n",
       "0  ...              91  1.32632       0  144727     2191      640    8571   \n",
       "1  ...             173  1.30369       0  140066     1587      539    6286   \n",
       "2  ...             381  1.47908       0  144656     1825      474    5310   \n",
       "\n",
       "  numcomments numweights averageweight  \n",
       "0       15778       5232        2.4148  \n",
       "1       17720       7304        1.9158  \n",
       "2       17859       7187        2.3264  \n",
       "\n",
       "[3 rows x 35 columns]"
      ]
     },
     "execution_count": 9,
     "metadata": {},
     "output_type": "execute_result"
    }
   ],
   "source": [
    "games1.head(3)"
   ]
  },
  {
   "cell_type": "code",
   "execution_count": 10,
   "metadata": {
    "scrolled": false
   },
   "outputs": [
    {
     "name": "stdout",
     "output_type": "stream",
     "text": [
      "Row: thumbnail : is made 0.001% of NaN Values.\n",
      "Row: image : is made 0.001% of NaN Values.\n",
      "Row: description : is made 0.0% of NaN Values.\n",
      "Row: suggested_playerage : is made 0.122% of NaN Values.\n",
      "Row: suggested_language_dependence : is made 0.134% of NaN Values.\n",
      "Row: boardgamecategory : is made 0.011% of NaN Values.\n",
      "Row: boardgamemechanic : is made 0.081% of NaN Values.\n",
      "Row: boardgamefamily : is made 0.233% of NaN Values.\n",
      "Row: boardgamedesigner : is made 0.022% of NaN Values.\n",
      "Row: boardgameartist : is made 0.281% of NaN Values.\n"
     ]
    }
   ],
   "source": [
    "# We run the function again to a much cleaner output\n",
    "columns_w_nan(games1)"
   ]
  },
  {
   "cell_type": "code",
   "execution_count": null,
   "metadata": {},
   "outputs": [],
   "source": [
    "# The ones here with the biggest number are boardgameartist and boardgamefamily, we are going to keep those for now\n",
    "\n",
    "# The most interesting columns here would be boardgamedesigner, boardgamecategory, suggested_playerage and averageweight\n",
    "# Also look at minplayers-maxplayers"
   ]
  },
  {
   "cell_type": "code",
   "execution_count": 125,
   "metadata": {},
   "outputs": [],
   "source": [
    "# Create a function to get games by specific designer"
   ]
  },
  {
   "cell_type": "code",
   "execution_count": 126,
   "metadata": {},
   "outputs": [],
   "source": [
    "df_by_designer = games1[games1.boardgamedesigner == \"['Matt Leacock']\"]"
   ]
  },
  {
   "cell_type": "code",
   "execution_count": 135,
   "metadata": {},
   "outputs": [
    {
     "data": {
      "text/plain": [
       "['Pandemic',\n",
       " 'Forbidden Island',\n",
       " 'Forbidden Desert',\n",
       " 'Roll Through the Ages: The Bronze Age',\n",
       " 'Pandemic: The Cure',\n",
       " 'Forbidden Sky',\n",
       " 'Thunderbirds',\n",
       " 'Era: Medieval Age',\n",
       " 'Knit Wit',\n",
       " 'Chariot Race',\n",
       " 'Mole Rats in Space',\n",
       " 'Pandemic: Hot Zone – North America',\n",
       " 'Lunatix Loop']"
      ]
     },
     "execution_count": 135,
     "metadata": {},
     "output_type": "execute_result"
    }
   ],
   "source": [
    "list(df_by_designer['primary'].values)"
   ]
  },
  {
   "cell_type": "markdown",
   "metadata": {},
   "source": [
    "### EDA \"bgg_reviews\""
   ]
  },
  {
   "cell_type": "code",
   "execution_count": 12,
   "metadata": {},
   "outputs": [
    {
     "name": "stdout",
     "output_type": "stream",
     "text": [
      "Dataset shape is:  (15823269, 6)\n",
      "Dataset size is:  94939614\n",
      "0\n",
      "Dataset columns are:  Index(['Unnamed: 0', 'user', 'rating', 'comment', 'ID', 'name'], dtype='object')\n",
      "<class 'pandas.core.frame.DataFrame'>\n",
      "RangeIndex: 15823269 entries, 0 to 15823268\n",
      "Data columns (total 6 columns):\n",
      " #   Column      Dtype  \n",
      "---  ------      -----  \n",
      " 0   Unnamed: 0  int64  \n",
      " 1   user        object \n",
      " 2   rating      float64\n",
      " 3   comment     object \n",
      " 4   ID          int64  \n",
      " 5   name        object \n",
      "dtypes: float64(1), int64(2), object(3)\n",
      "memory usage: 724.3+ MB\n",
      "Dataset info is:  None\n",
      "Categorical variables are:\n",
      "  ['user', 'comment', 'name']\n",
      "Numerical variables are:\n",
      "  ['Unnamed: 0', 'rating', 'ID']\n"
     ]
    },
    {
     "data": {
      "text/plain": [
       "(['user', 'comment', 'name'], ['Unnamed: 0', 'rating', 'ID'])"
      ]
     },
     "execution_count": 12,
     "metadata": {},
     "output_type": "execute_result"
    }
   ],
   "source": [
    "basic_info(bgg_reviews)"
   ]
  },
  {
   "cell_type": "code",
   "execution_count": 13,
   "metadata": {
    "scrolled": true
   },
   "outputs": [
    {
     "name": "stdout",
     "output_type": "stream",
     "text": [
      "Row: user : is made 0.0% of NaN Values.\n",
      "Row: comment : is made 0.811% of NaN Values.\n",
      "\n",
      "['comment']\n",
      "\n",
      "[0.8107203385090653]\n"
     ]
    }
   ],
   "source": [
    "columns_w_nan(bgg_reviews)"
   ]
  },
  {
   "cell_type": "code",
   "execution_count": 14,
   "metadata": {
    "scrolled": false
   },
   "outputs": [
    {
     "data": {
      "text/html": [
       "<div>\n",
       "<style scoped>\n",
       "    .dataframe tbody tr th:only-of-type {\n",
       "        vertical-align: middle;\n",
       "    }\n",
       "\n",
       "    .dataframe tbody tr th {\n",
       "        vertical-align: top;\n",
       "    }\n",
       "\n",
       "    .dataframe thead th {\n",
       "        text-align: right;\n",
       "    }\n",
       "</style>\n",
       "<table border=\"1\" class=\"dataframe\">\n",
       "  <thead>\n",
       "    <tr style=\"text-align: right;\">\n",
       "      <th></th>\n",
       "      <th>Unnamed: 0</th>\n",
       "      <th>user</th>\n",
       "      <th>rating</th>\n",
       "      <th>comment</th>\n",
       "      <th>ID</th>\n",
       "      <th>name</th>\n",
       "    </tr>\n",
       "  </thead>\n",
       "  <tbody>\n",
       "    <tr>\n",
       "      <th>15823266</th>\n",
       "      <td>15823266</td>\n",
       "      <td>BunkerBill</td>\n",
       "      <td>7.0</td>\n",
       "      <td>NaN</td>\n",
       "      <td>281515</td>\n",
       "      <td>Company of Heroes</td>\n",
       "    </tr>\n",
       "    <tr>\n",
       "      <th>15823267</th>\n",
       "      <td>15823267</td>\n",
       "      <td>Hattori Hanzo</td>\n",
       "      <td>6.0</td>\n",
       "      <td>NaN</td>\n",
       "      <td>281515</td>\n",
       "      <td>Company of Heroes</td>\n",
       "    </tr>\n",
       "    <tr>\n",
       "      <th>15823268</th>\n",
       "      <td>15823268</td>\n",
       "      <td>Richie2000</td>\n",
       "      <td>1.0</td>\n",
       "      <td>NaN</td>\n",
       "      <td>281515</td>\n",
       "      <td>Company of Heroes</td>\n",
       "    </tr>\n",
       "  </tbody>\n",
       "</table>\n",
       "</div>"
      ],
      "text/plain": [
       "          Unnamed: 0           user  rating comment      ID               name\n",
       "15823266    15823266     BunkerBill     7.0     NaN  281515  Company of Heroes\n",
       "15823267    15823267  Hattori Hanzo     6.0     NaN  281515  Company of Heroes\n",
       "15823268    15823268     Richie2000     1.0     NaN  281515  Company of Heroes"
      ]
     },
     "execution_count": 14,
     "metadata": {},
     "output_type": "execute_result"
    }
   ],
   "source": [
    "bgg_reviews.tail(3)"
   ]
  },
  {
   "cell_type": "code",
   "execution_count": 15,
   "metadata": {},
   "outputs": [],
   "source": [
    "# Dropping the columns\n",
    "bgg_reviews = bgg_reviews.drop(columns=['Unnamed: 0'])"
   ]
  },
  {
   "cell_type": "code",
   "execution_count": 16,
   "metadata": {},
   "outputs": [
    {
     "data": {
      "text/html": [
       "<div>\n",
       "<style scoped>\n",
       "    .dataframe tbody tr th:only-of-type {\n",
       "        vertical-align: middle;\n",
       "    }\n",
       "\n",
       "    .dataframe tbody tr th {\n",
       "        vertical-align: top;\n",
       "    }\n",
       "\n",
       "    .dataframe thead th {\n",
       "        text-align: right;\n",
       "    }\n",
       "</style>\n",
       "<table border=\"1\" class=\"dataframe\">\n",
       "  <thead>\n",
       "    <tr style=\"text-align: right;\">\n",
       "      <th></th>\n",
       "      <th>user</th>\n",
       "      <th>rating</th>\n",
       "      <th>comment</th>\n",
       "      <th>ID</th>\n",
       "      <th>name</th>\n",
       "    </tr>\n",
       "  </thead>\n",
       "  <tbody>\n",
       "    <tr>\n",
       "      <th>0</th>\n",
       "      <td>Torsten</td>\n",
       "      <td>10.0</td>\n",
       "      <td>NaN</td>\n",
       "      <td>30549</td>\n",
       "      <td>Pandemic</td>\n",
       "    </tr>\n",
       "    <tr>\n",
       "      <th>1</th>\n",
       "      <td>mitnachtKAUBO-I</td>\n",
       "      <td>10.0</td>\n",
       "      <td>Hands down my favorite new game of BGG CON 200...</td>\n",
       "      <td>30549</td>\n",
       "      <td>Pandemic</td>\n",
       "    </tr>\n",
       "    <tr>\n",
       "      <th>2</th>\n",
       "      <td>avlawn</td>\n",
       "      <td>10.0</td>\n",
       "      <td>I tend to either love or easily tire of co-op ...</td>\n",
       "      <td>30549</td>\n",
       "      <td>Pandemic</td>\n",
       "    </tr>\n",
       "  </tbody>\n",
       "</table>\n",
       "</div>"
      ],
      "text/plain": [
       "              user  rating                                            comment  \\\n",
       "0          Torsten    10.0                                                NaN   \n",
       "1  mitnachtKAUBO-I    10.0  Hands down my favorite new game of BGG CON 200...   \n",
       "2           avlawn    10.0  I tend to either love or easily tire of co-op ...   \n",
       "\n",
       "      ID      name  \n",
       "0  30549  Pandemic  \n",
       "1  30549  Pandemic  \n",
       "2  30549  Pandemic  "
      ]
     },
     "execution_count": 16,
     "metadata": {},
     "output_type": "execute_result"
    }
   ],
   "source": [
    "bgg_reviews.head(3)"
   ]
  },
  {
   "cell_type": "code",
   "execution_count": 17,
   "metadata": {},
   "outputs": [
    {
     "data": {
      "text/plain": [
       "7.00000    3566154\n",
       "8.00000    3002815\n",
       "6.00000    2346047\n",
       "9.00000    1424911\n",
       "5.00000    1077762\n",
       "            ...   \n",
       "3.53562          1\n",
       "4.43100          1\n",
       "6.89150          1\n",
       "1.71687          1\n",
       "7.29160          1\n",
       "Name: rating, Length: 10172, dtype: int64"
      ]
     },
     "execution_count": 17,
     "metadata": {},
     "output_type": "execute_result"
    }
   ],
   "source": [
    "bgg_reviews['rating'].value_counts()"
   ]
  },
  {
   "cell_type": "code",
   "execution_count": 18,
   "metadata": {},
   "outputs": [],
   "source": [
    "a = bgg_reviews['name'].value_counts()"
   ]
  },
  {
   "cell_type": "code",
   "execution_count": 19,
   "metadata": {},
   "outputs": [
    {
     "data": {
      "text/plain": [
       "Pandemic                                        96234\n",
       "Carcassonne                                     96221\n",
       "Catan                                           96185\n",
       "7 Wonders                                       79870\n",
       "Dominion                                        74954\n",
       "                                                ...  \n",
       "Diary of a Wimpy Kid: Zoo-Wee Mama Card Game       30\n",
       "Revolución                                         30\n",
       "Ophiuchus: The Thirteenth Constellation            30\n",
       "Crazier Eights: Camelot                            30\n",
       "Taurus                                             30\n",
       "Name: name, Length: 18984, dtype: int64"
      ]
     },
     "execution_count": 19,
     "metadata": {},
     "output_type": "execute_result"
    }
   ],
   "source": [
    "a"
   ]
  },
  {
   "cell_type": "code",
   "execution_count": 20,
   "metadata": {},
   "outputs": [],
   "source": [
    "a = pd.DataFrame(a)"
   ]
  },
  {
   "cell_type": "code",
   "execution_count": 21,
   "metadata": {},
   "outputs": [
    {
     "data": {
      "text/html": [
       "<div>\n",
       "<style scoped>\n",
       "    .dataframe tbody tr th:only-of-type {\n",
       "        vertical-align: middle;\n",
       "    }\n",
       "\n",
       "    .dataframe tbody tr th {\n",
       "        vertical-align: top;\n",
       "    }\n",
       "\n",
       "    .dataframe thead th {\n",
       "        text-align: right;\n",
       "    }\n",
       "</style>\n",
       "<table border=\"1\" class=\"dataframe\">\n",
       "  <thead>\n",
       "    <tr style=\"text-align: right;\">\n",
       "      <th></th>\n",
       "      <th>name</th>\n",
       "    </tr>\n",
       "  </thead>\n",
       "  <tbody>\n",
       "    <tr>\n",
       "      <th>Pandemic</th>\n",
       "      <td>96234</td>\n",
       "    </tr>\n",
       "    <tr>\n",
       "      <th>Carcassonne</th>\n",
       "      <td>96221</td>\n",
       "    </tr>\n",
       "    <tr>\n",
       "      <th>Catan</th>\n",
       "      <td>96185</td>\n",
       "    </tr>\n",
       "  </tbody>\n",
       "</table>\n",
       "</div>"
      ],
      "text/plain": [
       "              name\n",
       "Pandemic     96234\n",
       "Carcassonne  96221\n",
       "Catan        96185"
      ]
     },
     "execution_count": 21,
     "metadata": {},
     "output_type": "execute_result"
    }
   ],
   "source": [
    "a.head(3)"
   ]
  },
  {
   "cell_type": "code",
   "execution_count": 22,
   "metadata": {},
   "outputs": [],
   "source": [
    "a.columns = ['n_reviews']"
   ]
  },
  {
   "cell_type": "code",
   "execution_count": 23,
   "metadata": {},
   "outputs": [
    {
     "data": {
      "text/plain": [
       "n_reviews\n",
       "30           276\n",
       "31           261\n",
       "32           248\n",
       "33           238\n",
       "34           234\n",
       "            ... \n",
       "2350           1\n",
       "2349           1\n",
       "2347           1\n",
       "2346           1\n",
       "96234          1\n",
       "Length: 2858, dtype: int64"
      ]
     },
     "execution_count": 23,
     "metadata": {},
     "output_type": "execute_result"
    }
   ],
   "source": [
    "a.value_counts()\n",
    "# Investigate high number of low number of reviews\n",
    "## Small games?\n",
    "## Glitch?"
   ]
  },
  {
   "cell_type": "markdown",
   "metadata": {},
   "source": [
    "### EDA \"testezinho\""
   ]
  },
  {
   "cell_type": "code",
   "execution_count": 24,
   "metadata": {},
   "outputs": [
    {
     "name": "stdout",
     "output_type": "stream",
     "text": [
      "Dataset shape is:  (19330, 10)\n",
      "Dataset size is:  193300\n",
      "0\n",
      "Dataset columns are:  Index(['Unnamed: 0', 'ID', 'Name', 'Year', 'Rank', 'Average', 'Bayes average',\n",
      "       'Users rated', 'URL', 'Thumbnail'],\n",
      "      dtype='object')\n",
      "<class 'pandas.core.frame.DataFrame'>\n",
      "RangeIndex: 19330 entries, 0 to 19329\n",
      "Data columns (total 10 columns):\n",
      " #   Column         Non-Null Count  Dtype  \n",
      "---  ------         --------------  -----  \n",
      " 0   Unnamed: 0     19330 non-null  int64  \n",
      " 1   ID             19330 non-null  int64  \n",
      " 2   Name           19330 non-null  object \n",
      " 3   Year           19330 non-null  int64  \n",
      " 4   Rank           19330 non-null  int64  \n",
      " 5   Average        19330 non-null  float64\n",
      " 6   Bayes average  19330 non-null  float64\n",
      " 7   Users rated    19330 non-null  int64  \n",
      " 8   URL            19330 non-null  object \n",
      " 9   Thumbnail      19317 non-null  object \n",
      "dtypes: float64(2), int64(5), object(3)\n",
      "memory usage: 1.5+ MB\n",
      "Dataset info is:  None\n",
      "Categorical variables are:\n",
      "  ['Name', 'URL', 'Thumbnail']\n",
      "Numerical variables are:\n",
      "  ['Unnamed: 0', 'ID', 'Year', 'Rank', 'Average', 'Bayes average', 'Users rated']\n"
     ]
    },
    {
     "data": {
      "text/plain": [
       "(['Name', 'URL', 'Thumbnail'],\n",
       " ['Unnamed: 0',\n",
       "  'ID',\n",
       "  'Year',\n",
       "  'Rank',\n",
       "  'Average',\n",
       "  'Bayes average',\n",
       "  'Users rated'])"
      ]
     },
     "execution_count": 24,
     "metadata": {},
     "output_type": "execute_result"
    }
   ],
   "source": [
    "basic_info(testezinho)"
   ]
  },
  {
   "cell_type": "code",
   "execution_count": 25,
   "metadata": {},
   "outputs": [
    {
     "name": "stdout",
     "output_type": "stream",
     "text": [
      "Row: Thumbnail : is made 0.001% of NaN Values.\n"
     ]
    }
   ],
   "source": [
    "columns_w_nan(testezinho)"
   ]
  },
  {
   "cell_type": "code",
   "execution_count": 26,
   "metadata": {
    "scrolled": false
   },
   "outputs": [
    {
     "data": {
      "text/html": [
       "<div>\n",
       "<style scoped>\n",
       "    .dataframe tbody tr th:only-of-type {\n",
       "        vertical-align: middle;\n",
       "    }\n",
       "\n",
       "    .dataframe tbody tr th {\n",
       "        vertical-align: top;\n",
       "    }\n",
       "\n",
       "    .dataframe thead th {\n",
       "        text-align: right;\n",
       "    }\n",
       "</style>\n",
       "<table border=\"1\" class=\"dataframe\">\n",
       "  <thead>\n",
       "    <tr style=\"text-align: right;\">\n",
       "      <th></th>\n",
       "      <th>Unnamed: 0</th>\n",
       "      <th>ID</th>\n",
       "      <th>Name</th>\n",
       "      <th>Year</th>\n",
       "      <th>Rank</th>\n",
       "      <th>Average</th>\n",
       "      <th>Bayes average</th>\n",
       "      <th>Users rated</th>\n",
       "      <th>URL</th>\n",
       "      <th>Thumbnail</th>\n",
       "    </tr>\n",
       "  </thead>\n",
       "  <tbody>\n",
       "    <tr>\n",
       "      <th>0</th>\n",
       "      <td>90</td>\n",
       "      <td>30549</td>\n",
       "      <td>Pandemic</td>\n",
       "      <td>2008</td>\n",
       "      <td>91</td>\n",
       "      <td>7.62</td>\n",
       "      <td>7.518</td>\n",
       "      <td>96186</td>\n",
       "      <td>/boardgame/30549/pandemic</td>\n",
       "      <td>https://cf.geekdo-images.com/micro/img/0m3-oqB...</td>\n",
       "    </tr>\n",
       "    <tr>\n",
       "      <th>1</th>\n",
       "      <td>172</td>\n",
       "      <td>822</td>\n",
       "      <td>Carcassonne</td>\n",
       "      <td>2000</td>\n",
       "      <td>173</td>\n",
       "      <td>7.42</td>\n",
       "      <td>7.311</td>\n",
       "      <td>96181</td>\n",
       "      <td>/boardgame/822/carcassonne</td>\n",
       "      <td>https://cf.geekdo-images.com/micro/img/z0tTaij...</td>\n",
       "    </tr>\n",
       "    <tr>\n",
       "      <th>2</th>\n",
       "      <td>380</td>\n",
       "      <td>13</td>\n",
       "      <td>Catan</td>\n",
       "      <td>1995</td>\n",
       "      <td>381</td>\n",
       "      <td>7.16</td>\n",
       "      <td>7.001</td>\n",
       "      <td>96171</td>\n",
       "      <td>/boardgame/13/catan</td>\n",
       "      <td>https://cf.geekdo-images.com/micro/img/e0y6Bog...</td>\n",
       "    </tr>\n",
       "  </tbody>\n",
       "</table>\n",
       "</div>"
      ],
      "text/plain": [
       "   Unnamed: 0     ID         Name  Year  Rank  Average  Bayes average  \\\n",
       "0          90  30549     Pandemic  2008    91     7.62          7.518   \n",
       "1         172    822  Carcassonne  2000   173     7.42          7.311   \n",
       "2         380     13        Catan  1995   381     7.16          7.001   \n",
       "\n",
       "   Users rated                         URL  \\\n",
       "0        96186   /boardgame/30549/pandemic   \n",
       "1        96181  /boardgame/822/carcassonne   \n",
       "2        96171         /boardgame/13/catan   \n",
       "\n",
       "                                           Thumbnail  \n",
       "0  https://cf.geekdo-images.com/micro/img/0m3-oqB...  \n",
       "1  https://cf.geekdo-images.com/micro/img/z0tTaij...  \n",
       "2  https://cf.geekdo-images.com/micro/img/e0y6Bog...  "
      ]
     },
     "execution_count": 26,
     "metadata": {},
     "output_type": "execute_result"
    }
   ],
   "source": [
    "testezinho.head(3)"
   ]
  },
  {
   "cell_type": "code",
   "execution_count": 27,
   "metadata": {},
   "outputs": [],
   "source": [
    "testezinho = testezinho.drop(columns=['Unnamed: 0', 'Thumbnail'])"
   ]
  },
  {
   "cell_type": "markdown",
   "metadata": {},
   "source": [
    "### Our final situation for the datasets:"
   ]
  },
  {
   "cell_type": "code",
   "execution_count": 28,
   "metadata": {},
   "outputs": [
    {
     "data": {
      "text/html": [
       "<div>\n",
       "<style scoped>\n",
       "    .dataframe tbody tr th:only-of-type {\n",
       "        vertical-align: middle;\n",
       "    }\n",
       "\n",
       "    .dataframe tbody tr th {\n",
       "        vertical-align: top;\n",
       "    }\n",
       "\n",
       "    .dataframe thead th {\n",
       "        text-align: right;\n",
       "    }\n",
       "</style>\n",
       "<table border=\"1\" class=\"dataframe\">\n",
       "  <thead>\n",
       "    <tr style=\"text-align: right;\">\n",
       "      <th></th>\n",
       "      <th>ID</th>\n",
       "      <th>Name</th>\n",
       "      <th>Year</th>\n",
       "      <th>Rank</th>\n",
       "      <th>Average</th>\n",
       "      <th>Bayes average</th>\n",
       "      <th>Users rated</th>\n",
       "      <th>URL</th>\n",
       "    </tr>\n",
       "  </thead>\n",
       "  <tbody>\n",
       "    <tr>\n",
       "      <th>0</th>\n",
       "      <td>30549</td>\n",
       "      <td>Pandemic</td>\n",
       "      <td>2008</td>\n",
       "      <td>91</td>\n",
       "      <td>7.62</td>\n",
       "      <td>7.518</td>\n",
       "      <td>96186</td>\n",
       "      <td>/boardgame/30549/pandemic</td>\n",
       "    </tr>\n",
       "    <tr>\n",
       "      <th>1</th>\n",
       "      <td>822</td>\n",
       "      <td>Carcassonne</td>\n",
       "      <td>2000</td>\n",
       "      <td>173</td>\n",
       "      <td>7.42</td>\n",
       "      <td>7.311</td>\n",
       "      <td>96181</td>\n",
       "      <td>/boardgame/822/carcassonne</td>\n",
       "    </tr>\n",
       "  </tbody>\n",
       "</table>\n",
       "</div>"
      ],
      "text/plain": [
       "      ID         Name  Year  Rank  Average  Bayes average  Users rated  \\\n",
       "0  30549     Pandemic  2008    91     7.62          7.518        96186   \n",
       "1    822  Carcassonne  2000   173     7.42          7.311        96181   \n",
       "\n",
       "                          URL  \n",
       "0   /boardgame/30549/pandemic  \n",
       "1  /boardgame/822/carcassonne  "
      ]
     },
     "execution_count": 28,
     "metadata": {},
     "output_type": "execute_result"
    }
   ],
   "source": [
    "testezinho.head(2)"
   ]
  },
  {
   "cell_type": "code",
   "execution_count": 29,
   "metadata": {},
   "outputs": [
    {
     "data": {
      "text/html": [
       "<div>\n",
       "<style scoped>\n",
       "    .dataframe tbody tr th:only-of-type {\n",
       "        vertical-align: middle;\n",
       "    }\n",
       "\n",
       "    .dataframe tbody tr th {\n",
       "        vertical-align: top;\n",
       "    }\n",
       "\n",
       "    .dataframe thead th {\n",
       "        text-align: right;\n",
       "    }\n",
       "</style>\n",
       "<table border=\"1\" class=\"dataframe\">\n",
       "  <thead>\n",
       "    <tr style=\"text-align: right;\">\n",
       "      <th></th>\n",
       "      <th>user</th>\n",
       "      <th>rating</th>\n",
       "      <th>comment</th>\n",
       "      <th>ID</th>\n",
       "      <th>name</th>\n",
       "    </tr>\n",
       "  </thead>\n",
       "  <tbody>\n",
       "    <tr>\n",
       "      <th>0</th>\n",
       "      <td>Torsten</td>\n",
       "      <td>10.0</td>\n",
       "      <td>NaN</td>\n",
       "      <td>30549</td>\n",
       "      <td>Pandemic</td>\n",
       "    </tr>\n",
       "    <tr>\n",
       "      <th>1</th>\n",
       "      <td>mitnachtKAUBO-I</td>\n",
       "      <td>10.0</td>\n",
       "      <td>Hands down my favorite new game of BGG CON 200...</td>\n",
       "      <td>30549</td>\n",
       "      <td>Pandemic</td>\n",
       "    </tr>\n",
       "  </tbody>\n",
       "</table>\n",
       "</div>"
      ],
      "text/plain": [
       "              user  rating                                            comment  \\\n",
       "0          Torsten    10.0                                                NaN   \n",
       "1  mitnachtKAUBO-I    10.0  Hands down my favorite new game of BGG CON 200...   \n",
       "\n",
       "      ID      name  \n",
       "0  30549  Pandemic  \n",
       "1  30549  Pandemic  "
      ]
     },
     "execution_count": 29,
     "metadata": {},
     "output_type": "execute_result"
    }
   ],
   "source": [
    "bgg_reviews.head(2)"
   ]
  },
  {
   "cell_type": "code",
   "execution_count": 30,
   "metadata": {
    "scrolled": false
   },
   "outputs": [
    {
     "data": {
      "text/html": [
       "<div>\n",
       "<style scoped>\n",
       "    .dataframe tbody tr th:only-of-type {\n",
       "        vertical-align: middle;\n",
       "    }\n",
       "\n",
       "    .dataframe tbody tr th {\n",
       "        vertical-align: top;\n",
       "    }\n",
       "\n",
       "    .dataframe thead th {\n",
       "        text-align: right;\n",
       "    }\n",
       "</style>\n",
       "<table border=\"1\" class=\"dataframe\">\n",
       "  <thead>\n",
       "    <tr style=\"text-align: right;\">\n",
       "      <th></th>\n",
       "      <th>type</th>\n",
       "      <th>id</th>\n",
       "      <th>thumbnail</th>\n",
       "      <th>image</th>\n",
       "      <th>primary</th>\n",
       "      <th>description</th>\n",
       "      <th>yearpublished</th>\n",
       "      <th>minplayers</th>\n",
       "      <th>maxplayers</th>\n",
       "      <th>suggested_num_players</th>\n",
       "      <th>...</th>\n",
       "      <th>Board Game Rank</th>\n",
       "      <th>stddev</th>\n",
       "      <th>median</th>\n",
       "      <th>owned</th>\n",
       "      <th>trading</th>\n",
       "      <th>wanting</th>\n",
       "      <th>wishing</th>\n",
       "      <th>numcomments</th>\n",
       "      <th>numweights</th>\n",
       "      <th>averageweight</th>\n",
       "    </tr>\n",
       "  </thead>\n",
       "  <tbody>\n",
       "    <tr>\n",
       "      <th>0</th>\n",
       "      <td>boardgame</td>\n",
       "      <td>30549</td>\n",
       "      <td>https://cf.geekdo-images.com/thumb/img/HEKrtpT...</td>\n",
       "      <td>https://cf.geekdo-images.com/original/img/j-pf...</td>\n",
       "      <td>Pandemic</td>\n",
       "      <td>In Pandemic, several virulent diseases have br...</td>\n",
       "      <td>2008</td>\n",
       "      <td>2</td>\n",
       "      <td>4</td>\n",
       "      <td>[OrderedDict([('@numplayers', '1'), ('result',...</td>\n",
       "      <td>...</td>\n",
       "      <td>91</td>\n",
       "      <td>1.32632</td>\n",
       "      <td>0</td>\n",
       "      <td>144727</td>\n",
       "      <td>2191</td>\n",
       "      <td>640</td>\n",
       "      <td>8571</td>\n",
       "      <td>15778</td>\n",
       "      <td>5232</td>\n",
       "      <td>2.4148</td>\n",
       "    </tr>\n",
       "    <tr>\n",
       "      <th>1</th>\n",
       "      <td>boardgame</td>\n",
       "      <td>822</td>\n",
       "      <td>https://cf.geekdo-images.com/thumb/img/kqE4YJS...</td>\n",
       "      <td>https://cf.geekdo-images.com/original/img/o4p6...</td>\n",
       "      <td>Carcassonne</td>\n",
       "      <td>Carcassonne is a tile-placement game in which ...</td>\n",
       "      <td>2000</td>\n",
       "      <td>2</td>\n",
       "      <td>5</td>\n",
       "      <td>[OrderedDict([('@numplayers', '1'), ('result',...</td>\n",
       "      <td>...</td>\n",
       "      <td>173</td>\n",
       "      <td>1.30369</td>\n",
       "      <td>0</td>\n",
       "      <td>140066</td>\n",
       "      <td>1587</td>\n",
       "      <td>539</td>\n",
       "      <td>6286</td>\n",
       "      <td>17720</td>\n",
       "      <td>7304</td>\n",
       "      <td>1.9158</td>\n",
       "    </tr>\n",
       "  </tbody>\n",
       "</table>\n",
       "<p>2 rows × 35 columns</p>\n",
       "</div>"
      ],
      "text/plain": [
       "        type     id                                          thumbnail  \\\n",
       "0  boardgame  30549  https://cf.geekdo-images.com/thumb/img/HEKrtpT...   \n",
       "1  boardgame    822  https://cf.geekdo-images.com/thumb/img/kqE4YJS...   \n",
       "\n",
       "                                               image      primary  \\\n",
       "0  https://cf.geekdo-images.com/original/img/j-pf...     Pandemic   \n",
       "1  https://cf.geekdo-images.com/original/img/o4p6...  Carcassonne   \n",
       "\n",
       "                                         description  yearpublished  \\\n",
       "0  In Pandemic, several virulent diseases have br...           2008   \n",
       "1  Carcassonne is a tile-placement game in which ...           2000   \n",
       "\n",
       "   minplayers  maxplayers                              suggested_num_players  \\\n",
       "0           2           4  [OrderedDict([('@numplayers', '1'), ('result',...   \n",
       "1           2           5  [OrderedDict([('@numplayers', '1'), ('result',...   \n",
       "\n",
       "   ... Board Game Rank   stddev  median   owned  trading  wanting wishing  \\\n",
       "0  ...              91  1.32632       0  144727     2191      640    8571   \n",
       "1  ...             173  1.30369       0  140066     1587      539    6286   \n",
       "\n",
       "  numcomments numweights averageweight  \n",
       "0       15778       5232        2.4148  \n",
       "1       17720       7304        1.9158  \n",
       "\n",
       "[2 rows x 35 columns]"
      ]
     },
     "execution_count": 30,
     "metadata": {},
     "output_type": "execute_result"
    }
   ],
   "source": [
    "games1.head(2)"
   ]
  },
  {
   "cell_type": "code",
   "execution_count": 31,
   "metadata": {},
   "outputs": [],
   "source": [
    "# Fazer uma tabela com pesos baseados em Owned, trading e etc. Por exemplo, Owned significa que a pessoa ainda tem e \n",
    "# quer mostrar que tem, entao +0.3, trading significa que o jogo talvez nao tenha tanta replayability/showcase, entao seria -0.5"
   ]
  },
  {
   "cell_type": "markdown",
   "metadata": {},
   "source": [
    "Ideas:"
   ]
  },
  {
   "cell_type": "markdown",
   "metadata": {},
   "source": [
    "I use the TMDB Ratings to come up with our Top Movies Chart. I will use IMDB's weighted rating formula to construct my chart. Mathematically, it is represented as follows:\n",
    "\n",
    "Weighted Rating (WR) =  (vv+m.R)+(mv+m.C) \n",
    "where,\n",
    "\n",
    "v is the number of votes for the movie\n",
    "m is the minimum votes required to be listed in the chart\n",
    "R is the average rating of the movie\n",
    "C is the mean vote across the whole report\n",
    "The next step is to determine an appropriate value for m, the minimum votes required to be listed in the chart. We will use 95th percentile as our cutoff. In other words, for a movie to feature in the charts, it must have more votes than at least 95% of the movies in the list.\n",
    "\n",
    "I will build our overall Top 250 Chart and will define a function to build charts for a particular genre. Let's begin!"
   ]
  },
  {
   "cell_type": "markdown",
   "metadata": {},
   "source": [
    "- Make 3 types of recommenders\n",
    "- Decide which one is the best\n",
    "- Build the same recommenders with weighted rating\n",
    "- Make a function that get more than one movie\n"
   ]
  },
  {
   "cell_type": "markdown",
   "metadata": {},
   "source": [
    "Level-ups:"
   ]
  },
  {
   "cell_type": "markdown",
   "metadata": {},
   "source": [
    "- Flask deployment\n",
    "- Sentiment Analysis / NLP on the Manual/Review?\n",
    "- Feedback system \n",
    "- PCA?\n"
   ]
  },
  {
   "cell_type": "markdown",
   "metadata": {},
   "source": [
    "LAS or Surprise"
   ]
  },
  {
   "cell_type": "markdown",
   "metadata": {},
   "source": [
    "- Find a way to replace names for ID's"
   ]
  },
  {
   "cell_type": "markdown",
   "metadata": {},
   "source": [
    "### Making the rec system"
   ]
  },
  {
   "cell_type": "code",
   "execution_count": 32,
   "metadata": {},
   "outputs": [],
   "source": [
    "reviews_new = bgg_reviews.sort_values(by=['user'])"
   ]
  },
  {
   "cell_type": "code",
   "execution_count": 33,
   "metadata": {
    "scrolled": true
   },
   "outputs": [
    {
     "data": {
      "text/plain": [
       "user             66\n",
       "rating            0\n",
       "comment    12828246\n",
       "ID                0\n",
       "name              0\n",
       "dtype: int64"
      ]
     },
     "execution_count": 33,
     "metadata": {},
     "output_type": "execute_result"
    }
   ],
   "source": [
    "reviews_new.isna().sum()"
   ]
  },
  {
   "cell_type": "code",
   "execution_count": 34,
   "metadata": {
    "scrolled": false
   },
   "outputs": [
    {
     "data": {
      "text/plain": [
       "(15823269, 5)"
      ]
     },
     "execution_count": 34,
     "metadata": {},
     "output_type": "execute_result"
    }
   ],
   "source": [
    "reviews_new.shape"
   ]
  },
  {
   "cell_type": "code",
   "execution_count": 35,
   "metadata": {
    "scrolled": true
   },
   "outputs": [
    {
     "data": {
      "text/plain": [
       "15823203"
      ]
     },
     "execution_count": 35,
     "metadata": {},
     "output_type": "execute_result"
    }
   ],
   "source": [
    "15823269-66"
   ]
  },
  {
   "cell_type": "code",
   "execution_count": 36,
   "metadata": {
    "scrolled": true
   },
   "outputs": [],
   "source": [
    "reviews_new = reviews_new[0:15823203]"
   ]
  },
  {
   "cell_type": "code",
   "execution_count": 37,
   "metadata": {},
   "outputs": [
    {
     "data": {
      "text/plain": [
       "user              0\n",
       "rating            0\n",
       "comment    12828180\n",
       "ID                0\n",
       "name              0\n",
       "dtype: int64"
      ]
     },
     "execution_count": 37,
     "metadata": {},
     "output_type": "execute_result"
    }
   ],
   "source": [
    "reviews_new.isna().sum()"
   ]
  },
  {
   "cell_type": "markdown",
   "metadata": {},
   "source": [
    "To check reviews based on a user:"
   ]
  },
  {
   "cell_type": "code",
   "execution_count": 38,
   "metadata": {
    "scrolled": true
   },
   "outputs": [
    {
     "data": {
      "text/html": [
       "<div>\n",
       "<style scoped>\n",
       "    .dataframe tbody tr th:only-of-type {\n",
       "        vertical-align: middle;\n",
       "    }\n",
       "\n",
       "    .dataframe tbody tr th {\n",
       "        vertical-align: top;\n",
       "    }\n",
       "\n",
       "    .dataframe thead th {\n",
       "        text-align: right;\n",
       "    }\n",
       "</style>\n",
       "<table border=\"1\" class=\"dataframe\">\n",
       "  <thead>\n",
       "    <tr style=\"text-align: right;\">\n",
       "      <th></th>\n",
       "      <th>user</th>\n",
       "      <th>rating</th>\n",
       "      <th>comment</th>\n",
       "      <th>ID</th>\n",
       "      <th>name</th>\n",
       "    </tr>\n",
       "  </thead>\n",
       "  <tbody>\n",
       "    <tr>\n",
       "      <th>13385410</th>\n",
       "      <td>Æleksandr Þræð</td>\n",
       "      <td>8.0</td>\n",
       "      <td>Interesting mix of skill, luck and beautiful c...</td>\n",
       "      <td>5451</td>\n",
       "      <td>Hanafuda</td>\n",
       "    </tr>\n",
       "    <tr>\n",
       "      <th>13387541</th>\n",
       "      <td>Æleksandr Þræð</td>\n",
       "      <td>8.0</td>\n",
       "      <td>This version of the Chez Geek Empire is a hoot...</td>\n",
       "      <td>9962</td>\n",
       "      <td>Chez Goth</td>\n",
       "    </tr>\n",
       "    <tr>\n",
       "      <th>8112769</th>\n",
       "      <td>Æleksandr Þræð</td>\n",
       "      <td>10.0</td>\n",
       "      <td>Excellent game mixing Luck and Strategy with o...</td>\n",
       "      <td>2093</td>\n",
       "      <td>Mahjong</td>\n",
       "    </tr>\n",
       "    <tr>\n",
       "      <th>12539839</th>\n",
       "      <td>Æleksandr Þræð</td>\n",
       "      <td>6.0</td>\n",
       "      <td>Excellent ancient game with different strategy...</td>\n",
       "      <td>2932</td>\n",
       "      <td>Hnefatafl</td>\n",
       "    </tr>\n",
       "    <tr>\n",
       "      <th>15185475</th>\n",
       "      <td>Æleksandr Þræð</td>\n",
       "      <td>7.0</td>\n",
       "      <td>Fun light harted game of vampire slaying.  Tho...</td>\n",
       "      <td>5554</td>\n",
       "      <td>Vampire</td>\n",
       "    </tr>\n",
       "    <tr>\n",
       "      <th>9947640</th>\n",
       "      <td>Æleksandr Þræð</td>\n",
       "      <td>9.5</td>\n",
       "      <td>What's better than fighting in large Humanoid ...</td>\n",
       "      <td>1540</td>\n",
       "      <td>BattleTech</td>\n",
       "    </tr>\n",
       "    <tr>\n",
       "      <th>3715637</th>\n",
       "      <td>Æleksandr Þræð</td>\n",
       "      <td>8.0</td>\n",
       "      <td>a more 'refined' form of Crazy-8's.  Good time...</td>\n",
       "      <td>2223</td>\n",
       "      <td>UNO</td>\n",
       "    </tr>\n",
       "    <tr>\n",
       "      <th>13514829</th>\n",
       "      <td>Æleksandr Þræð</td>\n",
       "      <td>7.0</td>\n",
       "      <td>Learned the Game at the Civ. Museum in Ottawa ...</td>\n",
       "      <td>2399</td>\n",
       "      <td>Senet</td>\n",
       "    </tr>\n",
       "    <tr>\n",
       "      <th>9162339</th>\n",
       "      <td>Æleksandr Þræð</td>\n",
       "      <td>10.0</td>\n",
       "      <td>Great Late night or Beer &amp; Pretzels game.  Ver...</td>\n",
       "      <td>553</td>\n",
       "      <td>Chez Geek</td>\n",
       "    </tr>\n",
       "    <tr>\n",
       "      <th>12353561</th>\n",
       "      <td>Æleksandr Þræð</td>\n",
       "      <td>9.0</td>\n",
       "      <td>A more in depth game than Illuminati, and the ...</td>\n",
       "      <td>1552</td>\n",
       "      <td>Illuminati: New World Order</td>\n",
       "    </tr>\n",
       "    <tr>\n",
       "      <th>7487111</th>\n",
       "      <td>Æleksandr Þræð</td>\n",
       "      <td>7.0</td>\n",
       "      <td>A good game when you are able to move. :þ</td>\n",
       "      <td>590</td>\n",
       "      <td>Mille Bornes</td>\n",
       "    </tr>\n",
       "  </tbody>\n",
       "</table>\n",
       "</div>"
      ],
      "text/plain": [
       "                    user  rating  \\\n",
       "13385410  Æleksandr Þræð     8.0   \n",
       "13387541  Æleksandr Þræð     8.0   \n",
       "8112769   Æleksandr Þræð    10.0   \n",
       "12539839  Æleksandr Þræð     6.0   \n",
       "15185475  Æleksandr Þræð     7.0   \n",
       "9947640   Æleksandr Þræð     9.5   \n",
       "3715637   Æleksandr Þræð     8.0   \n",
       "13514829  Æleksandr Þræð     7.0   \n",
       "9162339   Æleksandr Þræð    10.0   \n",
       "12353561  Æleksandr Þræð     9.0   \n",
       "7487111   Æleksandr Þræð     7.0   \n",
       "\n",
       "                                                    comment    ID  \\\n",
       "13385410  Interesting mix of skill, luck and beautiful c...  5451   \n",
       "13387541  This version of the Chez Geek Empire is a hoot...  9962   \n",
       "8112769   Excellent game mixing Luck and Strategy with o...  2093   \n",
       "12539839  Excellent ancient game with different strategy...  2932   \n",
       "15185475  Fun light harted game of vampire slaying.  Tho...  5554   \n",
       "9947640   What's better than fighting in large Humanoid ...  1540   \n",
       "3715637   a more 'refined' form of Crazy-8's.  Good time...  2223   \n",
       "13514829  Learned the Game at the Civ. Museum in Ottawa ...  2399   \n",
       "9162339   Great Late night or Beer & Pretzels game.  Ver...   553   \n",
       "12353561  A more in depth game than Illuminati, and the ...  1552   \n",
       "7487111           A good game when you are able to move. :þ   590   \n",
       "\n",
       "                                 name  \n",
       "13385410                     Hanafuda  \n",
       "13387541                    Chez Goth  \n",
       "8112769                       Mahjong  \n",
       "12539839                    Hnefatafl  \n",
       "15185475                      Vampire  \n",
       "9947640                    BattleTech  \n",
       "3715637                           UNO  \n",
       "13514829                        Senet  \n",
       "9162339                     Chez Geek  \n",
       "12353561  Illuminati: New World Order  \n",
       "7487111                  Mille Bornes  "
      ]
     },
     "execution_count": 38,
     "metadata": {},
     "output_type": "execute_result"
    }
   ],
   "source": [
    "reviews_new[reviews_new['user'] == 'Æleksandr Þræð']"
   ]
  },
  {
   "cell_type": "code",
   "execution_count": 39,
   "metadata": {},
   "outputs": [],
   "source": [
    "reviews_new1 = reviews_new.drop(columns=['comment', 'name'])"
   ]
  },
  {
   "cell_type": "code",
   "execution_count": 40,
   "metadata": {},
   "outputs": [
    {
     "data": {
      "text/html": [
       "<div>\n",
       "<style scoped>\n",
       "    .dataframe tbody tr th:only-of-type {\n",
       "        vertical-align: middle;\n",
       "    }\n",
       "\n",
       "    .dataframe tbody tr th {\n",
       "        vertical-align: top;\n",
       "    }\n",
       "\n",
       "    .dataframe thead th {\n",
       "        text-align: right;\n",
       "    }\n",
       "</style>\n",
       "<table border=\"1\" class=\"dataframe\">\n",
       "  <thead>\n",
       "    <tr style=\"text-align: right;\">\n",
       "      <th></th>\n",
       "      <th>user</th>\n",
       "      <th>rating</th>\n",
       "      <th>ID</th>\n",
       "    </tr>\n",
       "  </thead>\n",
       "  <tbody>\n",
       "    <tr>\n",
       "      <th>12589584</th>\n",
       "      <td>Fu_Koios</td>\n",
       "      <td>9.0</td>\n",
       "      <td>112092</td>\n",
       "    </tr>\n",
       "    <tr>\n",
       "      <th>15241668</th>\n",
       "      <td>Fu_Koios</td>\n",
       "      <td>9.0</td>\n",
       "      <td>223033</td>\n",
       "    </tr>\n",
       "    <tr>\n",
       "      <th>5812906</th>\n",
       "      <td>beastvol</td>\n",
       "      <td>7.0</td>\n",
       "      <td>278</td>\n",
       "    </tr>\n",
       "  </tbody>\n",
       "</table>\n",
       "</div>"
      ],
      "text/plain": [
       "                user  rating      ID\n",
       "12589584   Fu_Koios      9.0  112092\n",
       "15241668   Fu_Koios      9.0  223033\n",
       "5812906     beastvol     7.0     278"
      ]
     },
     "execution_count": 40,
     "metadata": {},
     "output_type": "execute_result"
    }
   ],
   "source": [
    "reviews_new1.head(3)"
   ]
  },
  {
   "cell_type": "code",
   "execution_count": 41,
   "metadata": {},
   "outputs": [],
   "source": [
    "### At this point I should set a threshhold for Minimum of contribuitions/reviews\n",
    "\n",
    "### Transform Users into ID's to respect the user's privacy and to make it easier to \"see\""
   ]
  },
  {
   "cell_type": "code",
   "execution_count": 42,
   "metadata": {},
   "outputs": [],
   "source": [
    "reviews_new1['user_id'] = reviews_new1['user'].astype('category').cat.codes"
   ]
  },
  {
   "cell_type": "code",
   "execution_count": 43,
   "metadata": {
    "scrolled": true
   },
   "outputs": [
    {
     "data": {
      "text/html": [
       "<div>\n",
       "<style scoped>\n",
       "    .dataframe tbody tr th:only-of-type {\n",
       "        vertical-align: middle;\n",
       "    }\n",
       "\n",
       "    .dataframe tbody tr th {\n",
       "        vertical-align: top;\n",
       "    }\n",
       "\n",
       "    .dataframe thead th {\n",
       "        text-align: right;\n",
       "    }\n",
       "</style>\n",
       "<table border=\"1\" class=\"dataframe\">\n",
       "  <thead>\n",
       "    <tr style=\"text-align: right;\">\n",
       "      <th></th>\n",
       "      <th>user</th>\n",
       "      <th>rating</th>\n",
       "      <th>ID</th>\n",
       "      <th>user_id</th>\n",
       "    </tr>\n",
       "  </thead>\n",
       "  <tbody>\n",
       "    <tr>\n",
       "      <th>12589584</th>\n",
       "      <td>Fu_Koios</td>\n",
       "      <td>9.0</td>\n",
       "      <td>112092</td>\n",
       "      <td>0</td>\n",
       "    </tr>\n",
       "    <tr>\n",
       "      <th>15241668</th>\n",
       "      <td>Fu_Koios</td>\n",
       "      <td>9.0</td>\n",
       "      <td>223033</td>\n",
       "      <td>0</td>\n",
       "    </tr>\n",
       "    <tr>\n",
       "      <th>5812906</th>\n",
       "      <td>beastvol</td>\n",
       "      <td>7.0</td>\n",
       "      <td>278</td>\n",
       "      <td>1</td>\n",
       "    </tr>\n",
       "    <tr>\n",
       "      <th>11577025</th>\n",
       "      <td>beastvol</td>\n",
       "      <td>5.0</td>\n",
       "      <td>12004</td>\n",
       "      <td>1</td>\n",
       "    </tr>\n",
       "  </tbody>\n",
       "</table>\n",
       "</div>"
      ],
      "text/plain": [
       "                user  rating      ID  user_id\n",
       "12589584   Fu_Koios      9.0  112092        0\n",
       "15241668   Fu_Koios      9.0  223033        0\n",
       "5812906     beastvol     7.0     278        1\n",
       "11577025    beastvol     5.0   12004        1"
      ]
     },
     "execution_count": 43,
     "metadata": {},
     "output_type": "execute_result"
    }
   ],
   "source": [
    "reviews_new1.head(4)"
   ]
  },
  {
   "cell_type": "code",
   "execution_count": 44,
   "metadata": {},
   "outputs": [],
   "source": [
    "reviews_new2 = reviews_new1.drop(columns='user')"
   ]
  },
  {
   "cell_type": "code",
   "execution_count": 45,
   "metadata": {
    "scrolled": false
   },
   "outputs": [
    {
     "data": {
      "text/html": [
       "<div>\n",
       "<style scoped>\n",
       "    .dataframe tbody tr th:only-of-type {\n",
       "        vertical-align: middle;\n",
       "    }\n",
       "\n",
       "    .dataframe tbody tr th {\n",
       "        vertical-align: top;\n",
       "    }\n",
       "\n",
       "    .dataframe thead th {\n",
       "        text-align: right;\n",
       "    }\n",
       "</style>\n",
       "<table border=\"1\" class=\"dataframe\">\n",
       "  <thead>\n",
       "    <tr style=\"text-align: right;\">\n",
       "      <th></th>\n",
       "      <th>rating</th>\n",
       "      <th>ID</th>\n",
       "      <th>user_id</th>\n",
       "    </tr>\n",
       "  </thead>\n",
       "  <tbody>\n",
       "    <tr>\n",
       "      <th>13514829</th>\n",
       "      <td>7.0</td>\n",
       "      <td>2399</td>\n",
       "      <td>351047</td>\n",
       "    </tr>\n",
       "    <tr>\n",
       "      <th>9162339</th>\n",
       "      <td>10.0</td>\n",
       "      <td>553</td>\n",
       "      <td>351047</td>\n",
       "    </tr>\n",
       "    <tr>\n",
       "      <th>12353561</th>\n",
       "      <td>9.0</td>\n",
       "      <td>1552</td>\n",
       "      <td>351047</td>\n",
       "    </tr>\n",
       "    <tr>\n",
       "      <th>7487111</th>\n",
       "      <td>7.0</td>\n",
       "      <td>590</td>\n",
       "      <td>351047</td>\n",
       "    </tr>\n",
       "  </tbody>\n",
       "</table>\n",
       "</div>"
      ],
      "text/plain": [
       "          rating    ID  user_id\n",
       "13514829     7.0  2399   351047\n",
       "9162339     10.0   553   351047\n",
       "12353561     9.0  1552   351047\n",
       "7487111      7.0   590   351047"
      ]
     },
     "execution_count": 45,
     "metadata": {},
     "output_type": "execute_result"
    }
   ],
   "source": [
    "reviews_new2.tail(4)"
   ]
  },
  {
   "cell_type": "code",
   "execution_count": 46,
   "metadata": {},
   "outputs": [],
   "source": [
    "reviews_new2.columns = ['rating', 'game_id', 'user_id']"
   ]
  },
  {
   "cell_type": "code",
   "execution_count": 47,
   "metadata": {},
   "outputs": [],
   "source": [
    "# Drop the users with under X number of reviews?"
   ]
  },
  {
   "cell_type": "code",
   "execution_count": null,
   "metadata": {},
   "outputs": [],
   "source": []
  },
  {
   "cell_type": "code",
   "execution_count": null,
   "metadata": {},
   "outputs": [],
   "source": []
  },
  {
   "cell_type": "code",
   "execution_count": 48,
   "metadata": {},
   "outputs": [],
   "source": [
    "reader = Reader(rating_scale=(1,10))\n",
    "svd = SVD()"
   ]
  },
  {
   "cell_type": "code",
   "execution_count": 49,
   "metadata": {},
   "outputs": [],
   "source": [
    "data = Dataset.load_from_df(reviews_new2, reader)"
   ]
  },
  {
   "cell_type": "code",
   "execution_count": 50,
   "metadata": {},
   "outputs": [],
   "source": [
    "#cross_validate(svd, data, measures=['RMSE', 'MAE'], cv=10, verbose=True)"
   ]
  },
  {
   "cell_type": "code",
   "execution_count": 51,
   "metadata": {},
   "outputs": [
    {
     "data": {
      "text/plain": [
       "surprise.dataset.DatasetAutoFolds"
      ]
     },
     "execution_count": 51,
     "metadata": {},
     "output_type": "execute_result"
    }
   ],
   "source": [
    "type(data)"
   ]
  },
  {
   "cell_type": "markdown",
   "metadata": {},
   "source": [
    "### Subset smaller dataframe"
   ]
  },
  {
   "cell_type": "code",
   "execution_count": 52,
   "metadata": {},
   "outputs": [],
   "source": [
    "reviews_new3 = reviews_new2[0:100000]"
   ]
  },
  {
   "cell_type": "code",
   "execution_count": 53,
   "metadata": {},
   "outputs": [
    {
     "data": {
      "text/plain": [
       "(100000, 3)"
      ]
     },
     "execution_count": 53,
     "metadata": {},
     "output_type": "execute_result"
    }
   ],
   "source": [
    "reviews_new3.shape"
   ]
  },
  {
   "cell_type": "code",
   "execution_count": 54,
   "metadata": {
    "scrolled": false
   },
   "outputs": [
    {
     "data": {
      "text/html": [
       "<div>\n",
       "<style scoped>\n",
       "    .dataframe tbody tr th:only-of-type {\n",
       "        vertical-align: middle;\n",
       "    }\n",
       "\n",
       "    .dataframe tbody tr th {\n",
       "        vertical-align: top;\n",
       "    }\n",
       "\n",
       "    .dataframe thead th {\n",
       "        text-align: right;\n",
       "    }\n",
       "</style>\n",
       "<table border=\"1\" class=\"dataframe\">\n",
       "  <thead>\n",
       "    <tr style=\"text-align: right;\">\n",
       "      <th></th>\n",
       "      <th>rating</th>\n",
       "      <th>game_id</th>\n",
       "      <th>user_id</th>\n",
       "    </tr>\n",
       "  </thead>\n",
       "  <tbody>\n",
       "    <tr>\n",
       "      <th>12740681</th>\n",
       "      <td>8.0</td>\n",
       "      <td>155255</td>\n",
       "      <td>2437</td>\n",
       "    </tr>\n",
       "    <tr>\n",
       "      <th>2857632</th>\n",
       "      <td>7.0</td>\n",
       "      <td>110327</td>\n",
       "      <td>2437</td>\n",
       "    </tr>\n",
       "    <tr>\n",
       "      <th>8798057</th>\n",
       "      <td>8.0</td>\n",
       "      <td>152162</td>\n",
       "      <td>2437</td>\n",
       "    </tr>\n",
       "  </tbody>\n",
       "</table>\n",
       "</div>"
      ],
      "text/plain": [
       "          rating  game_id  user_id\n",
       "12740681     8.0   155255     2437\n",
       "2857632      7.0   110327     2437\n",
       "8798057      8.0   152162     2437"
      ]
     },
     "execution_count": 54,
     "metadata": {},
     "output_type": "execute_result"
    }
   ],
   "source": [
    "reviews_new3.tail(3)"
   ]
  },
  {
   "cell_type": "code",
   "execution_count": 55,
   "metadata": {
    "scrolled": false
   },
   "outputs": [
    {
     "data": {
      "text/plain": [
       "7.00    22278\n",
       "8.00    18865\n",
       "6.00    14877\n",
       "9.00     8961\n",
       "5.00     7169\n",
       "        ...  \n",
       "6.68        1\n",
       "9.79        1\n",
       "7.93        1\n",
       "7.46        1\n",
       "5.53        1\n",
       "Name: rating, Length: 543, dtype: int64"
      ]
     },
     "execution_count": 55,
     "metadata": {},
     "output_type": "execute_result"
    }
   ],
   "source": [
    "reviews_new3.rating.value_counts()"
   ]
  },
  {
   "cell_type": "code",
   "execution_count": 56,
   "metadata": {
    "scrolled": true
   },
   "outputs": [
    {
     "data": {
      "text/plain": [
       "988     841\n",
       "139     753\n",
       "2373    688\n",
       "845     671\n",
       "552     655\n",
       "       ... \n",
       "1717      1\n",
       "1438      1\n",
       "1822      1\n",
       "159       1\n",
       "1887      1\n",
       "Name: user_id, Length: 2438, dtype: int64"
      ]
     },
     "execution_count": 56,
     "metadata": {},
     "output_type": "execute_result"
    }
   ],
   "source": [
    "reviews_new3.user_id.value_counts()"
   ]
  },
  {
   "cell_type": "code",
   "execution_count": 57,
   "metadata": {
    "scrolled": true
   },
   "outputs": [
    {
     "data": {
      "text/html": [
       "<div>\n",
       "<style scoped>\n",
       "    .dataframe tbody tr th:only-of-type {\n",
       "        vertical-align: middle;\n",
       "    }\n",
       "\n",
       "    .dataframe tbody tr th {\n",
       "        vertical-align: top;\n",
       "    }\n",
       "\n",
       "    .dataframe thead th {\n",
       "        text-align: right;\n",
       "    }\n",
       "</style>\n",
       "<table border=\"1\" class=\"dataframe\">\n",
       "  <thead>\n",
       "    <tr style=\"text-align: right;\">\n",
       "      <th></th>\n",
       "      <th>rating</th>\n",
       "      <th>game_id</th>\n",
       "      <th>user_id</th>\n",
       "    </tr>\n",
       "  </thead>\n",
       "  <tbody>\n",
       "    <tr>\n",
       "      <th>12589584</th>\n",
       "      <td>9.0</td>\n",
       "      <td>112092</td>\n",
       "      <td>0</td>\n",
       "    </tr>\n",
       "    <tr>\n",
       "      <th>15241668</th>\n",
       "      <td>9.0</td>\n",
       "      <td>223033</td>\n",
       "      <td>0</td>\n",
       "    </tr>\n",
       "    <tr>\n",
       "      <th>5812906</th>\n",
       "      <td>7.0</td>\n",
       "      <td>278</td>\n",
       "      <td>1</td>\n",
       "    </tr>\n",
       "  </tbody>\n",
       "</table>\n",
       "</div>"
      ],
      "text/plain": [
       "          rating  game_id  user_id\n",
       "12589584     9.0   112092        0\n",
       "15241668     9.0   223033        0\n",
       "5812906      7.0      278        1"
      ]
     },
     "execution_count": 57,
     "metadata": {},
     "output_type": "execute_result"
    }
   ],
   "source": [
    "reviews_new3.head(3)"
   ]
  },
  {
   "cell_type": "code",
   "execution_count": 58,
   "metadata": {},
   "outputs": [],
   "source": [
    "cols = ['user_id', 'game_id', 'rating']"
   ]
  },
  {
   "cell_type": "code",
   "execution_count": 59,
   "metadata": {},
   "outputs": [],
   "source": [
    "reviews_new3 = reviews_new3[cols]"
   ]
  },
  {
   "cell_type": "code",
   "execution_count": 60,
   "metadata": {},
   "outputs": [
    {
     "data": {
      "text/html": [
       "<div>\n",
       "<style scoped>\n",
       "    .dataframe tbody tr th:only-of-type {\n",
       "        vertical-align: middle;\n",
       "    }\n",
       "\n",
       "    .dataframe tbody tr th {\n",
       "        vertical-align: top;\n",
       "    }\n",
       "\n",
       "    .dataframe thead th {\n",
       "        text-align: right;\n",
       "    }\n",
       "</style>\n",
       "<table border=\"1\" class=\"dataframe\">\n",
       "  <thead>\n",
       "    <tr style=\"text-align: right;\">\n",
       "      <th></th>\n",
       "      <th>user_id</th>\n",
       "      <th>game_id</th>\n",
       "      <th>rating</th>\n",
       "    </tr>\n",
       "  </thead>\n",
       "  <tbody>\n",
       "    <tr>\n",
       "      <th>12589584</th>\n",
       "      <td>0</td>\n",
       "      <td>112092</td>\n",
       "      <td>9.0</td>\n",
       "    </tr>\n",
       "    <tr>\n",
       "      <th>15241668</th>\n",
       "      <td>0</td>\n",
       "      <td>223033</td>\n",
       "      <td>9.0</td>\n",
       "    </tr>\n",
       "    <tr>\n",
       "      <th>5812906</th>\n",
       "      <td>1</td>\n",
       "      <td>278</td>\n",
       "      <td>7.0</td>\n",
       "    </tr>\n",
       "  </tbody>\n",
       "</table>\n",
       "</div>"
      ],
      "text/plain": [
       "          user_id  game_id  rating\n",
       "12589584        0   112092     9.0\n",
       "15241668        0   223033     9.0\n",
       "5812906         1      278     7.0"
      ]
     },
     "execution_count": 60,
     "metadata": {},
     "output_type": "execute_result"
    }
   ],
   "source": [
    "reviews_new3.head(3)"
   ]
  },
  {
   "cell_type": "code",
   "execution_count": 61,
   "metadata": {},
   "outputs": [],
   "source": [
    "data = Dataset.load_from_df(reviews_new3, reader)"
   ]
  },
  {
   "cell_type": "code",
   "execution_count": 62,
   "metadata": {},
   "outputs": [],
   "source": [
    "dataset = data.build_full_trainset()"
   ]
  },
  {
   "cell_type": "code",
   "execution_count": 63,
   "metadata": {
    "scrolled": false
   },
   "outputs": [
    {
     "name": "stdout",
     "output_type": "stream",
     "text": [
      "Number of users:  2438 \n",
      "\n",
      "Number of items:  11115\n"
     ]
    }
   ],
   "source": [
    "print('Number of users: ', dataset.n_users, '\\n')\n",
    "print('Number of items: ', dataset.n_items)"
   ]
  },
  {
   "cell_type": "code",
   "execution_count": 64,
   "metadata": {},
   "outputs": [],
   "source": [
    "sim_cos = {'name':'cosine', 'user_based':False}"
   ]
  },
  {
   "cell_type": "code",
   "execution_count": 66,
   "metadata": {},
   "outputs": [],
   "source": [
    "# basic = KNNBasic(sim_options=sim_cos)\n",
    "# basic.fit(trainset)"
   ]
  },
  {
   "cell_type": "code",
   "execution_count": 67,
   "metadata": {},
   "outputs": [],
   "source": [
    "#basic.sim"
   ]
  },
  {
   "cell_type": "code",
   "execution_count": 68,
   "metadata": {},
   "outputs": [],
   "source": [
    "#predictions = basic.test(testset)"
   ]
  },
  {
   "cell_type": "code",
   "execution_count": null,
   "metadata": {},
   "outputs": [],
   "source": []
  },
  {
   "cell_type": "code",
   "execution_count": 69,
   "metadata": {},
   "outputs": [
    {
     "name": "stdout",
     "output_type": "stream",
     "text": [
      "Evaluating RMSE, MAE of algorithm SVD on 6 split(s).\n",
      "\n",
      "                  Fold 1  Fold 2  Fold 3  Fold 4  Fold 5  Fold 6  Mean    Std     \n",
      "RMSE (testset)    1.3751  1.3627  1.3533  1.3706  1.3601  1.3460  1.3613  0.0098  \n",
      "MAE (testset)     1.0224  1.0122  1.0102  1.0146  1.0093  1.0009  1.0116  0.0064  \n",
      "Fit time          5.06    4.36    4.27    4.33    4.22    4.27    4.42    0.29    \n",
      "Test time         0.10    0.08    0.09    0.08    0.14    0.08    0.09    0.02    \n"
     ]
    },
    {
     "data": {
      "text/plain": [
       "{'test_rmse': array([1.3751481 , 1.36272094, 1.35329267, 1.37064317, 1.36012992,\n",
       "        1.34599578]),\n",
       " 'test_mae': array([1.02244104, 1.01219852, 1.01016731, 1.01459226, 1.00927821,\n",
       "        1.0009335 ]),\n",
       " 'fit_time': (5.057368278503418,\n",
       "  4.362335443496704,\n",
       "  4.269955396652222,\n",
       "  4.32862114906311,\n",
       "  4.221954584121704,\n",
       "  4.271955251693726),\n",
       " 'test_time': (0.09699797630310059,\n",
       "  0.08192610740661621,\n",
       "  0.0859987735748291,\n",
       "  0.08192801475524902,\n",
       "  0.1360030174255371,\n",
       "  0.0840001106262207)}"
      ]
     },
     "execution_count": 69,
     "metadata": {},
     "output_type": "execute_result"
    }
   ],
   "source": [
    "cross_validate(svd, data, measures=['RMSE', 'MAE'], cv=6, verbose=True)"
   ]
  },
  {
   "cell_type": "code",
   "execution_count": 70,
   "metadata": {},
   "outputs": [],
   "source": [
    "trainset = data.build_full_trainset()"
   ]
  },
  {
   "cell_type": "code",
   "execution_count": 71,
   "metadata": {
    "scrolled": false
   },
   "outputs": [
    {
     "data": {
      "text/plain": [
       "<surprise.prediction_algorithms.matrix_factorization.SVD at 0x206022e2910>"
      ]
     },
     "execution_count": 71,
     "metadata": {},
     "output_type": "execute_result"
    }
   ],
   "source": [
    "svd.fit(trainset)\n"
   ]
  },
  {
   "cell_type": "code",
   "execution_count": 72,
   "metadata": {},
   "outputs": [
    {
     "name": "stdout",
     "output_type": "stream",
     "text": [
      "user: 3          item: 34241241241414 r_ui = None   est = 7.04   {'was_impossible': False}\n"
     ]
    },
    {
     "data": {
      "text/plain": [
       "Prediction(uid='3', iid='34241241241414', r_ui=None, est=7.0350295792, details={'was_impossible': False})"
      ]
     },
     "execution_count": 72,
     "metadata": {},
     "output_type": "execute_result"
    }
   ],
   "source": [
    "svd.predict('3', '34241241241414', verbose=True)"
   ]
  },
  {
   "cell_type": "code",
   "execution_count": 73,
   "metadata": {
    "scrolled": true
   },
   "outputs": [
    {
     "data": {
      "text/html": [
       "<div>\n",
       "<style scoped>\n",
       "    .dataframe tbody tr th:only-of-type {\n",
       "        vertical-align: middle;\n",
       "    }\n",
       "\n",
       "    .dataframe tbody tr th {\n",
       "        vertical-align: top;\n",
       "    }\n",
       "\n",
       "    .dataframe thead th {\n",
       "        text-align: right;\n",
       "    }\n",
       "</style>\n",
       "<table border=\"1\" class=\"dataframe\">\n",
       "  <thead>\n",
       "    <tr style=\"text-align: right;\">\n",
       "      <th></th>\n",
       "      <th>user_id</th>\n",
       "      <th>game_id</th>\n",
       "      <th>rating</th>\n",
       "    </tr>\n",
       "  </thead>\n",
       "  <tbody>\n",
       "    <tr>\n",
       "      <th>10123139</th>\n",
       "      <td>2437</td>\n",
       "      <td>195544</td>\n",
       "      <td>6.8</td>\n",
       "    </tr>\n",
       "    <tr>\n",
       "      <th>2416334</th>\n",
       "      <td>2437</td>\n",
       "      <td>129622</td>\n",
       "      <td>7.2</td>\n",
       "    </tr>\n",
       "    <tr>\n",
       "      <th>3172735</th>\n",
       "      <td>2437</td>\n",
       "      <td>3076</td>\n",
       "      <td>7.8</td>\n",
       "    </tr>\n",
       "    <tr>\n",
       "      <th>12940741</th>\n",
       "      <td>2437</td>\n",
       "      <td>431</td>\n",
       "      <td>6.5</td>\n",
       "    </tr>\n",
       "    <tr>\n",
       "      <th>12849704</th>\n",
       "      <td>2437</td>\n",
       "      <td>173761</td>\n",
       "      <td>7.0</td>\n",
       "    </tr>\n",
       "    <tr>\n",
       "      <th>...</th>\n",
       "      <td>...</td>\n",
       "      <td>...</td>\n",
       "      <td>...</td>\n",
       "    </tr>\n",
       "    <tr>\n",
       "      <th>4817517</th>\n",
       "      <td>2437</td>\n",
       "      <td>432</td>\n",
       "      <td>7.0</td>\n",
       "    </tr>\n",
       "    <tr>\n",
       "      <th>10484189</th>\n",
       "      <td>2437</td>\n",
       "      <td>251658</td>\n",
       "      <td>6.5</td>\n",
       "    </tr>\n",
       "    <tr>\n",
       "      <th>12740681</th>\n",
       "      <td>2437</td>\n",
       "      <td>155255</td>\n",
       "      <td>8.0</td>\n",
       "    </tr>\n",
       "    <tr>\n",
       "      <th>2857632</th>\n",
       "      <td>2437</td>\n",
       "      <td>110327</td>\n",
       "      <td>7.0</td>\n",
       "    </tr>\n",
       "    <tr>\n",
       "      <th>8798057</th>\n",
       "      <td>2437</td>\n",
       "      <td>152162</td>\n",
       "      <td>8.0</td>\n",
       "    </tr>\n",
       "  </tbody>\n",
       "</table>\n",
       "<p>81 rows × 3 columns</p>\n",
       "</div>"
      ],
      "text/plain": [
       "          user_id  game_id  rating\n",
       "10123139     2437   195544     6.8\n",
       "2416334      2437   129622     7.2\n",
       "3172735      2437     3076     7.8\n",
       "12940741     2437      431     6.5\n",
       "12849704     2437   173761     7.0\n",
       "...           ...      ...     ...\n",
       "4817517      2437      432     7.0\n",
       "10484189     2437   251658     6.5\n",
       "12740681     2437   155255     8.0\n",
       "2857632      2437   110327     7.0\n",
       "8798057      2437   152162     8.0\n",
       "\n",
       "[81 rows x 3 columns]"
      ]
     },
     "execution_count": 73,
     "metadata": {},
     "output_type": "execute_result"
    }
   ],
   "source": [
    "reviews_new3[reviews_new3['user_id'] == 2437]"
   ]
  },
  {
   "cell_type": "code",
   "execution_count": 74,
   "metadata": {
    "scrolled": true
   },
   "outputs": [
    {
     "name": "stdout",
     "output_type": "stream",
     "text": [
      "user: 2437       item: 112092     r_ui = 3.00   est = 7.04   {'was_impossible': False}\n"
     ]
    },
    {
     "data": {
      "text/plain": [
       "Prediction(uid='2437', iid='112092', r_ui=3, est=7.0350295792, details={'was_impossible': False})"
      ]
     },
     "execution_count": 74,
     "metadata": {},
     "output_type": "execute_result"
    }
   ],
   "source": [
    "svd.predict('2437', '112092', 3, verbose=True)"
   ]
  },
  {
   "cell_type": "code",
   "execution_count": null,
   "metadata": {},
   "outputs": [],
   "source": []
  },
  {
   "cell_type": "code",
   "execution_count": null,
   "metadata": {},
   "outputs": [],
   "source": []
  },
  {
   "cell_type": "code",
   "execution_count": null,
   "metadata": {},
   "outputs": [],
   "source": []
  },
  {
   "cell_type": "code",
   "execution_count": null,
   "metadata": {},
   "outputs": [],
   "source": []
  },
  {
   "cell_type": "code",
   "execution_count": null,
   "metadata": {},
   "outputs": [],
   "source": []
  },
  {
   "cell_type": "code",
   "execution_count": null,
   "metadata": {},
   "outputs": [],
   "source": []
  },
  {
   "cell_type": "code",
   "execution_count": null,
   "metadata": {},
   "outputs": [],
   "source": []
  },
  {
   "cell_type": "code",
   "execution_count": null,
   "metadata": {},
   "outputs": [],
   "source": []
  },
  {
   "cell_type": "code",
   "execution_count": null,
   "metadata": {},
   "outputs": [],
   "source": []
  },
  {
   "cell_type": "code",
   "execution_count": null,
   "metadata": {},
   "outputs": [],
   "source": []
  },
  {
   "cell_type": "code",
   "execution_count": null,
   "metadata": {},
   "outputs": [],
   "source": []
  },
  {
   "cell_type": "code",
   "execution_count": null,
   "metadata": {},
   "outputs": [],
   "source": []
  },
  {
   "cell_type": "code",
   "execution_count": null,
   "metadata": {},
   "outputs": [],
   "source": []
  },
  {
   "cell_type": "code",
   "execution_count": null,
   "metadata": {},
   "outputs": [],
   "source": []
  },
  {
   "cell_type": "code",
   "execution_count": null,
   "metadata": {},
   "outputs": [],
   "source": []
  },
  {
   "cell_type": "code",
   "execution_count": null,
   "metadata": {},
   "outputs": [],
   "source": []
  },
  {
   "cell_type": "code",
   "execution_count": null,
   "metadata": {},
   "outputs": [],
   "source": []
  },
  {
   "cell_type": "code",
   "execution_count": null,
   "metadata": {},
   "outputs": [],
   "source": []
  },
  {
   "cell_type": "code",
   "execution_count": 75,
   "metadata": {},
   "outputs": [],
   "source": [
    "# Trying to make a different rec system"
   ]
  },
  {
   "cell_type": "code",
   "execution_count": 76,
   "metadata": {},
   "outputs": [],
   "source": [
    "reviews_new4 = reviews_new3"
   ]
  },
  {
   "cell_type": "code",
   "execution_count": 77,
   "metadata": {
    "scrolled": false
   },
   "outputs": [
    {
     "data": {
      "text/html": [
       "<div>\n",
       "<style scoped>\n",
       "    .dataframe tbody tr th:only-of-type {\n",
       "        vertical-align: middle;\n",
       "    }\n",
       "\n",
       "    .dataframe tbody tr th {\n",
       "        vertical-align: top;\n",
       "    }\n",
       "\n",
       "    .dataframe thead th {\n",
       "        text-align: right;\n",
       "    }\n",
       "</style>\n",
       "<table border=\"1\" class=\"dataframe\">\n",
       "  <thead>\n",
       "    <tr style=\"text-align: right;\">\n",
       "      <th></th>\n",
       "      <th>user_id</th>\n",
       "      <th>game_id</th>\n",
       "      <th>rating</th>\n",
       "    </tr>\n",
       "  </thead>\n",
       "  <tbody>\n",
       "    <tr>\n",
       "      <th>12589584</th>\n",
       "      <td>0</td>\n",
       "      <td>112092</td>\n",
       "      <td>9.0</td>\n",
       "    </tr>\n",
       "    <tr>\n",
       "      <th>15241668</th>\n",
       "      <td>0</td>\n",
       "      <td>223033</td>\n",
       "      <td>9.0</td>\n",
       "    </tr>\n",
       "    <tr>\n",
       "      <th>5812906</th>\n",
       "      <td>1</td>\n",
       "      <td>278</td>\n",
       "      <td>7.0</td>\n",
       "    </tr>\n",
       "  </tbody>\n",
       "</table>\n",
       "</div>"
      ],
      "text/plain": [
       "          user_id  game_id  rating\n",
       "12589584        0   112092     9.0\n",
       "15241668        0   223033     9.0\n",
       "5812906         1      278     7.0"
      ]
     },
     "execution_count": 77,
     "metadata": {},
     "output_type": "execute_result"
    }
   ],
   "source": [
    "reviews_new4.head(3)"
   ]
  },
  {
   "cell_type": "code",
   "execution_count": 78,
   "metadata": {},
   "outputs": [],
   "source": [
    "# Graph the most common rating\n",
    "# Average number of ratings per user"
   ]
  },
  {
   "cell_type": "code",
   "execution_count": 79,
   "metadata": {},
   "outputs": [
    {
     "data": {
      "text/plain": [
       "30549    657\n",
       "13       641\n",
       "822      616\n",
       "68448    535\n",
       "36218    504\n",
       "Name: game_id, dtype: int64"
      ]
     },
     "execution_count": 79,
     "metadata": {},
     "output_type": "execute_result"
    }
   ],
   "source": [
    "# Get the names of the top 10 most reviewed game (#1 is pandemic, #2 Catan and so on)\n",
    "reviews_new4['game_id'].value_counts().head()"
   ]
  },
  {
   "cell_type": "code",
   "execution_count": 80,
   "metadata": {
    "scrolled": true
   },
   "outputs": [
    {
     "data": {
      "text/plain": [
       "988     841\n",
       "139     753\n",
       "2373    688\n",
       "845     671\n",
       "552     655\n",
       "Name: user_id, dtype: int64"
      ]
     },
     "execution_count": 80,
     "metadata": {},
     "output_type": "execute_result"
    }
   ],
   "source": [
    "# Users with the most review\n",
    "# N 1 is the user 988, n2 is 139 and so on\n",
    "reviews_new4['user_id'].value_counts().head()"
   ]
  },
  {
   "cell_type": "code",
   "execution_count": 81,
   "metadata": {
    "scrolled": true
   },
   "outputs": [],
   "source": [
    "indices = pd.Series(reviews_new4.index, index=reviews_new4['game_id'])"
   ]
  },
  {
   "cell_type": "code",
   "execution_count": 82,
   "metadata": {},
   "outputs": [],
   "source": [
    "def hybrid(user_id, game_id):\n",
    "    idx = indices[game_id]\n",
    "    tmdbId = reviews_new4.loc[game_id]\n",
    "    #print(idx)\n",
    "    movie_id = reviews_new4.loc[game_id]\n",
    "    \n",
    "    sim_scores = list(enumerate(cosine_sim[int(idx)]))\n",
    "    sim_scores = sorted(sim_scores, key=lambda x: x[1], reverse=True)\n",
    "    sim_scores = sim_scores[1:26]\n",
    "    game_indices = [i[0] for i in sim_scores]\n",
    "    \n",
    "    bgs = reviews_new4.iloc[game_indices][['game_id', 'rating']]\n",
    "    bgs['est'] = bgs['game_id'].apply(lambda x: svd.predict(user_id, indices_map.loc[x]['game_id']).est)\n",
    "    bgs = bgs.sort_values('est', ascending=False)\n",
    "    return bgs.head(10)"
   ]
  },
  {
   "cell_type": "code",
   "execution_count": null,
   "metadata": {},
   "outputs": [],
   "source": []
  },
  {
   "cell_type": "code",
   "execution_count": null,
   "metadata": {},
   "outputs": [],
   "source": []
  },
  {
   "cell_type": "code",
   "execution_count": 83,
   "metadata": {},
   "outputs": [],
   "source": [
    "clustering = reviews_new4.sort_values(by='game_id')"
   ]
  },
  {
   "cell_type": "code",
   "execution_count": 84,
   "metadata": {
    "scrolled": false
   },
   "outputs": [
    {
     "data": {
      "text/html": [
       "<div>\n",
       "<style scoped>\n",
       "    .dataframe tbody tr th:only-of-type {\n",
       "        vertical-align: middle;\n",
       "    }\n",
       "\n",
       "    .dataframe tbody tr th {\n",
       "        vertical-align: top;\n",
       "    }\n",
       "\n",
       "    .dataframe thead th {\n",
       "        text-align: right;\n",
       "    }\n",
       "</style>\n",
       "<table border=\"1\" class=\"dataframe\">\n",
       "  <thead>\n",
       "    <tr style=\"text-align: right;\">\n",
       "      <th></th>\n",
       "      <th>user_id</th>\n",
       "      <th>game_id</th>\n",
       "      <th>rating</th>\n",
       "    </tr>\n",
       "  </thead>\n",
       "  <tbody>\n",
       "    <tr>\n",
       "      <th>8971751</th>\n",
       "      <td>60</td>\n",
       "      <td>1</td>\n",
       "      <td>7.70</td>\n",
       "    </tr>\n",
       "    <tr>\n",
       "      <th>8941883</th>\n",
       "      <td>316</td>\n",
       "      <td>1</td>\n",
       "      <td>8.00</td>\n",
       "    </tr>\n",
       "    <tr>\n",
       "      <th>8772935</th>\n",
       "      <td>1629</td>\n",
       "      <td>1</td>\n",
       "      <td>9.00</td>\n",
       "    </tr>\n",
       "    <tr>\n",
       "      <th>8981678</th>\n",
       "      <td>763</td>\n",
       "      <td>1</td>\n",
       "      <td>7.50</td>\n",
       "    </tr>\n",
       "    <tr>\n",
       "      <th>8842517</th>\n",
       "      <td>380</td>\n",
       "      <td>1</td>\n",
       "      <td>8.25</td>\n",
       "    </tr>\n",
       "    <tr>\n",
       "      <th>...</th>\n",
       "      <td>...</td>\n",
       "      <td>...</td>\n",
       "      <td>...</td>\n",
       "    </tr>\n",
       "    <tr>\n",
       "      <th>14778289</th>\n",
       "      <td>1263</td>\n",
       "      <td>305682</td>\n",
       "      <td>7.50</td>\n",
       "    </tr>\n",
       "    <tr>\n",
       "      <th>14778251</th>\n",
       "      <td>1432</td>\n",
       "      <td>305682</td>\n",
       "      <td>8.00</td>\n",
       "    </tr>\n",
       "    <tr>\n",
       "      <th>15473712</th>\n",
       "      <td>1507</td>\n",
       "      <td>307305</td>\n",
       "      <td>6.00</td>\n",
       "    </tr>\n",
       "    <tr>\n",
       "      <th>15461371</th>\n",
       "      <td>2227</td>\n",
       "      <td>313850</td>\n",
       "      <td>7.00</td>\n",
       "    </tr>\n",
       "    <tr>\n",
       "      <th>15461323</th>\n",
       "      <td>2336</td>\n",
       "      <td>313850</td>\n",
       "      <td>10.00</td>\n",
       "    </tr>\n",
       "  </tbody>\n",
       "</table>\n",
       "<p>100000 rows × 3 columns</p>\n",
       "</div>"
      ],
      "text/plain": [
       "          user_id  game_id  rating\n",
       "8971751        60        1    7.70\n",
       "8941883       316        1    8.00\n",
       "8772935      1629        1    9.00\n",
       "8981678       763        1    7.50\n",
       "8842517       380        1    8.25\n",
       "...           ...      ...     ...\n",
       "14778289     1263   305682    7.50\n",
       "14778251     1432   305682    8.00\n",
       "15473712     1507   307305    6.00\n",
       "15461371     2227   313850    7.00\n",
       "15461323     2336   313850   10.00\n",
       "\n",
       "[100000 rows x 3 columns]"
      ]
     },
     "execution_count": 84,
     "metadata": {},
     "output_type": "execute_result"
    }
   ],
   "source": [
    "clustering"
   ]
  },
  {
   "cell_type": "code",
   "execution_count": 85,
   "metadata": {
    "scrolled": false
   },
   "outputs": [],
   "source": [
    "clustering = clustering.set_index('game_id')"
   ]
  },
  {
   "cell_type": "code",
   "execution_count": 86,
   "metadata": {},
   "outputs": [],
   "source": [
    "clustering = clustering.pivot_table(values='rating', index=clustering.index, columns='user_id', aggfunc='first')"
   ]
  },
  {
   "cell_type": "code",
   "execution_count": 87,
   "metadata": {},
   "outputs": [
    {
     "data": {
      "text/plain": [
       "user_id\n",
       "0       11113\n",
       "1       11106\n",
       "2       11101\n",
       "3       11110\n",
       "4       11114\n",
       "        ...  \n",
       "2433    11113\n",
       "2434    11110\n",
       "2435    11093\n",
       "2436    11009\n",
       "2437    11034\n",
       "Length: 2438, dtype: int64"
      ]
     },
     "execution_count": 87,
     "metadata": {},
     "output_type": "execute_result"
    }
   ],
   "source": [
    "clustering.isna().sum()"
   ]
  },
  {
   "cell_type": "code",
   "execution_count": 88,
   "metadata": {
    "scrolled": false
   },
   "outputs": [
    {
     "data": {
      "text/html": [
       "<div>\n",
       "<style scoped>\n",
       "    .dataframe tbody tr th:only-of-type {\n",
       "        vertical-align: middle;\n",
       "    }\n",
       "\n",
       "    .dataframe tbody tr th {\n",
       "        vertical-align: top;\n",
       "    }\n",
       "\n",
       "    .dataframe thead th {\n",
       "        text-align: right;\n",
       "    }\n",
       "</style>\n",
       "<table border=\"1\" class=\"dataframe\">\n",
       "  <thead>\n",
       "    <tr style=\"text-align: right;\">\n",
       "      <th>user_id</th>\n",
       "      <th>0</th>\n",
       "      <th>1</th>\n",
       "      <th>2</th>\n",
       "      <th>3</th>\n",
       "      <th>4</th>\n",
       "      <th>5</th>\n",
       "      <th>6</th>\n",
       "      <th>7</th>\n",
       "      <th>8</th>\n",
       "      <th>9</th>\n",
       "      <th>...</th>\n",
       "      <th>2428</th>\n",
       "      <th>2429</th>\n",
       "      <th>2430</th>\n",
       "      <th>2431</th>\n",
       "      <th>2432</th>\n",
       "      <th>2433</th>\n",
       "      <th>2434</th>\n",
       "      <th>2435</th>\n",
       "      <th>2436</th>\n",
       "      <th>2437</th>\n",
       "    </tr>\n",
       "    <tr>\n",
       "      <th>game_id</th>\n",
       "      <th></th>\n",
       "      <th></th>\n",
       "      <th></th>\n",
       "      <th></th>\n",
       "      <th></th>\n",
       "      <th></th>\n",
       "      <th></th>\n",
       "      <th></th>\n",
       "      <th></th>\n",
       "      <th></th>\n",
       "      <th></th>\n",
       "      <th></th>\n",
       "      <th></th>\n",
       "      <th></th>\n",
       "      <th></th>\n",
       "      <th></th>\n",
       "      <th></th>\n",
       "      <th></th>\n",
       "      <th></th>\n",
       "      <th></th>\n",
       "      <th></th>\n",
       "    </tr>\n",
       "  </thead>\n",
       "  <tbody>\n",
       "    <tr>\n",
       "      <th>1</th>\n",
       "      <td>NaN</td>\n",
       "      <td>NaN</td>\n",
       "      <td>NaN</td>\n",
       "      <td>NaN</td>\n",
       "      <td>NaN</td>\n",
       "      <td>NaN</td>\n",
       "      <td>NaN</td>\n",
       "      <td>NaN</td>\n",
       "      <td>5.0</td>\n",
       "      <td>NaN</td>\n",
       "      <td>...</td>\n",
       "      <td>NaN</td>\n",
       "      <td>NaN</td>\n",
       "      <td>NaN</td>\n",
       "      <td>9.0</td>\n",
       "      <td>10.0</td>\n",
       "      <td>NaN</td>\n",
       "      <td>NaN</td>\n",
       "      <td>NaN</td>\n",
       "      <td>NaN</td>\n",
       "      <td>NaN</td>\n",
       "    </tr>\n",
       "    <tr>\n",
       "      <th>2</th>\n",
       "      <td>NaN</td>\n",
       "      <td>NaN</td>\n",
       "      <td>NaN</td>\n",
       "      <td>NaN</td>\n",
       "      <td>NaN</td>\n",
       "      <td>NaN</td>\n",
       "      <td>NaN</td>\n",
       "      <td>NaN</td>\n",
       "      <td>NaN</td>\n",
       "      <td>NaN</td>\n",
       "      <td>...</td>\n",
       "      <td>NaN</td>\n",
       "      <td>NaN</td>\n",
       "      <td>NaN</td>\n",
       "      <td>NaN</td>\n",
       "      <td>NaN</td>\n",
       "      <td>NaN</td>\n",
       "      <td>NaN</td>\n",
       "      <td>NaN</td>\n",
       "      <td>NaN</td>\n",
       "      <td>NaN</td>\n",
       "    </tr>\n",
       "    <tr>\n",
       "      <th>3</th>\n",
       "      <td>NaN</td>\n",
       "      <td>NaN</td>\n",
       "      <td>NaN</td>\n",
       "      <td>NaN</td>\n",
       "      <td>NaN</td>\n",
       "      <td>NaN</td>\n",
       "      <td>NaN</td>\n",
       "      <td>NaN</td>\n",
       "      <td>4.0</td>\n",
       "      <td>NaN</td>\n",
       "      <td>...</td>\n",
       "      <td>NaN</td>\n",
       "      <td>NaN</td>\n",
       "      <td>NaN</td>\n",
       "      <td>10.0</td>\n",
       "      <td>1.0</td>\n",
       "      <td>NaN</td>\n",
       "      <td>NaN</td>\n",
       "      <td>NaN</td>\n",
       "      <td>NaN</td>\n",
       "      <td>NaN</td>\n",
       "    </tr>\n",
       "    <tr>\n",
       "      <th>4</th>\n",
       "      <td>NaN</td>\n",
       "      <td>NaN</td>\n",
       "      <td>NaN</td>\n",
       "      <td>NaN</td>\n",
       "      <td>NaN</td>\n",
       "      <td>NaN</td>\n",
       "      <td>NaN</td>\n",
       "      <td>NaN</td>\n",
       "      <td>NaN</td>\n",
       "      <td>NaN</td>\n",
       "      <td>...</td>\n",
       "      <td>NaN</td>\n",
       "      <td>NaN</td>\n",
       "      <td>NaN</td>\n",
       "      <td>NaN</td>\n",
       "      <td>NaN</td>\n",
       "      <td>NaN</td>\n",
       "      <td>NaN</td>\n",
       "      <td>NaN</td>\n",
       "      <td>NaN</td>\n",
       "      <td>NaN</td>\n",
       "    </tr>\n",
       "    <tr>\n",
       "      <th>5</th>\n",
       "      <td>NaN</td>\n",
       "      <td>NaN</td>\n",
       "      <td>8.0</td>\n",
       "      <td>NaN</td>\n",
       "      <td>NaN</td>\n",
       "      <td>NaN</td>\n",
       "      <td>NaN</td>\n",
       "      <td>NaN</td>\n",
       "      <td>7.0</td>\n",
       "      <td>NaN</td>\n",
       "      <td>...</td>\n",
       "      <td>NaN</td>\n",
       "      <td>NaN</td>\n",
       "      <td>NaN</td>\n",
       "      <td>1.0</td>\n",
       "      <td>1.0</td>\n",
       "      <td>NaN</td>\n",
       "      <td>NaN</td>\n",
       "      <td>NaN</td>\n",
       "      <td>NaN</td>\n",
       "      <td>NaN</td>\n",
       "    </tr>\n",
       "    <tr>\n",
       "      <th>...</th>\n",
       "      <td>...</td>\n",
       "      <td>...</td>\n",
       "      <td>...</td>\n",
       "      <td>...</td>\n",
       "      <td>...</td>\n",
       "      <td>...</td>\n",
       "      <td>...</td>\n",
       "      <td>...</td>\n",
       "      <td>...</td>\n",
       "      <td>...</td>\n",
       "      <td>...</td>\n",
       "      <td>...</td>\n",
       "      <td>...</td>\n",
       "      <td>...</td>\n",
       "      <td>...</td>\n",
       "      <td>...</td>\n",
       "      <td>...</td>\n",
       "      <td>...</td>\n",
       "      <td>...</td>\n",
       "      <td>...</td>\n",
       "      <td>...</td>\n",
       "    </tr>\n",
       "    <tr>\n",
       "      <th>303057</th>\n",
       "      <td>NaN</td>\n",
       "      <td>NaN</td>\n",
       "      <td>NaN</td>\n",
       "      <td>NaN</td>\n",
       "      <td>NaN</td>\n",
       "      <td>NaN</td>\n",
       "      <td>NaN</td>\n",
       "      <td>NaN</td>\n",
       "      <td>NaN</td>\n",
       "      <td>NaN</td>\n",
       "      <td>...</td>\n",
       "      <td>NaN</td>\n",
       "      <td>NaN</td>\n",
       "      <td>NaN</td>\n",
       "      <td>NaN</td>\n",
       "      <td>NaN</td>\n",
       "      <td>NaN</td>\n",
       "      <td>NaN</td>\n",
       "      <td>NaN</td>\n",
       "      <td>NaN</td>\n",
       "      <td>NaN</td>\n",
       "    </tr>\n",
       "    <tr>\n",
       "      <th>303650</th>\n",
       "      <td>NaN</td>\n",
       "      <td>NaN</td>\n",
       "      <td>NaN</td>\n",
       "      <td>NaN</td>\n",
       "      <td>NaN</td>\n",
       "      <td>NaN</td>\n",
       "      <td>NaN</td>\n",
       "      <td>NaN</td>\n",
       "      <td>NaN</td>\n",
       "      <td>NaN</td>\n",
       "      <td>...</td>\n",
       "      <td>NaN</td>\n",
       "      <td>NaN</td>\n",
       "      <td>NaN</td>\n",
       "      <td>NaN</td>\n",
       "      <td>NaN</td>\n",
       "      <td>NaN</td>\n",
       "      <td>NaN</td>\n",
       "      <td>NaN</td>\n",
       "      <td>NaN</td>\n",
       "      <td>NaN</td>\n",
       "    </tr>\n",
       "    <tr>\n",
       "      <th>305682</th>\n",
       "      <td>NaN</td>\n",
       "      <td>NaN</td>\n",
       "      <td>NaN</td>\n",
       "      <td>NaN</td>\n",
       "      <td>NaN</td>\n",
       "      <td>NaN</td>\n",
       "      <td>NaN</td>\n",
       "      <td>NaN</td>\n",
       "      <td>NaN</td>\n",
       "      <td>NaN</td>\n",
       "      <td>...</td>\n",
       "      <td>NaN</td>\n",
       "      <td>NaN</td>\n",
       "      <td>NaN</td>\n",
       "      <td>NaN</td>\n",
       "      <td>NaN</td>\n",
       "      <td>NaN</td>\n",
       "      <td>NaN</td>\n",
       "      <td>NaN</td>\n",
       "      <td>NaN</td>\n",
       "      <td>NaN</td>\n",
       "    </tr>\n",
       "    <tr>\n",
       "      <th>307305</th>\n",
       "      <td>NaN</td>\n",
       "      <td>NaN</td>\n",
       "      <td>NaN</td>\n",
       "      <td>NaN</td>\n",
       "      <td>NaN</td>\n",
       "      <td>NaN</td>\n",
       "      <td>NaN</td>\n",
       "      <td>NaN</td>\n",
       "      <td>NaN</td>\n",
       "      <td>NaN</td>\n",
       "      <td>...</td>\n",
       "      <td>NaN</td>\n",
       "      <td>NaN</td>\n",
       "      <td>NaN</td>\n",
       "      <td>NaN</td>\n",
       "      <td>NaN</td>\n",
       "      <td>NaN</td>\n",
       "      <td>NaN</td>\n",
       "      <td>NaN</td>\n",
       "      <td>NaN</td>\n",
       "      <td>NaN</td>\n",
       "    </tr>\n",
       "    <tr>\n",
       "      <th>313850</th>\n",
       "      <td>NaN</td>\n",
       "      <td>NaN</td>\n",
       "      <td>NaN</td>\n",
       "      <td>NaN</td>\n",
       "      <td>NaN</td>\n",
       "      <td>NaN</td>\n",
       "      <td>NaN</td>\n",
       "      <td>NaN</td>\n",
       "      <td>NaN</td>\n",
       "      <td>NaN</td>\n",
       "      <td>...</td>\n",
       "      <td>NaN</td>\n",
       "      <td>NaN</td>\n",
       "      <td>NaN</td>\n",
       "      <td>NaN</td>\n",
       "      <td>NaN</td>\n",
       "      <td>NaN</td>\n",
       "      <td>NaN</td>\n",
       "      <td>NaN</td>\n",
       "      <td>NaN</td>\n",
       "      <td>NaN</td>\n",
       "    </tr>\n",
       "  </tbody>\n",
       "</table>\n",
       "<p>11115 rows × 2438 columns</p>\n",
       "</div>"
      ],
      "text/plain": [
       "user_id  0     1     2     3     4     5     6     7     8     9     ...  \\\n",
       "game_id                                                              ...   \n",
       "1         NaN   NaN   NaN   NaN   NaN   NaN   NaN   NaN   5.0   NaN  ...   \n",
       "2         NaN   NaN   NaN   NaN   NaN   NaN   NaN   NaN   NaN   NaN  ...   \n",
       "3         NaN   NaN   NaN   NaN   NaN   NaN   NaN   NaN   4.0   NaN  ...   \n",
       "4         NaN   NaN   NaN   NaN   NaN   NaN   NaN   NaN   NaN   NaN  ...   \n",
       "5         NaN   NaN   8.0   NaN   NaN   NaN   NaN   NaN   7.0   NaN  ...   \n",
       "...       ...   ...   ...   ...   ...   ...   ...   ...   ...   ...  ...   \n",
       "303057    NaN   NaN   NaN   NaN   NaN   NaN   NaN   NaN   NaN   NaN  ...   \n",
       "303650    NaN   NaN   NaN   NaN   NaN   NaN   NaN   NaN   NaN   NaN  ...   \n",
       "305682    NaN   NaN   NaN   NaN   NaN   NaN   NaN   NaN   NaN   NaN  ...   \n",
       "307305    NaN   NaN   NaN   NaN   NaN   NaN   NaN   NaN   NaN   NaN  ...   \n",
       "313850    NaN   NaN   NaN   NaN   NaN   NaN   NaN   NaN   NaN   NaN  ...   \n",
       "\n",
       "user_id  2428  2429  2430  2431  2432  2433  2434  2435  2436  2437  \n",
       "game_id                                                              \n",
       "1         NaN   NaN   NaN   9.0  10.0   NaN   NaN   NaN   NaN   NaN  \n",
       "2         NaN   NaN   NaN   NaN   NaN   NaN   NaN   NaN   NaN   NaN  \n",
       "3         NaN   NaN   NaN  10.0   1.0   NaN   NaN   NaN   NaN   NaN  \n",
       "4         NaN   NaN   NaN   NaN   NaN   NaN   NaN   NaN   NaN   NaN  \n",
       "5         NaN   NaN   NaN   1.0   1.0   NaN   NaN   NaN   NaN   NaN  \n",
       "...       ...   ...   ...   ...   ...   ...   ...   ...   ...   ...  \n",
       "303057    NaN   NaN   NaN   NaN   NaN   NaN   NaN   NaN   NaN   NaN  \n",
       "303650    NaN   NaN   NaN   NaN   NaN   NaN   NaN   NaN   NaN   NaN  \n",
       "305682    NaN   NaN   NaN   NaN   NaN   NaN   NaN   NaN   NaN   NaN  \n",
       "307305    NaN   NaN   NaN   NaN   NaN   NaN   NaN   NaN   NaN   NaN  \n",
       "313850    NaN   NaN   NaN   NaN   NaN   NaN   NaN   NaN   NaN   NaN  \n",
       "\n",
       "[11115 rows x 2438 columns]"
      ]
     },
     "execution_count": 88,
     "metadata": {},
     "output_type": "execute_result"
    }
   ],
   "source": [
    "clustering"
   ]
  },
  {
   "cell_type": "markdown",
   "metadata": {},
   "source": [
    "Rows = Users\n",
    "Columns = Boardgames"
   ]
  },
  {
   "cell_type": "code",
   "execution_count": 90,
   "metadata": {},
   "outputs": [],
   "source": [
    "clustering1 = clustering.fillna(0)"
   ]
  },
  {
   "cell_type": "code",
   "execution_count": 91,
   "metadata": {},
   "outputs": [],
   "source": [
    "u, s, vt = svds(clustering1, k=8)"
   ]
  },
  {
   "cell_type": "code",
   "execution_count": 92,
   "metadata": {},
   "outputs": [
    {
     "data": {
      "text/plain": [
       "array([[-2.65199027e-04,  2.13156769e-01,  2.03206268e-01, ...,\n",
       "         1.02077730e-01,  4.72614313e-01, -3.02648740e-02],\n",
       "       [-1.33866881e-04,  1.96626154e-02,  4.08406813e-02, ...,\n",
       "         9.67691117e-03,  7.21559698e-02,  1.76199537e-02],\n",
       "       [ 2.07973521e-03,  2.90072927e-01,  1.04198573e-01, ...,\n",
       "         1.46370535e-01,  1.30219581e+00,  5.94359154e-01],\n",
       "       ...,\n",
       "       [-4.95463619e-05,  2.42649093e-03,  1.48328183e-03, ...,\n",
       "        -2.00496740e-03, -6.12406311e-03,  7.94225042e-03],\n",
       "       [ 1.35933107e-05, -2.48996766e-03,  2.42854513e-03, ...,\n",
       "         2.67933375e-03,  1.16359572e-02,  8.59494868e-03],\n",
       "       [ 1.55786262e-21, -7.56402149e-19, -7.92762495e-19, ...,\n",
       "        -2.47150604e-19, -1.42118011e-18,  2.51016040e-19]])"
      ]
     },
     "execution_count": 92,
     "metadata": {},
     "output_type": "execute_result"
    }
   ],
   "source": [
    "u.dot(np.diag(s).dot(vt))"
   ]
  },
  {
   "cell_type": "code",
   "execution_count": 93,
   "metadata": {},
   "outputs": [],
   "source": [
    "users_prediction = np.round(u.dot(np.diag(s).dot(vt)))"
   ]
  },
  {
   "cell_type": "code",
   "execution_count": 94,
   "metadata": {},
   "outputs": [
    {
     "data": {
      "text/plain": [
       "-0.0"
      ]
     },
     "execution_count": 94,
     "metadata": {},
     "output_type": "execute_result"
    }
   ],
   "source": [
    "users_prediction[0][440]"
   ]
  },
  {
   "cell_type": "markdown",
   "metadata": {},
   "source": [
    "- Rows = Users \n",
    "- Columns = Boardgames"
   ]
  },
  {
   "cell_type": "code",
   "execution_count": 95,
   "metadata": {
    "scrolled": false
   },
   "outputs": [
    {
     "data": {
      "text/plain": [
       "(11115, 2438)"
      ]
     },
     "execution_count": 95,
     "metadata": {},
     "output_type": "execute_result"
    }
   ],
   "source": [
    "clustering.shape"
   ]
  },
  {
   "cell_type": "code",
   "execution_count": 96,
   "metadata": {
    "scrolled": false
   },
   "outputs": [],
   "source": [
    "# list(clustering.columns)"
   ]
  },
  {
   "cell_type": "code",
   "execution_count": 97,
   "metadata": {},
   "outputs": [],
   "source": [
    "# list(range(0, 2438))"
   ]
  },
  {
   "cell_type": "code",
   "execution_count": 98,
   "metadata": {},
   "outputs": [],
   "source": [
    "columns_index = dict(zip(list(clustering.columns), list(range(0, 2438))))"
   ]
  },
  {
   "cell_type": "code",
   "execution_count": 99,
   "metadata": {},
   "outputs": [],
   "source": [
    "# Fazer o for loop pra pegar previsoes baseado no array \"user_prediction\""
   ]
  },
  {
   "cell_type": "code",
   "execution_count": null,
   "metadata": {},
   "outputs": [],
   "source": []
  },
  {
   "cell_type": "code",
   "execution_count": 100,
   "metadata": {},
   "outputs": [],
   "source": [
    "testset = trainset.build_anti_testset()"
   ]
  },
  {
   "cell_type": "code",
   "execution_count": 101,
   "metadata": {},
   "outputs": [],
   "source": [
    "predictions = svd.test(testset)"
   ]
  },
  {
   "cell_type": "code",
   "execution_count": 102,
   "metadata": {
    "scrolled": true
   },
   "outputs": [
    {
     "data": {
      "text/plain": [
       "[Prediction(uid=0, iid=278, r_ui=7.0350295792, est=7.248734085463866, details={'was_impossible': False}),\n",
       " Prediction(uid=0, iid=12004, r_ui=7.0350295792, est=7.140395052233282, details={'was_impossible': False}),\n",
       " Prediction(uid=0, iid=9209, r_ui=7.0350295792, est=7.621029250206767, details={'was_impossible': False}),\n",
       " Prediction(uid=0, iid=13, r_ui=7.0350295792, est=7.4307862640390985, details={'was_impossible': False}),\n",
       " Prediction(uid=0, iid=118, r_ui=7.0350295792, est=7.936779701690626, details={'was_impossible': False}),\n",
       " Prediction(uid=0, iid=823, r_ui=7.0350295792, est=7.52410223440353, details={'was_impossible': False}),\n",
       " Prediction(uid=0, iid=3076, r_ui=7.0350295792, est=8.0940395962586, details={'was_impossible': False}),\n",
       " Prediction(uid=0, iid=18602, r_ui=7.0350295792, est=8.238026392002881, details={'was_impossible': False}),\n",
       " Prediction(uid=0, iid=5737, r_ui=7.0350295792, est=7.61381598984027, details={'was_impossible': False}),\n",
       " Prediction(uid=0, iid=15045, r_ui=7.0350295792, est=7.067354588235319, details={'was_impossible': False}),\n",
       " Prediction(uid=0, iid=9609, r_ui=7.0350295792, est=8.328724489666982, details={'was_impossible': False}),\n",
       " Prediction(uid=0, iid=10547, r_ui=7.0350295792, est=7.839357711326707, details={'was_impossible': False}),\n",
       " Prediction(uid=0, iid=5336, r_ui=7.0350295792, est=7.290470424694812, details={'was_impossible': False}),\n",
       " Prediction(uid=0, iid=7479, r_ui=7.0350295792, est=6.631171260336239, details={'was_impossible': False}),\n",
       " Prediction(uid=0, iid=17226, r_ui=7.0350295792, est=7.675484347811266, details={'was_impossible': False}),\n",
       " Prediction(uid=0, iid=15987, r_ui=7.0350295792, est=7.628990372557854, details={'was_impossible': False}),\n",
       " Prediction(uid=0, iid=9829, r_ui=7.0350295792, est=7.469086034899803, details={'was_impossible': False}),\n",
       " Prediction(uid=0, iid=3284, r_ui=7.0350295792, est=7.567822292966202, details={'was_impossible': False}),\n",
       " Prediction(uid=0, iid=5, r_ui=7.0350295792, est=8.201358434683748, details={'was_impossible': False}),\n",
       " Prediction(uid=0, iid=5029, r_ui=7.0350295792, est=7.1705462135008595, details={'was_impossible': False}),\n",
       " Prediction(uid=0, iid=2181, r_ui=7.0350295792, est=8.322986805375235, details={'was_impossible': False}),\n",
       " Prediction(uid=0, iid=22947, r_ui=7.0350295792, est=7.521136806165169, details={'was_impossible': False}),\n",
       " Prediction(uid=0, iid=4616, r_ui=7.0350295792, est=7.808406088634632, details={'was_impossible': False}),\n",
       " Prediction(uid=0, iid=171, r_ui=7.0350295792, est=7.936591334987503, details={'was_impossible': False}),\n",
       " Prediction(uid=0, iid=188, r_ui=7.0350295792, est=8.544496820671581, details={'was_impossible': False}),\n",
       " Prediction(uid=0, iid=36946, r_ui=7.0350295792, est=6.88316647373054, details={'was_impossible': False}),\n",
       " Prediction(uid=0, iid=9446, r_ui=7.0350295792, est=7.211348881485862, details={'was_impossible': False}),\n",
       " Prediction(uid=0, iid=822, r_ui=7.0350295792, est=8.088532449236313, details={'was_impossible': False}),\n",
       " Prediction(uid=0, iid=478, r_ui=7.0350295792, est=8.112970569121412, details={'was_impossible': False}),\n",
       " Prediction(uid=0, iid=143884, r_ui=7.0350295792, est=7.382312259954032, details={'was_impossible': False}),\n",
       " Prediction(uid=0, iid=157354, r_ui=7.0350295792, est=7.976616432182132, details={'was_impossible': False}),\n",
       " Prediction(uid=0, iid=102548, r_ui=7.0350295792, est=7.50853144353615, details={'was_impossible': False}),\n",
       " Prediction(uid=0, iid=17710, r_ui=7.0350295792, est=7.278130365370582, details={'was_impossible': False}),\n",
       " Prediction(uid=0, iid=1502, r_ui=7.0350295792, est=6.202255995155433, details={'was_impossible': False}),\n",
       " Prediction(uid=0, iid=226520, r_ui=7.0350295792, est=7.908212574056686, details={'was_impossible': False}),\n",
       " Prediction(uid=0, iid=48726, r_ui=7.0350295792, est=8.531232205380594, details={'was_impossible': False}),\n",
       " Prediction(uid=0, iid=54043, r_ui=7.0350295792, est=7.866157903645462, details={'was_impossible': False}),\n",
       " Prediction(uid=0, iid=85250, r_ui=7.0350295792, est=7.429964237666732, details={'was_impossible': False}),\n",
       " Prediction(uid=0, iid=2679, r_ui=7.0350295792, est=5.922790585285603, details={'was_impossible': False}),\n",
       " Prediction(uid=0, iid=46213, r_ui=7.0350295792, est=7.8705436986357284, details={'was_impossible': False}),\n",
       " Prediction(uid=0, iid=181304, r_ui=7.0350295792, est=7.827450443353141, details={'was_impossible': False}),\n",
       " Prediction(uid=0, iid=5782, r_ui=7.0350295792, est=7.45282057865081, details={'was_impossible': False}),\n",
       " Prediction(uid=0, iid=77423, r_ui=7.0350295792, est=8.065256057958056, details={'was_impossible': False}),\n",
       " Prediction(uid=0, iid=121408, r_ui=7.0350295792, est=7.959200590593186, details={'was_impossible': False}),\n",
       " Prediction(uid=0, iid=41114, r_ui=7.0350295792, est=7.980411626603365, details={'was_impossible': False}),\n",
       " Prediction(uid=0, iid=150138, r_ui=7.0350295792, est=7.337634875637443, details={'was_impossible': False}),\n",
       " Prediction(uid=0, iid=16772, r_ui=7.0350295792, est=7.32240570996456, details={'was_impossible': False}),\n",
       " Prediction(uid=0, iid=39856, r_ui=7.0350295792, est=7.6583973844633455, details={'was_impossible': False}),\n",
       " Prediction(uid=0, iid=2651, r_ui=7.0350295792, est=7.691573135939329, details={'was_impossible': False}),\n",
       " Prediction(uid=0, iid=255675, r_ui=7.0350295792, est=7.461584664189113, details={'was_impossible': False}),\n",
       " Prediction(uid=0, iid=40692, r_ui=7.0350295792, est=7.889565409207263, details={'was_impossible': False}),\n",
       " Prediction(uid=0, iid=34701, r_ui=7.0350295792, est=7.222275868896405, details={'was_impossible': False}),\n",
       " Prediction(uid=0, iid=245353, r_ui=7.0350295792, est=7.291930288566294, details={'was_impossible': False}),\n",
       " Prediction(uid=0, iid=70323, r_ui=7.0350295792, est=7.8017886171450135, details={'was_impossible': False}),\n",
       " Prediction(uid=0, iid=28025, r_ui=7.0350295792, est=7.072089866620239, details={'was_impossible': False}),\n",
       " Prediction(uid=0, iid=119788, r_ui=7.0350295792, est=8.19723123240239, details={'was_impossible': False}),\n",
       " Prediction(uid=0, iid=148951, r_ui=7.0350295792, est=7.1806035317437695, details={'was_impossible': False}),\n",
       " Prediction(uid=0, iid=226518, r_ui=7.0350295792, est=7.615893745070229, details={'was_impossible': False}),\n",
       " Prediction(uid=0, iid=188834, r_ui=7.0350295792, est=8.086878466627084, details={'was_impossible': False}),\n",
       " Prediction(uid=0, iid=169786, r_ui=7.0350295792, est=8.313250911667938, details={'was_impossible': False}),\n",
       " Prediction(uid=0, iid=40834, r_ui=7.0350295792, est=8.27793267695581, details={'was_impossible': False}),\n",
       " Prediction(uid=0, iid=45315, r_ui=7.0350295792, est=8.251400085858323, details={'was_impossible': False}),\n",
       " Prediction(uid=0, iid=9220, r_ui=7.0350295792, est=7.326655142039852, details={'was_impossible': False}),\n",
       " Prediction(uid=0, iid=121410, r_ui=7.0350295792, est=7.531555314937435, details={'was_impossible': False}),\n",
       " Prediction(uid=0, iid=24480, r_ui=7.0350295792, est=7.940212294634256, details={'was_impossible': False}),\n",
       " Prediction(uid=0, iid=202408, r_ui=7.0350295792, est=7.752303829564817, details={'was_impossible': False}),\n",
       " Prediction(uid=0, iid=294612, r_ui=7.0350295792, est=7.687906303075245, details={'was_impossible': False}),\n",
       " Prediction(uid=0, iid=203420, r_ui=7.0350295792, est=8.050601227922469, details={'was_impossible': False}),\n",
       " Prediction(uid=0, iid=27162, r_ui=7.0350295792, est=7.748678327350135, details={'was_impossible': False}),\n",
       " Prediction(uid=0, iid=98778, r_ui=7.0350295792, est=7.975781103515509, details={'was_impossible': False}),\n",
       " Prediction(uid=0, iid=2604, r_ui=7.0350295792, est=7.245871348497634, details={'was_impossible': False}),\n",
       " Prediction(uid=0, iid=503, r_ui=7.0350295792, est=7.7825187944918435, details={'was_impossible': False}),\n",
       " Prediction(uid=0, iid=29223, r_ui=7.0350295792, est=7.416543076381312, details={'was_impossible': False}),\n",
       " Prediction(uid=0, iid=9625, r_ui=7.0350295792, est=7.773068252556202, details={'was_impossible': False}),\n",
       " Prediction(uid=0, iid=147020, r_ui=7.0350295792, est=8.191245081555984, details={'was_impossible': False}),\n",
       " Prediction(uid=0, iid=31594, r_ui=7.0350295792, est=8.011179956365083, details={'was_impossible': False}),\n",
       " Prediction(uid=0, iid=144797, r_ui=7.0350295792, est=8.46437141460833, details={'was_impossible': False}),\n",
       " Prediction(uid=0, iid=700, r_ui=7.0350295792, est=7.00011671393526, details={'was_impossible': False}),\n",
       " Prediction(uid=0, iid=127398, r_ui=7.0350295792, est=7.713698987148351, details={'was_impossible': False}),\n",
       " Prediction(uid=0, iid=172, r_ui=7.0350295792, est=7.760209807110389, details={'was_impossible': False}),\n",
       " Prediction(uid=0, iid=128667, r_ui=7.0350295792, est=7.33466211604726, details={'was_impossible': False}),\n",
       " Prediction(uid=0, iid=146508, r_ui=7.0350295792, est=8.498008824144037, details={'was_impossible': False}),\n",
       " Prediction(uid=0, iid=215841, r_ui=7.0350295792, est=7.0168622438190615, details={'was_impossible': False}),\n",
       " Prediction(uid=0, iid=90419, r_ui=7.0350295792, est=8.39805146663638, details={'was_impossible': False}),\n",
       " Prediction(uid=0, iid=161970, r_ui=7.0350295792, est=8.522792876894666, details={'was_impossible': False}),\n",
       " Prediction(uid=0, iid=466, r_ui=7.0350295792, est=6.874973629025156, details={'was_impossible': False}),\n",
       " Prediction(uid=0, iid=131357, r_ui=7.0350295792, est=7.5633894185166675, details={'was_impossible': False}),\n",
       " Prediction(uid=0, iid=27173, r_ui=7.0350295792, est=8.085568360439396, details={'was_impossible': False}),\n",
       " Prediction(uid=0, iid=197572, r_ui=7.0350295792, est=7.844137476280277, details={'was_impossible': False}),\n",
       " Prediction(uid=0, iid=245352, r_ui=7.0350295792, est=7.654464376924775, details={'was_impossible': False}),\n",
       " Prediction(uid=0, iid=1768, r_ui=7.0350295792, est=7.212335375819688, details={'was_impossible': False}),\n",
       " Prediction(uid=0, iid=891, r_ui=7.0350295792, est=6.576669027788598, details={'was_impossible': False}),\n",
       " Prediction(uid=0, iid=2162, r_ui=7.0350295792, est=6.517779021292944, details={'was_impossible': False}),\n",
       " Prediction(uid=0, iid=147623, r_ui=7.0350295792, est=7.139817700688445, details={'was_impossible': False}),\n",
       " Prediction(uid=0, iid=42452, r_ui=7.0350295792, est=7.2482824397308825, details={'was_impossible': False}),\n",
       " Prediction(uid=0, iid=10081, r_ui=7.0350295792, est=7.149083587804387, details={'was_impossible': False}),\n",
       " Prediction(uid=0, iid=35935, r_ui=7.0350295792, est=7.4244042946918745, details={'was_impossible': False}),\n",
       " Prediction(uid=0, iid=154458, r_ui=7.0350295792, est=7.924302126010551, details={'was_impossible': False}),\n",
       " Prediction(uid=0, iid=216094, r_ui=7.0350295792, est=7.358306160277018, details={'was_impossible': False}),\n",
       " Prediction(uid=0, iid=167355, r_ui=7.0350295792, est=8.244710448579811, details={'was_impossible': False}),\n",
       " Prediction(uid=0, iid=226522, r_ui=7.0350295792, est=8.175729777908565, details={'was_impossible': False}),\n",
       " Prediction(uid=0, iid=1899, r_ui=7.0350295792, est=6.673576874234903, details={'was_impossible': False}),\n",
       " Prediction(uid=0, iid=47, r_ui=7.0350295792, est=8.02969952857646, details={'was_impossible': False}),\n",
       " Prediction(uid=0, iid=34707, r_ui=7.0350295792, est=7.428170778957319, details={'was_impossible': False}),\n",
       " Prediction(uid=0, iid=38862, r_ui=7.0350295792, est=7.617814577063887, details={'was_impossible': False}),\n",
       " Prediction(uid=0, iid=6923, r_ui=7.0350295792, est=7.287962503051358, details={'was_impossible': False}),\n",
       " Prediction(uid=0, iid=91312, r_ui=7.0350295792, est=7.875173473778469, details={'was_impossible': False}),\n",
       " Prediction(uid=0, iid=71721, r_ui=7.0350295792, est=7.507950892858693, details={'was_impossible': False}),\n",
       " Prediction(uid=0, iid=54998, r_ui=7.0350295792, est=7.5854881383771575, details={'was_impossible': False}),\n",
       " Prediction(uid=0, iid=25613, r_ui=7.0350295792, est=8.446126404115656, details={'was_impossible': False}),\n",
       " Prediction(uid=0, iid=192860, r_ui=7.0350295792, est=7.419006249782959, details={'was_impossible': False}),\n",
       " Prediction(uid=0, iid=3201, r_ui=7.0350295792, est=7.81756394329359, details={'was_impossible': False}),\n",
       " Prediction(uid=0, iid=35677, r_ui=7.0350295792, est=8.222524815341664, details={'was_impossible': False}),\n",
       " Prediction(uid=0, iid=97207, r_ui=7.0350295792, est=8.261279245699274, details={'was_impossible': False}),\n",
       " Prediction(uid=0, iid=266192, r_ui=7.0350295792, est=8.546453781728513, details={'was_impossible': False}),\n",
       " Prediction(uid=0, iid=12333, r_ui=7.0350295792, est=8.658037215363212, details={'was_impossible': False}),\n",
       " Prediction(uid=0, iid=1829, r_ui=7.0350295792, est=7.305060269095013, details={'was_impossible': False}),\n",
       " Prediction(uid=0, iid=129622, r_ui=7.0350295792, est=8.298834600502365, details={'was_impossible': False}),\n",
       " Prediction(uid=0, iid=30869, r_ui=7.0350295792, est=7.658536284774641, details={'was_impossible': False}),\n",
       " Prediction(uid=0, iid=1568, r_ui=7.0350295792, est=7.648760552332103, details={'was_impossible': False}),\n",
       " Prediction(uid=0, iid=34119, r_ui=7.0350295792, est=7.5194863586459855, details={'was_impossible': False}),\n",
       " Prediction(uid=0, iid=188866, r_ui=7.0350295792, est=7.9673728039783835, details={'was_impossible': False}),\n",
       " Prediction(uid=0, iid=155426, r_ui=7.0350295792, est=8.232551822170263, details={'was_impossible': False}),\n",
       " Prediction(uid=0, iid=21790, r_ui=7.0350295792, est=7.7227128720331155, details={'was_impossible': False}),\n",
       " Prediction(uid=0, iid=163412, r_ui=7.0350295792, est=7.890333647829377, details={'was_impossible': False}),\n",
       " Prediction(uid=0, iid=74, r_ui=7.0350295792, est=6.552344307483796, details={'was_impossible': False}),\n",
       " Prediction(uid=0, iid=150996, r_ui=7.0350295792, est=7.283635168191784, details={'was_impossible': False}),\n",
       " Prediction(uid=0, iid=90137, r_ui=7.0350295792, est=7.803017086093595, details={'was_impossible': False}),\n",
       " Prediction(uid=0, iid=80869, r_ui=7.0350295792, est=7.352044162750854, details={'was_impossible': False}),\n",
       " Prediction(uid=0, iid=258413, r_ui=7.0350295792, est=7.530102057826271, details={'was_impossible': False}),\n",
       " Prediction(uid=0, iid=128882, r_ui=7.0350295792, est=8.103290054049978, details={'was_impossible': False}),\n",
       " Prediction(uid=0, iid=46158, r_ui=7.0350295792, est=7.601970723479516, details={'was_impossible': False}),\n",
       " Prediction(uid=0, iid=175155, r_ui=7.0350295792, est=8.405381364500503, details={'was_impossible': False}),\n",
       " Prediction(uid=0, iid=25623, r_ui=7.0350295792, est=7.182418376922747, details={'was_impossible': False}),\n",
       " Prediction(uid=0, iid=7, r_ui=7.0350295792, est=7.039121808348656, details={'was_impossible': False}),\n",
       " Prediction(uid=0, iid=20551, r_ui=7.0350295792, est=8.247089066933148, details={'was_impossible': False}),\n",
       " Prediction(uid=0, iid=204836, r_ui=7.0350295792, est=7.264901224259827, details={'was_impossible': False}),\n",
       " Prediction(uid=0, iid=203416, r_ui=7.0350295792, est=7.618259125244813, details={'was_impossible': False}),\n",
       " Prediction(uid=0, iid=715, r_ui=7.0350295792, est=7.518552965572498, details={'was_impossible': False}),\n",
       " Prediction(uid=0, iid=100901, r_ui=7.0350295792, est=8.0365102631682, details={'was_impossible': False}),\n",
       " Prediction(uid=0, iid=14808, r_ui=7.0350295792, est=7.190492625991314, details={'was_impossible': False}),\n",
       " Prediction(uid=0, iid=43443, r_ui=7.0350295792, est=7.062129908533791, details={'was_impossible': False}),\n",
       " Prediction(uid=0, iid=173346, r_ui=7.0350295792, est=8.325980674102922, details={'was_impossible': False}),\n",
       " Prediction(uid=0, iid=38054, r_ui=7.0350295792, est=7.98903134080681, details={'was_impossible': False}),\n",
       " Prediction(uid=0, iid=84419, r_ui=7.0350295792, est=8.093233372924546, details={'was_impossible': False}),\n",
       " Prediction(uid=0, iid=10167, r_ui=7.0350295792, est=6.7358082638221175, details={'was_impossible': False}),\n",
       " Prediction(uid=0, iid=38949, r_ui=7.0350295792, est=7.290131360707434, details={'was_impossible': False}),\n",
       " Prediction(uid=0, iid=84876, r_ui=7.0350295792, est=8.471151443656135, details={'was_impossible': False}),\n",
       " Prediction(uid=0, iid=128621, r_ui=7.0350295792, est=8.106861095934306, details={'was_impossible': False}),\n",
       " Prediction(uid=0, iid=144529, r_ui=7.0350295792, est=7.405464241032913, details={'was_impossible': False}),\n",
       " Prediction(uid=0, iid=17223, r_ui=7.0350295792, est=7.203216669364129, details={'was_impossible': False}),\n",
       " Prediction(uid=0, iid=20963, r_ui=7.0350295792, est=7.374424445745163, details={'was_impossible': False}),\n",
       " Prediction(uid=0, iid=32341, r_ui=7.0350295792, est=7.374036877208517, details={'was_impossible': False}),\n",
       " Prediction(uid=0, iid=216091, r_ui=7.0350295792, est=7.42309550061573, details={'was_impossible': False}),\n",
       " Prediction(uid=0, iid=108722, r_ui=7.0350295792, est=7.468521141399884, details={'was_impossible': False}),\n",
       " Prediction(uid=0, iid=10383, r_ui=7.0350295792, est=7.011090520149312, details={'was_impossible': False}),\n",
       " Prediction(uid=0, iid=18803, r_ui=7.0350295792, est=7.051208982251276, details={'was_impossible': False}),\n",
       " Prediction(uid=0, iid=205637, r_ui=7.0350295792, est=8.446177150376318, details={'was_impossible': False}),\n",
       " Prediction(uid=0, iid=230303, r_ui=7.0350295792, est=7.410459042390064, details={'was_impossible': False}),\n",
       " Prediction(uid=0, iid=171726, r_ui=7.0350295792, est=7.667946277189239, details={'was_impossible': False}),\n",
       " Prediction(uid=0, iid=1917, r_ui=7.0350295792, est=6.868306888107033, details={'was_impossible': False}),\n",
       " Prediction(uid=0, iid=110327, r_ui=7.0350295792, est=8.180653552742909, details={'was_impossible': False}),\n",
       " Prediction(uid=0, iid=250781, r_ui=7.0350295792, est=7.212956507112817, details={'was_impossible': False}),\n",
       " Prediction(uid=0, iid=230498, r_ui=7.0350295792, est=6.944679294463634, details={'was_impossible': False}),\n",
       " Prediction(uid=0, iid=14105, r_ui=7.0350295792, est=8.365032743361112, details={'was_impossible': False}),\n",
       " Prediction(uid=0, iid=258411, r_ui=7.0350295792, est=7.575055308315652, details={'was_impossible': False}),\n",
       " Prediction(uid=0, iid=50, r_ui=7.0350295792, est=7.798243307312816, details={'was_impossible': False}),\n",
       " Prediction(uid=0, iid=205059, r_ui=7.0350295792, est=8.07023105507069, details={'was_impossible': False}),\n",
       " Prediction(uid=0, iid=103885, r_ui=7.0350295792, est=7.8607403100318844, details={'was_impossible': False}),\n",
       " Prediction(uid=0, iid=22038, r_ui=7.0350295792, est=7.327872866056359, details={'was_impossible': False}),\n",
       " Prediction(uid=0, iid=103886, r_ui=7.0350295792, est=7.487439991391147, details={'was_impossible': False}),\n",
       " Prediction(uid=0, iid=146021, r_ui=7.0350295792, est=7.619104829956893, details={'was_impossible': False}),\n",
       " Prediction(uid=0, iid=83330, r_ui=7.0350295792, est=7.367914809783892, details={'was_impossible': False}),\n",
       " Prediction(uid=0, iid=2653, r_ui=7.0350295792, est=7.8468624022511735, details={'was_impossible': False}),\n",
       " Prediction(uid=0, iid=31260, r_ui=7.0350295792, est=8.738794865545703, details={'was_impossible': False}),\n",
       " Prediction(uid=0, iid=117854, r_ui=7.0350295792, est=7.309514280655597, details={'was_impossible': False}),\n",
       " Prediction(uid=0, iid=432, r_ui=7.0350295792, est=7.618717700921425, details={'was_impossible': False}),\n",
       " Prediction(uid=0, iid=145888, r_ui=7.0350295792, est=7.196327631025413, details={'was_impossible': False}),\n",
       " Prediction(uid=0, iid=157526, r_ui=7.0350295792, est=7.570531827460161, details={'was_impossible': False}),\n",
       " Prediction(uid=0, iid=258412, r_ui=7.0350295792, est=7.478328050842966, details={'was_impossible': False}),\n",
       " Prediction(uid=0, iid=15512, r_ui=7.0350295792, est=7.615136972671108, details={'was_impossible': False}),\n",
       " Prediction(uid=0, iid=205398, r_ui=7.0350295792, est=7.09766518712439, details={'was_impossible': False}),\n",
       " Prediction(uid=0, iid=203417, r_ui=7.0350295792, est=7.487135611945447, details={'was_impossible': False}),\n",
       " Prediction(uid=0, iid=28143, r_ui=7.0350295792, est=8.230135103690232, details={'was_impossible': False}),\n",
       " Prediction(uid=0, iid=177080, r_ui=7.0350295792, est=7.275748739670489, details={'was_impossible': False}),\n",
       " Prediction(uid=0, iid=245354, r_ui=7.0350295792, est=7.688762639678101, details={'was_impossible': False}),\n",
       " Prediction(uid=0, iid=65244, r_ui=7.0350295792, est=7.5878111618509445, details={'was_impossible': False}),\n",
       " Prediction(uid=0, iid=131325, r_ui=7.0350295792, est=7.165158267524954, details={'was_impossible': False}),\n",
       " Prediction(uid=0, iid=210179, r_ui=7.0350295792, est=7.348737043412172, details={'was_impossible': False}),\n",
       " Prediction(uid=0, iid=175621, r_ui=7.0350295792, est=6.865948704437119, details={'was_impossible': False}),\n",
       " Prediction(uid=0, iid=230305, r_ui=7.0350295792, est=7.586693090455963, details={'was_impossible': False}),\n",
       " Prediction(uid=0, iid=197097, r_ui=7.0350295792, est=7.737007441187062, details={'was_impossible': False}),\n",
       " Prediction(uid=0, iid=279613, r_ui=7.0350295792, est=7.845583447856554, details={'was_impossible': False}),\n",
       " Prediction(uid=0, iid=18833, r_ui=7.0350295792, est=8.367023403597502, details={'was_impossible': False}),\n",
       " Prediction(uid=0, iid=36218, r_ui=7.0350295792, est=8.032486481027695, details={'was_impossible': False}),\n",
       " Prediction(uid=0, iid=22827, r_ui=7.0350295792, est=8.303231690180484, details={'was_impossible': False}),\n",
       " Prediction(uid=0, iid=8098, r_ui=7.0350295792, est=7.136966180980866, details={'was_impossible': False}),\n",
       " Prediction(uid=0, iid=216092, r_ui=7.0350295792, est=7.61297724405695, details={'was_impossible': False}),\n",
       " Prediction(uid=0, iid=145189, r_ui=7.0350295792, est=7.132024265370724, details={'was_impossible': False}),\n",
       " Prediction(uid=0, iid=156858, r_ui=7.0350295792, est=8.25855574479636, details={'was_impossible': False}),\n",
       " Prediction(uid=0, iid=37904, r_ui=7.0350295792, est=7.757596798942805, details={'was_impossible': False}),\n",
       " Prediction(uid=0, iid=124361, r_ui=7.0350295792, est=8.706099898543712, details={'was_impossible': False}),\n",
       " Prediction(uid=0, iid=17133, r_ui=7.0350295792, est=8.126800232010574, details={'was_impossible': False}),\n",
       " Prediction(uid=0, iid=10630, r_ui=7.0350295792, est=7.98388816826012, details={'was_impossible': False}),\n",
       " Prediction(uid=0, iid=42, r_ui=7.0350295792, est=7.617599053920985, details={'was_impossible': False}),\n",
       " Prediction(uid=0, iid=160495, r_ui=7.0350295792, est=8.14006676279849, details={'was_impossible': False}),\n",
       " Prediction(uid=0, iid=244918, r_ui=7.0350295792, est=7.561526298955967, details={'was_impossible': False}),\n",
       " Prediction(uid=0, iid=12493, r_ui=7.0350295792, est=8.160689652178414, details={'was_impossible': False}),\n",
       " Prediction(uid=0, iid=92828, r_ui=7.0350295792, est=7.98383549031929, details={'was_impossible': False}),\n",
       " Prediction(uid=0, iid=167791, r_ui=7.0350295792, est=8.641550937447946, details={'was_impossible': False}),\n",
       " Prediction(uid=0, iid=3955, r_ui=7.0350295792, est=7.335169952260875, details={'was_impossible': False}),\n",
       " Prediction(uid=0, iid=154443, r_ui=7.0350295792, est=7.313579933377478, details={'was_impossible': False}),\n",
       " Prediction(uid=0, iid=127023, r_ui=7.0350295792, est=8.289648804817924, details={'was_impossible': False}),\n",
       " Prediction(uid=0, iid=180593, r_ui=7.0350295792, est=7.484581414939131, details={'was_impossible': False}),\n",
       " Prediction(uid=0, iid=145475, r_ui=7.0350295792, est=7.4159726764033875, details={'was_impossible': False}),\n",
       " Prediction(uid=0, iid=152237, r_ui=7.0350295792, est=7.388784572116384, details={'was_impossible': False}),\n",
       " Prediction(uid=0, iid=100423, r_ui=7.0350295792, est=7.318726689295088, details={'was_impossible': False}),\n",
       " Prediction(uid=0, iid=143986, r_ui=7.0350295792, est=7.137285289378881, details={'was_impossible': False}),\n",
       " Prediction(uid=0, iid=150376, r_ui=7.0350295792, est=7.957319089433952, details={'was_impossible': False}),\n",
       " Prediction(uid=0, iid=180020, r_ui=7.0350295792, est=6.674643761569868, details={'was_impossible': False}),\n",
       " Prediction(uid=0, iid=54625, r_ui=7.0350295792, est=8.126640984374728, details={'was_impossible': False}),\n",
       " Prediction(uid=0, iid=163967, r_ui=7.0350295792, est=7.71186726603164, details={'was_impossible': False}),\n",
       " Prediction(uid=0, iid=146791, r_ui=7.0350295792, est=7.983311595573697, details={'was_impossible': False}),\n",
       " Prediction(uid=0, iid=57660, r_ui=7.0350295792, est=7.9039739473958806, details={'was_impossible': False}),\n",
       " Prediction(uid=0, iid=2511, r_ui=7.0350295792, est=8.11460020159201, details={'was_impossible': False}),\n",
       " Prediction(uid=0, iid=67436, r_ui=7.0350295792, est=6.9157028598189, details={'was_impossible': False}),\n",
       " Prediction(uid=0, iid=239188, r_ui=7.0350295792, est=8.363140798030978, details={'was_impossible': False}),\n",
       " Prediction(uid=0, iid=15818, r_ui=7.0350295792, est=7.500109804319411, details={'was_impossible': False}),\n",
       " Prediction(uid=0, iid=463, r_ui=7.0350295792, est=8.656292278186031, details={'was_impossible': False}),\n",
       " Prediction(uid=0, iid=8924, r_ui=7.0350295792, est=7.331951506765698, details={'was_impossible': False}),\n",
       " Prediction(uid=0, iid=22192, r_ui=7.0350295792, est=7.878131072092153, details={'was_impossible': False}),\n",
       " Prediction(uid=0, iid=250442, r_ui=7.0350295792, est=7.418675955660212, details={'was_impossible': False}),\n",
       " Prediction(uid=0, iid=22141, r_ui=7.0350295792, est=7.4857739264715395, details={'was_impossible': False}),\n",
       " Prediction(uid=0, iid=107255, r_ui=7.0350295792, est=7.602538850555804, details={'was_impossible': False}),\n",
       " Prediction(uid=0, iid=104573, r_ui=7.0350295792, est=7.45157500679908, details={'was_impossible': False}),\n",
       " Prediction(uid=0, iid=174430, r_ui=7.0350295792, est=9.220645502661066, details={'was_impossible': False}),\n",
       " Prediction(uid=0, iid=217, r_ui=7.0350295792, est=7.141407964660744, details={'was_impossible': False}),\n",
       " Prediction(uid=0, iid=36739, r_ui=7.0350295792, est=6.736210392088587, details={'was_impossible': False}),\n",
       " Prediction(uid=0, iid=10093, r_ui=7.0350295792, est=7.177370517480258, details={'was_impossible': False}),\n",
       " Prediction(uid=0, iid=103343, r_ui=7.0350295792, est=8.047979737312545, details={'was_impossible': False}),\n",
       " Prediction(uid=0, iid=170216, r_ui=7.0350295792, est=8.685579193831465, details={'was_impossible': False}),\n",
       " Prediction(uid=0, iid=154203, r_ui=7.0350295792, est=7.9206207341551504, details={'was_impossible': False}),\n",
       " Prediction(uid=0, iid=124742, r_ui=7.0350295792, est=8.313373307102486, details={'was_impossible': False}),\n",
       " Prediction(uid=0, iid=2381, r_ui=7.0350295792, est=6.804225325286192, details={'was_impossible': False}),\n",
       " Prediction(uid=0, iid=202982, r_ui=7.0350295792, est=7.115326517298473, details={'was_impossible': False}),\n",
       " Prediction(uid=0, iid=38453, r_ui=7.0350295792, est=7.8264668037170635, details={'was_impossible': False}),\n",
       " Prediction(uid=0, iid=37380, r_ui=7.0350295792, est=7.5820656165249565, details={'was_impossible': False}),\n",
       " Prediction(uid=0, iid=15062, r_ui=7.0350295792, est=7.827723806375411, details={'was_impossible': False}),\n",
       " Prediction(uid=0, iid=12692, r_ui=7.0350295792, est=7.014685506629249, details={'was_impossible': False}),\n",
       " Prediction(uid=0, iid=72287, r_ui=7.0350295792, est=7.533684188377415, details={'was_impossible': False}),\n",
       " Prediction(uid=0, iid=38863, r_ui=7.0350295792, est=7.240669378455496, details={'was_impossible': False}),\n",
       " Prediction(uid=0, iid=68448, r_ui=7.0350295792, est=8.276368910967143, details={'was_impossible': False}),\n",
       " Prediction(uid=0, iid=14996, r_ui=7.0350295792, est=7.842526813878045, details={'was_impossible': False}),\n",
       " Prediction(uid=0, iid=153, r_ui=7.0350295792, est=7.215511113454734, details={'was_impossible': False}),\n",
       " Prediction(uid=0, iid=91536, r_ui=7.0350295792, est=7.430733803162617, details={'was_impossible': False}),\n",
       " Prediction(uid=0, iid=169654, r_ui=7.0350295792, est=7.695466596896229, details={'was_impossible': False}),\n",
       " Prediction(uid=0, iid=25821, r_ui=7.0350295792, est=7.157395593099845, details={'was_impossible': False}),\n",
       " Prediction(uid=0, iid=266121, r_ui=7.0350295792, est=8.012449225265149, details={'was_impossible': False}),\n",
       " Prediction(uid=0, iid=187645, r_ui=7.0350295792, est=8.974593286566515, details={'was_impossible': False}),\n",
       " Prediction(uid=0, iid=11, r_ui=7.0350295792, est=7.310241252658708, details={'was_impossible': False}),\n",
       " Prediction(uid=0, iid=230802, r_ui=7.0350295792, est=8.479713648602129, details={'was_impossible': False}),\n",
       " Prediction(uid=0, iid=215842, r_ui=7.0350295792, est=6.903952483555265, details={'was_impossible': False}),\n",
       " Prediction(uid=0, iid=223931, r_ui=7.0350295792, est=7.668163401410452, details={'was_impossible': False}),\n",
       " Prediction(uid=0, iid=139030, r_ui=7.0350295792, est=7.522186018257918, details={'was_impossible': False}),\n",
       " Prediction(uid=0, iid=257501, r_ui=7.0350295792, est=8.120966560747982, details={'was_impossible': False}),\n",
       " Prediction(uid=0, iid=104363, r_ui=7.0350295792, est=7.5311615526557345, details={'was_impossible': False}),\n",
       " Prediction(uid=0, iid=109276, r_ui=7.0350295792, est=8.1071584569074, details={'was_impossible': False}),\n",
       " Prediction(uid=0, iid=93, r_ui=7.0350295792, est=8.110719948345725, details={'was_impossible': False}),\n",
       " Prediction(uid=0, iid=131835, r_ui=7.0350295792, est=6.5850990546176495, details={'was_impossible': False}),\n",
       " Prediction(uid=0, iid=126163, r_ui=7.0350295792, est=8.259882483698394, details={'was_impossible': False}),\n",
       " Prediction(uid=0, iid=120677, r_ui=7.0350295792, est=8.690658090976573, details={'was_impossible': False}),\n",
       " Prediction(uid=0, iid=37111, r_ui=7.0350295792, est=8.2525656272013, details={'was_impossible': False}),\n",
       " Prediction(uid=0, iid=80006, r_ui=7.0350295792, est=6.978930645326197, details={'was_impossible': False}),\n",
       " Prediction(uid=0, iid=39463, r_ui=7.0350295792, est=7.904585103922187, details={'was_impossible': False}),\n",
       " Prediction(uid=0, iid=198773, r_ui=7.0350295792, est=8.246039928601562, details={'was_impossible': False}),\n",
       " Prediction(uid=0, iid=9674, r_ui=7.0350295792, est=7.78178984683725, details={'was_impossible': False}),\n",
       " Prediction(uid=0, iid=230304, r_ui=7.0350295792, est=6.551610231571267, details={'was_impossible': False}),\n",
       " Prediction(uid=0, iid=21241, r_ui=7.0350295792, est=7.556804880465596, details={'was_impossible': False}),\n",
       " Prediction(uid=0, iid=23730, r_ui=7.0350295792, est=7.355356872219696, details={'was_impossible': False}),\n",
       " Prediction(uid=0, iid=2596, r_ui=7.0350295792, est=7.409359992675603, details={'was_impossible': False}),\n",
       " Prediction(uid=0, iid=766, r_ui=7.0350295792, est=6.972217746620451, details={'was_impossible': False}),\n",
       " Prediction(uid=0, iid=8217, r_ui=7.0350295792, est=7.6949925237851176, details={'was_impossible': False}),\n",
       " Prediction(uid=0, iid=2453, r_ui=7.0350295792, est=7.790615241648438, details={'was_impossible': False}),\n",
       " Prediction(uid=0, iid=770, r_ui=7.0350295792, est=6.967524940327965, details={'was_impossible': False}),\n",
       " Prediction(uid=0, iid=73761, r_ui=7.0350295792, est=7.698058086458653, details={'was_impossible': False}),\n",
       " Prediction(uid=0, iid=8045, r_ui=7.0350295792, est=7.746089221459013, details={'was_impossible': False}),\n",
       " Prediction(uid=0, iid=140, r_ui=7.0350295792, est=7.128501845218466, details={'was_impossible': False}),\n",
       " Prediction(uid=0, iid=423, r_ui=7.0350295792, est=6.920223528053759, details={'was_impossible': False}),\n",
       " Prediction(uid=0, iid=82397, r_ui=7.0350295792, est=7.097294927725776, details={'was_impossible': False}),\n",
       " Prediction(uid=0, iid=4421, r_ui=7.0350295792, est=7.281336497674191, details={'was_impossible': False}),\n",
       " Prediction(uid=0, iid=6472, r_ui=7.0350295792, est=8.140432737114248, details={'was_impossible': False}),\n",
       " Prediction(uid=0, iid=2121, r_ui=7.0350295792, est=7.1027502985887825, details={'was_impossible': False}),\n",
       " Prediction(uid=0, iid=7854, r_ui=7.0350295792, est=8.375458406917174, details={'was_impossible': False}),\n",
       " Prediction(uid=0, iid=72125, r_ui=7.0350295792, est=8.520055952781249, details={'was_impossible': False}),\n",
       " Prediction(uid=0, iid=13886, r_ui=7.0350295792, est=7.334200367556115, details={'was_impossible': False}),\n",
       " Prediction(uid=0, iid=107529, r_ui=7.0350295792, est=7.279995435932598, details={'was_impossible': False}),\n",
       " Prediction(uid=0, iid=497, r_ui=7.0350295792, est=7.139953502355613, details={'was_impossible': False}),\n",
       " Prediction(uid=0, iid=6795, r_ui=7.0350295792, est=7.130055876106432, details={'was_impossible': False}),\n",
       " Prediction(uid=0, iid=83195, r_ui=7.0350295792, est=7.387849618108349, details={'was_impossible': False}),\n",
       " Prediction(uid=0, iid=19857, r_ui=7.0350295792, est=8.137035718524645, details={'was_impossible': False}),\n",
       " Prediction(uid=0, iid=520, r_ui=7.0350295792, est=6.620773397160839, details={'was_impossible': False}),\n",
       " Prediction(uid=0, iid=6569, r_ui=7.0350295792, est=7.1528135394473775, details={'was_impossible': False}),\n",
       " Prediction(uid=0, iid=8130, r_ui=7.0350295792, est=7.074467425021009, details={'was_impossible': False}),\n",
       " Prediction(uid=0, iid=105134, r_ui=7.0350295792, est=8.126198078169608, details={'was_impossible': False}),\n",
       " Prediction(uid=0, iid=61692, r_ui=7.0350295792, est=7.359816644570295, details={'was_impossible': False}),\n",
       " Prediction(uid=0, iid=27172, r_ui=7.0350295792, est=7.218929159258736, details={'was_impossible': False}),\n",
       " Prediction(uid=0, iid=6688, r_ui=7.0350295792, est=7.53100242742536, details={'was_impossible': False}),\n",
       " Prediction(uid=0, iid=166384, r_ui=7.0350295792, est=7.637452634627901, details={'was_impossible': False}),\n",
       " Prediction(uid=0, iid=380, r_ui=7.0350295792, est=6.940983400968355, details={'was_impossible': False}),\n",
       " Prediction(uid=0, iid=29411, r_ui=7.0350295792, est=7.487296615529072, details={'was_impossible': False}),\n",
       " Prediction(uid=0, iid=88, r_ui=7.0350295792, est=7.622072287044665, details={'was_impossible': False}),\n",
       " Prediction(uid=0, iid=12761, r_ui=7.0350295792, est=7.435827890258403, details={'was_impossible': False}),\n",
       " Prediction(uid=0, iid=45, r_ui=7.0350295792, est=7.873365665178918, details={'was_impossible': False}),\n",
       " Prediction(uid=0, iid=161936, r_ui=7.0350295792, est=8.788788145019895, details={'was_impossible': False}),\n",
       " Prediction(uid=0, iid=105, r_ui=7.0350295792, est=7.636685644667841, details={'was_impossible': False}),\n",
       " Prediction(uid=0, iid=27746, r_ui=7.0350295792, est=7.755889136813894, details={'was_impossible': False}),\n",
       " Prediction(uid=0, iid=98, r_ui=7.0350295792, est=7.029611167649329, details={'was_impossible': False}),\n",
       " Prediction(uid=0, iid=2936, r_ui=7.0350295792, est=6.908380487934794, details={'was_impossible': False}),\n",
       " Prediction(uid=0, iid=2569, r_ui=7.0350295792, est=6.961535996255859, details={'was_impossible': False}),\n",
       " Prediction(uid=0, iid=107638, r_ui=7.0350295792, est=7.079770982414258, details={'was_impossible': False}),\n",
       " Prediction(uid=0, iid=3864, r_ui=7.0350295792, est=7.194089641313368, details={'was_impossible': False}),\n",
       " Prediction(uid=0, iid=134279, r_ui=7.0350295792, est=7.477800451441748, details={'was_impossible': False}),\n",
       " Prediction(uid=0, iid=79073, r_ui=7.0350295792, est=7.248595725196718, details={'was_impossible': False}),\n",
       " Prediction(uid=0, iid=5259, r_ui=7.0350295792, est=7.344105927744964, details={'was_impossible': False}),\n",
       " Prediction(uid=0, iid=1695, r_ui=7.0350295792, est=7.359578193761624, details={'was_impossible': False}),\n",
       " Prediction(uid=0, iid=56692, r_ui=7.0350295792, est=7.579983168315366, details={'was_impossible': False}),\n",
       " Prediction(uid=0, iid=903, r_ui=7.0350295792, est=7.9046411353820645, details={'was_impossible': False}),\n",
       " Prediction(uid=0, iid=327, r_ui=7.0350295792, est=7.196500743973879, details={'was_impossible': False}),\n",
       " Prediction(uid=0, iid=25951, r_ui=7.0350295792, est=7.502970735422343, details={'was_impossible': False}),\n",
       " Prediction(uid=0, iid=6657, r_ui=7.0350295792, est=7.105056698511657, details={'was_impossible': False}),\n",
       " Prediction(uid=0, iid=42052, r_ui=7.0350295792, est=7.891695986136736, details={'was_impossible': False}),\n",
       " Prediction(uid=0, iid=150, r_ui=7.0350295792, est=7.954697447223219, details={'was_impossible': False}),\n",
       " Prediction(uid=0, iid=21892, r_ui=7.0350295792, est=7.268334558123826, details={'was_impossible': False}),\n",
       " Prediction(uid=0, iid=25685, r_ui=7.0350295792, est=7.177318670070515, details={'was_impossible': False}),\n",
       " Prediction(uid=0, iid=136954, r_ui=7.0350295792, est=7.3749428433936615, details={'was_impossible': False}),\n",
       " Prediction(uid=0, iid=170, r_ui=7.0350295792, est=7.375101672859161, details={'was_impossible': False}),\n",
       " Prediction(uid=0, iid=24508, r_ui=7.0350295792, est=7.928437839657473, details={'was_impossible': False}),\n",
       " Prediction(uid=0, iid=18258, r_ui=7.0350295792, est=7.53727818639061, details={'was_impossible': False}),\n",
       " Prediction(uid=0, iid=225818, r_ui=7.0350295792, est=8.121010219236283, details={'was_impossible': False}),\n",
       " Prediction(uid=0, iid=42105, r_ui=7.0350295792, est=7.175250556059903, details={'was_impossible': False}),\n",
       " Prediction(uid=0, iid=3851, r_ui=7.0350295792, est=7.280606547458697, details={'was_impossible': False}),\n",
       " Prediction(uid=0, iid=7717, r_ui=7.0350295792, est=7.445709129462644, details={'was_impossible': False}),\n",
       " Prediction(uid=0, iid=1912, r_ui=7.0350295792, est=7.153967146476467, details={'was_impossible': False}),\n",
       " Prediction(uid=0, iid=17521, r_ui=7.0350295792, est=7.040662391766655, details={'was_impossible': False}),\n",
       " Prediction(uid=0, iid=2394, r_ui=7.0350295792, est=6.3727096770515175, details={'was_impossible': False}),\n",
       " Prediction(uid=0, iid=9216, r_ui=7.0350295792, est=8.217802229987614, details={'was_impossible': False}),\n",
       " Prediction(uid=0, iid=521, r_ui=7.0350295792, est=8.602852541535443, details={'was_impossible': False}),\n",
       " Prediction(uid=0, iid=24068, r_ui=7.0350295792, est=7.795583760990003, details={'was_impossible': False}),\n",
       " Prediction(uid=0, iid=98315, r_ui=7.0350295792, est=7.391244314997973, details={'was_impossible': False}),\n",
       " Prediction(uid=0, iid=8915, r_ui=7.0350295792, est=6.972055517808549, details={'was_impossible': False}),\n",
       " Prediction(uid=0, iid=8203, r_ui=7.0350295792, est=7.3845355530627, details={'was_impossible': False}),\n",
       " Prediction(uid=0, iid=36522, r_ui=7.0350295792, est=7.822576321462399, details={'was_impossible': False}),\n",
       " Prediction(uid=0, iid=1354, r_ui=7.0350295792, est=7.248762384084842, details={'was_impossible': False}),\n",
       " Prediction(uid=0, iid=35503, r_ui=7.0350295792, est=7.286551174754291, details={'was_impossible': False}),\n",
       " Prediction(uid=0, iid=94246, r_ui=7.0350295792, est=8.012291423420944, details={'was_impossible': False}),\n",
       " Prediction(uid=0, iid=649, r_ui=7.0350295792, est=7.265436525343316, details={'was_impossible': False}),\n",
       " Prediction(uid=0, iid=3181, r_ui=7.0350295792, est=6.498361962535981, details={'was_impossible': False}),\n",
       " Prediction(uid=0, iid=4390, r_ui=7.0350295792, est=7.896589957438623, details={'was_impossible': False}),\n",
       " Prediction(uid=0, iid=382, r_ui=7.0350295792, est=7.010331378339217, details={'was_impossible': False}),\n",
       " Prediction(uid=0, iid=221107, r_ui=7.0350295792, est=7.763030487917239, details={'was_impossible': False}),\n",
       " Prediction(uid=0, iid=38506, r_ui=7.0350295792, est=6.822538113037296, details={'was_impossible': False}),\n",
       " Prediction(uid=0, iid=12296, r_ui=7.0350295792, est=7.039314263581605, details={'was_impossible': False}),\n",
       " Prediction(uid=0, iid=34599, r_ui=7.0350295792, est=7.227308678208396, details={'was_impossible': False}),\n",
       " Prediction(uid=0, iid=4286, r_ui=7.0350295792, est=7.429531596547178, details={'was_impossible': False}),\n",
       " Prediction(uid=0, iid=39684, r_ui=7.0350295792, est=7.6213341726484325, details={'was_impossible': False}),\n",
       " Prediction(uid=0, iid=22278, r_ui=7.0350295792, est=7.575996182004653, details={'was_impossible': False}),\n",
       " Prediction(uid=0, iid=1270, r_ui=7.0350295792, est=7.393798970531309, details={'was_impossible': False}),\n",
       " Prediction(uid=0, iid=96848, r_ui=7.0350295792, est=8.02003381658717, details={'was_impossible': False}),\n",
       " Prediction(uid=0, iid=98085, r_ui=7.0350295792, est=7.162543450258092, details={'was_impossible': False}),\n",
       " Prediction(uid=0, iid=3318, r_ui=7.0350295792, est=7.225957353270778, details={'was_impossible': False}),\n",
       " Prediction(uid=0, iid=13823, r_ui=7.0350295792, est=7.740954895102194, details={'was_impossible': False}),\n",
       " Prediction(uid=0, iid=2557, r_ui=7.0350295792, est=6.624582035791275, details={'was_impossible': False}),\n",
       " Prediction(uid=0, iid=857, r_ui=7.0350295792, est=7.031143173005851, details={'was_impossible': False}),\n",
       " Prediction(uid=0, iid=8481, r_ui=7.0350295792, est=7.840002376907341, details={'was_impossible': False}),\n",
       " Prediction(uid=0, iid=17166, r_ui=7.0350295792, est=7.3504969586462625, details={'was_impossible': False}),\n",
       " Prediction(uid=0, iid=54307, r_ui=7.0350295792, est=7.331552691436237, details={'was_impossible': False}),\n",
       " Prediction(uid=0, iid=173341, r_ui=7.0350295792, est=7.042076254737003, details={'was_impossible': False}),\n",
       " Prediction(uid=0, iid=1666, r_ui=7.0350295792, est=8.016397955914288, details={'was_impossible': False}),\n",
       " Prediction(uid=0, iid=47185, r_ui=7.0350295792, est=7.743861758043663, details={'was_impossible': False}),\n",
       " Prediction(uid=0, iid=1251, r_ui=7.0350295792, est=7.131347185763703, details={'was_impossible': False}),\n",
       " Prediction(uid=0, iid=17392, r_ui=7.0350295792, est=8.17494365506801, details={'was_impossible': False}),\n",
       " Prediction(uid=0, iid=12, r_ui=7.0350295792, est=7.856644459983033, details={'was_impossible': False}),\n",
       " Prediction(uid=0, iid=19419, r_ui=7.0350295792, est=6.819649245243602, details={'was_impossible': False}),\n",
       " Prediction(uid=0, iid=65556, r_ui=7.0350295792, est=7.098722413363101, details={'was_impossible': False}),\n",
       " Prediction(uid=0, iid=119337, r_ui=7.0350295792, est=6.892117558258141, details={'was_impossible': False}),\n",
       " Prediction(uid=0, iid=8107, r_ui=7.0350295792, est=6.5564452808745095, details={'was_impossible': False}),\n",
       " Prediction(uid=0, iid=41569, r_ui=7.0350295792, est=7.248894890698621, details={'was_impossible': False}),\n",
       " Prediction(uid=0, iid=21754, r_ui=7.0350295792, est=7.211358166798205, details={'was_impossible': False}),\n",
       " Prediction(uid=0, iid=12830, r_ui=7.0350295792, est=7.151717591206326, details={'was_impossible': False}),\n",
       " Prediction(uid=0, iid=8051, r_ui=7.0350295792, est=7.422803843011785, details={'was_impossible': False}),\n",
       " Prediction(uid=0, iid=15364, r_ui=7.0350295792, est=8.004009891929606, details={'was_impossible': False}),\n",
       " Prediction(uid=0, iid=4636, r_ui=7.0350295792, est=6.810752854550295, details={'was_impossible': False}),\n",
       " Prediction(uid=0, iid=2471, r_ui=7.0350295792, est=5.879155272995755, details={'was_impossible': False}),\n",
       " Prediction(uid=0, iid=1072, r_ui=7.0350295792, est=7.55036413493166, details={'was_impossible': False}),\n",
       " Prediction(uid=0, iid=94, r_ui=7.0350295792, est=8.085752779685551, details={'was_impossible': False}),\n",
       " Prediction(uid=0, iid=5575, r_ui=7.0350295792, est=7.059042017182859, details={'was_impossible': False}),\n",
       " Prediction(uid=0, iid=173442, r_ui=7.0350295792, est=8.00984892509736, details={'was_impossible': False}),\n",
       " Prediction(uid=0, iid=26566, r_ui=7.0350295792, est=7.724345388250957, details={'was_impossible': False}),\n",
       " Prediction(uid=0, iid=116, r_ui=7.0350295792, est=7.201889675168776, details={'was_impossible': False}),\n",
       " Prediction(uid=0, iid=1111, r_ui=7.0350295792, est=7.031256391595602, details={'was_impossible': False}),\n",
       " Prediction(uid=0, iid=8124, r_ui=7.0350295792, est=7.147551639712798, details={'was_impossible': False}),\n",
       " Prediction(uid=0, iid=696, r_ui=7.0350295792, est=6.996239979863562, details={'was_impossible': False}),\n",
       " Prediction(uid=0, iid=28047, r_ui=7.0350295792, est=7.421033639253003, details={'was_impossible': False}),\n",
       " Prediction(uid=0, iid=6411, r_ui=7.0350295792, est=7.303989669436429, details={'was_impossible': False}),\n",
       " Prediction(uid=0, iid=14017, r_ui=7.0350295792, est=7.138716753984689, details={'was_impossible': False}),\n",
       " Prediction(uid=0, iid=35052, r_ui=7.0350295792, est=7.63086372667279, details={'was_impossible': False}),\n",
       " Prediction(uid=0, iid=37196, r_ui=7.0350295792, est=6.985442178452863, details={'was_impossible': False}),\n",
       " Prediction(uid=0, iid=29368, r_ui=7.0350295792, est=7.652736784772605, details={'was_impossible': False}),\n",
       " Prediction(uid=0, iid=404, r_ui=7.0350295792, est=7.133971440234604, details={'was_impossible': False}),\n",
       " Prediction(uid=0, iid=26859, r_ui=7.0350295792, est=6.7691913182467065, details={'was_impossible': False}),\n",
       " Prediction(uid=0, iid=148261, r_ui=7.0350295792, est=6.506153774693511, details={'was_impossible': False}),\n",
       " Prediction(uid=0, iid=30658, r_ui=7.0350295792, est=7.436861771307246, details={'was_impossible': False}),\n",
       " Prediction(uid=0, iid=56933, r_ui=7.0350295792, est=7.366959253982557, details={'was_impossible': False}),\n",
       " Prediction(uid=0, iid=6249, r_ui=7.0350295792, est=7.5776473564624816, details={'was_impossible': False}),\n",
       " Prediction(uid=0, iid=24509, r_ui=7.0350295792, est=7.680694688605812, details={'was_impossible': False}),\n",
       " Prediction(uid=0, iid=20100, r_ui=7.0350295792, est=7.460178636861957, details={'was_impossible': False}),\n",
       " Prediction(uid=0, iid=124, r_ui=7.0350295792, est=7.689653397120019, details={'was_impossible': False}),\n",
       " Prediction(uid=0, iid=2842, r_ui=7.0350295792, est=7.992792288794615, details={'was_impossible': False}),\n",
       " Prediction(uid=0, iid=122522, r_ui=7.0350295792, est=7.067767834445486, details={'was_impossible': False}),\n",
       " Prediction(uid=0, iid=25224, r_ui=7.0350295792, est=7.586879971276118, details={'was_impossible': False}),\n",
       " Prediction(uid=0, iid=258, r_ui=7.0350295792, est=6.266338018307343, details={'was_impossible': False}),\n",
       " Prediction(uid=0, iid=57390, r_ui=7.0350295792, est=7.65337883645768, details={'was_impossible': False}),\n",
       " Prediction(uid=0, iid=2655, r_ui=7.0350295792, est=7.775548200012114, details={'was_impossible': False}),\n",
       " Prediction(uid=0, iid=4098, r_ui=7.0350295792, est=8.394331874402221, details={'was_impossible': False}),\n",
       " Prediction(uid=0, iid=63268, r_ui=7.0350295792, est=6.8736100616304014, details={'was_impossible': False}),\n",
       " Prediction(uid=0, iid=320, r_ui=7.0350295792, est=7.0345783407732085, details={'was_impossible': False}),\n",
       " Prediction(uid=0, iid=39351, r_ui=7.0350295792, est=7.800096780261407, details={'was_impossible': False}),\n",
       " Prediction(uid=0, iid=65515, r_ui=7.0350295792, est=6.864889672805719, details={'was_impossible': False}),\n",
       " Prediction(uid=0, iid=125, r_ui=7.0350295792, est=7.0783510441765145, details={'was_impossible': False}),\n",
       " Prediction(uid=0, iid=30957, r_ui=7.0350295792, est=7.9991977910511, details={'was_impossible': False}),\n",
       " Prediction(uid=0, iid=15265, r_ui=7.0350295792, est=7.464650400702138, details={'was_impossible': False}),\n",
       " Prediction(uid=0, iid=7865, r_ui=7.0350295792, est=7.413314547794924, details={'was_impossible': False}),\n",
       " Prediction(uid=0, iid=92415, r_ui=7.0350295792, est=7.752948700279007, details={'was_impossible': False}),\n",
       " Prediction(uid=0, iid=2921, r_ui=7.0350295792, est=5.665745905716179, details={'was_impossible': False}),\n",
       " Prediction(uid=0, iid=23686, r_ui=7.0350295792, est=7.302229547704806, details={'was_impossible': False}),\n",
       " Prediction(uid=0, iid=41833, r_ui=7.0350295792, est=6.683503497884212, details={'was_impossible': False}),\n",
       " Prediction(uid=0, iid=35497, r_ui=7.0350295792, est=7.5652982404077616, details={'was_impossible': False}),\n",
       " Prediction(uid=0, iid=2809, r_ui=7.0350295792, est=7.20421891363146, details={'was_impossible': False}),\n",
       " Prediction(uid=0, iid=31481, r_ui=7.0350295792, est=7.971805131571438, details={'was_impossible': False}),\n",
       " Prediction(uid=0, iid=12902, r_ui=7.0350295792, est=7.7729976833651575, details={'was_impossible': False}),\n",
       " Prediction(uid=0, iid=21523, r_ui=7.0350295792, est=7.44418499362407, details={'was_impossible': False}),\n",
       " Prediction(uid=0, iid=3633, r_ui=7.0350295792, est=6.635773788945037, details={'was_impossible': False}),\n",
       " Prediction(uid=0, iid=1262, r_ui=7.0350295792, est=7.29668854137466, details={'was_impossible': False}),\n",
       " Prediction(uid=0, iid=18, r_ui=7.0350295792, est=7.884408465641163, details={'was_impossible': False}),\n",
       " Prediction(uid=0, iid=234, r_ui=7.0350295792, est=8.216730004641349, details={'was_impossible': False}),\n",
       " Prediction(uid=0, iid=20134, r_ui=7.0350295792, est=7.74565058012367, details={'was_impossible': False}),\n",
       " Prediction(uid=0, iid=15318, r_ui=7.0350295792, est=6.9867716461913, details={'was_impossible': False}),\n",
       " Prediction(uid=0, iid=59946, r_ui=7.0350295792, est=7.367803349713308, details={'was_impossible': False}),\n",
       " Prediction(uid=0, iid=66587, r_ui=7.0350295792, est=7.0027618524945465, details={'was_impossible': False}),\n",
       " Prediction(uid=0, iid=30324, r_ui=7.0350295792, est=6.95319642806881, details={'was_impossible': False}),\n",
       " Prediction(uid=0, iid=22532, r_ui=7.0350295792, est=7.5111564307242435, details={'was_impossible': False}),\n",
       " Prediction(uid=0, iid=27961, r_ui=7.0350295792, est=6.902679862437639, details={'was_impossible': False}),\n",
       " Prediction(uid=0, iid=6707, r_ui=7.0350295792, est=6.652053590245552, details={'was_impossible': False}),\n",
       " Prediction(uid=0, iid=249, r_ui=7.0350295792, est=7.893832837609055, details={'was_impossible': False}),\n",
       " Prediction(uid=0, iid=25417, r_ui=7.0350295792, est=8.047577226217149, details={'was_impossible': False}),\n",
       " Prediction(uid=0, iid=29937, r_ui=7.0350295792, est=7.4949396863193805, details={'was_impossible': False}),\n",
       " Prediction(uid=0, iid=2344, r_ui=7.0350295792, est=7.018205719596854, details={'was_impossible': False}),\n",
       " Prediction(uid=0, iid=603, r_ui=7.0350295792, est=6.915829632707636, details={'was_impossible': False}),\n",
       " Prediction(uid=0, iid=221, r_ui=7.0350295792, est=7.90897771837168, details={'was_impossible': False}),\n",
       " Prediction(uid=0, iid=181, r_ui=7.0350295792, est=5.9777611033685245, details={'was_impossible': False}),\n",
       " Prediction(uid=0, iid=6610, r_ui=7.0350295792, est=7.115402549409938, details={'was_impossible': False}),\n",
       " Prediction(uid=0, iid=3307, r_ui=7.0350295792, est=7.938777613288176, details={'was_impossible': False}),\n",
       " Prediction(uid=0, iid=115, r_ui=7.0350295792, est=7.054750850630803, details={'was_impossible': False}),\n",
       " Prediction(uid=0, iid=27710, r_ui=7.0350295792, est=6.382648579013665, details={'was_impossible': False}),\n",
       " Prediction(uid=0, iid=6752, r_ui=7.0350295792, est=6.989140385633274, details={'was_impossible': False}),\n",
       " Prediction(uid=0, iid=915, r_ui=7.0350295792, est=6.76809931498709, details={'was_impossible': False}),\n",
       " Prediction(uid=0, iid=46410, r_ui=7.0350295792, est=7.139145576261814, details={'was_impossible': False}),\n",
       " Prediction(uid=0, iid=910, r_ui=7.0350295792, est=6.991749234643037, details={'was_impossible': False}),\n",
       " Prediction(uid=0, iid=14039, r_ui=7.0350295792, est=7.102770788901771, details={'was_impossible': False}),\n",
       " Prediction(uid=0, iid=31483, r_ui=7.0350295792, est=7.7007413930605555, details={'was_impossible': False}),\n",
       " Prediction(uid=0, iid=23142, r_ui=7.0350295792, est=6.7605967913041605, details={'was_impossible': False}),\n",
       " Prediction(uid=0, iid=16747, r_ui=7.0350295792, est=7.857336816031767, details={'was_impossible': False}),\n",
       " Prediction(uid=0, iid=1513, r_ui=7.0350295792, est=8.215252344936014, details={'was_impossible': False}),\n",
       " Prediction(uid=0, iid=102680, r_ui=7.0350295792, est=8.265490305349818, details={'was_impossible': False}),\n",
       " Prediction(uid=0, iid=42688, r_ui=7.0350295792, est=7.1470053385035515, details={'was_impossible': False}),\n",
       " Prediction(uid=0, iid=1244, r_ui=7.0350295792, est=7.269837984180951, details={'was_impossible': False}),\n",
       " Prediction(uid=0, iid=157096, r_ui=7.0350295792, est=7.4313905049623985, details={'was_impossible': False}),\n",
       " Prediction(uid=0, iid=825, r_ui=7.0350295792, est=7.308419429003034, details={'was_impossible': False}),\n",
       " Prediction(uid=0, iid=21613, r_ui=7.0350295792, est=7.188476880586992, details={'was_impossible': False}),\n",
       " Prediction(uid=0, iid=804, r_ui=7.0350295792, est=7.91881525340879, details={'was_impossible': False}),\n",
       " Prediction(uid=0, iid=553, r_ui=7.0350295792, est=6.3951729658563945, details={'was_impossible': False}),\n",
       " Prediction(uid=0, iid=15, r_ui=7.0350295792, est=7.376487791029194, details={'was_impossible': False}),\n",
       " Prediction(uid=0, iid=12633, r_ui=7.0350295792, est=6.950887111385654, details={'was_impossible': False}),\n",
       " Prediction(uid=0, iid=24565, r_ui=7.0350295792, est=7.17958810625157, details={'was_impossible': False}),\n",
       " Prediction(uid=0, iid=24827, r_ui=7.0350295792, est=7.5547331244286955, details={'was_impossible': False}),\n",
       " Prediction(uid=0, iid=483, r_ui=7.0350295792, est=7.351362538424864, details={'was_impossible': False}),\n",
       " Prediction(uid=0, iid=554, r_ui=7.0350295792, est=7.460676484865849, details={'was_impossible': False}),\n",
       " Prediction(uid=0, iid=1482, r_ui=7.0350295792, est=6.643563326705723, details={'was_impossible': False}),\n",
       " Prediction(uid=0, iid=104710, r_ui=7.0350295792, est=7.672463744507806, details={'was_impossible': False}),\n",
       " Prediction(uid=0, iid=242, r_ui=7.0350295792, est=7.263469387944033, details={'was_impossible': False}),\n",
       " Prediction(uid=0, iid=472, r_ui=7.0350295792, est=7.3515133753255, details={'was_impossible': False}),\n",
       " Prediction(uid=0, iid=15064, r_ui=7.0350295792, est=7.489535198180092, details={'was_impossible': False}),\n",
       " Prediction(uid=0, iid=30549, r_ui=7.0350295792, est=7.53567328095908, details={'was_impossible': False}),\n",
       " Prediction(uid=0, iid=34255, r_ui=7.0350295792, est=7.028321887263844, details={'was_impossible': False}),\n",
       " Prediction(uid=0, iid=3720, r_ui=7.0350295792, est=7.919238767355746, details={'was_impossible': False}),\n",
       " Prediction(uid=0, iid=12942, r_ui=7.0350295792, est=7.454869413841305, details={'was_impossible': False}),\n",
       " Prediction(uid=0, iid=27588, r_ui=7.0350295792, est=7.4590082571469445, details={'was_impossible': False}),\n",
       " Prediction(uid=0, iid=41190, r_ui=7.0350295792, est=7.241606236743468, details={'was_impossible': False}),\n",
       " Prediction(uid=0, iid=59, r_ui=7.0350295792, est=7.024590527971996, details={'was_impossible': False}),\n",
       " Prediction(uid=0, iid=1, r_ui=7.0350295792, est=8.333411683197378, details={'was_impossible': False}),\n",
       " Prediction(uid=0, iid=357, r_ui=7.0350295792, est=7.177982008445024, details={'was_impossible': False}),\n",
       " Prediction(uid=0, iid=36345, r_ui=7.0350295792, est=6.572982008198486, details={'was_impossible': False}),\n",
       " Prediction(uid=0, iid=9855, r_ui=7.0350295792, est=7.222571522961439, details={'was_impossible': False}),\n",
       " Prediction(uid=0, iid=53953, r_ui=7.0350295792, est=7.39591609464623, details={'was_impossible': False}),\n",
       " Prediction(uid=0, iid=50719, r_ui=7.0350295792, est=7.158169613786701, details={'was_impossible': False}),\n",
       " Prediction(uid=0, iid=559, r_ui=7.0350295792, est=7.20340355967311, details={'was_impossible': False}),\n",
       " Prediction(uid=0, iid=5895, r_ui=7.0350295792, est=5.679486638512508, details={'was_impossible': False}),\n",
       " Prediction(uid=0, iid=38703, r_ui=7.0350295792, est=7.193547569873051, details={'was_impossible': False}),\n",
       " Prediction(uid=0, iid=20528, r_ui=7.0350295792, est=7.075524037872603, details={'was_impossible': False}),\n",
       " Prediction(uid=0, iid=13642, r_ui=7.0350295792, est=7.764328157020985, details={'was_impossible': False}),\n",
       " Prediction(uid=0, iid=2243, r_ui=7.0350295792, est=6.24616925555107, details={'was_impossible': False}),\n",
       " Prediction(uid=0, iid=16403, r_ui=7.0350295792, est=7.397043121563546, details={'was_impossible': False}),\n",
       " Prediction(uid=0, iid=192, r_ui=7.0350295792, est=7.082545064860012, details={'was_impossible': False}),\n",
       " Prediction(uid=0, iid=40508, r_ui=7.0350295792, est=5.996842199104307, details={'was_impossible': False}),\n",
       " Prediction(uid=0, iid=55165, r_ui=7.0350295792, est=7.670035901158154, details={'was_impossible': False}),\n",
       " Prediction(uid=0, iid=859, r_ui=7.0350295792, est=7.300857752484252, details={'was_impossible': False}),\n",
       " Prediction(uid=0, iid=1593, r_ui=7.0350295792, est=7.142822666476496, details={'was_impossible': False}),\n",
       " Prediction(uid=0, iid=96613, r_ui=7.0350295792, est=7.226512571912413, details={'was_impossible': False}),\n",
       " Prediction(uid=0, iid=712, r_ui=7.0350295792, est=7.588050677017536, details={'was_impossible': False}),\n",
       " Prediction(uid=0, iid=10612, r_ui=7.0350295792, est=7.120562123917286, details={'was_impossible': False}),\n",
       " Prediction(uid=0, iid=527, r_ui=7.0350295792, est=7.6421646047006995, details={'was_impossible': False}),\n",
       " Prediction(uid=0, iid=19379, r_ui=7.0350295792, est=7.174578803965425, details={'was_impossible': False}),\n",
       " Prediction(uid=0, iid=619, r_ui=7.0350295792, est=7.602482825890428, details={'was_impossible': False}),\n",
       " Prediction(uid=0, iid=19237, r_ui=7.0350295792, est=7.3316669753045085, details={'was_impossible': False}),\n",
       " Prediction(uid=0, iid=55690, r_ui=7.0350295792, est=8.964598943194016, details={'was_impossible': False}),\n",
       " Prediction(uid=0, iid=22111, r_ui=7.0350295792, est=7.592877863956358, details={'was_impossible': False}),\n",
       " Prediction(uid=0, iid=3487, r_ui=7.0350295792, est=7.570173794164337, details={'was_impossible': False}),\n",
       " Prediction(uid=0, iid=36634, r_ui=7.0350295792, est=7.187167917400497, details={'was_impossible': False}),\n",
       " Prediction(uid=0, iid=8675, r_ui=7.0350295792, est=7.3723546382722045, details={'was_impossible': False}),\n",
       " Prediction(uid=0, iid=38797, r_ui=7.0350295792, est=7.576408872406867, details={'was_impossible': False}),\n",
       " Prediction(uid=0, iid=43111, r_ui=7.0350295792, est=8.532509609982338, details={'was_impossible': False}),\n",
       " Prediction(uid=0, iid=361, r_ui=7.0350295792, est=7.293397914344276, details={'was_impossible': False}),\n",
       " Prediction(uid=0, iid=760, r_ui=7.0350295792, est=7.820250117909765, details={'was_impossible': False}),\n",
       " Prediction(uid=0, iid=10934, r_ui=7.0350295792, est=6.973840181999928, details={'was_impossible': False}),\n",
       " Prediction(uid=0, iid=1044, r_ui=7.0350295792, est=7.429245082695239, details={'was_impossible': False}),\n",
       " Prediction(uid=0, iid=120217, r_ui=7.0350295792, est=7.11716184797577, details={'was_impossible': False}),\n",
       " Prediction(uid=0, iid=65611, r_ui=7.0350295792, est=5.993508971305485, details={'was_impossible': False}),\n",
       " Prediction(uid=0, iid=4178, r_ui=7.0350295792, est=7.284928952396602, details={'was_impossible': False}),\n",
       " Prediction(uid=0, iid=13223, r_ui=7.0350295792, est=7.288664650208898, details={'was_impossible': False}),\n",
       " Prediction(uid=0, iid=3852, r_ui=7.0350295792, est=6.413312209481519, details={'was_impossible': False}),\n",
       " Prediction(uid=0, iid=555, r_ui=7.0350295792, est=8.09015318306771, details={'was_impossible': False}),\n",
       " Prediction(uid=0, iid=387, r_ui=7.0350295792, est=6.9397131191396255, details={'was_impossible': False}),\n",
       " Prediction(uid=0, iid=25642, r_ui=7.0350295792, est=7.4028034299897225, details={'was_impossible': False}),\n",
       " Prediction(uid=0, iid=240, r_ui=7.0350295792, est=7.628097836829663, details={'was_impossible': False}),\n",
       " Prediction(uid=0, iid=2156, r_ui=7.0350295792, est=7.1255576020493745, details={'was_impossible': False}),\n",
       " Prediction(uid=0, iid=21061, r_ui=7.0350295792, est=7.4536517868582, details={'was_impossible': False}),\n",
       " Prediction(uid=0, iid=686, r_ui=7.0350295792, est=7.271979758455854, details={'was_impossible': False}),\n",
       " Prediction(uid=0, iid=11733, r_ui=7.0350295792, est=7.231416067773586, details={'was_impossible': False}),\n",
       " Prediction(uid=0, iid=19727, r_ui=7.0350295792, est=7.434890309552136, details={'was_impossible': False}),\n",
       " Prediction(uid=0, iid=207, r_ui=7.0350295792, est=7.497233325986396, details={'was_impossible': False}),\n",
       " Prediction(uid=0, iid=69552, r_ui=7.0350295792, est=7.30205831585819, details={'was_impossible': False}),\n",
       " Prediction(uid=0, iid=3931, r_ui=7.0350295792, est=7.528162010902835, details={'was_impossible': False}),\n",
       " Prediction(uid=0, iid=41, r_ui=7.0350295792, est=7.501392645054342, details={'was_impossible': False}),\n",
       " Prediction(uid=0, iid=121, r_ui=7.0350295792, est=8.564949523721733, details={'was_impossible': False}),\n",
       " Prediction(uid=0, iid=12681, r_ui=7.0350295792, est=7.352332274776474, details={'was_impossible': False}),\n",
       " Prediction(uid=0, iid=42910, r_ui=7.0350295792, est=7.9050344249688065, details={'was_impossible': False}),\n",
       " Prediction(uid=0, iid=138233, r_ui=7.0350295792, est=7.671774486573269, details={'was_impossible': False}),\n",
       " Prediction(uid=0, iid=39339, r_ui=7.0350295792, est=7.34015321461782, details={'was_impossible': False}),\n",
       " Prediction(uid=0, iid=215, r_ui=7.0350295792, est=7.626208753615585, details={'was_impossible': False}),\n",
       " Prediction(uid=0, iid=17329, r_ui=7.0350295792, est=7.324341435584423, details={'was_impossible': False}),\n",
       " Prediction(uid=0, iid=5135, r_ui=7.0350295792, est=7.193797673216403, details={'was_impossible': False}),\n",
       " Prediction(uid=0, iid=1115, r_ui=7.0350295792, est=7.643426075507972, details={'was_impossible': False}),\n",
       " Prediction(uid=0, iid=24742, r_ui=7.0350295792, est=7.664783293561062, details={'was_impossible': False}),\n",
       " Prediction(uid=0, iid=18100, r_ui=7.0350295792, est=7.630073972486711, details={'was_impossible': False}),\n",
       " Prediction(uid=0, iid=27833, r_ui=7.0350295792, est=8.29805382274246, details={'was_impossible': False}),\n",
       " Prediction(uid=0, iid=30645, r_ui=7.0350295792, est=7.8652306316292, details={'was_impossible': False}),\n",
       " Prediction(uid=0, iid=32944, r_ui=7.0350295792, est=7.67912649999312, details={'was_impossible': False}),\n",
       " Prediction(uid=0, iid=2398, r_ui=7.0350295792, est=7.621311421519919, details={'was_impossible': False}),\n",
       " Prediction(uid=0, iid=90870, r_ui=7.0350295792, est=7.600712627390365, details={'was_impossible': False}),\n",
       " Prediction(uid=0, iid=902, r_ui=7.0350295792, est=7.292583405793341, details={'was_impossible': False}),\n",
       " Prediction(uid=0, iid=4143, r_ui=7.0350295792, est=6.272136798525995, details={'was_impossible': False}),\n",
       " Prediction(uid=0, iid=925, r_ui=7.0350295792, est=7.405330714647028, details={'was_impossible': False}),\n",
       " Prediction(uid=0, iid=1338, r_ui=7.0350295792, est=7.847873532485297, details={'was_impossible': False}),\n",
       " Prediction(uid=0, iid=7805, r_ui=7.0350295792, est=7.25055303309067, details={'was_impossible': False}),\n",
       " Prediction(uid=0, iid=2060, r_ui=7.0350295792, est=6.7811466736625805, details={'was_impossible': False}),\n",
       " Prediction(uid=0, iid=66825, r_ui=7.0350295792, est=6.965641267232149, details={'was_impossible': False}),\n",
       " Prediction(uid=0, iid=1406, r_ui=7.0350295792, est=5.907367203313849, details={'was_impossible': False}),\n",
       " Prediction(uid=0, iid=24703, r_ui=7.0350295792, est=7.159136168639235, details={'was_impossible': False}),\n",
       " Prediction(uid=0, iid=18291, r_ui=7.0350295792, est=7.021440525799582, details={'was_impossible': False}),\n",
       " Prediction(uid=0, iid=37400, r_ui=7.0350295792, est=7.290765025697209, details={'was_impossible': False}),\n",
       " Prediction(uid=0, iid=65907, r_ui=7.0350295792, est=7.220026087500157, details={'was_impossible': False}),\n",
       " Prediction(uid=0, iid=13780, r_ui=7.0350295792, est=7.452273008063611, details={'was_impossible': False}),\n",
       " Prediction(uid=0, iid=12346, r_ui=7.0350295792, est=6.995042527328949, details={'was_impossible': False}),\n",
       " Prediction(uid=0, iid=8125, r_ui=7.0350295792, est=7.530987926705585, details={'was_impossible': False}),\n",
       " Prediction(uid=0, iid=24820, r_ui=7.0350295792, est=7.414411555857886, details={'was_impossible': False}),\n",
       " Prediction(uid=0, iid=33160, r_ui=7.0350295792, est=8.114903317626, details={'was_impossible': False}),\n",
       " Prediction(uid=0, iid=80934, r_ui=7.0350295792, est=7.353743389837602, details={'was_impossible': False}),\n",
       " Prediction(uid=0, iid=8989, r_ui=7.0350295792, est=7.58253437338505, details={'was_impossible': False}),\n",
       " Prediction(uid=0, iid=15889, r_ui=7.0350295792, est=7.469964920496959, details={'was_impossible': False}),\n",
       " Prediction(uid=0, iid=22348, r_ui=7.0350295792, est=7.498339468344067, details={'was_impossible': False}),\n",
       " Prediction(uid=0, iid=61484, r_ui=7.0350295792, est=7.425927845996167, details={'was_impossible': False}),\n",
       " Prediction(uid=0, iid=46422, r_ui=7.0350295792, est=7.350027587228905, details={'was_impossible': False}),\n",
       " Prediction(uid=0, iid=904, r_ui=7.0350295792, est=7.784640726870989, details={'was_impossible': False}),\n",
       " Prediction(uid=0, iid=1261, r_ui=7.0350295792, est=7.723530690735044, details={'was_impossible': False}),\n",
       " Prediction(uid=0, iid=40398, r_ui=7.0350295792, est=6.93541924570961, details={'was_impossible': False}),\n",
       " Prediction(uid=0, iid=39953, r_ui=7.0350295792, est=7.789902865783883, details={'was_impossible': False}),\n",
       " Prediction(uid=0, iid=20694, r_ui=7.0350295792, est=7.162652673598498, details={'was_impossible': False}),\n",
       " Prediction(uid=0, iid=8935, r_ui=7.0350295792, est=7.695261532164225, details={'was_impossible': False}),\n",
       " Prediction(uid=0, iid=11551, r_ui=7.0350295792, est=7.1985125356481126, details={'was_impossible': False}),\n",
       " Prediction(uid=0, iid=9675, r_ui=7.0350295792, est=7.020327211215858, details={'was_impossible': False}),\n",
       " Prediction(uid=0, iid=18736, r_ui=7.0350295792, est=7.049184617002456, details={'was_impossible': False}),\n",
       " Prediction(uid=0, iid=421, r_ui=7.0350295792, est=8.4244768075064, details={'was_impossible': False}),\n",
       " Prediction(uid=0, iid=2083, r_ui=7.0350295792, est=5.908933880963853, details={'was_impossible': False}),\n",
       " Prediction(uid=0, iid=748, r_ui=7.0350295792, est=7.271537438553337, details={'was_impossible': False}),\n",
       " Prediction(uid=0, iid=1353, r_ui=7.0350295792, est=7.0961009185611434, details={'was_impossible': False}),\n",
       " Prediction(uid=0, iid=228, r_ui=7.0350295792, est=6.602960611079211, details={'was_impossible': False}),\n",
       " Prediction(uid=0, iid=51, r_ui=7.0350295792, est=7.549441560427304, details={'was_impossible': False}),\n",
       " Prediction(uid=0, iid=550, r_ui=7.0350295792, est=7.404083448077241, details={'was_impossible': False}),\n",
       " Prediction(uid=0, iid=1143, r_ui=7.0350295792, est=7.655225962543949, details={'was_impossible': False}),\n",
       " Prediction(uid=0, iid=28, r_ui=7.0350295792, est=6.966825926546345, details={'was_impossible': False}),\n",
       " Prediction(uid=0, iid=34084, r_ui=7.0350295792, est=7.603913164284583, details={'was_impossible': False}),\n",
       " Prediction(uid=0, iid=1597, r_ui=7.0350295792, est=7.273541177134499, details={'was_impossible': False}),\n",
       " Prediction(uid=0, iid=311, r_ui=7.0350295792, est=7.246806274160321, details={'was_impossible': False}),\n",
       " Prediction(uid=0, iid=118063, r_ui=7.0350295792, est=7.289128640210325, details={'was_impossible': False}),\n",
       " Prediction(uid=0, iid=49, r_ui=7.0350295792, est=7.307742353895668, details={'was_impossible': False}),\n",
       " Prediction(uid=0, iid=11017, r_ui=7.0350295792, est=6.0190706648587575, details={'was_impossible': False}),\n",
       " Prediction(uid=0, iid=107829, r_ui=7.0350295792, est=7.115394286083044, details={'was_impossible': False}),\n",
       " Prediction(uid=0, iid=1231, r_ui=7.0350295792, est=8.082967397195201, details={'was_impossible': False}),\n",
       " Prediction(uid=0, iid=59294, r_ui=7.0350295792, est=8.140944605927409, details={'was_impossible': False}),\n",
       " Prediction(uid=0, iid=33604, r_ui=7.0350295792, est=7.608021435558751, details={'was_impossible': False}),\n",
       " Prediction(uid=0, iid=223855, r_ui=7.0350295792, est=7.821489512182385, details={'was_impossible': False}),\n",
       " Prediction(uid=0, iid=122, r_ui=7.0350295792, est=7.057948318188563, details={'was_impossible': False}),\n",
       " Prediction(uid=0, iid=651, r_ui=7.0350295792, est=7.647342532645477, details={'was_impossible': False}),\n",
       " Prediction(uid=0, iid=72420, r_ui=7.0350295792, est=6.937107519797135, details={'was_impossible': False}),\n",
       " Prediction(uid=0, iid=34635, r_ui=7.0350295792, est=7.595761930909367, details={'was_impossible': False}),\n",
       " Prediction(uid=0, iid=482, r_ui=7.0350295792, est=7.268293829375709, details={'was_impossible': False}),\n",
       " Prediction(uid=0, iid=29109, r_ui=7.0350295792, est=7.293375257217724, details={'was_impossible': False}),\n",
       " Prediction(uid=0, iid=2952, r_ui=7.0350295792, est=6.385854632796484, details={'was_impossible': False}),\n",
       " Prediction(uid=0, iid=5404, r_ui=7.0350295792, est=8.22291015086831, details={'was_impossible': False}),\n",
       " Prediction(uid=0, iid=69789, r_ui=7.0350295792, est=7.67458955046688, details={'was_impossible': False}),\n",
       " Prediction(uid=0, iid=15363, r_ui=7.0350295792, est=7.771387020651579, details={'was_impossible': False}),\n",
       " Prediction(uid=0, iid=152, r_ui=7.0350295792, est=7.913343995840691, details={'was_impossible': False}),\n",
       " Prediction(uid=0, iid=17449, r_ui=7.0350295792, est=7.230602455545521, details={'was_impossible': False}),\n",
       " Prediction(uid=0, iid=11170, r_ui=7.0350295792, est=7.93668621285866, details={'was_impossible': False}),\n",
       " Prediction(uid=0, iid=10, r_ui=7.0350295792, est=7.567926656770428, details={'was_impossible': False}),\n",
       " Prediction(uid=0, iid=150658, r_ui=7.0350295792, est=7.865924074989933, details={'was_impossible': False}),\n",
       " Prediction(uid=0, iid=27627, r_ui=7.0350295792, est=6.958940407949189, details={'was_impossible': False}),\n",
       " Prediction(uid=0, iid=101, r_ui=7.0350295792, est=7.4096869967107315, details={'was_impossible': False}),\n",
       " Prediction(uid=0, iid=71061, r_ui=7.0350295792, est=7.0857630019488544, details={'was_impossible': False}),\n",
       " Prediction(uid=0, iid=2536, r_ui=7.0350295792, est=7.251933906843428, details={'was_impossible': False}),\n",
       " Prediction(uid=0, iid=4651, r_ui=7.0350295792, est=7.255900148161661, details={'was_impossible': False}),\n",
       " Prediction(uid=0, iid=3, r_ui=7.0350295792, est=8.116719700271481, details={'was_impossible': False}),\n",
       " Prediction(uid=0, iid=7316, r_ui=7.0350295792, est=4.846063260795791, details={'was_impossible': False}),\n",
       " Prediction(uid=0, iid=55829, r_ui=7.0350295792, est=7.382222120706323, details={'was_impossible': False}),\n",
       " Prediction(uid=0, iid=23957, r_ui=7.0350295792, est=7.272342461448501, details={'was_impossible': False}),\n",
       " Prediction(uid=0, iid=11901, r_ui=7.0350295792, est=4.633445212770819, details={'was_impossible': False}),\n",
       " Prediction(uid=0, iid=10889, r_ui=7.0350295792, est=7.047533470864917, details={'was_impossible': False}),\n",
       " Prediction(uid=0, iid=264198, r_ui=7.0350295792, est=7.576830133092262, details={'was_impossible': False}),\n",
       " Prediction(uid=0, iid=220, r_ui=7.0350295792, est=7.988440458358248, details={'was_impossible': False}),\n",
       " Prediction(uid=0, iid=21632, r_ui=7.0350295792, est=7.2206069852406, details={'was_impossible': False}),\n",
       " Prediction(uid=0, iid=692, r_ui=7.0350295792, est=7.3590517579529555, details={'was_impossible': False}),\n",
       " Prediction(uid=0, iid=80771, r_ui=7.0350295792, est=7.669462784166196, details={'was_impossible': False}),\n",
       " Prediction(uid=0, iid=398, r_ui=7.0350295792, est=7.193225035065952, details={'was_impossible': False}),\n",
       " Prediction(uid=0, iid=27708, r_ui=7.0350295792, est=8.202063689857294, details={'was_impossible': False}),\n",
       " Prediction(uid=0, iid=1159, r_ui=7.0350295792, est=7.60190741333693, details={'was_impossible': False}),\n",
       " Prediction(uid=0, iid=175, r_ui=7.0350295792, est=7.048850649513278, details={'was_impossible': False}),\n",
       " Prediction(uid=0, iid=55706, r_ui=7.0350295792, est=7.260782891650566, details={'was_impossible': False}),\n",
       " Prediction(uid=0, iid=20043, r_ui=7.0350295792, est=7.28897574716813, details={'was_impossible': False}),\n",
       " Prediction(uid=0, iid=492, r_ui=7.0350295792, est=7.823941679555568, details={'was_impossible': False}),\n",
       " Prediction(uid=0, iid=21882, r_ui=7.0350295792, est=7.6262180701466065, details={'was_impossible': False}),\n",
       " Prediction(uid=0, iid=8552, r_ui=7.0350295792, est=7.3525037523975, details={'was_impossible': False}),\n",
       " Prediction(uid=0, iid=30363, r_ui=7.0350295792, est=7.131117767292843, details={'was_impossible': False}),\n",
       " Prediction(uid=0, iid=2452, r_ui=7.0350295792, est=7.000972346850777, details={'was_impossible': False}),\n",
       " Prediction(uid=0, iid=15510, r_ui=7.0350295792, est=7.196747791127741, details={'was_impossible': False}),\n",
       " Prediction(uid=0, iid=9801, r_ui=7.0350295792, est=7.176283610346018, details={'was_impossible': False}),\n",
       " Prediction(uid=0, iid=927, r_ui=7.0350295792, est=7.086740851849471, details={'was_impossible': False}),\n",
       " Prediction(uid=0, iid=58, r_ui=7.0350295792, est=7.237572552217959, details={'was_impossible': False}),\n",
       " Prediction(uid=0, iid=1298, r_ui=7.0350295792, est=6.402615262573511, details={'was_impossible': False}),\n",
       " Prediction(uid=0, iid=25420, r_ui=7.0350295792, est=7.191169292932923, details={'was_impossible': False}),\n",
       " Prediction(uid=0, iid=142079, r_ui=7.0350295792, est=7.343140454733063, details={'was_impossible': False}),\n",
       " Prediction(uid=0, iid=25234, r_ui=7.0350295792, est=7.070149807534339, details={'was_impossible': False}),\n",
       " Prediction(uid=0, iid=69582, r_ui=7.0350295792, est=7.004066233543625, details={'was_impossible': False}),\n",
       " Prediction(uid=0, iid=69851, r_ui=7.0350295792, est=7.396888172639404, details={'was_impossible': False}),\n",
       " Prediction(uid=0, iid=1042, r_ui=7.0350295792, est=7.173626904212405, details={'was_impossible': False}),\n",
       " Prediction(uid=0, iid=30380, r_ui=7.0350295792, est=7.9536813444399375, details={'was_impossible': False}),\n",
       " Prediction(uid=0, iid=66056, r_ui=7.0350295792, est=7.683140145093342, details={'was_impossible': False}),\n",
       " Prediction(uid=0, iid=5576, r_ui=7.0350295792, est=6.674845065190093, details={'was_impossible': False}),\n",
       " Prediction(uid=0, iid=1149, r_ui=7.0350295792, est=6.668807746048045, details={'was_impossible': False}),\n",
       " Prediction(uid=0, iid=12995, r_ui=7.0350295792, est=7.557212785976871, details={'was_impossible': False}),\n",
       " Prediction(uid=0, iid=4799, r_ui=7.0350295792, est=7.4082547405912775, details={'was_impossible': False}),\n",
       " Prediction(uid=0, iid=142557, r_ui=7.0350295792, est=7.295841803290115, details={'was_impossible': False}),\n",
       " Prediction(uid=0, iid=115233, r_ui=7.0350295792, est=7.24925657612514, details={'was_impossible': False}),\n",
       " Prediction(uid=0, iid=133038, r_ui=7.0350295792, est=7.064612505630179, details={'was_impossible': False}),\n",
       " Prediction(uid=0, iid=200147, r_ui=7.0350295792, est=7.556317366555022, details={'was_impossible': False}),\n",
       " Prediction(uid=0, iid=2389, r_ui=7.0350295792, est=7.118308782391867, details={'was_impossible': False}),\n",
       " Prediction(uid=0, iid=986, r_ui=7.0350295792, est=7.331692074864832, details={'was_impossible': False}),\n",
       " Prediction(uid=0, iid=1924, r_ui=7.0350295792, est=7.305148107248224, details={'was_impossible': False}),\n",
       " Prediction(uid=0, iid=1915, r_ui=7.0350295792, est=7.699462210042533, details={'was_impossible': False}),\n",
       " Prediction(uid=0, iid=171233, r_ui=7.0350295792, est=7.484771665007033, details={'was_impossible': False}),\n",
       " Prediction(uid=0, iid=43528, r_ui=7.0350295792, est=7.722189632542976, details={'was_impossible': False}),\n",
       " Prediction(uid=0, iid=138788, r_ui=7.0350295792, est=6.83135105950201, details={'was_impossible': False}),\n",
       " Prediction(uid=0, iid=182028, r_ui=7.0350295792, est=9.078099004078307, details={'was_impossible': False}),\n",
       " Prediction(uid=0, iid=21287, r_ui=7.0350295792, est=6.741043852908697, details={'was_impossible': False}),\n",
       " Prediction(uid=0, iid=71836, r_ui=7.0350295792, est=7.464906982779064, details={'was_impossible': False}),\n",
       " Prediction(uid=0, iid=177079, r_ui=7.0350295792, est=7.175157119289408, details={'was_impossible': False}),\n",
       " Prediction(uid=0, iid=148575, r_ui=7.0350295792, est=7.636744046404647, details={'was_impossible': False}),\n",
       " Prediction(uid=0, iid=19999, r_ui=7.0350295792, est=7.4895781214516175, details={'was_impossible': False}),\n",
       " Prediction(uid=0, iid=106, r_ui=7.0350295792, est=7.520573914863672, details={'was_impossible': False}),\n",
       " Prediction(uid=0, iid=4488, r_ui=7.0350295792, est=7.325364731039325, details={'was_impossible': False}),\n",
       " Prediction(uid=0, iid=1867, r_ui=7.0350295792, est=7.125346156082825, details={'was_impossible': False}),\n",
       " Prediction(uid=0, iid=10496, r_ui=7.0350295792, est=6.624301734803126, details={'was_impossible': False}),\n",
       " Prediction(uid=0, iid=194577, r_ui=7.0350295792, est=7.2602637308842315, details={'was_impossible': False}),\n",
       " Prediction(uid=0, iid=92044, r_ui=7.0350295792, est=7.4215470075069, details={'was_impossible': False}),\n",
       " Prediction(uid=0, iid=655, r_ui=7.0350295792, est=7.247975069030424, details={'was_impossible': False}),\n",
       " Prediction(uid=0, iid=7929, r_ui=7.0350295792, est=7.1847949252064724, details={'was_impossible': False}),\n",
       " Prediction(uid=0, iid=7860, r_ui=7.0350295792, est=6.9108832068829535, details={'was_impossible': False}),\n",
       " Prediction(uid=0, iid=91534, r_ui=7.0350295792, est=7.122873645564716, details={'was_impossible': False}),\n",
       " Prediction(uid=0, iid=181521, r_ui=7.0350295792, est=8.00043475039032, details={'was_impossible': False}),\n",
       " Prediction(uid=0, iid=11229, r_ui=7.0350295792, est=7.44860156481986, details={'was_impossible': False}),\n",
       " Prediction(uid=0, iid=112, r_ui=7.0350295792, est=7.6492802463470175, details={'was_impossible': False}),\n",
       " Prediction(uid=0, iid=31563, r_ui=7.0350295792, est=7.931444154710498, details={'was_impossible': False}),\n",
       " Prediction(uid=0, iid=16496, r_ui=7.0350295792, est=7.342379042510446, details={'was_impossible': False}),\n",
       " Prediction(uid=0, iid=75165, r_ui=7.0350295792, est=7.505731115979022, details={'was_impossible': False}),\n",
       " Prediction(uid=0, iid=29308, r_ui=7.0350295792, est=6.946499628207198, details={'was_impossible': False}),\n",
       " Prediction(uid=0, iid=90040, r_ui=7.0350295792, est=7.731110675758178, details={'was_impossible': False}),\n",
       " Prediction(uid=0, iid=2456, r_ui=7.0350295792, est=6.599911834733514, details={'was_impossible': False}),\n",
       " Prediction(uid=0, iid=147747, r_ui=7.0350295792, est=7.323524056800801, details={'was_impossible': False}),\n",
       " Prediction(uid=0, iid=136063, r_ui=7.0350295792, est=7.784868087714728, details={'was_impossible': False}),\n",
       " Prediction(uid=0, iid=826, r_ui=7.0350295792, est=7.1730503941467925, details={'was_impossible': False}),\n",
       " Prediction(uid=0, iid=8190, r_ui=7.0350295792, est=7.393626209346395, details={'was_impossible': False}),\n",
       " Prediction(uid=0, iid=7944, r_ui=7.0350295792, est=7.426252481639945, details={'was_impossible': False}),\n",
       " Prediction(uid=0, iid=3139, r_ui=7.0350295792, est=7.639790606351572, details={'was_impossible': False}),\n",
       " Prediction(uid=0, iid=199, r_ui=7.0350295792, est=7.494256616910654, details={'was_impossible': False}),\n",
       " Prediction(uid=0, iid=1334, r_ui=7.0350295792, est=7.105989872859597, details={'was_impossible': False}),\n",
       " Prediction(uid=0, iid=4356, r_ui=7.0350295792, est=7.112284066550858, details={'was_impossible': False}),\n",
       " Prediction(uid=0, iid=7976, r_ui=7.0350295792, est=7.436043500372504, details={'was_impossible': False}),\n",
       " Prediction(uid=0, iid=4370, r_ui=7.0350295792, est=7.44562416620267, details={'was_impossible': False}),\n",
       " Prediction(uid=0, iid=3234, r_ui=7.0350295792, est=7.24399644820098, details={'was_impossible': False}),\n",
       " Prediction(uid=0, iid=11385, r_ui=7.0350295792, est=7.172701634344365, details={'was_impossible': False}),\n",
       " Prediction(uid=0, iid=10915, r_ui=7.0350295792, est=7.151742706590479, details={'was_impossible': False}),\n",
       " Prediction(uid=0, iid=1794, r_ui=7.0350295792, est=7.401197443228492, details={'was_impossible': False}),\n",
       " Prediction(uid=0, iid=54, r_ui=7.0350295792, est=7.799232017239923, details={'was_impossible': False}),\n",
       " Prediction(uid=0, iid=76674, r_ui=7.0350295792, est=6.846550140182078, details={'was_impossible': False}),\n",
       " Prediction(uid=0, iid=4256, r_ui=7.0350295792, est=7.345697013266507, details={'was_impossible': False}),\n",
       " Prediction(uid=0, iid=50750, r_ui=7.0350295792, est=7.986404899033539, details={'was_impossible': False}),\n",
       " Prediction(uid=0, iid=34887, r_ui=7.0350295792, est=7.8297885260725755, details={'was_impossible': False}),\n",
       " Prediction(uid=0, iid=42057, r_ui=7.0350295792, est=7.343663013134387, details={'was_impossible': False}),\n",
       " Prediction(uid=0, iid=60435, r_ui=7.0350295792, est=7.446432949016468, details={'was_impossible': False}),\n",
       " Prediction(uid=0, iid=65781, r_ui=7.0350295792, est=7.589327274605609, details={'was_impossible': False}),\n",
       " Prediction(uid=0, iid=232, r_ui=7.0350295792, est=7.548426671373926, details={'was_impossible': False}),\n",
       " Prediction(uid=0, iid=148949, r_ui=7.0350295792, est=7.704602394301475, details={'was_impossible': False}),\n",
       " Prediction(uid=0, iid=90041, r_ui=7.0350295792, est=7.242597625105209, details={'was_impossible': False}),\n",
       " Prediction(uid=0, iid=84671, r_ui=7.0350295792, est=7.1238550354607195, details={'was_impossible': False}),\n",
       " Prediction(uid=0, iid=62227, r_ui=7.0350295792, est=7.926060905228099, details={'was_impossible': False}),\n",
       " Prediction(uid=0, iid=28089, r_ui=7.0350295792, est=7.447428893423927, details={'was_impossible': False}),\n",
       " Prediction(uid=0, iid=39242, r_ui=7.0350295792, est=7.151099330690117, details={'was_impossible': False}),\n",
       " Prediction(uid=0, iid=27356, r_ui=7.0350295792, est=6.880567420757397, details={'was_impossible': False}),\n",
       " Prediction(uid=0, iid=136280, r_ui=7.0350295792, est=7.6756044032185295, details={'was_impossible': False}),\n",
       " Prediction(uid=0, iid=63759, r_ui=7.0350295792, est=7.489079606360217, details={'was_impossible': False}),\n",
       " Prediction(uid=0, iid=2612, r_ui=7.0350295792, est=7.359751928412884, details={'was_impossible': False}),\n",
       " Prediction(uid=0, iid=21763, r_ui=7.0350295792, est=7.652610099794763, details={'was_impossible': False}),\n",
       " Prediction(uid=0, iid=25669, r_ui=7.0350295792, est=7.409290211819629, details={'was_impossible': False}),\n",
       " Prediction(uid=0, iid=37387, r_ui=7.0350295792, est=7.617524041057671, details={'was_impossible': False}),\n",
       " Prediction(uid=0, iid=143693, r_ui=7.0350295792, est=8.302547613639549, details={'was_impossible': False}),\n",
       " Prediction(uid=0, iid=102652, r_ui=7.0350295792, est=7.713385082606372, details={'was_impossible': False}),\n",
       " Prediction(uid=0, iid=16267, r_ui=7.0350295792, est=7.480512494124423, details={'was_impossible': False}),\n",
       " Prediction(uid=0, iid=9441, r_ui=7.0350295792, est=7.3757398646209404, details={'was_impossible': False}),\n",
       " Prediction(uid=0, iid=12589, r_ui=7.0350295792, est=7.294920166604825, details={'was_impossible': False}),\n",
       " Prediction(uid=0, iid=121764, r_ui=7.0350295792, est=7.199501642471525, details={'was_impossible': False}),\n",
       " Prediction(uid=0, iid=178900, r_ui=7.0350295792, est=8.312285172835207, details={'was_impossible': False}),\n",
       " Prediction(uid=0, iid=41002, r_ui=7.0350295792, est=8.024805983174637, details={'was_impossible': False}),\n",
       " Prediction(uid=0, iid=13301, r_ui=7.0350295792, est=7.157432201568358, details={'was_impossible': False}),\n",
       " Prediction(uid=0, iid=66505, r_ui=7.0350295792, est=7.564964179054125, details={'was_impossible': False}),\n",
       " Prediction(uid=0, iid=27976, r_ui=7.0350295792, est=7.858814464149502, details={'was_impossible': False}),\n",
       " Prediction(uid=0, iid=87890, r_ui=7.0350295792, est=7.604182543919595, details={'was_impossible': False}),\n",
       " Prediction(uid=0, iid=9341, r_ui=7.0350295792, est=7.146645097327843, details={'was_impossible': False}),\n",
       " Prediction(uid=0, iid=12002, r_ui=7.0350295792, est=7.7685158971989035, details={'was_impossible': False}),\n",
       " Prediction(uid=0, iid=2392, r_ui=7.0350295792, est=6.224942035012799, details={'was_impossible': False}),\n",
       " Prediction(uid=0, iid=224316, r_ui=7.0350295792, est=7.36923840844464, details={'was_impossible': False}),\n",
       " Prediction(uid=0, iid=5716, r_ui=7.0350295792, est=7.33718966476967, details={'was_impossible': False}),\n",
       " Prediction(uid=0, iid=28396, r_ui=7.0350295792, est=6.916611835932016, details={'was_impossible': False}),\n",
       " Prediction(uid=0, iid=133848, r_ui=7.0350295792, est=8.24519024702984, details={'was_impossible': False}),\n",
       " Prediction(uid=0, iid=4077, r_ui=7.0350295792, est=6.7152674377375465, details={'was_impossible': False}),\n",
       " Prediction(uid=0, iid=2281, r_ui=7.0350295792, est=6.13626354262118, details={'was_impossible': False}),\n",
       " Prediction(uid=0, iid=96345, r_ui=7.0350295792, est=7.278064969553329, details={'was_impossible': False}),\n",
       " Prediction(uid=0, iid=62853, r_ui=7.0350295792, est=7.412313790973718, details={'was_impossible': False}),\n",
       " Prediction(uid=0, iid=7688, r_ui=7.0350295792, est=6.725386661551324, details={'was_impossible': False}),\n",
       " Prediction(uid=0, iid=12962, r_ui=7.0350295792, est=7.795353262093983, details={'was_impossible': False}),\n",
       " Prediction(uid=0, iid=6873, r_ui=7.0350295792, est=7.1171377705144545, details={'was_impossible': False}),\n",
       " Prediction(uid=0, iid=5130, r_ui=7.0350295792, est=6.378567100640704, details={'was_impossible': False}),\n",
       " Prediction(uid=0, iid=1410, r_ui=7.0350295792, est=5.263364462154405, details={'was_impossible': False}),\n",
       " Prediction(uid=0, iid=119432, r_ui=7.0350295792, est=7.5483700364372295, details={'was_impossible': False}),\n",
       " Prediction(uid=0, iid=18399, r_ui=7.0350295792, est=7.214577613907194, details={'was_impossible': False}),\n",
       " Prediction(uid=0, iid=103651, r_ui=7.0350295792, est=7.079028913439841, details={'was_impossible': False}),\n",
       " Prediction(uid=0, iid=118000, r_ui=7.0350295792, est=8.026764010429439, details={'was_impossible': False}),\n",
       " Prediction(uid=0, iid=1515, r_ui=7.0350295792, est=6.855141435817325, details={'was_impossible': False}),\n",
       " Prediction(uid=0, iid=90305, r_ui=7.0350295792, est=7.3904546164342815, details={'was_impossible': False}),\n",
       " Prediction(uid=0, iid=9464, r_ui=7.0350295792, est=6.89042788053674, details={'was_impossible': False}),\n",
       " Prediction(uid=0, iid=6263, r_ui=7.0350295792, est=6.717717755154317, details={'was_impossible': False}),\n",
       " Prediction(uid=0, iid=91514, r_ui=7.0350295792, est=7.79352792914599, details={'was_impossible': False}),\n",
       " Prediction(uid=0, iid=24417, r_ui=7.0350295792, est=7.0522042217895216, details={'was_impossible': False}),\n",
       " Prediction(uid=0, iid=123417, r_ui=7.0350295792, est=7.102316043707907, details={'was_impossible': False}),\n",
       " Prediction(uid=0, iid=148228, r_ui=7.0350295792, est=7.798063665770128, details={'was_impossible': False}),\n",
       " Prediction(uid=0, iid=23953, r_ui=7.0350295792, est=7.151367029810987, details={'was_impossible': False}),\n",
       " Prediction(uid=0, iid=191189, r_ui=7.0350295792, est=8.42236123367071, details={'was_impossible': False}),\n",
       " Prediction(uid=0, iid=37907, r_ui=7.0350295792, est=7.893795344671466, details={'was_impossible': False}),\n",
       " Prediction(uid=0, iid=132497, r_ui=7.0350295792, est=6.885304339305596, details={'was_impossible': False}),\n",
       " Prediction(uid=0, iid=8129, r_ui=7.0350295792, est=7.5660196686208465, details={'was_impossible': False}),\n",
       " Prediction(uid=0, iid=116998, r_ui=7.0350295792, est=7.853332028351578, details={'was_impossible': False}),\n",
       " Prediction(uid=0, iid=3085, r_ui=7.0350295792, est=7.544541777364754, details={'was_impossible': False}),\n",
       " Prediction(uid=0, iid=5546, r_ui=7.0350295792, est=6.7977447825292865, details={'was_impossible': False}),\n",
       " Prediction(uid=0, iid=13308, r_ui=7.0350295792, est=7.015478521651201, details={'was_impossible': False}),\n",
       " Prediction(uid=0, iid=25584, r_ui=7.0350295792, est=7.287613464884413, details={'was_impossible': False}),\n",
       " Prediction(uid=0, iid=40935, r_ui=7.0350295792, est=7.1520409691005575, details={'was_impossible': False}),\n",
       " Prediction(uid=0, iid=232918, r_ui=7.0350295792, est=7.46389000561398, details={'was_impossible': False}),\n",
       " Prediction(uid=0, iid=3818, r_ui=7.0350295792, est=7.099635902032878, details={'was_impossible': False}),\n",
       " Prediction(uid=0, iid=756, r_ui=7.0350295792, est=7.26207189321997, details={'was_impossible': False}),\n",
       " Prediction(uid=0, iid=15020, r_ui=7.0350295792, est=7.185811587978684, details={'was_impossible': False}),\n",
       " Prediction(uid=0, iid=71272, r_ui=7.0350295792, est=7.222365944440197, details={'was_impossible': False}),\n",
       " Prediction(uid=0, iid=156009, r_ui=7.0350295792, est=7.836451478585141, details={'was_impossible': False}),\n",
       " Prediction(uid=0, iid=293, r_ui=7.0350295792, est=7.293672204757451, details={'was_impossible': False}),\n",
       " Prediction(uid=0, iid=1269, r_ui=7.0350295792, est=6.324675742386194, details={'was_impossible': False}),\n",
       " Prediction(uid=0, iid=63888, r_ui=7.0350295792, est=7.743300497529089, details={'was_impossible': False}),\n",
       " Prediction(uid=0, iid=41916, r_ui=7.0350295792, est=7.346346143690351, details={'was_impossible': False}),\n",
       " Prediction(uid=0, iid=300, r_ui=7.0350295792, est=7.1569946145358845, details={'was_impossible': False}),\n",
       " Prediction(uid=0, iid=128271, r_ui=7.0350295792, est=8.205742227114998, details={'was_impossible': False}),\n",
       " Prediction(uid=0, iid=127060, r_ui=7.0350295792, est=7.984530739320272, details={'was_impossible': False}),\n",
       " Prediction(uid=0, iid=233371, r_ui=7.0350295792, est=8.553938921742752, details={'was_impossible': False}),\n",
       " Prediction(uid=0, iid=1002, r_ui=7.0350295792, est=7.480106002950085, details={'was_impossible': False}),\n",
       " Prediction(uid=0, iid=24770, r_ui=7.0350295792, est=7.2582988334079115, details={'was_impossible': False}),\n",
       " Prediction(uid=0, iid=114912, r_ui=7.0350295792, est=7.3182595710717635, details={'was_impossible': False}),\n",
       " Prediction(uid=0, iid=12005, r_ui=7.0350295792, est=7.497573654300416, details={'was_impossible': False}),\n",
       " Prediction(uid=0, iid=875, r_ui=7.0350295792, est=8.356727393104018, details={'was_impossible': False}),\n",
       " Prediction(uid=0, iid=9004, r_ui=7.0350295792, est=6.740505742565848, details={'was_impossible': False}),\n",
       " Prediction(uid=0, iid=3452, r_ui=7.0350295792, est=6.84415905942637, details={'was_impossible': False}),\n",
       " Prediction(uid=0, iid=118048, r_ui=7.0350295792, est=7.9448123060224445, details={'was_impossible': False}),\n",
       " Prediction(uid=0, iid=25568, r_ui=7.0350295792, est=7.720104712864709, details={'was_impossible': False}),\n",
       " Prediction(uid=0, iid=10502, r_ui=7.0350295792, est=6.842195068531066, details={'was_impossible': False}),\n",
       " Prediction(uid=0, iid=3800, r_ui=7.0350295792, est=7.4214754333137956, details={'was_impossible': False}),\n",
       " Prediction(uid=0, iid=10799, r_ui=7.0350295792, est=6.024491025531826, details={'was_impossible': False}),\n",
       " Prediction(uid=0, iid=34585, r_ui=7.0350295792, est=7.159845543095981, details={'was_impossible': False}),\n",
       " Prediction(uid=0, iid=12826, r_ui=7.0350295792, est=6.638425548593305, details={'was_impossible': False}),\n",
       " Prediction(uid=0, iid=147116, r_ui=7.0350295792, est=7.0647617922191515, details={'was_impossible': False}),\n",
       " Prediction(uid=0, iid=126042, r_ui=7.0350295792, est=8.370731889197993, details={'was_impossible': False}),\n",
       " Prediction(uid=0, iid=2987, r_ui=7.0350295792, est=7.347716344211322, details={'was_impossible': False}),\n",
       " Prediction(uid=0, iid=31627, r_ui=7.0350295792, est=8.040017377500277, details={'was_impossible': False}),\n",
       " Prediction(uid=0, iid=121423, r_ui=7.0350295792, est=6.972559467507638, details={'was_impossible': False}),\n",
       " Prediction(uid=0, iid=20022, r_ui=7.0350295792, est=7.217442633641905, details={'was_impossible': False}),\n",
       " Prediction(uid=0, iid=144733, r_ui=7.0350295792, est=8.801867888052465, details={'was_impossible': False}),\n",
       " Prediction(uid=0, iid=31479, r_ui=7.0350295792, est=7.409074212862982, details={'was_impossible': False}),\n",
       " Prediction(uid=0, iid=391, r_ui=7.0350295792, est=7.095979395862577, details={'was_impossible': False}),\n",
       " Prediction(uid=0, iid=19409, r_ui=7.0350295792, est=6.860505827095011, details={'was_impossible': False}),\n",
       " Prediction(uid=0, iid=19100, r_ui=7.0350295792, est=7.615824076467572, details={'was_impossible': False}),\n",
       " Prediction(uid=0, iid=16992, r_ui=7.0350295792, est=7.627586977788303, details={'was_impossible': False}),\n",
       " Prediction(uid=0, iid=140620, r_ui=7.0350295792, est=7.985913864170557, details={'was_impossible': False}),\n",
       " Prediction(uid=0, iid=5894, r_ui=7.0350295792, est=5.670260548082829, details={'was_impossible': False}),\n",
       " Prediction(uid=0, iid=146130, r_ui=7.0350295792, est=6.946479602983807, details={'was_impossible': False}),\n",
       " Prediction(uid=0, iid=3570, r_ui=7.0350295792, est=7.0464999784565805, details={'was_impossible': False}),\n",
       " Prediction(uid=0, iid=34219, r_ui=7.0350295792, est=7.8384721077490145, details={'was_impossible': False}),\n",
       " Prediction(uid=0, iid=340, r_ui=7.0350295792, est=7.557775491385342, details={'was_impossible': False}),\n",
       " Prediction(uid=0, iid=2425, r_ui=7.0350295792, est=5.411116142970236, details={'was_impossible': False}),\n",
       " Prediction(uid=0, iid=2570, r_ui=7.0350295792, est=7.479019469637079, details={'was_impossible': False}),\n",
       " Prediction(uid=0, iid=37099, r_ui=7.0350295792, est=7.1420046137574085, details={'was_impossible': False}),\n",
       " Prediction(uid=0, iid=216459, r_ui=7.0350295792, est=7.68398238151357, details={'was_impossible': False}),\n",
       " Prediction(uid=0, iid=354, r_ui=7.0350295792, est=7.365819763328835, details={'was_impossible': False}),\n",
       " Prediction(uid=0, iid=121297, r_ui=7.0350295792, est=7.614632023016854, details={'was_impossible': False}),\n",
       " Prediction(uid=0, iid=134150, r_ui=7.0350295792, est=7.220752588965569, details={'was_impossible': False}),\n",
       " Prediction(uid=0, iid=46, r_ui=7.0350295792, est=7.7335237949304165, details={'was_impossible': False}),\n",
       " Prediction(uid=0, iid=32441, r_ui=7.0350295792, est=6.887872786517204, details={'was_impossible': False}),\n",
       " Prediction(uid=0, iid=174660, r_ui=7.0350295792, est=7.294946239629075, details={'was_impossible': False}),\n",
       " Prediction(uid=0, iid=6424, r_ui=7.0350295792, est=6.147853186725311, details={'was_impossible': False}),\n",
       " Prediction(uid=0, iid=23053, r_ui=7.0350295792, est=7.284322070660891, details={'was_impossible': False}),\n",
       " Prediction(uid=0, iid=103649, r_ui=7.0350295792, est=7.0974097365997855, details={'was_impossible': False}),\n",
       " Prediction(uid=0, iid=39683, r_ui=7.0350295792, est=8.051879740017348, details={'was_impossible': False}),\n",
       " Prediction(uid=0, iid=394, r_ui=7.0350295792, est=7.195461502291871, details={'was_impossible': False}),\n",
       " Prediction(uid=0, iid=169, r_ui=7.0350295792, est=6.68249985562287, details={'was_impossible': False}),\n",
       " Prediction(uid=0, iid=41835, r_ui=7.0350295792, est=7.162687393779491, details={'was_impossible': False}),\n",
       " Prediction(uid=0, iid=11971, r_ui=7.0350295792, est=7.5586235545875375, details={'was_impossible': False}),\n",
       " Prediction(uid=0, iid=66362, r_ui=7.0350295792, est=8.021747846712056, details={'was_impossible': False}),\n",
       " Prediction(uid=0, iid=229632, r_ui=7.0350295792, est=7.405499256255137, details={'was_impossible': False}),\n",
       " Prediction(uid=0, iid=37615, r_ui=7.0350295792, est=7.062942034262105, details={'was_impossible': False}),\n",
       " Prediction(uid=0, iid=42215, r_ui=7.0350295792, est=7.550312079885001, details={'was_impossible': False}),\n",
       " Prediction(uid=0, iid=152765, r_ui=7.0350295792, est=7.876837724566606, details={'was_impossible': False}),\n",
       " Prediction(uid=0, iid=2955, r_ui=7.0350295792, est=7.9510880213032875, details={'was_impossible': False}),\n",
       " Prediction(uid=0, iid=35570, r_ui=7.0350295792, est=8.196923294609608, details={'was_impossible': False}),\n",
       " Prediction(uid=0, iid=32116, r_ui=7.0350295792, est=7.0694178964655245, details={'was_impossible': False}),\n",
       " Prediction(uid=0, iid=132372, r_ui=7.0350295792, est=8.04288626332681, details={'was_impossible': False}),\n",
       " Prediction(uid=0, iid=43015, r_ui=7.0350295792, est=8.193975405833712, details={'was_impossible': False}),\n",
       " Prediction(uid=0, iid=116954, r_ui=7.0350295792, est=7.6170904921195515, details={'was_impossible': False}),\n",
       " Prediction(uid=0, iid=44163, r_ui=7.0350295792, est=7.685632462808877, details={'was_impossible': False}),\n",
       " Prediction(uid=0, iid=123260, r_ui=7.0350295792, est=8.003573123532119, details={'was_impossible': False}),\n",
       " Prediction(uid=0, iid=103185, r_ui=7.0350295792, est=7.4416766314380824, details={'was_impossible': False}),\n",
       " Prediction(uid=0, iid=40831, r_ui=7.0350295792, est=7.5774545708288645, details={'was_impossible': False}),\n",
       " Prediction(uid=0, iid=22345, r_ui=7.0350295792, est=7.923246153948507, details={'was_impossible': False}),\n",
       " Prediction(uid=0, iid=141572, r_ui=7.0350295792, est=7.359734522163589, details={'was_impossible': False}),\n",
       " Prediction(uid=0, iid=2944, r_ui=7.0350295792, est=6.695015173570507, details={'was_impossible': False}),\n",
       " Prediction(uid=0, iid=70149, r_ui=7.0350295792, est=8.002516537998678, details={'was_impossible': False}),\n",
       " Prediction(uid=0, iid=171623, r_ui=7.0350295792, est=8.55422294085648, details={'was_impossible': False}),\n",
       " Prediction(uid=0, iid=2719, r_ui=7.0350295792, est=6.117164989048661, details={'was_impossible': False}),\n",
       " Prediction(uid=0, iid=216734, r_ui=7.0350295792, est=7.659460137864543, details={'was_impossible': False}),\n",
       " Prediction(uid=0, iid=25643, r_ui=7.0350295792, est=7.930075276722306, details={'was_impossible': False}),\n",
       " Prediction(uid=0, iid=31506, r_ui=7.0350295792, est=7.486019441993781, details={'was_impossible': False}),\n",
       " Prediction(uid=0, iid=191004, r_ui=7.0350295792, est=7.372416204084106, details={'was_impossible': False}),\n",
       " Prediction(uid=0, iid=17025, r_ui=7.0350295792, est=6.9792408781271495, details={'was_impossible': False}),\n",
       " Prediction(uid=0, iid=119890, r_ui=7.0350295792, est=7.88448603983923, details={'was_impossible': False}),\n",
       " Prediction(uid=0, iid=5795, r_ui=7.0350295792, est=7.094853645973781, details={'was_impossible': False}),\n",
       " Prediction(uid=0, iid=35435, r_ui=7.0350295792, est=7.694898876897152, details={'was_impossible': False}),\n",
       " Prediction(uid=0, iid=6351, r_ui=7.0350295792, est=6.9623044371104195, details={'was_impossible': False}),\n",
       " Prediction(uid=0, iid=121921, r_ui=7.0350295792, est=8.169674812769939, details={'was_impossible': False}),\n",
       " Prediction(uid=0, iid=19646, r_ui=7.0350295792, est=7.54908165139386, details={'was_impossible': False}),\n",
       " Prediction(uid=0, iid=39276, r_ui=7.0350295792, est=7.033368342971292, details={'was_impossible': False}),\n",
       " Prediction(uid=0, iid=21441, r_ui=7.0350295792, est=7.466041717844177, details={'was_impossible': False}),\n",
       " Prediction(uid=0, iid=31552, r_ui=7.0350295792, est=7.429369555802129, details={'was_impossible': False}),\n",
       " Prediction(uid=0, iid=22237, r_ui=7.0350295792, est=7.414791011524823, details={'was_impossible': False}),\n",
       " Prediction(uid=0, iid=21348, r_ui=7.0350295792, est=8.199141702294487, details={'was_impossible': False}),\n",
       " Prediction(uid=0, iid=18901, r_ui=7.0350295792, est=6.9991975198154694, details={'was_impossible': False}),\n",
       " Prediction(uid=0, iid=8964, r_ui=7.0350295792, est=7.066948612681097, details={'was_impossible': False}),\n",
       " Prediction(uid=0, iid=10640, r_ui=7.0350295792, est=7.1344608458136864, details={'was_impossible': False}),\n",
       " Prediction(uid=0, iid=232043, r_ui=7.0350295792, est=8.168524587365981, details={'was_impossible': False}),\n",
       " Prediction(uid=0, iid=102794, r_ui=7.0350295792, est=8.353307033201029, details={'was_impossible': False}),\n",
       " Prediction(uid=0, iid=97842, r_ui=7.0350295792, est=7.984532038489058, details={'was_impossible': False}),\n",
       " Prediction(uid=0, iid=91523, r_ui=7.0350295792, est=7.010434178993252, details={'was_impossible': False}),\n",
       " Prediction(uid=0, iid=20545, r_ui=7.0350295792, est=6.821366720854216, details={'was_impossible': False}),\n",
       " Prediction(uid=0, iid=204583, r_ui=7.0350295792, est=8.051253953069406, details={'was_impossible': False}),\n",
       " Prediction(uid=0, iid=113294, r_ui=7.0350295792, est=7.788368233221256, details={'was_impossible': False}),\n",
       " Prediction(uid=0, iid=19841, r_ui=7.0350295792, est=6.750766239969042, details={'was_impossible': False}),\n",
       " Prediction(uid=0, iid=20096, r_ui=7.0350295792, est=6.971623006020954, details={'was_impossible': False}),\n",
       " Prediction(uid=0, iid=3886, r_ui=7.0350295792, est=6.588299447887402, details={'was_impossible': False}),\n",
       " Prediction(uid=0, iid=174570, r_ui=7.0350295792, est=7.933815911340719, details={'was_impossible': False}),\n",
       " Prediction(uid=0, iid=37097, r_ui=7.0350295792, est=7.1984131528549815, details={'was_impossible': False}),\n",
       " Prediction(uid=0, iid=1403, r_ui=7.0350295792, est=7.327126817282009, details={'was_impossible': False}),\n",
       " Prediction(uid=0, iid=26747, r_ui=7.0350295792, est=7.501365203770711, details={'was_impossible': False}),\n",
       " Prediction(uid=0, iid=4396, r_ui=7.0350295792, est=7.391387036839022, details={'was_impossible': False}),\n",
       " Prediction(uid=0, iid=131260, r_ui=7.0350295792, est=7.312742140459715, details={'was_impossible': False}),\n",
       " Prediction(uid=0, iid=13004, r_ui=7.0350295792, est=7.9507251943345, details={'was_impossible': False}),\n",
       " Prediction(uid=0, iid=146652, r_ui=7.0350295792, est=8.41683808008596, details={'was_impossible': False}),\n",
       " Prediction(uid=0, iid=140717, r_ui=7.0350295792, est=7.360862822790796, details={'was_impossible': False}),\n",
       " Prediction(uid=0, iid=127127, r_ui=7.0350295792, est=7.439432701209661, details={'was_impossible': False}),\n",
       " Prediction(uid=0, iid=40628, r_ui=7.0350295792, est=7.763704875097692, details={'was_impossible': False}),\n",
       " Prediction(uid=0, iid=22545, r_ui=7.0350295792, est=8.288428233383247, details={'was_impossible': False}),\n",
       " Prediction(uid=0, iid=137269, r_ui=7.0350295792, est=7.8250289262257375, details={'was_impossible': False}),\n",
       " Prediction(uid=0, iid=53168, r_ui=7.0350295792, est=7.364664282656731, details={'was_impossible': False}),\n",
       " Prediction(uid=0, iid=5445, r_ui=7.0350295792, est=7.240584356402294, details={'was_impossible': False}),\n",
       " Prediction(uid=0, iid=3270, r_ui=7.0350295792, est=6.940910690903274, details={'was_impossible': False}),\n",
       " Prediction(uid=0, iid=40393, r_ui=7.0350295792, est=7.281704826824471, details={'was_impossible': False}),\n",
       " Prediction(uid=0, iid=22484, r_ui=7.0350295792, est=7.667431463734302, details={'was_impossible': False}),\n",
       " Prediction(uid=0, iid=66116, r_ui=7.0350295792, est=7.276606158102447, details={'was_impossible': False}),\n",
       " Prediction(uid=0, iid=36648, r_ui=7.0350295792, est=7.529493828431746, details={'was_impossible': False}),\n",
       " Prediction(uid=0, iid=15817, r_ui=7.0350295792, est=7.5365501314658125, details={'was_impossible': False}),\n",
       " Prediction(uid=0, iid=193738, r_ui=7.0350295792, est=8.418443694490216, details={'was_impossible': False}),\n",
       " Prediction(uid=0, iid=111124, r_ui=7.0350295792, est=7.518789561628715, details={'was_impossible': False}),\n",
       " Prediction(uid=0, iid=31730, r_ui=7.0350295792, est=8.097335817847576, details={'was_impossible': False}),\n",
       " Prediction(uid=0, iid=75358, r_ui=7.0350295792, est=7.755534717634874, details={'was_impossible': False}),\n",
       " Prediction(uid=0, iid=39290, r_ui=7.0350295792, est=7.325022170598195, details={'was_impossible': False}),\n",
       " Prediction(uid=0, iid=122515, r_ui=7.0350295792, est=8.460227229706382, details={'was_impossible': False}),\n",
       " Prediction(uid=0, iid=31497, r_ui=7.0350295792, est=7.642607482826851, details={'was_impossible': False}),\n",
       " Prediction(uid=0, iid=70512, r_ui=7.0350295792, est=7.691517705398057, details={'was_impossible': False}),\n",
       " Prediction(uid=0, iid=24901, r_ui=7.0350295792, est=7.3353922665187, details={'was_impossible': False}),\n",
       " Prediction(uid=0, iid=7262, r_ui=7.0350295792, est=6.509704192046567, details={'was_impossible': False}),\n",
       " Prediction(uid=0, iid=56796, r_ui=7.0350295792, est=7.299154331937016, details={'was_impossible': False}),\n",
       " Prediction(uid=0, iid=32125, r_ui=7.0350295792, est=7.356167912010521, details={'was_impossible': False}),\n",
       " Prediction(uid=0, iid=97803, r_ui=7.0350295792, est=6.951689577718571, details={'was_impossible': False}),\n",
       " Prediction(uid=0, iid=64826, r_ui=7.0350295792, est=7.258288327357317, details={'was_impossible': False}),\n",
       " Prediction(uid=0, iid=110277, r_ui=7.0350295792, est=7.858253054661668, details={'was_impossible': False}),\n",
       " Prediction(uid=0, iid=7483, r_ui=7.0350295792, est=7.432230072791325, details={'was_impossible': False}),\n",
       " Prediction(uid=0, iid=209010, r_ui=7.0350295792, est=8.732612237981154, details={'was_impossible': False}),\n",
       " Prediction(uid=0, iid=106662, r_ui=7.0350295792, est=7.445592928093715, details={'was_impossible': False}),\n",
       " Prediction(uid=0, iid=37628, r_ui=7.0350295792, est=7.739098991188199, details={'was_impossible': False}),\n",
       " Prediction(uid=0, iid=37301, r_ui=7.0350295792, est=7.565056586795483, details={'was_impossible': False}),\n",
       " Prediction(uid=0, iid=6546, r_ui=7.0350295792, est=6.431611816590389, details={'was_impossible': False}),\n",
       " Prediction(uid=0, iid=2593, r_ui=7.0350295792, est=6.606487815665937, details={'was_impossible': False}),\n",
       " Prediction(uid=0, iid=11104, r_ui=7.0350295792, est=7.230375522085423, details={'was_impossible': False}),\n",
       " Prediction(uid=0, iid=14254, r_ui=7.0350295792, est=7.924882240580325, details={'was_impossible': False}),\n",
       " Prediction(uid=0, iid=103092, r_ui=7.0350295792, est=7.63668902420972, details={'was_impossible': False}),\n",
       " Prediction(uid=0, iid=475, r_ui=7.0350295792, est=7.753566012557438, details={'was_impossible': False}),\n",
       " Prediction(uid=0, iid=142687, r_ui=7.0350295792, est=7.113018398889643, details={'was_impossible': False}),\n",
       " Prediction(uid=0, iid=66214, r_ui=7.0350295792, est=7.598272419541105, details={'was_impossible': False}),\n",
       " Prediction(uid=0, iid=55697, r_ui=7.0350295792, est=7.612880903101641, details={'was_impossible': False}),\n",
       " Prediction(uid=0, iid=11231, r_ui=7.0350295792, est=7.003038184291613, details={'was_impossible': False}),\n",
       " Prediction(uid=0, iid=82420, r_ui=7.0350295792, est=8.080243090629597, details={'was_impossible': False}),\n",
       " Prediction(uid=0, iid=1452, r_ui=7.0350295792, est=7.422759651197996, details={'was_impossible': False}),\n",
       " Prediction(uid=0, iid=30356, r_ui=7.0350295792, est=7.289840056467247, details={'was_impossible': False}),\n",
       " Prediction(uid=0, iid=33359, r_ui=7.0350295792, est=6.99804060554379, details={'was_impossible': False}),\n",
       " Prediction(uid=0, iid=73439, r_ui=7.0350295792, est=8.35419158483092, details={'was_impossible': False}),\n",
       " Prediction(uid=0, iid=164928, r_ui=7.0350295792, est=8.087282005340649, details={'was_impossible': False}),\n",
       " Prediction(uid=0, iid=201, r_ui=7.0350295792, est=7.193884248370641, details={'was_impossible': False}),\n",
       " Prediction(uid=0, iid=58421, r_ui=7.0350295792, est=7.692236428802115, details={'was_impossible': False}),\n",
       " Prediction(uid=0, iid=66171, r_ui=7.0350295792, est=7.153085767292524, details={'was_impossible': False}),\n",
       " Prediction(uid=0, iid=28720, r_ui=7.0350295792, est=8.537053350369714, details={'was_impossible': False}),\n",
       " Prediction(uid=0, iid=13713, r_ui=7.0350295792, est=6.684148137170657, details={'was_impossible': False}),\n",
       " Prediction(uid=0, iid=180263, r_ui=7.0350295792, est=8.906100634515008, details={'was_impossible': False}),\n",
       " Prediction(uid=0, iid=2386, r_ui=7.0350295792, est=6.37534914520784, details={'was_impossible': False}),\n",
       " Prediction(uid=0, iid=65282, r_ui=7.0350295792, est=7.064784973232225, details={'was_impossible': False}),\n",
       " Prediction(uid=0, iid=25617, r_ui=7.0350295792, est=7.274072126045468, details={'was_impossible': False}),\n",
       " Prediction(uid=0, iid=15549, r_ui=7.0350295792, est=6.747861817730591, details={'was_impossible': False}),\n",
       " Prediction(uid=0, iid=204, r_ui=7.0350295792, est=8.010469838842278, details={'was_impossible': False}),\n",
       " Prediction(uid=0, iid=145639, r_ui=7.0350295792, est=7.454429270352854, details={'was_impossible': False}),\n",
       " Prediction(uid=0, iid=6955, r_ui=7.0350295792, est=7.18208626702615, details={'was_impossible': False}),\n",
       " Prediction(uid=0, iid=22198, r_ui=7.0350295792, est=7.261739848437066, details={'was_impossible': False}),\n",
       " Prediction(uid=0, iid=1382, r_ui=7.0350295792, est=7.672938557340714, details={'was_impossible': False}),\n",
       " Prediction(uid=0, iid=28723, r_ui=7.0350295792, est=7.163542480244252, details={'was_impossible': False}),\n",
       " Prediction(uid=0, iid=104006, r_ui=7.0350295792, est=8.116284145493285, details={'was_impossible': False}),\n",
       " Prediction(uid=0, iid=16986, r_ui=7.0350295792, est=7.234228161621422, details={'was_impossible': False}),\n",
       " Prediction(uid=0, iid=172225, r_ui=7.0350295792, est=6.60262437508107, details={'was_impossible': False}),\n",
       " Prediction(uid=0, iid=132531, r_ui=7.0350295792, est=8.082056032023964, details={'was_impossible': False}),\n",
       " Prediction(uid=0, iid=9217, r_ui=7.0350295792, est=7.899771930395319, details={'was_impossible': False}),\n",
       " Prediction(uid=0, iid=4099, r_ui=7.0350295792, est=7.599297369604034, details={'was_impossible': False}),\n",
       " Prediction(uid=0, iid=147151, r_ui=7.0350295792, est=7.245462126965135, details={'was_impossible': False}),\n",
       " Prediction(uid=0, iid=37046, r_ui=7.0350295792, est=8.06063843012877, details={'was_impossible': False}),\n",
       " Prediction(uid=0, iid=124545, r_ui=7.0350295792, est=7.340388534980285, details={'was_impossible': False}),\n",
       " ...]"
      ]
     },
     "execution_count": 102,
     "metadata": {},
     "output_type": "execute_result"
    }
   ],
   "source": [
    "predictions"
   ]
  },
  {
   "cell_type": "markdown",
   "metadata": {},
   "source": [
    "# First Simple Model"
   ]
  },
  {
   "cell_type": "code",
   "execution_count": 104,
   "metadata": {},
   "outputs": [
    {
     "name": "stdout",
     "output_type": "stream",
     "text": [
      "RMSE: 0.6028\n",
      "0.6028279531336033\n"
     ]
    }
   ],
   "source": [
    "print(accuracy.rmse(predictions))"
   ]
  },
  {
   "cell_type": "code",
   "execution_count": 114,
   "metadata": {
    "scrolled": true
   },
   "outputs": [
    {
     "data": {
      "text/plain": [
       "Prediction(uid=34, iid=3415, r_ui=None, est=7.508444262990429, details={'was_impossible': False})"
      ]
     },
     "execution_count": 114,
     "metadata": {},
     "output_type": "execute_result"
    }
   ],
   "source": [
    "svd.predict(34, 3415)"
   ]
  },
  {
   "cell_type": "markdown",
   "metadata": {},
   "source": [
    "### Second try"
   ]
  },
  {
   "cell_type": "code",
   "execution_count": null,
   "metadata": {},
   "outputs": [],
   "source": []
  }
 ],
 "metadata": {
  "kernelspec": {
   "display_name": "Python [conda env:troubleshooting_is_pain]",
   "language": "python",
   "name": "conda-env-troubleshooting_is_pain-py"
  },
  "language_info": {
   "codemirror_mode": {
    "name": "ipython",
    "version": 3
   },
   "file_extension": ".py",
   "mimetype": "text/x-python",
   "name": "python",
   "nbconvert_exporter": "python",
   "pygments_lexer": "ipython3",
   "version": "3.8.8"
  }
 },
 "nbformat": 4,
 "nbformat_minor": 4
}
