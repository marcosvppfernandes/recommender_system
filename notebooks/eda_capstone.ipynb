{
 "cells": [
  {
   "cell_type": "code",
   "execution_count": 1,
   "metadata": {},
   "outputs": [],
   "source": [
    "import pandas as pd\n",
    "import numpy as np\n",
    "import matplotlib as plt\n",
    "import seaborn as sns\n",
    "from surprise import Reader, Dataset, SVD\n",
    "from surprise.model_selection import cross_validate\n",
    "%matplotlib inline\n",
    "from scipy import stats\n",
    "from ast import literal_eval\n",
    "from sklearn.feature_extraction.text import TfidfVectorizer, CountVectorizer\n",
    "from sklearn.metrics.pairwise import linear_kernel, cosine_similarity\n",
    "\n",
    "import warnings; warnings.simplefilter('ignore')"
   ]
  },
  {
   "cell_type": "code",
   "execution_count": 2,
   "metadata": {},
   "outputs": [],
   "source": [
    "games = pd.read_csv('games_detailed_info.csv')\n",
    "bgg_reviews = pd.read_csv('bgg-15m-reviews.csv')\n",
    "testezinho = pd.read_csv('2020-08-19.csv')"
   ]
  },
  {
   "cell_type": "code",
   "execution_count": 3,
   "metadata": {},
   "outputs": [],
   "source": [
    "def basic_info(data):\n",
    "    \"\"\" Gets basic information to understand more of the data, also useful to delete columns that we know are categorical\"\"\"\n",
    "    print(\"Dataset shape is: \", data.shape)\n",
    "    print(\"Dataset size is: \", data.size)\n",
    "    print(data.duplicated().sum())\n",
    "    print(\"Dataset columns are: \", data.columns)\n",
    "    print(\"Dataset info is: \", data.info())\n",
    "    categorical = []\n",
    "    numerical = []\n",
    "    for i in data.columns:\n",
    "        if data[i].dtype == object:\n",
    "            categorical.append(i)\n",
    "        else:\n",
    "            numerical.append(i)\n",
    "    print(\"Categorical variables are:\\n \", categorical)\n",
    "    print(\"Numerical variables are:\\n \", numerical)\n",
    "    return categorical, numerical"
   ]
  },
  {
   "cell_type": "code",
   "execution_count": 4,
   "metadata": {},
   "outputs": [],
   "source": [
    "def columns_w_nan(data):\n",
    "    \"\"\" Returns the columns that have over 30% of its data as missing value \"\"\"\n",
    "    temp = []\n",
    "    temp_perce = []\n",
    "    for x in data.columns:\n",
    "        if data[x].isna().sum() > 0:\n",
    "            percentage_of_data = data[x].isna().sum()/(list(data.shape)[0])\n",
    "            print(\"Row: {} : is made {}% of NaN Values.\".format(x, percentage_of_data.round(3)))\n",
    "            if percentage_of_data > 0.3:\n",
    "                temp.append(x)\n",
    "                temp_perce.append(percentage_of_data)\n",
    "    if len(temp) > 0:\n",
    "        print('')            \n",
    "        print(temp)\n",
    "        print('')\n",
    "        print(temp_perce)"
   ]
  },
  {
   "cell_type": "code",
   "execution_count": 5,
   "metadata": {},
   "outputs": [],
   "source": [
    "def columns_repeat(data, data1, data2):\n",
    "    \"\"\"\" This function has as objective to:\n",
    "    1 - Find possible columns to merge dataframes\n",
    "    2 - Find columns that have to be deleted before the merging\n",
    "    \"\"\"\n",
    "    data_columns = []\n",
    "    data1_columns = []\n",
    "    data2_columns = []\n",
    "    data_data1 = []\n",
    "    data_data2 = []\n",
    "    data_data3 = []\n",
    "    for x in data.columns:\n",
    "        data_columns.append(x)\n",
    "    for y in data1.columns:\n",
    "        data1_columns.append(y)\n",
    "    for z in data2.columns:\n",
    "        data2_columns.append(z)\n",
    "     \n",
    "    for a in data_columns:\n",
    "        if a in data1_columns:\n",
    "            data_data1.append(a)\n",
    "            \n",
    "    for b in data_columns:\n",
    "        if b in data2_columns:\n",
    "            data_data2.append(b)\n",
    "    \n",
    "    for c in data1_columns:\n",
    "        if c in data2_columns:\n",
    "            data_data3.append(c)\n",
    "        \n",
    "    return(data_data1, data_data2, data_data3)"
   ]
  },
  {
   "cell_type": "markdown",
   "metadata": {},
   "source": [
    "### EDA \"games\""
   ]
  },
  {
   "cell_type": "code",
   "execution_count": 6,
   "metadata": {
    "scrolled": true
   },
   "outputs": [
    {
     "name": "stdout",
     "output_type": "stream",
     "text": [
      "Dataset shape is:  (19230, 56)\n",
      "Dataset size is:  1076880\n",
      "0\n",
      "Dataset columns are:  Index(['Unnamed: 0', 'type', 'id', 'thumbnail', 'image', 'primary',\n",
      "       'alternate', 'description', 'yearpublished', 'minplayers', 'maxplayers',\n",
      "       'suggested_num_players', 'suggested_playerage',\n",
      "       'suggested_language_dependence', 'playingtime', 'minplaytime',\n",
      "       'maxplaytime', 'minage', 'boardgamecategory', 'boardgamemechanic',\n",
      "       'boardgamefamily', 'boardgameexpansion', 'boardgameimplementation',\n",
      "       'boardgamedesigner', 'boardgameartist', 'boardgamepublisher',\n",
      "       'usersrated', 'average', 'bayesaverage', 'Board Game Rank',\n",
      "       'Strategy Game Rank', 'Family Game Rank', 'stddev', 'median', 'owned',\n",
      "       'trading', 'wanting', 'wishing', 'numcomments', 'numweights',\n",
      "       'averageweight', 'boardgameintegration', 'boardgamecompilation',\n",
      "       'Party Game Rank', 'Abstract Game Rank', 'Thematic Rank',\n",
      "       'War Game Rank', 'Customizable Rank', 'Children's Game Rank',\n",
      "       'RPG Item Rank', 'Accessory Rank', 'Video Game Rank', 'Amiga Rank',\n",
      "       'Commodore 64 Rank', 'Arcade Rank', 'Atari ST Rank'],\n",
      "      dtype='object')\n",
      "<class 'pandas.core.frame.DataFrame'>\n",
      "RangeIndex: 19230 entries, 0 to 19229\n",
      "Data columns (total 56 columns):\n",
      " #   Column                         Non-Null Count  Dtype  \n",
      "---  ------                         --------------  -----  \n",
      " 0   Unnamed: 0                     19230 non-null  int64  \n",
      " 1   type                           19230 non-null  object \n",
      " 2   id                             19230 non-null  int64  \n",
      " 3   thumbnail                      19211 non-null  object \n",
      " 4   image                          19211 non-null  object \n",
      " 5   primary                        19230 non-null  object \n",
      " 6   alternate                      7685 non-null   object \n",
      " 7   description                    19229 non-null  object \n",
      " 8   yearpublished                  19230 non-null  int64  \n",
      " 9   minplayers                     19230 non-null  int64  \n",
      " 10  maxplayers                     19230 non-null  int64  \n",
      " 11  suggested_num_players          19230 non-null  object \n",
      " 12  suggested_playerage            16884 non-null  object \n",
      " 13  suggested_language_dependence  16645 non-null  object \n",
      " 14  playingtime                    19230 non-null  int64  \n",
      " 15  minplaytime                    19230 non-null  int64  \n",
      " 16  maxplaytime                    19230 non-null  int64  \n",
      " 17  minage                         19230 non-null  int64  \n",
      " 18  boardgamecategory              19009 non-null  object \n",
      " 19  boardgamemechanic              17681 non-null  object \n",
      " 20  boardgamefamily                14743 non-null  object \n",
      " 21  boardgameexpansion             4784 non-null   object \n",
      " 22  boardgameimplementation        4091 non-null   object \n",
      " 23  boardgamedesigner              18800 non-null  object \n",
      " 24  boardgameartist                13833 non-null  object \n",
      " 25  boardgamepublisher             19230 non-null  object \n",
      " 26  usersrated                     19230 non-null  int64  \n",
      " 27  average                        19230 non-null  float64\n",
      " 28  bayesaverage                   19230 non-null  float64\n",
      " 29  Board Game Rank                19230 non-null  int64  \n",
      " 30  Strategy Game Rank             2075 non-null   float64\n",
      " 31  Family Game Rank               2001 non-null   float64\n",
      " 32  stddev                         19230 non-null  float64\n",
      " 33  median                         19230 non-null  int64  \n",
      " 34  owned                          19230 non-null  int64  \n",
      " 35  trading                        19230 non-null  int64  \n",
      " 36  wanting                        19230 non-null  int64  \n",
      " 37  wishing                        19230 non-null  int64  \n",
      " 38  numcomments                    19230 non-null  int64  \n",
      " 39  numweights                     19230 non-null  int64  \n",
      " 40  averageweight                  19230 non-null  float64\n",
      " 41  boardgameintegration           1418 non-null   object \n",
      " 42  boardgamecompilation           694 non-null    object \n",
      " 43  Party Game Rank                582 non-null    float64\n",
      " 44  Abstract Game Rank             1026 non-null   float64\n",
      " 45  Thematic Rank                  1125 non-null   float64\n",
      " 46  War Game Rank                  3213 non-null   float64\n",
      " 47  Customizable Rank              289 non-null    float64\n",
      " 48  Children's Game Rank           810 non-null    float64\n",
      " 49  RPG Item Rank                  1 non-null      float64\n",
      " 50  Accessory Rank                 1 non-null      float64\n",
      " 51  Video Game Rank                1 non-null      float64\n",
      " 52  Amiga Rank                     1 non-null      float64\n",
      " 53  Commodore 64 Rank              1 non-null      float64\n",
      " 54  Arcade Rank                    1 non-null      float64\n",
      " 55  Atari ST Rank                  1 non-null      float64\n",
      "dtypes: float64(19), int64(18), object(19)\n",
      "memory usage: 8.2+ MB\n",
      "Dataset info is:  None\n",
      "Categorical variables are:\n",
      "  ['type', 'thumbnail', 'image', 'primary', 'alternate', 'description', 'suggested_num_players', 'suggested_playerage', 'suggested_language_dependence', 'boardgamecategory', 'boardgamemechanic', 'boardgamefamily', 'boardgameexpansion', 'boardgameimplementation', 'boardgamedesigner', 'boardgameartist', 'boardgamepublisher', 'boardgameintegration', 'boardgamecompilation']\n",
      "Numerical variables are:\n",
      "  ['Unnamed: 0', 'id', 'yearpublished', 'minplayers', 'maxplayers', 'playingtime', 'minplaytime', 'maxplaytime', 'minage', 'usersrated', 'average', 'bayesaverage', 'Board Game Rank', 'Strategy Game Rank', 'Family Game Rank', 'stddev', 'median', 'owned', 'trading', 'wanting', 'wishing', 'numcomments', 'numweights', 'averageweight', 'Party Game Rank', 'Abstract Game Rank', 'Thematic Rank', 'War Game Rank', 'Customizable Rank', \"Children's Game Rank\", 'RPG Item Rank', 'Accessory Rank', 'Video Game Rank', 'Amiga Rank', 'Commodore 64 Rank', 'Arcade Rank', 'Atari ST Rank']\n"
     ]
    },
    {
     "data": {
      "text/plain": [
       "(['type',\n",
       "  'thumbnail',\n",
       "  'image',\n",
       "  'primary',\n",
       "  'alternate',\n",
       "  'description',\n",
       "  'suggested_num_players',\n",
       "  'suggested_playerage',\n",
       "  'suggested_language_dependence',\n",
       "  'boardgamecategory',\n",
       "  'boardgamemechanic',\n",
       "  'boardgamefamily',\n",
       "  'boardgameexpansion',\n",
       "  'boardgameimplementation',\n",
       "  'boardgamedesigner',\n",
       "  'boardgameartist',\n",
       "  'boardgamepublisher',\n",
       "  'boardgameintegration',\n",
       "  'boardgamecompilation'],\n",
       " ['Unnamed: 0',\n",
       "  'id',\n",
       "  'yearpublished',\n",
       "  'minplayers',\n",
       "  'maxplayers',\n",
       "  'playingtime',\n",
       "  'minplaytime',\n",
       "  'maxplaytime',\n",
       "  'minage',\n",
       "  'usersrated',\n",
       "  'average',\n",
       "  'bayesaverage',\n",
       "  'Board Game Rank',\n",
       "  'Strategy Game Rank',\n",
       "  'Family Game Rank',\n",
       "  'stddev',\n",
       "  'median',\n",
       "  'owned',\n",
       "  'trading',\n",
       "  'wanting',\n",
       "  'wishing',\n",
       "  'numcomments',\n",
       "  'numweights',\n",
       "  'averageweight',\n",
       "  'Party Game Rank',\n",
       "  'Abstract Game Rank',\n",
       "  'Thematic Rank',\n",
       "  'War Game Rank',\n",
       "  'Customizable Rank',\n",
       "  \"Children's Game Rank\",\n",
       "  'RPG Item Rank',\n",
       "  'Accessory Rank',\n",
       "  'Video Game Rank',\n",
       "  'Amiga Rank',\n",
       "  'Commodore 64 Rank',\n",
       "  'Arcade Rank',\n",
       "  'Atari ST Rank'])"
      ]
     },
     "execution_count": 6,
     "metadata": {},
     "output_type": "execute_result"
    }
   ],
   "source": [
    "basic_info(games)"
   ]
  },
  {
   "cell_type": "code",
   "execution_count": 7,
   "metadata": {
    "scrolled": true
   },
   "outputs": [
    {
     "name": "stdout",
     "output_type": "stream",
     "text": [
      "Row: thumbnail : is made 0.001% of NaN Values.\n",
      "Row: image : is made 0.001% of NaN Values.\n",
      "Row: alternate : is made 0.6% of NaN Values.\n",
      "Row: description : is made 0.0% of NaN Values.\n",
      "Row: suggested_playerage : is made 0.122% of NaN Values.\n",
      "Row: suggested_language_dependence : is made 0.134% of NaN Values.\n",
      "Row: boardgamecategory : is made 0.011% of NaN Values.\n",
      "Row: boardgamemechanic : is made 0.081% of NaN Values.\n",
      "Row: boardgamefamily : is made 0.233% of NaN Values.\n",
      "Row: boardgameexpansion : is made 0.751% of NaN Values.\n",
      "Row: boardgameimplementation : is made 0.787% of NaN Values.\n",
      "Row: boardgamedesigner : is made 0.022% of NaN Values.\n",
      "Row: boardgameartist : is made 0.281% of NaN Values.\n",
      "Row: Strategy Game Rank : is made 0.892% of NaN Values.\n",
      "Row: Family Game Rank : is made 0.896% of NaN Values.\n",
      "Row: boardgameintegration : is made 0.926% of NaN Values.\n",
      "Row: boardgamecompilation : is made 0.964% of NaN Values.\n",
      "Row: Party Game Rank : is made 0.97% of NaN Values.\n",
      "Row: Abstract Game Rank : is made 0.947% of NaN Values.\n",
      "Row: Thematic Rank : is made 0.941% of NaN Values.\n",
      "Row: War Game Rank : is made 0.833% of NaN Values.\n",
      "Row: Customizable Rank : is made 0.985% of NaN Values.\n",
      "Row: Children's Game Rank : is made 0.958% of NaN Values.\n",
      "Row: RPG Item Rank : is made 1.0% of NaN Values.\n",
      "Row: Accessory Rank : is made 1.0% of NaN Values.\n",
      "Row: Video Game Rank : is made 1.0% of NaN Values.\n",
      "Row: Amiga Rank : is made 1.0% of NaN Values.\n",
      "Row: Commodore 64 Rank : is made 1.0% of NaN Values.\n",
      "Row: Arcade Rank : is made 1.0% of NaN Values.\n",
      "Row: Atari ST Rank : is made 1.0% of NaN Values.\n",
      "\n",
      "['alternate', 'boardgameexpansion', 'boardgameimplementation', 'Strategy Game Rank', 'Family Game Rank', 'boardgameintegration', 'boardgamecompilation', 'Party Game Rank', 'Abstract Game Rank', 'Thematic Rank', 'War Game Rank', 'Customizable Rank', \"Children's Game Rank\", 'RPG Item Rank', 'Accessory Rank', 'Video Game Rank', 'Amiga Rank', 'Commodore 64 Rank', 'Arcade Rank', 'Atari ST Rank']\n",
      "\n",
      "[0.6003640145605824, 0.7512220488819553, 0.7872594903796152, 0.892095683827353, 0.8959438377535102, 0.9262610504420177, 0.9639105564222569, 0.9697347893915756, 0.9466458658346334, 0.9414976599063962, 0.8329173166926677, 0.9849713988559542, 0.9578783151326054, 0.9999479979199168, 0.9999479979199168, 0.9999479979199168, 0.9999479979199168, 0.9999479979199168, 0.9999479979199168, 0.9999479979199168]\n"
     ]
    }
   ],
   "source": [
    "columns_w_nan(games)"
   ]
  },
  {
   "cell_type": "code",
   "execution_count": 8,
   "metadata": {},
   "outputs": [],
   "source": [
    "# Dropping the columns just for a first analysis\n",
    "games1 = games.drop(['alternate', 'boardgameexpansion', 'boardgameimplementation', 'Strategy Game Rank', 'Family Game Rank', 'boardgameintegration', 'boardgamecompilation', 'Party Game Rank', 'Abstract Game Rank', 'Thematic Rank', 'War Game Rank', 'Customizable Rank', \"Children's Game Rank\", 'RPG Item Rank', 'Accessory Rank', 'Video Game Rank', 'Amiga Rank', 'Commodore 64 Rank', 'Arcade Rank', 'Atari ST Rank', 'Unnamed: 0'] ,axis=1)"
   ]
  },
  {
   "cell_type": "code",
   "execution_count": 9,
   "metadata": {
    "scrolled": true
   },
   "outputs": [
    {
     "data": {
      "text/html": [
       "<div>\n",
       "<style scoped>\n",
       "    .dataframe tbody tr th:only-of-type {\n",
       "        vertical-align: middle;\n",
       "    }\n",
       "\n",
       "    .dataframe tbody tr th {\n",
       "        vertical-align: top;\n",
       "    }\n",
       "\n",
       "    .dataframe thead th {\n",
       "        text-align: right;\n",
       "    }\n",
       "</style>\n",
       "<table border=\"1\" class=\"dataframe\">\n",
       "  <thead>\n",
       "    <tr style=\"text-align: right;\">\n",
       "      <th></th>\n",
       "      <th>type</th>\n",
       "      <th>id</th>\n",
       "      <th>thumbnail</th>\n",
       "      <th>image</th>\n",
       "      <th>primary</th>\n",
       "      <th>description</th>\n",
       "      <th>yearpublished</th>\n",
       "      <th>minplayers</th>\n",
       "      <th>maxplayers</th>\n",
       "      <th>suggested_num_players</th>\n",
       "      <th>...</th>\n",
       "      <th>Board Game Rank</th>\n",
       "      <th>stddev</th>\n",
       "      <th>median</th>\n",
       "      <th>owned</th>\n",
       "      <th>trading</th>\n",
       "      <th>wanting</th>\n",
       "      <th>wishing</th>\n",
       "      <th>numcomments</th>\n",
       "      <th>numweights</th>\n",
       "      <th>averageweight</th>\n",
       "    </tr>\n",
       "  </thead>\n",
       "  <tbody>\n",
       "    <tr>\n",
       "      <th>0</th>\n",
       "      <td>boardgame</td>\n",
       "      <td>30549</td>\n",
       "      <td>https://cf.geekdo-images.com/thumb/img/HEKrtpT...</td>\n",
       "      <td>https://cf.geekdo-images.com/original/img/j-pf...</td>\n",
       "      <td>Pandemic</td>\n",
       "      <td>In Pandemic, several virulent diseases have br...</td>\n",
       "      <td>2008</td>\n",
       "      <td>2</td>\n",
       "      <td>4</td>\n",
       "      <td>[OrderedDict([('@numplayers', '1'), ('result',...</td>\n",
       "      <td>...</td>\n",
       "      <td>91</td>\n",
       "      <td>1.32632</td>\n",
       "      <td>0</td>\n",
       "      <td>144727</td>\n",
       "      <td>2191</td>\n",
       "      <td>640</td>\n",
       "      <td>8571</td>\n",
       "      <td>15778</td>\n",
       "      <td>5232</td>\n",
       "      <td>2.4148</td>\n",
       "    </tr>\n",
       "    <tr>\n",
       "      <th>1</th>\n",
       "      <td>boardgame</td>\n",
       "      <td>822</td>\n",
       "      <td>https://cf.geekdo-images.com/thumb/img/kqE4YJS...</td>\n",
       "      <td>https://cf.geekdo-images.com/original/img/o4p6...</td>\n",
       "      <td>Carcassonne</td>\n",
       "      <td>Carcassonne is a tile-placement game in which ...</td>\n",
       "      <td>2000</td>\n",
       "      <td>2</td>\n",
       "      <td>5</td>\n",
       "      <td>[OrderedDict([('@numplayers', '1'), ('result',...</td>\n",
       "      <td>...</td>\n",
       "      <td>173</td>\n",
       "      <td>1.30369</td>\n",
       "      <td>0</td>\n",
       "      <td>140066</td>\n",
       "      <td>1587</td>\n",
       "      <td>539</td>\n",
       "      <td>6286</td>\n",
       "      <td>17720</td>\n",
       "      <td>7304</td>\n",
       "      <td>1.9158</td>\n",
       "    </tr>\n",
       "    <tr>\n",
       "      <th>2</th>\n",
       "      <td>boardgame</td>\n",
       "      <td>13</td>\n",
       "      <td>https://cf.geekdo-images.com/thumb/img/g8LvJsd...</td>\n",
       "      <td>https://cf.geekdo-images.com/original/img/A-0y...</td>\n",
       "      <td>Catan</td>\n",
       "      <td>In Catan (formerly The Settlers of Catan), pla...</td>\n",
       "      <td>1995</td>\n",
       "      <td>3</td>\n",
       "      <td>4</td>\n",
       "      <td>[OrderedDict([('@numplayers', '1'), ('result',...</td>\n",
       "      <td>...</td>\n",
       "      <td>381</td>\n",
       "      <td>1.47908</td>\n",
       "      <td>0</td>\n",
       "      <td>144656</td>\n",
       "      <td>1825</td>\n",
       "      <td>474</td>\n",
       "      <td>5310</td>\n",
       "      <td>17859</td>\n",
       "      <td>7187</td>\n",
       "      <td>2.3264</td>\n",
       "    </tr>\n",
       "  </tbody>\n",
       "</table>\n",
       "<p>3 rows × 35 columns</p>\n",
       "</div>"
      ],
      "text/plain": [
       "        type     id                                          thumbnail  \\\n",
       "0  boardgame  30549  https://cf.geekdo-images.com/thumb/img/HEKrtpT...   \n",
       "1  boardgame    822  https://cf.geekdo-images.com/thumb/img/kqE4YJS...   \n",
       "2  boardgame     13  https://cf.geekdo-images.com/thumb/img/g8LvJsd...   \n",
       "\n",
       "                                               image      primary  \\\n",
       "0  https://cf.geekdo-images.com/original/img/j-pf...     Pandemic   \n",
       "1  https://cf.geekdo-images.com/original/img/o4p6...  Carcassonne   \n",
       "2  https://cf.geekdo-images.com/original/img/A-0y...        Catan   \n",
       "\n",
       "                                         description  yearpublished  \\\n",
       "0  In Pandemic, several virulent diseases have br...           2008   \n",
       "1  Carcassonne is a tile-placement game in which ...           2000   \n",
       "2  In Catan (formerly The Settlers of Catan), pla...           1995   \n",
       "\n",
       "   minplayers  maxplayers                              suggested_num_players  \\\n",
       "0           2           4  [OrderedDict([('@numplayers', '1'), ('result',...   \n",
       "1           2           5  [OrderedDict([('@numplayers', '1'), ('result',...   \n",
       "2           3           4  [OrderedDict([('@numplayers', '1'), ('result',...   \n",
       "\n",
       "   ... Board Game Rank   stddev  median   owned  trading  wanting wishing  \\\n",
       "0  ...              91  1.32632       0  144727     2191      640    8571   \n",
       "1  ...             173  1.30369       0  140066     1587      539    6286   \n",
       "2  ...             381  1.47908       0  144656     1825      474    5310   \n",
       "\n",
       "  numcomments numweights averageweight  \n",
       "0       15778       5232        2.4148  \n",
       "1       17720       7304        1.9158  \n",
       "2       17859       7187        2.3264  \n",
       "\n",
       "[3 rows x 35 columns]"
      ]
     },
     "execution_count": 9,
     "metadata": {},
     "output_type": "execute_result"
    }
   ],
   "source": [
    "games1.head(3)"
   ]
  },
  {
   "cell_type": "code",
   "execution_count": 10,
   "metadata": {
    "scrolled": true
   },
   "outputs": [
    {
     "name": "stdout",
     "output_type": "stream",
     "text": [
      "Row: thumbnail : is made 0.001% of NaN Values.\n",
      "Row: image : is made 0.001% of NaN Values.\n",
      "Row: description : is made 0.0% of NaN Values.\n",
      "Row: suggested_playerage : is made 0.122% of NaN Values.\n",
      "Row: suggested_language_dependence : is made 0.134% of NaN Values.\n",
      "Row: boardgamecategory : is made 0.011% of NaN Values.\n",
      "Row: boardgamemechanic : is made 0.081% of NaN Values.\n",
      "Row: boardgamefamily : is made 0.233% of NaN Values.\n",
      "Row: boardgamedesigner : is made 0.022% of NaN Values.\n",
      "Row: boardgameartist : is made 0.281% of NaN Values.\n"
     ]
    }
   ],
   "source": [
    "columns_w_nan(games1)"
   ]
  },
  {
   "cell_type": "code",
   "execution_count": 11,
   "metadata": {},
   "outputs": [],
   "source": [
    "# Solution for the remaining NaN values, get the data from other websites + merge using FuzzyWuzzy or TensorFlow\n",
    "# Do NLP on description?"
   ]
  },
  {
   "cell_type": "markdown",
   "metadata": {},
   "source": [
    "### EDA \"bgg_reviews\""
   ]
  },
  {
   "cell_type": "code",
   "execution_count": 12,
   "metadata": {},
   "outputs": [
    {
     "name": "stdout",
     "output_type": "stream",
     "text": [
      "Dataset shape is:  (15823269, 6)\n",
      "Dataset size is:  94939614\n",
      "0\n",
      "Dataset columns are:  Index(['Unnamed: 0', 'user', 'rating', 'comment', 'ID', 'name'], dtype='object')\n",
      "<class 'pandas.core.frame.DataFrame'>\n",
      "RangeIndex: 15823269 entries, 0 to 15823268\n",
      "Data columns (total 6 columns):\n",
      " #   Column      Dtype  \n",
      "---  ------      -----  \n",
      " 0   Unnamed: 0  int64  \n",
      " 1   user        object \n",
      " 2   rating      float64\n",
      " 3   comment     object \n",
      " 4   ID          int64  \n",
      " 5   name        object \n",
      "dtypes: float64(1), int64(2), object(3)\n",
      "memory usage: 724.3+ MB\n",
      "Dataset info is:  None\n",
      "Categorical variables are:\n",
      "  ['user', 'comment', 'name']\n",
      "Numerical variables are:\n",
      "  ['Unnamed: 0', 'rating', 'ID']\n"
     ]
    },
    {
     "data": {
      "text/plain": [
       "(['user', 'comment', 'name'], ['Unnamed: 0', 'rating', 'ID'])"
      ]
     },
     "execution_count": 12,
     "metadata": {},
     "output_type": "execute_result"
    }
   ],
   "source": [
    "basic_info(bgg_reviews)"
   ]
  },
  {
   "cell_type": "code",
   "execution_count": 13,
   "metadata": {
    "scrolled": true
   },
   "outputs": [
    {
     "name": "stdout",
     "output_type": "stream",
     "text": [
      "Row: user : is made 0.0% of NaN Values.\n",
      "Row: comment : is made 0.811% of NaN Values.\n",
      "\n",
      "['comment']\n",
      "\n",
      "[0.8107203385090653]\n"
     ]
    }
   ],
   "source": [
    "columns_w_nan(bgg_reviews)"
   ]
  },
  {
   "cell_type": "code",
   "execution_count": 14,
   "metadata": {
    "scrolled": false
   },
   "outputs": [
    {
     "data": {
      "text/html": [
       "<div>\n",
       "<style scoped>\n",
       "    .dataframe tbody tr th:only-of-type {\n",
       "        vertical-align: middle;\n",
       "    }\n",
       "\n",
       "    .dataframe tbody tr th {\n",
       "        vertical-align: top;\n",
       "    }\n",
       "\n",
       "    .dataframe thead th {\n",
       "        text-align: right;\n",
       "    }\n",
       "</style>\n",
       "<table border=\"1\" class=\"dataframe\">\n",
       "  <thead>\n",
       "    <tr style=\"text-align: right;\">\n",
       "      <th></th>\n",
       "      <th>Unnamed: 0</th>\n",
       "      <th>user</th>\n",
       "      <th>rating</th>\n",
       "      <th>comment</th>\n",
       "      <th>ID</th>\n",
       "      <th>name</th>\n",
       "    </tr>\n",
       "  </thead>\n",
       "  <tbody>\n",
       "    <tr>\n",
       "      <th>15823266</th>\n",
       "      <td>15823266</td>\n",
       "      <td>BunkerBill</td>\n",
       "      <td>7.0</td>\n",
       "      <td>NaN</td>\n",
       "      <td>281515</td>\n",
       "      <td>Company of Heroes</td>\n",
       "    </tr>\n",
       "    <tr>\n",
       "      <th>15823267</th>\n",
       "      <td>15823267</td>\n",
       "      <td>Hattori Hanzo</td>\n",
       "      <td>6.0</td>\n",
       "      <td>NaN</td>\n",
       "      <td>281515</td>\n",
       "      <td>Company of Heroes</td>\n",
       "    </tr>\n",
       "    <tr>\n",
       "      <th>15823268</th>\n",
       "      <td>15823268</td>\n",
       "      <td>Richie2000</td>\n",
       "      <td>1.0</td>\n",
       "      <td>NaN</td>\n",
       "      <td>281515</td>\n",
       "      <td>Company of Heroes</td>\n",
       "    </tr>\n",
       "  </tbody>\n",
       "</table>\n",
       "</div>"
      ],
      "text/plain": [
       "          Unnamed: 0           user  rating comment      ID               name\n",
       "15823266    15823266     BunkerBill     7.0     NaN  281515  Company of Heroes\n",
       "15823267    15823267  Hattori Hanzo     6.0     NaN  281515  Company of Heroes\n",
       "15823268    15823268     Richie2000     1.0     NaN  281515  Company of Heroes"
      ]
     },
     "execution_count": 14,
     "metadata": {},
     "output_type": "execute_result"
    }
   ],
   "source": [
    "bgg_reviews.tail(3)"
   ]
  },
  {
   "cell_type": "code",
   "execution_count": 15,
   "metadata": {},
   "outputs": [],
   "source": [
    "bgg_reviews = bgg_reviews.drop(columns=['Unnamed: 0'])"
   ]
  },
  {
   "cell_type": "code",
   "execution_count": 16,
   "metadata": {},
   "outputs": [
    {
     "data": {
      "text/html": [
       "<div>\n",
       "<style scoped>\n",
       "    .dataframe tbody tr th:only-of-type {\n",
       "        vertical-align: middle;\n",
       "    }\n",
       "\n",
       "    .dataframe tbody tr th {\n",
       "        vertical-align: top;\n",
       "    }\n",
       "\n",
       "    .dataframe thead th {\n",
       "        text-align: right;\n",
       "    }\n",
       "</style>\n",
       "<table border=\"1\" class=\"dataframe\">\n",
       "  <thead>\n",
       "    <tr style=\"text-align: right;\">\n",
       "      <th></th>\n",
       "      <th>user</th>\n",
       "      <th>rating</th>\n",
       "      <th>comment</th>\n",
       "      <th>ID</th>\n",
       "      <th>name</th>\n",
       "    </tr>\n",
       "  </thead>\n",
       "  <tbody>\n",
       "    <tr>\n",
       "      <th>0</th>\n",
       "      <td>Torsten</td>\n",
       "      <td>10.0</td>\n",
       "      <td>NaN</td>\n",
       "      <td>30549</td>\n",
       "      <td>Pandemic</td>\n",
       "    </tr>\n",
       "    <tr>\n",
       "      <th>1</th>\n",
       "      <td>mitnachtKAUBO-I</td>\n",
       "      <td>10.0</td>\n",
       "      <td>Hands down my favorite new game of BGG CON 200...</td>\n",
       "      <td>30549</td>\n",
       "      <td>Pandemic</td>\n",
       "    </tr>\n",
       "    <tr>\n",
       "      <th>2</th>\n",
       "      <td>avlawn</td>\n",
       "      <td>10.0</td>\n",
       "      <td>I tend to either love or easily tire of co-op ...</td>\n",
       "      <td>30549</td>\n",
       "      <td>Pandemic</td>\n",
       "    </tr>\n",
       "  </tbody>\n",
       "</table>\n",
       "</div>"
      ],
      "text/plain": [
       "              user  rating                                            comment  \\\n",
       "0          Torsten    10.0                                                NaN   \n",
       "1  mitnachtKAUBO-I    10.0  Hands down my favorite new game of BGG CON 200...   \n",
       "2           avlawn    10.0  I tend to either love or easily tire of co-op ...   \n",
       "\n",
       "      ID      name  \n",
       "0  30549  Pandemic  \n",
       "1  30549  Pandemic  \n",
       "2  30549  Pandemic  "
      ]
     },
     "execution_count": 16,
     "metadata": {},
     "output_type": "execute_result"
    }
   ],
   "source": [
    "bgg_reviews.head(3)"
   ]
  },
  {
   "cell_type": "code",
   "execution_count": 17,
   "metadata": {},
   "outputs": [
    {
     "data": {
      "text/plain": [
       "7.00000    3566154\n",
       "8.00000    3002815\n",
       "6.00000    2346047\n",
       "9.00000    1424911\n",
       "5.00000    1077762\n",
       "            ...   \n",
       "3.53562          1\n",
       "4.43100          1\n",
       "6.89150          1\n",
       "1.71687          1\n",
       "7.29160          1\n",
       "Name: rating, Length: 10172, dtype: int64"
      ]
     },
     "execution_count": 17,
     "metadata": {},
     "output_type": "execute_result"
    }
   ],
   "source": [
    "bgg_reviews['rating'].value_counts()"
   ]
  },
  {
   "cell_type": "code",
   "execution_count": 18,
   "metadata": {},
   "outputs": [],
   "source": [
    "a = bgg_reviews['name'].value_counts()"
   ]
  },
  {
   "cell_type": "code",
   "execution_count": 19,
   "metadata": {},
   "outputs": [
    {
     "data": {
      "text/plain": [
       "Pandemic                                                       96234\n",
       "Carcassonne                                                    96221\n",
       "Catan                                                          96185\n",
       "7 Wonders                                                      79870\n",
       "Dominion                                                       74954\n",
       "                                                               ...  \n",
       "Diary of a Wimpy Kid: Zoo-Wee Mama Card Game                      30\n",
       "Hot Seat                                                          30\n",
       "Epées de France                                                   30\n",
       "Napoleon Dynamite: It's Pretty Much My Favorite Animal Game       30\n",
       "Abbeville 1940                                                    30\n",
       "Name: name, Length: 18984, dtype: int64"
      ]
     },
     "execution_count": 19,
     "metadata": {},
     "output_type": "execute_result"
    }
   ],
   "source": [
    "a"
   ]
  },
  {
   "cell_type": "code",
   "execution_count": 20,
   "metadata": {},
   "outputs": [],
   "source": [
    "a = pd.DataFrame(a)"
   ]
  },
  {
   "cell_type": "code",
   "execution_count": 21,
   "metadata": {},
   "outputs": [
    {
     "data": {
      "text/html": [
       "<div>\n",
       "<style scoped>\n",
       "    .dataframe tbody tr th:only-of-type {\n",
       "        vertical-align: middle;\n",
       "    }\n",
       "\n",
       "    .dataframe tbody tr th {\n",
       "        vertical-align: top;\n",
       "    }\n",
       "\n",
       "    .dataframe thead th {\n",
       "        text-align: right;\n",
       "    }\n",
       "</style>\n",
       "<table border=\"1\" class=\"dataframe\">\n",
       "  <thead>\n",
       "    <tr style=\"text-align: right;\">\n",
       "      <th></th>\n",
       "      <th>name</th>\n",
       "    </tr>\n",
       "  </thead>\n",
       "  <tbody>\n",
       "    <tr>\n",
       "      <th>Pandemic</th>\n",
       "      <td>96234</td>\n",
       "    </tr>\n",
       "    <tr>\n",
       "      <th>Carcassonne</th>\n",
       "      <td>96221</td>\n",
       "    </tr>\n",
       "    <tr>\n",
       "      <th>Catan</th>\n",
       "      <td>96185</td>\n",
       "    </tr>\n",
       "  </tbody>\n",
       "</table>\n",
       "</div>"
      ],
      "text/plain": [
       "              name\n",
       "Pandemic     96234\n",
       "Carcassonne  96221\n",
       "Catan        96185"
      ]
     },
     "execution_count": 21,
     "metadata": {},
     "output_type": "execute_result"
    }
   ],
   "source": [
    "a.head(3)"
   ]
  },
  {
   "cell_type": "code",
   "execution_count": 22,
   "metadata": {},
   "outputs": [],
   "source": [
    "a.columns = ['n_reviews']"
   ]
  },
  {
   "cell_type": "code",
   "execution_count": 23,
   "metadata": {},
   "outputs": [
    {
     "data": {
      "text/plain": [
       "n_reviews\n",
       "30           276\n",
       "31           261\n",
       "32           248\n",
       "33           238\n",
       "34           234\n",
       "            ... \n",
       "2350           1\n",
       "2349           1\n",
       "2347           1\n",
       "2346           1\n",
       "96234          1\n",
       "Length: 2858, dtype: int64"
      ]
     },
     "execution_count": 23,
     "metadata": {},
     "output_type": "execute_result"
    }
   ],
   "source": [
    "a.value_counts()\n",
    "# Investigate high number of low number of reviews\n",
    "## Small games?\n",
    "## Glitch?"
   ]
  },
  {
   "cell_type": "markdown",
   "metadata": {},
   "source": [
    "### EDA \"testezinho\""
   ]
  },
  {
   "cell_type": "code",
   "execution_count": 24,
   "metadata": {},
   "outputs": [
    {
     "name": "stdout",
     "output_type": "stream",
     "text": [
      "Dataset shape is:  (19330, 10)\n",
      "Dataset size is:  193300\n",
      "0\n",
      "Dataset columns are:  Index(['Unnamed: 0', 'ID', 'Name', 'Year', 'Rank', 'Average', 'Bayes average',\n",
      "       'Users rated', 'URL', 'Thumbnail'],\n",
      "      dtype='object')\n",
      "<class 'pandas.core.frame.DataFrame'>\n",
      "RangeIndex: 19330 entries, 0 to 19329\n",
      "Data columns (total 10 columns):\n",
      " #   Column         Non-Null Count  Dtype  \n",
      "---  ------         --------------  -----  \n",
      " 0   Unnamed: 0     19330 non-null  int64  \n",
      " 1   ID             19330 non-null  int64  \n",
      " 2   Name           19330 non-null  object \n",
      " 3   Year           19330 non-null  int64  \n",
      " 4   Rank           19330 non-null  int64  \n",
      " 5   Average        19330 non-null  float64\n",
      " 6   Bayes average  19330 non-null  float64\n",
      " 7   Users rated    19330 non-null  int64  \n",
      " 8   URL            19330 non-null  object \n",
      " 9   Thumbnail      19317 non-null  object \n",
      "dtypes: float64(2), int64(5), object(3)\n",
      "memory usage: 1.5+ MB\n",
      "Dataset info is:  None\n",
      "Categorical variables are:\n",
      "  ['Name', 'URL', 'Thumbnail']\n",
      "Numerical variables are:\n",
      "  ['Unnamed: 0', 'ID', 'Year', 'Rank', 'Average', 'Bayes average', 'Users rated']\n"
     ]
    },
    {
     "data": {
      "text/plain": [
       "(['Name', 'URL', 'Thumbnail'],\n",
       " ['Unnamed: 0',\n",
       "  'ID',\n",
       "  'Year',\n",
       "  'Rank',\n",
       "  'Average',\n",
       "  'Bayes average',\n",
       "  'Users rated'])"
      ]
     },
     "execution_count": 24,
     "metadata": {},
     "output_type": "execute_result"
    }
   ],
   "source": [
    "basic_info(testezinho)"
   ]
  },
  {
   "cell_type": "code",
   "execution_count": 25,
   "metadata": {},
   "outputs": [
    {
     "name": "stdout",
     "output_type": "stream",
     "text": [
      "Row: Thumbnail : is made 0.001% of NaN Values.\n"
     ]
    }
   ],
   "source": [
    "columns_w_nan(testezinho)"
   ]
  },
  {
   "cell_type": "code",
   "execution_count": 26,
   "metadata": {
    "scrolled": false
   },
   "outputs": [
    {
     "data": {
      "text/html": [
       "<div>\n",
       "<style scoped>\n",
       "    .dataframe tbody tr th:only-of-type {\n",
       "        vertical-align: middle;\n",
       "    }\n",
       "\n",
       "    .dataframe tbody tr th {\n",
       "        vertical-align: top;\n",
       "    }\n",
       "\n",
       "    .dataframe thead th {\n",
       "        text-align: right;\n",
       "    }\n",
       "</style>\n",
       "<table border=\"1\" class=\"dataframe\">\n",
       "  <thead>\n",
       "    <tr style=\"text-align: right;\">\n",
       "      <th></th>\n",
       "      <th>Unnamed: 0</th>\n",
       "      <th>ID</th>\n",
       "      <th>Name</th>\n",
       "      <th>Year</th>\n",
       "      <th>Rank</th>\n",
       "      <th>Average</th>\n",
       "      <th>Bayes average</th>\n",
       "      <th>Users rated</th>\n",
       "      <th>URL</th>\n",
       "      <th>Thumbnail</th>\n",
       "    </tr>\n",
       "  </thead>\n",
       "  <tbody>\n",
       "    <tr>\n",
       "      <th>0</th>\n",
       "      <td>90</td>\n",
       "      <td>30549</td>\n",
       "      <td>Pandemic</td>\n",
       "      <td>2008</td>\n",
       "      <td>91</td>\n",
       "      <td>7.62</td>\n",
       "      <td>7.518</td>\n",
       "      <td>96186</td>\n",
       "      <td>/boardgame/30549/pandemic</td>\n",
       "      <td>https://cf.geekdo-images.com/micro/img/0m3-oqB...</td>\n",
       "    </tr>\n",
       "    <tr>\n",
       "      <th>1</th>\n",
       "      <td>172</td>\n",
       "      <td>822</td>\n",
       "      <td>Carcassonne</td>\n",
       "      <td>2000</td>\n",
       "      <td>173</td>\n",
       "      <td>7.42</td>\n",
       "      <td>7.311</td>\n",
       "      <td>96181</td>\n",
       "      <td>/boardgame/822/carcassonne</td>\n",
       "      <td>https://cf.geekdo-images.com/micro/img/z0tTaij...</td>\n",
       "    </tr>\n",
       "    <tr>\n",
       "      <th>2</th>\n",
       "      <td>380</td>\n",
       "      <td>13</td>\n",
       "      <td>Catan</td>\n",
       "      <td>1995</td>\n",
       "      <td>381</td>\n",
       "      <td>7.16</td>\n",
       "      <td>7.001</td>\n",
       "      <td>96171</td>\n",
       "      <td>/boardgame/13/catan</td>\n",
       "      <td>https://cf.geekdo-images.com/micro/img/e0y6Bog...</td>\n",
       "    </tr>\n",
       "  </tbody>\n",
       "</table>\n",
       "</div>"
      ],
      "text/plain": [
       "   Unnamed: 0     ID         Name  Year  Rank  Average  Bayes average  \\\n",
       "0          90  30549     Pandemic  2008    91     7.62          7.518   \n",
       "1         172    822  Carcassonne  2000   173     7.42          7.311   \n",
       "2         380     13        Catan  1995   381     7.16          7.001   \n",
       "\n",
       "   Users rated                         URL  \\\n",
       "0        96186   /boardgame/30549/pandemic   \n",
       "1        96181  /boardgame/822/carcassonne   \n",
       "2        96171         /boardgame/13/catan   \n",
       "\n",
       "                                           Thumbnail  \n",
       "0  https://cf.geekdo-images.com/micro/img/0m3-oqB...  \n",
       "1  https://cf.geekdo-images.com/micro/img/z0tTaij...  \n",
       "2  https://cf.geekdo-images.com/micro/img/e0y6Bog...  "
      ]
     },
     "execution_count": 26,
     "metadata": {},
     "output_type": "execute_result"
    }
   ],
   "source": [
    "testezinho.head(3)"
   ]
  },
  {
   "cell_type": "code",
   "execution_count": 27,
   "metadata": {},
   "outputs": [],
   "source": [
    "testezinho = testezinho.drop(columns=['Unnamed: 0', 'Thumbnail'])"
   ]
  },
  {
   "cell_type": "markdown",
   "metadata": {},
   "source": [
    "### Our final situation for the datasets:"
   ]
  },
  {
   "cell_type": "code",
   "execution_count": 28,
   "metadata": {},
   "outputs": [
    {
     "data": {
      "text/html": [
       "<div>\n",
       "<style scoped>\n",
       "    .dataframe tbody tr th:only-of-type {\n",
       "        vertical-align: middle;\n",
       "    }\n",
       "\n",
       "    .dataframe tbody tr th {\n",
       "        vertical-align: top;\n",
       "    }\n",
       "\n",
       "    .dataframe thead th {\n",
       "        text-align: right;\n",
       "    }\n",
       "</style>\n",
       "<table border=\"1\" class=\"dataframe\">\n",
       "  <thead>\n",
       "    <tr style=\"text-align: right;\">\n",
       "      <th></th>\n",
       "      <th>ID</th>\n",
       "      <th>Name</th>\n",
       "      <th>Year</th>\n",
       "      <th>Rank</th>\n",
       "      <th>Average</th>\n",
       "      <th>Bayes average</th>\n",
       "      <th>Users rated</th>\n",
       "      <th>URL</th>\n",
       "    </tr>\n",
       "  </thead>\n",
       "  <tbody>\n",
       "    <tr>\n",
       "      <th>0</th>\n",
       "      <td>30549</td>\n",
       "      <td>Pandemic</td>\n",
       "      <td>2008</td>\n",
       "      <td>91</td>\n",
       "      <td>7.62</td>\n",
       "      <td>7.518</td>\n",
       "      <td>96186</td>\n",
       "      <td>/boardgame/30549/pandemic</td>\n",
       "    </tr>\n",
       "    <tr>\n",
       "      <th>1</th>\n",
       "      <td>822</td>\n",
       "      <td>Carcassonne</td>\n",
       "      <td>2000</td>\n",
       "      <td>173</td>\n",
       "      <td>7.42</td>\n",
       "      <td>7.311</td>\n",
       "      <td>96181</td>\n",
       "      <td>/boardgame/822/carcassonne</td>\n",
       "    </tr>\n",
       "  </tbody>\n",
       "</table>\n",
       "</div>"
      ],
      "text/plain": [
       "      ID         Name  Year  Rank  Average  Bayes average  Users rated  \\\n",
       "0  30549     Pandemic  2008    91     7.62          7.518        96186   \n",
       "1    822  Carcassonne  2000   173     7.42          7.311        96181   \n",
       "\n",
       "                          URL  \n",
       "0   /boardgame/30549/pandemic  \n",
       "1  /boardgame/822/carcassonne  "
      ]
     },
     "execution_count": 28,
     "metadata": {},
     "output_type": "execute_result"
    }
   ],
   "source": [
    "testezinho.head(2)"
   ]
  },
  {
   "cell_type": "code",
   "execution_count": 29,
   "metadata": {},
   "outputs": [
    {
     "data": {
      "text/html": [
       "<div>\n",
       "<style scoped>\n",
       "    .dataframe tbody tr th:only-of-type {\n",
       "        vertical-align: middle;\n",
       "    }\n",
       "\n",
       "    .dataframe tbody tr th {\n",
       "        vertical-align: top;\n",
       "    }\n",
       "\n",
       "    .dataframe thead th {\n",
       "        text-align: right;\n",
       "    }\n",
       "</style>\n",
       "<table border=\"1\" class=\"dataframe\">\n",
       "  <thead>\n",
       "    <tr style=\"text-align: right;\">\n",
       "      <th></th>\n",
       "      <th>user</th>\n",
       "      <th>rating</th>\n",
       "      <th>comment</th>\n",
       "      <th>ID</th>\n",
       "      <th>name</th>\n",
       "    </tr>\n",
       "  </thead>\n",
       "  <tbody>\n",
       "    <tr>\n",
       "      <th>0</th>\n",
       "      <td>Torsten</td>\n",
       "      <td>10.0</td>\n",
       "      <td>NaN</td>\n",
       "      <td>30549</td>\n",
       "      <td>Pandemic</td>\n",
       "    </tr>\n",
       "    <tr>\n",
       "      <th>1</th>\n",
       "      <td>mitnachtKAUBO-I</td>\n",
       "      <td>10.0</td>\n",
       "      <td>Hands down my favorite new game of BGG CON 200...</td>\n",
       "      <td>30549</td>\n",
       "      <td>Pandemic</td>\n",
       "    </tr>\n",
       "  </tbody>\n",
       "</table>\n",
       "</div>"
      ],
      "text/plain": [
       "              user  rating                                            comment  \\\n",
       "0          Torsten    10.0                                                NaN   \n",
       "1  mitnachtKAUBO-I    10.0  Hands down my favorite new game of BGG CON 200...   \n",
       "\n",
       "      ID      name  \n",
       "0  30549  Pandemic  \n",
       "1  30549  Pandemic  "
      ]
     },
     "execution_count": 29,
     "metadata": {},
     "output_type": "execute_result"
    }
   ],
   "source": [
    "bgg_reviews.head(2)"
   ]
  },
  {
   "cell_type": "code",
   "execution_count": 30,
   "metadata": {
    "scrolled": false
   },
   "outputs": [
    {
     "data": {
      "text/html": [
       "<div>\n",
       "<style scoped>\n",
       "    .dataframe tbody tr th:only-of-type {\n",
       "        vertical-align: middle;\n",
       "    }\n",
       "\n",
       "    .dataframe tbody tr th {\n",
       "        vertical-align: top;\n",
       "    }\n",
       "\n",
       "    .dataframe thead th {\n",
       "        text-align: right;\n",
       "    }\n",
       "</style>\n",
       "<table border=\"1\" class=\"dataframe\">\n",
       "  <thead>\n",
       "    <tr style=\"text-align: right;\">\n",
       "      <th></th>\n",
       "      <th>type</th>\n",
       "      <th>id</th>\n",
       "      <th>thumbnail</th>\n",
       "      <th>image</th>\n",
       "      <th>primary</th>\n",
       "      <th>description</th>\n",
       "      <th>yearpublished</th>\n",
       "      <th>minplayers</th>\n",
       "      <th>maxplayers</th>\n",
       "      <th>suggested_num_players</th>\n",
       "      <th>...</th>\n",
       "      <th>Board Game Rank</th>\n",
       "      <th>stddev</th>\n",
       "      <th>median</th>\n",
       "      <th>owned</th>\n",
       "      <th>trading</th>\n",
       "      <th>wanting</th>\n",
       "      <th>wishing</th>\n",
       "      <th>numcomments</th>\n",
       "      <th>numweights</th>\n",
       "      <th>averageweight</th>\n",
       "    </tr>\n",
       "  </thead>\n",
       "  <tbody>\n",
       "    <tr>\n",
       "      <th>0</th>\n",
       "      <td>boardgame</td>\n",
       "      <td>30549</td>\n",
       "      <td>https://cf.geekdo-images.com/thumb/img/HEKrtpT...</td>\n",
       "      <td>https://cf.geekdo-images.com/original/img/j-pf...</td>\n",
       "      <td>Pandemic</td>\n",
       "      <td>In Pandemic, several virulent diseases have br...</td>\n",
       "      <td>2008</td>\n",
       "      <td>2</td>\n",
       "      <td>4</td>\n",
       "      <td>[OrderedDict([('@numplayers', '1'), ('result',...</td>\n",
       "      <td>...</td>\n",
       "      <td>91</td>\n",
       "      <td>1.32632</td>\n",
       "      <td>0</td>\n",
       "      <td>144727</td>\n",
       "      <td>2191</td>\n",
       "      <td>640</td>\n",
       "      <td>8571</td>\n",
       "      <td>15778</td>\n",
       "      <td>5232</td>\n",
       "      <td>2.4148</td>\n",
       "    </tr>\n",
       "    <tr>\n",
       "      <th>1</th>\n",
       "      <td>boardgame</td>\n",
       "      <td>822</td>\n",
       "      <td>https://cf.geekdo-images.com/thumb/img/kqE4YJS...</td>\n",
       "      <td>https://cf.geekdo-images.com/original/img/o4p6...</td>\n",
       "      <td>Carcassonne</td>\n",
       "      <td>Carcassonne is a tile-placement game in which ...</td>\n",
       "      <td>2000</td>\n",
       "      <td>2</td>\n",
       "      <td>5</td>\n",
       "      <td>[OrderedDict([('@numplayers', '1'), ('result',...</td>\n",
       "      <td>...</td>\n",
       "      <td>173</td>\n",
       "      <td>1.30369</td>\n",
       "      <td>0</td>\n",
       "      <td>140066</td>\n",
       "      <td>1587</td>\n",
       "      <td>539</td>\n",
       "      <td>6286</td>\n",
       "      <td>17720</td>\n",
       "      <td>7304</td>\n",
       "      <td>1.9158</td>\n",
       "    </tr>\n",
       "  </tbody>\n",
       "</table>\n",
       "<p>2 rows × 35 columns</p>\n",
       "</div>"
      ],
      "text/plain": [
       "        type     id                                          thumbnail  \\\n",
       "0  boardgame  30549  https://cf.geekdo-images.com/thumb/img/HEKrtpT...   \n",
       "1  boardgame    822  https://cf.geekdo-images.com/thumb/img/kqE4YJS...   \n",
       "\n",
       "                                               image      primary  \\\n",
       "0  https://cf.geekdo-images.com/original/img/j-pf...     Pandemic   \n",
       "1  https://cf.geekdo-images.com/original/img/o4p6...  Carcassonne   \n",
       "\n",
       "                                         description  yearpublished  \\\n",
       "0  In Pandemic, several virulent diseases have br...           2008   \n",
       "1  Carcassonne is a tile-placement game in which ...           2000   \n",
       "\n",
       "   minplayers  maxplayers                              suggested_num_players  \\\n",
       "0           2           4  [OrderedDict([('@numplayers', '1'), ('result',...   \n",
       "1           2           5  [OrderedDict([('@numplayers', '1'), ('result',...   \n",
       "\n",
       "   ... Board Game Rank   stddev  median   owned  trading  wanting wishing  \\\n",
       "0  ...              91  1.32632       0  144727     2191      640    8571   \n",
       "1  ...             173  1.30369       0  140066     1587      539    6286   \n",
       "\n",
       "  numcomments numweights averageweight  \n",
       "0       15778       5232        2.4148  \n",
       "1       17720       7304        1.9158  \n",
       "\n",
       "[2 rows x 35 columns]"
      ]
     },
     "execution_count": 30,
     "metadata": {},
     "output_type": "execute_result"
    }
   ],
   "source": [
    "games1.head(2)"
   ]
  },
  {
   "cell_type": "code",
   "execution_count": 31,
   "metadata": {},
   "outputs": [],
   "source": [
    "# Fazer uma tabela com pesos baseados em Owned, trading e etc. Por exemplo, Owned significa que a pessoa ainda tem e \n",
    "# quer mostrar que tem, entao +0.3, trading significa que o jogo talvez nao tenha tanta replayability/showcase, entao seria -0.5"
   ]
  },
  {
   "cell_type": "markdown",
   "metadata": {},
   "source": [
    "Ideas:"
   ]
  },
  {
   "cell_type": "markdown",
   "metadata": {},
   "source": [
    "I use the TMDB Ratings to come up with our Top Movies Chart. I will use IMDB's weighted rating formula to construct my chart. Mathematically, it is represented as follows:\n",
    "\n",
    "Weighted Rating (WR) =  (vv+m.R)+(mv+m.C) \n",
    "where,\n",
    "\n",
    "v is the number of votes for the movie\n",
    "m is the minimum votes required to be listed in the chart\n",
    "R is the average rating of the movie\n",
    "C is the mean vote across the whole report\n",
    "The next step is to determine an appropriate value for m, the minimum votes required to be listed in the chart. We will use 95th percentile as our cutoff. In other words, for a movie to feature in the charts, it must have more votes than at least 95% of the movies in the list.\n",
    "\n",
    "I will build our overall Top 250 Chart and will define a function to build charts for a particular genre. Let's begin!"
   ]
  },
  {
   "cell_type": "markdown",
   "metadata": {},
   "source": [
    "- Make 3 types of recommenders\n",
    "- Decide which one is the best\n",
    "- Build the same recommenders with weighted rating\n",
    "- Make a function that get more than one movie\n"
   ]
  },
  {
   "cell_type": "markdown",
   "metadata": {},
   "source": [
    "Level-ups:"
   ]
  },
  {
   "cell_type": "markdown",
   "metadata": {},
   "source": [
    "- Flask deployment\n",
    "- Sentiment Analysis / NLP on the Manual/Review?\n",
    "- Feedback system \n",
    "- PCA?\n"
   ]
  },
  {
   "cell_type": "markdown",
   "metadata": {},
   "source": [
    "LAS or Surprise"
   ]
  },
  {
   "cell_type": "markdown",
   "metadata": {},
   "source": [
    "- Find a way to replace names for ID's"
   ]
  },
  {
   "cell_type": "markdown",
   "metadata": {},
   "source": [
    "### Making the rec system"
   ]
  },
  {
   "cell_type": "code",
   "execution_count": 32,
   "metadata": {},
   "outputs": [],
   "source": [
    "reviews_new = bgg_reviews.sort_values(by=['user'])"
   ]
  },
  {
   "cell_type": "code",
   "execution_count": 33,
   "metadata": {
    "scrolled": true
   },
   "outputs": [
    {
     "data": {
      "text/plain": [
       "user             66\n",
       "rating            0\n",
       "comment    12828246\n",
       "ID                0\n",
       "name              0\n",
       "dtype: int64"
      ]
     },
     "execution_count": 33,
     "metadata": {},
     "output_type": "execute_result"
    }
   ],
   "source": [
    "reviews_new.isna().sum()"
   ]
  },
  {
   "cell_type": "code",
   "execution_count": 34,
   "metadata": {
    "scrolled": false
   },
   "outputs": [
    {
     "data": {
      "text/plain": [
       "(15823269, 5)"
      ]
     },
     "execution_count": 34,
     "metadata": {},
     "output_type": "execute_result"
    }
   ],
   "source": [
    "reviews_new.shape"
   ]
  },
  {
   "cell_type": "code",
   "execution_count": 35,
   "metadata": {
    "scrolled": true
   },
   "outputs": [
    {
     "data": {
      "text/plain": [
       "15823203"
      ]
     },
     "execution_count": 35,
     "metadata": {},
     "output_type": "execute_result"
    }
   ],
   "source": [
    "15823269-66"
   ]
  },
  {
   "cell_type": "code",
   "execution_count": 36,
   "metadata": {
    "scrolled": true
   },
   "outputs": [],
   "source": [
    "reviews_new = reviews_new[0:15823203]"
   ]
  },
  {
   "cell_type": "code",
   "execution_count": 37,
   "metadata": {},
   "outputs": [
    {
     "data": {
      "text/plain": [
       "user              0\n",
       "rating            0\n",
       "comment    12828180\n",
       "ID                0\n",
       "name              0\n",
       "dtype: int64"
      ]
     },
     "execution_count": 37,
     "metadata": {},
     "output_type": "execute_result"
    }
   ],
   "source": [
    "reviews_new.isna().sum()"
   ]
  },
  {
   "cell_type": "markdown",
   "metadata": {},
   "source": [
    "To check reviews based on a user:"
   ]
  },
  {
   "cell_type": "code",
   "execution_count": 38,
   "metadata": {
    "scrolled": true
   },
   "outputs": [
    {
     "data": {
      "text/html": [
       "<div>\n",
       "<style scoped>\n",
       "    .dataframe tbody tr th:only-of-type {\n",
       "        vertical-align: middle;\n",
       "    }\n",
       "\n",
       "    .dataframe tbody tr th {\n",
       "        vertical-align: top;\n",
       "    }\n",
       "\n",
       "    .dataframe thead th {\n",
       "        text-align: right;\n",
       "    }\n",
       "</style>\n",
       "<table border=\"1\" class=\"dataframe\">\n",
       "  <thead>\n",
       "    <tr style=\"text-align: right;\">\n",
       "      <th></th>\n",
       "      <th>user</th>\n",
       "      <th>rating</th>\n",
       "      <th>comment</th>\n",
       "      <th>ID</th>\n",
       "      <th>name</th>\n",
       "    </tr>\n",
       "  </thead>\n",
       "  <tbody>\n",
       "    <tr>\n",
       "      <th>13385410</th>\n",
       "      <td>Æleksandr Þræð</td>\n",
       "      <td>8.0</td>\n",
       "      <td>Interesting mix of skill, luck and beautiful c...</td>\n",
       "      <td>5451</td>\n",
       "      <td>Hanafuda</td>\n",
       "    </tr>\n",
       "    <tr>\n",
       "      <th>13387541</th>\n",
       "      <td>Æleksandr Þræð</td>\n",
       "      <td>8.0</td>\n",
       "      <td>This version of the Chez Geek Empire is a hoot...</td>\n",
       "      <td>9962</td>\n",
       "      <td>Chez Goth</td>\n",
       "    </tr>\n",
       "    <tr>\n",
       "      <th>8112769</th>\n",
       "      <td>Æleksandr Þræð</td>\n",
       "      <td>10.0</td>\n",
       "      <td>Excellent game mixing Luck and Strategy with o...</td>\n",
       "      <td>2093</td>\n",
       "      <td>Mahjong</td>\n",
       "    </tr>\n",
       "    <tr>\n",
       "      <th>12539839</th>\n",
       "      <td>Æleksandr Þræð</td>\n",
       "      <td>6.0</td>\n",
       "      <td>Excellent ancient game with different strategy...</td>\n",
       "      <td>2932</td>\n",
       "      <td>Hnefatafl</td>\n",
       "    </tr>\n",
       "    <tr>\n",
       "      <th>15185475</th>\n",
       "      <td>Æleksandr Þræð</td>\n",
       "      <td>7.0</td>\n",
       "      <td>Fun light harted game of vampire slaying.  Tho...</td>\n",
       "      <td>5554</td>\n",
       "      <td>Vampire</td>\n",
       "    </tr>\n",
       "    <tr>\n",
       "      <th>9947640</th>\n",
       "      <td>Æleksandr Þræð</td>\n",
       "      <td>9.5</td>\n",
       "      <td>What's better than fighting in large Humanoid ...</td>\n",
       "      <td>1540</td>\n",
       "      <td>BattleTech</td>\n",
       "    </tr>\n",
       "    <tr>\n",
       "      <th>3715637</th>\n",
       "      <td>Æleksandr Þræð</td>\n",
       "      <td>8.0</td>\n",
       "      <td>a more 'refined' form of Crazy-8's.  Good time...</td>\n",
       "      <td>2223</td>\n",
       "      <td>UNO</td>\n",
       "    </tr>\n",
       "    <tr>\n",
       "      <th>13514829</th>\n",
       "      <td>Æleksandr Þræð</td>\n",
       "      <td>7.0</td>\n",
       "      <td>Learned the Game at the Civ. Museum in Ottawa ...</td>\n",
       "      <td>2399</td>\n",
       "      <td>Senet</td>\n",
       "    </tr>\n",
       "    <tr>\n",
       "      <th>9162339</th>\n",
       "      <td>Æleksandr Þræð</td>\n",
       "      <td>10.0</td>\n",
       "      <td>Great Late night or Beer &amp; Pretzels game.  Ver...</td>\n",
       "      <td>553</td>\n",
       "      <td>Chez Geek</td>\n",
       "    </tr>\n",
       "    <tr>\n",
       "      <th>12353561</th>\n",
       "      <td>Æleksandr Þræð</td>\n",
       "      <td>9.0</td>\n",
       "      <td>A more in depth game than Illuminati, and the ...</td>\n",
       "      <td>1552</td>\n",
       "      <td>Illuminati: New World Order</td>\n",
       "    </tr>\n",
       "    <tr>\n",
       "      <th>7487111</th>\n",
       "      <td>Æleksandr Þræð</td>\n",
       "      <td>7.0</td>\n",
       "      <td>A good game when you are able to move. :þ</td>\n",
       "      <td>590</td>\n",
       "      <td>Mille Bornes</td>\n",
       "    </tr>\n",
       "  </tbody>\n",
       "</table>\n",
       "</div>"
      ],
      "text/plain": [
       "                    user  rating  \\\n",
       "13385410  Æleksandr Þræð     8.0   \n",
       "13387541  Æleksandr Þræð     8.0   \n",
       "8112769   Æleksandr Þræð    10.0   \n",
       "12539839  Æleksandr Þræð     6.0   \n",
       "15185475  Æleksandr Þræð     7.0   \n",
       "9947640   Æleksandr Þræð     9.5   \n",
       "3715637   Æleksandr Þræð     8.0   \n",
       "13514829  Æleksandr Þræð     7.0   \n",
       "9162339   Æleksandr Þræð    10.0   \n",
       "12353561  Æleksandr Þræð     9.0   \n",
       "7487111   Æleksandr Þræð     7.0   \n",
       "\n",
       "                                                    comment    ID  \\\n",
       "13385410  Interesting mix of skill, luck and beautiful c...  5451   \n",
       "13387541  This version of the Chez Geek Empire is a hoot...  9962   \n",
       "8112769   Excellent game mixing Luck and Strategy with o...  2093   \n",
       "12539839  Excellent ancient game with different strategy...  2932   \n",
       "15185475  Fun light harted game of vampire slaying.  Tho...  5554   \n",
       "9947640   What's better than fighting in large Humanoid ...  1540   \n",
       "3715637   a more 'refined' form of Crazy-8's.  Good time...  2223   \n",
       "13514829  Learned the Game at the Civ. Museum in Ottawa ...  2399   \n",
       "9162339   Great Late night or Beer & Pretzels game.  Ver...   553   \n",
       "12353561  A more in depth game than Illuminati, and the ...  1552   \n",
       "7487111           A good game when you are able to move. :þ   590   \n",
       "\n",
       "                                 name  \n",
       "13385410                     Hanafuda  \n",
       "13387541                    Chez Goth  \n",
       "8112769                       Mahjong  \n",
       "12539839                    Hnefatafl  \n",
       "15185475                      Vampire  \n",
       "9947640                    BattleTech  \n",
       "3715637                           UNO  \n",
       "13514829                        Senet  \n",
       "9162339                     Chez Geek  \n",
       "12353561  Illuminati: New World Order  \n",
       "7487111                  Mille Bornes  "
      ]
     },
     "execution_count": 38,
     "metadata": {},
     "output_type": "execute_result"
    }
   ],
   "source": [
    "reviews_new[reviews_new['user'] == 'Æleksandr Þræð']"
   ]
  },
  {
   "cell_type": "code",
   "execution_count": 39,
   "metadata": {},
   "outputs": [],
   "source": [
    "reviews_new1 = reviews_new.drop(columns=['comment', 'name'])"
   ]
  },
  {
   "cell_type": "code",
   "execution_count": 40,
   "metadata": {},
   "outputs": [
    {
     "data": {
      "text/html": [
       "<div>\n",
       "<style scoped>\n",
       "    .dataframe tbody tr th:only-of-type {\n",
       "        vertical-align: middle;\n",
       "    }\n",
       "\n",
       "    .dataframe tbody tr th {\n",
       "        vertical-align: top;\n",
       "    }\n",
       "\n",
       "    .dataframe thead th {\n",
       "        text-align: right;\n",
       "    }\n",
       "</style>\n",
       "<table border=\"1\" class=\"dataframe\">\n",
       "  <thead>\n",
       "    <tr style=\"text-align: right;\">\n",
       "      <th></th>\n",
       "      <th>user</th>\n",
       "      <th>rating</th>\n",
       "      <th>ID</th>\n",
       "    </tr>\n",
       "  </thead>\n",
       "  <tbody>\n",
       "    <tr>\n",
       "      <th>12589584</th>\n",
       "      <td>Fu_Koios</td>\n",
       "      <td>9.0</td>\n",
       "      <td>112092</td>\n",
       "    </tr>\n",
       "    <tr>\n",
       "      <th>15241668</th>\n",
       "      <td>Fu_Koios</td>\n",
       "      <td>9.0</td>\n",
       "      <td>223033</td>\n",
       "    </tr>\n",
       "    <tr>\n",
       "      <th>5812906</th>\n",
       "      <td>beastvol</td>\n",
       "      <td>7.0</td>\n",
       "      <td>278</td>\n",
       "    </tr>\n",
       "  </tbody>\n",
       "</table>\n",
       "</div>"
      ],
      "text/plain": [
       "                user  rating      ID\n",
       "12589584   Fu_Koios      9.0  112092\n",
       "15241668   Fu_Koios      9.0  223033\n",
       "5812906     beastvol     7.0     278"
      ]
     },
     "execution_count": 40,
     "metadata": {},
     "output_type": "execute_result"
    }
   ],
   "source": [
    "reviews_new1.head(3)"
   ]
  },
  {
   "cell_type": "code",
   "execution_count": 41,
   "metadata": {},
   "outputs": [],
   "source": [
    "### At this point I should set a threshhold for Minimum of contribuitions/reviews\n",
    "\n",
    "### Transform Users into ID's to respect the user's privacy and to make it easier to \"see\""
   ]
  },
  {
   "cell_type": "code",
   "execution_count": 42,
   "metadata": {},
   "outputs": [],
   "source": [
    "reviews_new1['user_id'] = reviews_new1['user'].astype('category').cat.codes"
   ]
  },
  {
   "cell_type": "code",
   "execution_count": 43,
   "metadata": {
    "scrolled": true
   },
   "outputs": [
    {
     "data": {
      "text/html": [
       "<div>\n",
       "<style scoped>\n",
       "    .dataframe tbody tr th:only-of-type {\n",
       "        vertical-align: middle;\n",
       "    }\n",
       "\n",
       "    .dataframe tbody tr th {\n",
       "        vertical-align: top;\n",
       "    }\n",
       "\n",
       "    .dataframe thead th {\n",
       "        text-align: right;\n",
       "    }\n",
       "</style>\n",
       "<table border=\"1\" class=\"dataframe\">\n",
       "  <thead>\n",
       "    <tr style=\"text-align: right;\">\n",
       "      <th></th>\n",
       "      <th>user</th>\n",
       "      <th>rating</th>\n",
       "      <th>ID</th>\n",
       "      <th>user_id</th>\n",
       "    </tr>\n",
       "  </thead>\n",
       "  <tbody>\n",
       "    <tr>\n",
       "      <th>12589584</th>\n",
       "      <td>Fu_Koios</td>\n",
       "      <td>9.0</td>\n",
       "      <td>112092</td>\n",
       "      <td>0</td>\n",
       "    </tr>\n",
       "    <tr>\n",
       "      <th>15241668</th>\n",
       "      <td>Fu_Koios</td>\n",
       "      <td>9.0</td>\n",
       "      <td>223033</td>\n",
       "      <td>0</td>\n",
       "    </tr>\n",
       "    <tr>\n",
       "      <th>5812906</th>\n",
       "      <td>beastvol</td>\n",
       "      <td>7.0</td>\n",
       "      <td>278</td>\n",
       "      <td>1</td>\n",
       "    </tr>\n",
       "    <tr>\n",
       "      <th>11577025</th>\n",
       "      <td>beastvol</td>\n",
       "      <td>5.0</td>\n",
       "      <td>12004</td>\n",
       "      <td>1</td>\n",
       "    </tr>\n",
       "  </tbody>\n",
       "</table>\n",
       "</div>"
      ],
      "text/plain": [
       "                user  rating      ID  user_id\n",
       "12589584   Fu_Koios      9.0  112092        0\n",
       "15241668   Fu_Koios      9.0  223033        0\n",
       "5812906     beastvol     7.0     278        1\n",
       "11577025    beastvol     5.0   12004        1"
      ]
     },
     "execution_count": 43,
     "metadata": {},
     "output_type": "execute_result"
    }
   ],
   "source": [
    "reviews_new1.head(4)"
   ]
  },
  {
   "cell_type": "code",
   "execution_count": 44,
   "metadata": {},
   "outputs": [],
   "source": [
    "reviews_new2 = reviews_new1.drop(columns='user')"
   ]
  },
  {
   "cell_type": "code",
   "execution_count": 45,
   "metadata": {
    "scrolled": false
   },
   "outputs": [
    {
     "data": {
      "text/html": [
       "<div>\n",
       "<style scoped>\n",
       "    .dataframe tbody tr th:only-of-type {\n",
       "        vertical-align: middle;\n",
       "    }\n",
       "\n",
       "    .dataframe tbody tr th {\n",
       "        vertical-align: top;\n",
       "    }\n",
       "\n",
       "    .dataframe thead th {\n",
       "        text-align: right;\n",
       "    }\n",
       "</style>\n",
       "<table border=\"1\" class=\"dataframe\">\n",
       "  <thead>\n",
       "    <tr style=\"text-align: right;\">\n",
       "      <th></th>\n",
       "      <th>rating</th>\n",
       "      <th>ID</th>\n",
       "      <th>user_id</th>\n",
       "    </tr>\n",
       "  </thead>\n",
       "  <tbody>\n",
       "    <tr>\n",
       "      <th>13514829</th>\n",
       "      <td>7.0</td>\n",
       "      <td>2399</td>\n",
       "      <td>351047</td>\n",
       "    </tr>\n",
       "    <tr>\n",
       "      <th>9162339</th>\n",
       "      <td>10.0</td>\n",
       "      <td>553</td>\n",
       "      <td>351047</td>\n",
       "    </tr>\n",
       "    <tr>\n",
       "      <th>12353561</th>\n",
       "      <td>9.0</td>\n",
       "      <td>1552</td>\n",
       "      <td>351047</td>\n",
       "    </tr>\n",
       "    <tr>\n",
       "      <th>7487111</th>\n",
       "      <td>7.0</td>\n",
       "      <td>590</td>\n",
       "      <td>351047</td>\n",
       "    </tr>\n",
       "  </tbody>\n",
       "</table>\n",
       "</div>"
      ],
      "text/plain": [
       "          rating    ID  user_id\n",
       "13514829     7.0  2399   351047\n",
       "9162339     10.0   553   351047\n",
       "12353561     9.0  1552   351047\n",
       "7487111      7.0   590   351047"
      ]
     },
     "execution_count": 45,
     "metadata": {},
     "output_type": "execute_result"
    }
   ],
   "source": [
    "reviews_new2.tail(4)"
   ]
  },
  {
   "cell_type": "code",
   "execution_count": 46,
   "metadata": {},
   "outputs": [],
   "source": [
    "reviews_new2.columns = ['rating', 'game_id', 'user_id']"
   ]
  },
  {
   "cell_type": "code",
   "execution_count": 47,
   "metadata": {},
   "outputs": [],
   "source": [
    "# Drop the users with under X number of reviews?"
   ]
  },
  {
   "cell_type": "code",
   "execution_count": null,
   "metadata": {},
   "outputs": [],
   "source": []
  },
  {
   "cell_type": "code",
   "execution_count": null,
   "metadata": {},
   "outputs": [],
   "source": []
  },
  {
   "cell_type": "code",
   "execution_count": 48,
   "metadata": {},
   "outputs": [],
   "source": [
    "reader = Reader(rating_scale=(1,10))\n",
    "svd = SVD()"
   ]
  },
  {
   "cell_type": "code",
   "execution_count": 49,
   "metadata": {},
   "outputs": [],
   "source": [
    "data = Dataset.load_from_df(reviews_new2, reader)"
   ]
  },
  {
   "cell_type": "code",
   "execution_count": 50,
   "metadata": {},
   "outputs": [],
   "source": [
    "#cross_validate(svd, data, measures=['RMSE', 'MAE'], cv=10, verbose=True)"
   ]
  },
  {
   "cell_type": "code",
   "execution_count": 51,
   "metadata": {},
   "outputs": [
    {
     "data": {
      "text/plain": [
       "surprise.dataset.DatasetAutoFolds"
      ]
     },
     "execution_count": 51,
     "metadata": {},
     "output_type": "execute_result"
    }
   ],
   "source": [
    "type(data)"
   ]
  },
  {
   "cell_type": "markdown",
   "metadata": {},
   "source": [
    "### Subset smaller dataframe"
   ]
  },
  {
   "cell_type": "code",
   "execution_count": 52,
   "metadata": {},
   "outputs": [],
   "source": [
    "reviews_new3 = reviews_new2[0:100000]"
   ]
  },
  {
   "cell_type": "code",
   "execution_count": 53,
   "metadata": {},
   "outputs": [
    {
     "data": {
      "text/plain": [
       "(100000, 3)"
      ]
     },
     "execution_count": 53,
     "metadata": {},
     "output_type": "execute_result"
    }
   ],
   "source": [
    "reviews_new3.shape"
   ]
  },
  {
   "cell_type": "code",
   "execution_count": 54,
   "metadata": {
    "scrolled": false
   },
   "outputs": [
    {
     "data": {
      "text/html": [
       "<div>\n",
       "<style scoped>\n",
       "    .dataframe tbody tr th:only-of-type {\n",
       "        vertical-align: middle;\n",
       "    }\n",
       "\n",
       "    .dataframe tbody tr th {\n",
       "        vertical-align: top;\n",
       "    }\n",
       "\n",
       "    .dataframe thead th {\n",
       "        text-align: right;\n",
       "    }\n",
       "</style>\n",
       "<table border=\"1\" class=\"dataframe\">\n",
       "  <thead>\n",
       "    <tr style=\"text-align: right;\">\n",
       "      <th></th>\n",
       "      <th>rating</th>\n",
       "      <th>game_id</th>\n",
       "      <th>user_id</th>\n",
       "    </tr>\n",
       "  </thead>\n",
       "  <tbody>\n",
       "    <tr>\n",
       "      <th>12740681</th>\n",
       "      <td>8.0</td>\n",
       "      <td>155255</td>\n",
       "      <td>2437</td>\n",
       "    </tr>\n",
       "    <tr>\n",
       "      <th>2857632</th>\n",
       "      <td>7.0</td>\n",
       "      <td>110327</td>\n",
       "      <td>2437</td>\n",
       "    </tr>\n",
       "    <tr>\n",
       "      <th>8798057</th>\n",
       "      <td>8.0</td>\n",
       "      <td>152162</td>\n",
       "      <td>2437</td>\n",
       "    </tr>\n",
       "  </tbody>\n",
       "</table>\n",
       "</div>"
      ],
      "text/plain": [
       "          rating  game_id  user_id\n",
       "12740681     8.0   155255     2437\n",
       "2857632      7.0   110327     2437\n",
       "8798057      8.0   152162     2437"
      ]
     },
     "execution_count": 54,
     "metadata": {},
     "output_type": "execute_result"
    }
   ],
   "source": [
    "reviews_new3.tail(3)"
   ]
  },
  {
   "cell_type": "code",
   "execution_count": 55,
   "metadata": {
    "scrolled": false
   },
   "outputs": [
    {
     "data": {
      "text/plain": [
       "7.00    22278\n",
       "8.00    18865\n",
       "6.00    14877\n",
       "9.00     8961\n",
       "5.00     7169\n",
       "        ...  \n",
       "6.68        1\n",
       "9.79        1\n",
       "7.93        1\n",
       "7.46        1\n",
       "5.53        1\n",
       "Name: rating, Length: 543, dtype: int64"
      ]
     },
     "execution_count": 55,
     "metadata": {},
     "output_type": "execute_result"
    }
   ],
   "source": [
    "reviews_new3.rating.value_counts()"
   ]
  },
  {
   "cell_type": "code",
   "execution_count": 56,
   "metadata": {
    "scrolled": true
   },
   "outputs": [
    {
     "data": {
      "text/plain": [
       "988     841\n",
       "139     753\n",
       "2373    688\n",
       "845     671\n",
       "552     655\n",
       "       ... \n",
       "1717      1\n",
       "1438      1\n",
       "1822      1\n",
       "159       1\n",
       "1887      1\n",
       "Name: user_id, Length: 2438, dtype: int64"
      ]
     },
     "execution_count": 56,
     "metadata": {},
     "output_type": "execute_result"
    }
   ],
   "source": [
    "reviews_new3.user_id.value_counts()"
   ]
  },
  {
   "cell_type": "code",
   "execution_count": 57,
   "metadata": {
    "scrolled": true
   },
   "outputs": [
    {
     "data": {
      "text/html": [
       "<div>\n",
       "<style scoped>\n",
       "    .dataframe tbody tr th:only-of-type {\n",
       "        vertical-align: middle;\n",
       "    }\n",
       "\n",
       "    .dataframe tbody tr th {\n",
       "        vertical-align: top;\n",
       "    }\n",
       "\n",
       "    .dataframe thead th {\n",
       "        text-align: right;\n",
       "    }\n",
       "</style>\n",
       "<table border=\"1\" class=\"dataframe\">\n",
       "  <thead>\n",
       "    <tr style=\"text-align: right;\">\n",
       "      <th></th>\n",
       "      <th>rating</th>\n",
       "      <th>game_id</th>\n",
       "      <th>user_id</th>\n",
       "    </tr>\n",
       "  </thead>\n",
       "  <tbody>\n",
       "    <tr>\n",
       "      <th>12589584</th>\n",
       "      <td>9.0</td>\n",
       "      <td>112092</td>\n",
       "      <td>0</td>\n",
       "    </tr>\n",
       "    <tr>\n",
       "      <th>15241668</th>\n",
       "      <td>9.0</td>\n",
       "      <td>223033</td>\n",
       "      <td>0</td>\n",
       "    </tr>\n",
       "    <tr>\n",
       "      <th>5812906</th>\n",
       "      <td>7.0</td>\n",
       "      <td>278</td>\n",
       "      <td>1</td>\n",
       "    </tr>\n",
       "  </tbody>\n",
       "</table>\n",
       "</div>"
      ],
      "text/plain": [
       "          rating  game_id  user_id\n",
       "12589584     9.0   112092        0\n",
       "15241668     9.0   223033        0\n",
       "5812906      7.0      278        1"
      ]
     },
     "execution_count": 57,
     "metadata": {},
     "output_type": "execute_result"
    }
   ],
   "source": [
    "reviews_new3.head(3)"
   ]
  },
  {
   "cell_type": "code",
   "execution_count": 58,
   "metadata": {},
   "outputs": [],
   "source": [
    "cols = ['user_id', 'game_id', 'rating']"
   ]
  },
  {
   "cell_type": "code",
   "execution_count": 59,
   "metadata": {},
   "outputs": [],
   "source": [
    "reviews_new3 = reviews_new3[cols]"
   ]
  },
  {
   "cell_type": "code",
   "execution_count": 60,
   "metadata": {},
   "outputs": [
    {
     "data": {
      "text/html": [
       "<div>\n",
       "<style scoped>\n",
       "    .dataframe tbody tr th:only-of-type {\n",
       "        vertical-align: middle;\n",
       "    }\n",
       "\n",
       "    .dataframe tbody tr th {\n",
       "        vertical-align: top;\n",
       "    }\n",
       "\n",
       "    .dataframe thead th {\n",
       "        text-align: right;\n",
       "    }\n",
       "</style>\n",
       "<table border=\"1\" class=\"dataframe\">\n",
       "  <thead>\n",
       "    <tr style=\"text-align: right;\">\n",
       "      <th></th>\n",
       "      <th>user_id</th>\n",
       "      <th>game_id</th>\n",
       "      <th>rating</th>\n",
       "    </tr>\n",
       "  </thead>\n",
       "  <tbody>\n",
       "    <tr>\n",
       "      <th>12589584</th>\n",
       "      <td>0</td>\n",
       "      <td>112092</td>\n",
       "      <td>9.0</td>\n",
       "    </tr>\n",
       "    <tr>\n",
       "      <th>15241668</th>\n",
       "      <td>0</td>\n",
       "      <td>223033</td>\n",
       "      <td>9.0</td>\n",
       "    </tr>\n",
       "    <tr>\n",
       "      <th>5812906</th>\n",
       "      <td>1</td>\n",
       "      <td>278</td>\n",
       "      <td>7.0</td>\n",
       "    </tr>\n",
       "  </tbody>\n",
       "</table>\n",
       "</div>"
      ],
      "text/plain": [
       "          user_id  game_id  rating\n",
       "12589584        0   112092     9.0\n",
       "15241668        0   223033     9.0\n",
       "5812906         1      278     7.0"
      ]
     },
     "execution_count": 60,
     "metadata": {},
     "output_type": "execute_result"
    }
   ],
   "source": [
    "reviews_new3.head(3)"
   ]
  },
  {
   "cell_type": "code",
   "execution_count": 61,
   "metadata": {},
   "outputs": [],
   "source": [
    "data = Dataset.load_from_df(reviews_new3, reader)"
   ]
  },
  {
   "cell_type": "code",
   "execution_count": 62,
   "metadata": {},
   "outputs": [],
   "source": [
    "dataset = data.build_full_trainset()"
   ]
  },
  {
   "cell_type": "code",
   "execution_count": 63,
   "metadata": {
    "scrolled": false
   },
   "outputs": [
    {
     "name": "stdout",
     "output_type": "stream",
     "text": [
      "Number of users:  2438 \n",
      "\n",
      "Number of items:  11115\n"
     ]
    }
   ],
   "source": [
    "print('Number of users: ', dataset.n_users, '\\n')\n",
    "print('Number of items: ', dataset.n_items)"
   ]
  },
  {
   "cell_type": "code",
   "execution_count": 64,
   "metadata": {},
   "outputs": [],
   "source": [
    "sim_cos = {'name':'cosine', 'user_based':False}"
   ]
  },
  {
   "cell_type": "code",
   "execution_count": 65,
   "metadata": {},
   "outputs": [],
   "source": [
    "from surprise.prediction_algorithms.knns import KNNBasic"
   ]
  },
  {
   "cell_type": "code",
   "execution_count": 66,
   "metadata": {},
   "outputs": [
    {
     "ename": "NameError",
     "evalue": "name 'trainset' is not defined",
     "output_type": "error",
     "traceback": [
      "\u001b[1;31m---------------------------------------------------------------------------\u001b[0m",
      "\u001b[1;31mNameError\u001b[0m                                 Traceback (most recent call last)",
      "\u001b[1;32m<ipython-input-66-7431f76d55bb>\u001b[0m in \u001b[0;36m<module>\u001b[1;34m\u001b[0m\n\u001b[0;32m      1\u001b[0m \u001b[0mbasic\u001b[0m \u001b[1;33m=\u001b[0m \u001b[0mKNNBasic\u001b[0m\u001b[1;33m(\u001b[0m\u001b[0msim_options\u001b[0m\u001b[1;33m=\u001b[0m\u001b[0msim_cos\u001b[0m\u001b[1;33m)\u001b[0m\u001b[1;33m\u001b[0m\u001b[1;33m\u001b[0m\u001b[0m\n\u001b[1;32m----> 2\u001b[1;33m \u001b[0mbasic\u001b[0m\u001b[1;33m.\u001b[0m\u001b[0mfit\u001b[0m\u001b[1;33m(\u001b[0m\u001b[0mtrainset\u001b[0m\u001b[1;33m)\u001b[0m\u001b[1;33m\u001b[0m\u001b[1;33m\u001b[0m\u001b[0m\n\u001b[0m",
      "\u001b[1;31mNameError\u001b[0m: name 'trainset' is not defined"
     ]
    }
   ],
   "source": [
    "# basic = KNNBasic(sim_options=sim_cos)\n",
    "# basic.fit(trainset)"
   ]
  },
  {
   "cell_type": "code",
   "execution_count": 67,
   "metadata": {},
   "outputs": [
    {
     "ename": "AttributeError",
     "evalue": "'KNNBasic' object has no attribute 'sim'",
     "output_type": "error",
     "traceback": [
      "\u001b[1;31m---------------------------------------------------------------------------\u001b[0m",
      "\u001b[1;31mAttributeError\u001b[0m                            Traceback (most recent call last)",
      "\u001b[1;32m<ipython-input-67-974e927359a7>\u001b[0m in \u001b[0;36m<module>\u001b[1;34m\u001b[0m\n\u001b[1;32m----> 1\u001b[1;33m \u001b[0mbasic\u001b[0m\u001b[1;33m.\u001b[0m\u001b[0msim\u001b[0m\u001b[1;33m\u001b[0m\u001b[1;33m\u001b[0m\u001b[0m\n\u001b[0m",
      "\u001b[1;31mAttributeError\u001b[0m: 'KNNBasic' object has no attribute 'sim'"
     ]
    }
   ],
   "source": [
    "basic.sim"
   ]
  },
  {
   "cell_type": "code",
   "execution_count": 68,
   "metadata": {},
   "outputs": [
    {
     "ename": "NameError",
     "evalue": "name 'testset' is not defined",
     "output_type": "error",
     "traceback": [
      "\u001b[1;31m---------------------------------------------------------------------------\u001b[0m",
      "\u001b[1;31mNameError\u001b[0m                                 Traceback (most recent call last)",
      "\u001b[1;32m<ipython-input-68-de35d28a19fe>\u001b[0m in \u001b[0;36m<module>\u001b[1;34m\u001b[0m\n\u001b[1;32m----> 1\u001b[1;33m \u001b[0mpredictions\u001b[0m \u001b[1;33m=\u001b[0m \u001b[0mbasic\u001b[0m\u001b[1;33m.\u001b[0m\u001b[0mtest\u001b[0m\u001b[1;33m(\u001b[0m\u001b[0mtestset\u001b[0m\u001b[1;33m)\u001b[0m\u001b[1;33m\u001b[0m\u001b[1;33m\u001b[0m\u001b[0m\n\u001b[0m",
      "\u001b[1;31mNameError\u001b[0m: name 'testset' is not defined"
     ]
    }
   ],
   "source": [
    "predictions = basic.test(testset)"
   ]
  },
  {
   "cell_type": "code",
   "execution_count": null,
   "metadata": {},
   "outputs": [],
   "source": []
  },
  {
   "cell_type": "code",
   "execution_count": 69,
   "metadata": {},
   "outputs": [
    {
     "name": "stdout",
     "output_type": "stream",
     "text": [
      "Evaluating RMSE, MAE of algorithm SVD on 6 split(s).\n",
      "\n",
      "                  Fold 1  Fold 2  Fold 3  Fold 4  Fold 5  Fold 6  Mean    Std     \n",
      "RMSE (testset)    1.3667  1.3530  1.3502  1.3643  1.3611  1.3658  1.3602  0.0064  \n",
      "MAE (testset)     1.0131  1.0025  1.0033  1.0185  1.0100  1.0147  1.0104  0.0058  \n",
      "Fit time          4.29    4.23    4.30    4.11    4.07    4.01    4.17    0.11    \n",
      "Test time         0.10    0.08    0.08    0.08    0.13    0.08    0.09    0.02    \n"
     ]
    },
    {
     "data": {
      "text/plain": [
       "{'test_rmse': array([1.36665274, 1.35304245, 1.35020584, 1.36432914, 1.3611411 ,\n",
       "        1.36580011]),\n",
       " 'test_mae': array([1.01314911, 1.00251106, 1.00332302, 1.01848381, 1.00998094,\n",
       "        1.01465554]),\n",
       " 'fit_time': (4.28600001335144,\n",
       "  4.230045318603516,\n",
       "  4.299998998641968,\n",
       "  4.109001159667969,\n",
       "  4.071999788284302,\n",
       "  4.014997482299805),\n",
       " 'test_time': (0.10100150108337402,\n",
       "  0.0819559097290039,\n",
       "  0.08100104331970215,\n",
       "  0.07999730110168457,\n",
       "  0.1309981346130371,\n",
       "  0.0820014476776123)}"
      ]
     },
     "execution_count": 69,
     "metadata": {},
     "output_type": "execute_result"
    }
   ],
   "source": [
    "cross_validate(svd, data, measures=['RMSE', 'MAE'], cv=6, verbose=True)"
   ]
  },
  {
   "cell_type": "code",
   "execution_count": 70,
   "metadata": {},
   "outputs": [],
   "source": [
    "trainset = data.build_full_trainset()"
   ]
  },
  {
   "cell_type": "code",
   "execution_count": 71,
   "metadata": {
    "scrolled": false
   },
   "outputs": [
    {
     "data": {
      "text/plain": [
       "<surprise.prediction_algorithms.matrix_factorization.SVD at 0x1ac819814c0>"
      ]
     },
     "execution_count": 71,
     "metadata": {},
     "output_type": "execute_result"
    }
   ],
   "source": [
    "svd.fit(trainset)\n"
   ]
  },
  {
   "cell_type": "code",
   "execution_count": 72,
   "metadata": {},
   "outputs": [
    {
     "name": "stdout",
     "output_type": "stream",
     "text": [
      "user: 3          item: 34241241241414 r_ui = None   est = 7.04   {'was_impossible': False}\n"
     ]
    },
    {
     "data": {
      "text/plain": [
       "Prediction(uid='3', iid='34241241241414', r_ui=None, est=7.0350295792, details={'was_impossible': False})"
      ]
     },
     "execution_count": 72,
     "metadata": {},
     "output_type": "execute_result"
    }
   ],
   "source": [
    "svd.predict('3', '34241241241414', verbose=True)"
   ]
  },
  {
   "cell_type": "code",
   "execution_count": 73,
   "metadata": {
    "scrolled": true
   },
   "outputs": [
    {
     "data": {
      "text/html": [
       "<div>\n",
       "<style scoped>\n",
       "    .dataframe tbody tr th:only-of-type {\n",
       "        vertical-align: middle;\n",
       "    }\n",
       "\n",
       "    .dataframe tbody tr th {\n",
       "        vertical-align: top;\n",
       "    }\n",
       "\n",
       "    .dataframe thead th {\n",
       "        text-align: right;\n",
       "    }\n",
       "</style>\n",
       "<table border=\"1\" class=\"dataframe\">\n",
       "  <thead>\n",
       "    <tr style=\"text-align: right;\">\n",
       "      <th></th>\n",
       "      <th>user_id</th>\n",
       "      <th>game_id</th>\n",
       "      <th>rating</th>\n",
       "    </tr>\n",
       "  </thead>\n",
       "  <tbody>\n",
       "    <tr>\n",
       "      <th>10123139</th>\n",
       "      <td>2437</td>\n",
       "      <td>195544</td>\n",
       "      <td>6.8</td>\n",
       "    </tr>\n",
       "    <tr>\n",
       "      <th>2416334</th>\n",
       "      <td>2437</td>\n",
       "      <td>129622</td>\n",
       "      <td>7.2</td>\n",
       "    </tr>\n",
       "    <tr>\n",
       "      <th>3172735</th>\n",
       "      <td>2437</td>\n",
       "      <td>3076</td>\n",
       "      <td>7.8</td>\n",
       "    </tr>\n",
       "    <tr>\n",
       "      <th>12940741</th>\n",
       "      <td>2437</td>\n",
       "      <td>431</td>\n",
       "      <td>6.5</td>\n",
       "    </tr>\n",
       "    <tr>\n",
       "      <th>12849704</th>\n",
       "      <td>2437</td>\n",
       "      <td>173761</td>\n",
       "      <td>7.0</td>\n",
       "    </tr>\n",
       "    <tr>\n",
       "      <th>...</th>\n",
       "      <td>...</td>\n",
       "      <td>...</td>\n",
       "      <td>...</td>\n",
       "    </tr>\n",
       "    <tr>\n",
       "      <th>4817517</th>\n",
       "      <td>2437</td>\n",
       "      <td>432</td>\n",
       "      <td>7.0</td>\n",
       "    </tr>\n",
       "    <tr>\n",
       "      <th>10484189</th>\n",
       "      <td>2437</td>\n",
       "      <td>251658</td>\n",
       "      <td>6.5</td>\n",
       "    </tr>\n",
       "    <tr>\n",
       "      <th>12740681</th>\n",
       "      <td>2437</td>\n",
       "      <td>155255</td>\n",
       "      <td>8.0</td>\n",
       "    </tr>\n",
       "    <tr>\n",
       "      <th>2857632</th>\n",
       "      <td>2437</td>\n",
       "      <td>110327</td>\n",
       "      <td>7.0</td>\n",
       "    </tr>\n",
       "    <tr>\n",
       "      <th>8798057</th>\n",
       "      <td>2437</td>\n",
       "      <td>152162</td>\n",
       "      <td>8.0</td>\n",
       "    </tr>\n",
       "  </tbody>\n",
       "</table>\n",
       "<p>81 rows × 3 columns</p>\n",
       "</div>"
      ],
      "text/plain": [
       "          user_id  game_id  rating\n",
       "10123139     2437   195544     6.8\n",
       "2416334      2437   129622     7.2\n",
       "3172735      2437     3076     7.8\n",
       "12940741     2437      431     6.5\n",
       "12849704     2437   173761     7.0\n",
       "...           ...      ...     ...\n",
       "4817517      2437      432     7.0\n",
       "10484189     2437   251658     6.5\n",
       "12740681     2437   155255     8.0\n",
       "2857632      2437   110327     7.0\n",
       "8798057      2437   152162     8.0\n",
       "\n",
       "[81 rows x 3 columns]"
      ]
     },
     "execution_count": 73,
     "metadata": {},
     "output_type": "execute_result"
    }
   ],
   "source": [
    "reviews_new3[reviews_new3['user_id'] == 2437]"
   ]
  },
  {
   "cell_type": "code",
   "execution_count": 74,
   "metadata": {
    "scrolled": true
   },
   "outputs": [
    {
     "name": "stdout",
     "output_type": "stream",
     "text": [
      "user: 2437       item: 112092     r_ui = 3.00   est = 7.04   {'was_impossible': False}\n"
     ]
    },
    {
     "data": {
      "text/plain": [
       "Prediction(uid='2437', iid='112092', r_ui=3, est=7.0350295792, details={'was_impossible': False})"
      ]
     },
     "execution_count": 74,
     "metadata": {},
     "output_type": "execute_result"
    }
   ],
   "source": [
    "svd.predict('2437', '112092', 3, verbose=True)"
   ]
  },
  {
   "cell_type": "code",
   "execution_count": null,
   "metadata": {},
   "outputs": [],
   "source": []
  },
  {
   "cell_type": "code",
   "execution_count": null,
   "metadata": {},
   "outputs": [],
   "source": []
  },
  {
   "cell_type": "code",
   "execution_count": null,
   "metadata": {},
   "outputs": [],
   "source": []
  },
  {
   "cell_type": "code",
   "execution_count": null,
   "metadata": {},
   "outputs": [],
   "source": []
  },
  {
   "cell_type": "code",
   "execution_count": null,
   "metadata": {},
   "outputs": [],
   "source": []
  },
  {
   "cell_type": "code",
   "execution_count": null,
   "metadata": {},
   "outputs": [],
   "source": []
  },
  {
   "cell_type": "code",
   "execution_count": null,
   "metadata": {},
   "outputs": [],
   "source": []
  },
  {
   "cell_type": "code",
   "execution_count": null,
   "metadata": {},
   "outputs": [],
   "source": []
  },
  {
   "cell_type": "code",
   "execution_count": null,
   "metadata": {},
   "outputs": [],
   "source": []
  },
  {
   "cell_type": "code",
   "execution_count": null,
   "metadata": {},
   "outputs": [],
   "source": []
  },
  {
   "cell_type": "code",
   "execution_count": null,
   "metadata": {},
   "outputs": [],
   "source": []
  },
  {
   "cell_type": "code",
   "execution_count": null,
   "metadata": {},
   "outputs": [],
   "source": []
  },
  {
   "cell_type": "code",
   "execution_count": null,
   "metadata": {},
   "outputs": [],
   "source": []
  },
  {
   "cell_type": "code",
   "execution_count": null,
   "metadata": {},
   "outputs": [],
   "source": []
  },
  {
   "cell_type": "code",
   "execution_count": null,
   "metadata": {},
   "outputs": [],
   "source": []
  },
  {
   "cell_type": "code",
   "execution_count": null,
   "metadata": {},
   "outputs": [],
   "source": []
  },
  {
   "cell_type": "code",
   "execution_count": null,
   "metadata": {},
   "outputs": [],
   "source": []
  },
  {
   "cell_type": "code",
   "execution_count": null,
   "metadata": {},
   "outputs": [],
   "source": []
  },
  {
   "cell_type": "code",
   "execution_count": 75,
   "metadata": {},
   "outputs": [],
   "source": [
    "# Trying to make a different rec system"
   ]
  },
  {
   "cell_type": "code",
   "execution_count": 76,
   "metadata": {},
   "outputs": [],
   "source": [
    "reviews_new4 = reviews_new3"
   ]
  },
  {
   "cell_type": "code",
   "execution_count": 77,
   "metadata": {
    "scrolled": false
   },
   "outputs": [
    {
     "data": {
      "text/html": [
       "<div>\n",
       "<style scoped>\n",
       "    .dataframe tbody tr th:only-of-type {\n",
       "        vertical-align: middle;\n",
       "    }\n",
       "\n",
       "    .dataframe tbody tr th {\n",
       "        vertical-align: top;\n",
       "    }\n",
       "\n",
       "    .dataframe thead th {\n",
       "        text-align: right;\n",
       "    }\n",
       "</style>\n",
       "<table border=\"1\" class=\"dataframe\">\n",
       "  <thead>\n",
       "    <tr style=\"text-align: right;\">\n",
       "      <th></th>\n",
       "      <th>user_id</th>\n",
       "      <th>game_id</th>\n",
       "      <th>rating</th>\n",
       "    </tr>\n",
       "  </thead>\n",
       "  <tbody>\n",
       "    <tr>\n",
       "      <th>12589584</th>\n",
       "      <td>0</td>\n",
       "      <td>112092</td>\n",
       "      <td>9.0</td>\n",
       "    </tr>\n",
       "    <tr>\n",
       "      <th>15241668</th>\n",
       "      <td>0</td>\n",
       "      <td>223033</td>\n",
       "      <td>9.0</td>\n",
       "    </tr>\n",
       "    <tr>\n",
       "      <th>5812906</th>\n",
       "      <td>1</td>\n",
       "      <td>278</td>\n",
       "      <td>7.0</td>\n",
       "    </tr>\n",
       "  </tbody>\n",
       "</table>\n",
       "</div>"
      ],
      "text/plain": [
       "          user_id  game_id  rating\n",
       "12589584        0   112092     9.0\n",
       "15241668        0   223033     9.0\n",
       "5812906         1      278     7.0"
      ]
     },
     "execution_count": 77,
     "metadata": {},
     "output_type": "execute_result"
    }
   ],
   "source": [
    "reviews_new4.head(3)"
   ]
  },
  {
   "cell_type": "code",
   "execution_count": 78,
   "metadata": {},
   "outputs": [],
   "source": [
    "# Graph the most common rating\n",
    "# Average number of ratings per user"
   ]
  },
  {
   "cell_type": "code",
   "execution_count": 79,
   "metadata": {},
   "outputs": [
    {
     "data": {
      "text/plain": [
       "30549    657\n",
       "13       641\n",
       "822      616\n",
       "68448    535\n",
       "36218    504\n",
       "Name: game_id, dtype: int64"
      ]
     },
     "execution_count": 79,
     "metadata": {},
     "output_type": "execute_result"
    }
   ],
   "source": [
    "# Get the names of the top 10 most reviewed game (#1 is pandemic, #2 Catan and so on)\n",
    "reviews_new4['game_id'].value_counts().head()"
   ]
  },
  {
   "cell_type": "code",
   "execution_count": 80,
   "metadata": {
    "scrolled": true
   },
   "outputs": [
    {
     "data": {
      "text/plain": [
       "988     841\n",
       "139     753\n",
       "2373    688\n",
       "845     671\n",
       "552     655\n",
       "Name: user_id, dtype: int64"
      ]
     },
     "execution_count": 80,
     "metadata": {},
     "output_type": "execute_result"
    }
   ],
   "source": [
    "# Users with the most review\n",
    "# N 1 is the user 988, n2 is 139 and so on\n",
    "reviews_new4['user_id'].value_counts().head()"
   ]
  },
  {
   "cell_type": "code",
   "execution_count": 81,
   "metadata": {
    "scrolled": true
   },
   "outputs": [],
   "source": [
    "indices = pd.Series(reviews_new4.index, index=reviews_new4['game_id'])"
   ]
  },
  {
   "cell_type": "code",
   "execution_count": 82,
   "metadata": {},
   "outputs": [],
   "source": [
    "def hybrid(user_id, game_id):\n",
    "    idx = indices[game_id]\n",
    "    tmdbId = reviews_new4.loc[game_id]\n",
    "    #print(idx)\n",
    "    movie_id = reviews_new4.loc[game_id]\n",
    "    \n",
    "    sim_scores = list(enumerate(cosine_sim[int(idx)]))\n",
    "    sim_scores = sorted(sim_scores, key=lambda x: x[1], reverse=True)\n",
    "    sim_scores = sim_scores[1:26]\n",
    "    game_indices = [i[0] for i in sim_scores]\n",
    "    \n",
    "    bgs = reviews_new4.iloc[game_indices][['game_id', 'rating']]\n",
    "    bgs['est'] = bgs['game_id'].apply(lambda x: svd.predict(user_id, indices_map.loc[x]['game_id']).est)\n",
    "    bgs = bgs.sort_values('est', ascending=False)\n",
    "    return bgs.head(10)"
   ]
  },
  {
   "cell_type": "code",
   "execution_count": null,
   "metadata": {},
   "outputs": [],
   "source": []
  },
  {
   "cell_type": "code",
   "execution_count": null,
   "metadata": {},
   "outputs": [],
   "source": []
  },
  {
   "cell_type": "code",
   "execution_count": 84,
   "metadata": {},
   "outputs": [],
   "source": [
    "clustering = reviews_new4.sort_values(by='game_id')"
   ]
  },
  {
   "cell_type": "code",
   "execution_count": 85,
   "metadata": {
    "scrolled": false
   },
   "outputs": [
    {
     "data": {
      "text/html": [
       "<div>\n",
       "<style scoped>\n",
       "    .dataframe tbody tr th:only-of-type {\n",
       "        vertical-align: middle;\n",
       "    }\n",
       "\n",
       "    .dataframe tbody tr th {\n",
       "        vertical-align: top;\n",
       "    }\n",
       "\n",
       "    .dataframe thead th {\n",
       "        text-align: right;\n",
       "    }\n",
       "</style>\n",
       "<table border=\"1\" class=\"dataframe\">\n",
       "  <thead>\n",
       "    <tr style=\"text-align: right;\">\n",
       "      <th></th>\n",
       "      <th>user_id</th>\n",
       "      <th>game_id</th>\n",
       "      <th>rating</th>\n",
       "    </tr>\n",
       "  </thead>\n",
       "  <tbody>\n",
       "    <tr>\n",
       "      <th>8971751</th>\n",
       "      <td>60</td>\n",
       "      <td>1</td>\n",
       "      <td>7.70</td>\n",
       "    </tr>\n",
       "    <tr>\n",
       "      <th>8941883</th>\n",
       "      <td>316</td>\n",
       "      <td>1</td>\n",
       "      <td>8.00</td>\n",
       "    </tr>\n",
       "    <tr>\n",
       "      <th>8772935</th>\n",
       "      <td>1629</td>\n",
       "      <td>1</td>\n",
       "      <td>9.00</td>\n",
       "    </tr>\n",
       "    <tr>\n",
       "      <th>8981678</th>\n",
       "      <td>763</td>\n",
       "      <td>1</td>\n",
       "      <td>7.50</td>\n",
       "    </tr>\n",
       "    <tr>\n",
       "      <th>8842517</th>\n",
       "      <td>380</td>\n",
       "      <td>1</td>\n",
       "      <td>8.25</td>\n",
       "    </tr>\n",
       "    <tr>\n",
       "      <th>...</th>\n",
       "      <td>...</td>\n",
       "      <td>...</td>\n",
       "      <td>...</td>\n",
       "    </tr>\n",
       "    <tr>\n",
       "      <th>14778289</th>\n",
       "      <td>1263</td>\n",
       "      <td>305682</td>\n",
       "      <td>7.50</td>\n",
       "    </tr>\n",
       "    <tr>\n",
       "      <th>14778251</th>\n",
       "      <td>1432</td>\n",
       "      <td>305682</td>\n",
       "      <td>8.00</td>\n",
       "    </tr>\n",
       "    <tr>\n",
       "      <th>15473712</th>\n",
       "      <td>1507</td>\n",
       "      <td>307305</td>\n",
       "      <td>6.00</td>\n",
       "    </tr>\n",
       "    <tr>\n",
       "      <th>15461371</th>\n",
       "      <td>2227</td>\n",
       "      <td>313850</td>\n",
       "      <td>7.00</td>\n",
       "    </tr>\n",
       "    <tr>\n",
       "      <th>15461323</th>\n",
       "      <td>2336</td>\n",
       "      <td>313850</td>\n",
       "      <td>10.00</td>\n",
       "    </tr>\n",
       "  </tbody>\n",
       "</table>\n",
       "<p>100000 rows × 3 columns</p>\n",
       "</div>"
      ],
      "text/plain": [
       "          user_id  game_id  rating\n",
       "8971751        60        1    7.70\n",
       "8941883       316        1    8.00\n",
       "8772935      1629        1    9.00\n",
       "8981678       763        1    7.50\n",
       "8842517       380        1    8.25\n",
       "...           ...      ...     ...\n",
       "14778289     1263   305682    7.50\n",
       "14778251     1432   305682    8.00\n",
       "15473712     1507   307305    6.00\n",
       "15461371     2227   313850    7.00\n",
       "15461323     2336   313850   10.00\n",
       "\n",
       "[100000 rows x 3 columns]"
      ]
     },
     "execution_count": 85,
     "metadata": {},
     "output_type": "execute_result"
    }
   ],
   "source": [
    "clustering"
   ]
  },
  {
   "cell_type": "code",
   "execution_count": 86,
   "metadata": {
    "scrolled": false
   },
   "outputs": [],
   "source": [
    "clustering = clustering.set_index('game_id')"
   ]
  },
  {
   "cell_type": "code",
   "execution_count": 87,
   "metadata": {},
   "outputs": [],
   "source": [
    "clustering = clustering.pivot_table(values='rating', index=clustering.index, columns='user_id', aggfunc='first')"
   ]
  },
  {
   "cell_type": "code",
   "execution_count": 88,
   "metadata": {},
   "outputs": [
    {
     "data": {
      "text/plain": [
       "user_id\n",
       "0       11113\n",
       "1       11106\n",
       "2       11101\n",
       "3       11110\n",
       "4       11114\n",
       "        ...  \n",
       "2433    11113\n",
       "2434    11110\n",
       "2435    11093\n",
       "2436    11009\n",
       "2437    11034\n",
       "Length: 2438, dtype: int64"
      ]
     },
     "execution_count": 88,
     "metadata": {},
     "output_type": "execute_result"
    }
   ],
   "source": [
    "clustering.isna().sum()"
   ]
  },
  {
   "cell_type": "code",
   "execution_count": 89,
   "metadata": {
    "scrolled": false
   },
   "outputs": [
    {
     "data": {
      "text/html": [
       "<div>\n",
       "<style scoped>\n",
       "    .dataframe tbody tr th:only-of-type {\n",
       "        vertical-align: middle;\n",
       "    }\n",
       "\n",
       "    .dataframe tbody tr th {\n",
       "        vertical-align: top;\n",
       "    }\n",
       "\n",
       "    .dataframe thead th {\n",
       "        text-align: right;\n",
       "    }\n",
       "</style>\n",
       "<table border=\"1\" class=\"dataframe\">\n",
       "  <thead>\n",
       "    <tr style=\"text-align: right;\">\n",
       "      <th>user_id</th>\n",
       "      <th>0</th>\n",
       "      <th>1</th>\n",
       "      <th>2</th>\n",
       "      <th>3</th>\n",
       "      <th>4</th>\n",
       "      <th>5</th>\n",
       "      <th>6</th>\n",
       "      <th>7</th>\n",
       "      <th>8</th>\n",
       "      <th>9</th>\n",
       "      <th>...</th>\n",
       "      <th>2428</th>\n",
       "      <th>2429</th>\n",
       "      <th>2430</th>\n",
       "      <th>2431</th>\n",
       "      <th>2432</th>\n",
       "      <th>2433</th>\n",
       "      <th>2434</th>\n",
       "      <th>2435</th>\n",
       "      <th>2436</th>\n",
       "      <th>2437</th>\n",
       "    </tr>\n",
       "    <tr>\n",
       "      <th>game_id</th>\n",
       "      <th></th>\n",
       "      <th></th>\n",
       "      <th></th>\n",
       "      <th></th>\n",
       "      <th></th>\n",
       "      <th></th>\n",
       "      <th></th>\n",
       "      <th></th>\n",
       "      <th></th>\n",
       "      <th></th>\n",
       "      <th></th>\n",
       "      <th></th>\n",
       "      <th></th>\n",
       "      <th></th>\n",
       "      <th></th>\n",
       "      <th></th>\n",
       "      <th></th>\n",
       "      <th></th>\n",
       "      <th></th>\n",
       "      <th></th>\n",
       "      <th></th>\n",
       "    </tr>\n",
       "  </thead>\n",
       "  <tbody>\n",
       "    <tr>\n",
       "      <th>1</th>\n",
       "      <td>NaN</td>\n",
       "      <td>NaN</td>\n",
       "      <td>NaN</td>\n",
       "      <td>NaN</td>\n",
       "      <td>NaN</td>\n",
       "      <td>NaN</td>\n",
       "      <td>NaN</td>\n",
       "      <td>NaN</td>\n",
       "      <td>5.0</td>\n",
       "      <td>NaN</td>\n",
       "      <td>...</td>\n",
       "      <td>NaN</td>\n",
       "      <td>NaN</td>\n",
       "      <td>NaN</td>\n",
       "      <td>9.0</td>\n",
       "      <td>10.0</td>\n",
       "      <td>NaN</td>\n",
       "      <td>NaN</td>\n",
       "      <td>NaN</td>\n",
       "      <td>NaN</td>\n",
       "      <td>NaN</td>\n",
       "    </tr>\n",
       "    <tr>\n",
       "      <th>2</th>\n",
       "      <td>NaN</td>\n",
       "      <td>NaN</td>\n",
       "      <td>NaN</td>\n",
       "      <td>NaN</td>\n",
       "      <td>NaN</td>\n",
       "      <td>NaN</td>\n",
       "      <td>NaN</td>\n",
       "      <td>NaN</td>\n",
       "      <td>NaN</td>\n",
       "      <td>NaN</td>\n",
       "      <td>...</td>\n",
       "      <td>NaN</td>\n",
       "      <td>NaN</td>\n",
       "      <td>NaN</td>\n",
       "      <td>NaN</td>\n",
       "      <td>NaN</td>\n",
       "      <td>NaN</td>\n",
       "      <td>NaN</td>\n",
       "      <td>NaN</td>\n",
       "      <td>NaN</td>\n",
       "      <td>NaN</td>\n",
       "    </tr>\n",
       "    <tr>\n",
       "      <th>3</th>\n",
       "      <td>NaN</td>\n",
       "      <td>NaN</td>\n",
       "      <td>NaN</td>\n",
       "      <td>NaN</td>\n",
       "      <td>NaN</td>\n",
       "      <td>NaN</td>\n",
       "      <td>NaN</td>\n",
       "      <td>NaN</td>\n",
       "      <td>4.0</td>\n",
       "      <td>NaN</td>\n",
       "      <td>...</td>\n",
       "      <td>NaN</td>\n",
       "      <td>NaN</td>\n",
       "      <td>NaN</td>\n",
       "      <td>10.0</td>\n",
       "      <td>1.0</td>\n",
       "      <td>NaN</td>\n",
       "      <td>NaN</td>\n",
       "      <td>NaN</td>\n",
       "      <td>NaN</td>\n",
       "      <td>NaN</td>\n",
       "    </tr>\n",
       "    <tr>\n",
       "      <th>4</th>\n",
       "      <td>NaN</td>\n",
       "      <td>NaN</td>\n",
       "      <td>NaN</td>\n",
       "      <td>NaN</td>\n",
       "      <td>NaN</td>\n",
       "      <td>NaN</td>\n",
       "      <td>NaN</td>\n",
       "      <td>NaN</td>\n",
       "      <td>NaN</td>\n",
       "      <td>NaN</td>\n",
       "      <td>...</td>\n",
       "      <td>NaN</td>\n",
       "      <td>NaN</td>\n",
       "      <td>NaN</td>\n",
       "      <td>NaN</td>\n",
       "      <td>NaN</td>\n",
       "      <td>NaN</td>\n",
       "      <td>NaN</td>\n",
       "      <td>NaN</td>\n",
       "      <td>NaN</td>\n",
       "      <td>NaN</td>\n",
       "    </tr>\n",
       "    <tr>\n",
       "      <th>5</th>\n",
       "      <td>NaN</td>\n",
       "      <td>NaN</td>\n",
       "      <td>8.0</td>\n",
       "      <td>NaN</td>\n",
       "      <td>NaN</td>\n",
       "      <td>NaN</td>\n",
       "      <td>NaN</td>\n",
       "      <td>NaN</td>\n",
       "      <td>7.0</td>\n",
       "      <td>NaN</td>\n",
       "      <td>...</td>\n",
       "      <td>NaN</td>\n",
       "      <td>NaN</td>\n",
       "      <td>NaN</td>\n",
       "      <td>1.0</td>\n",
       "      <td>1.0</td>\n",
       "      <td>NaN</td>\n",
       "      <td>NaN</td>\n",
       "      <td>NaN</td>\n",
       "      <td>NaN</td>\n",
       "      <td>NaN</td>\n",
       "    </tr>\n",
       "    <tr>\n",
       "      <th>...</th>\n",
       "      <td>...</td>\n",
       "      <td>...</td>\n",
       "      <td>...</td>\n",
       "      <td>...</td>\n",
       "      <td>...</td>\n",
       "      <td>...</td>\n",
       "      <td>...</td>\n",
       "      <td>...</td>\n",
       "      <td>...</td>\n",
       "      <td>...</td>\n",
       "      <td>...</td>\n",
       "      <td>...</td>\n",
       "      <td>...</td>\n",
       "      <td>...</td>\n",
       "      <td>...</td>\n",
       "      <td>...</td>\n",
       "      <td>...</td>\n",
       "      <td>...</td>\n",
       "      <td>...</td>\n",
       "      <td>...</td>\n",
       "      <td>...</td>\n",
       "    </tr>\n",
       "    <tr>\n",
       "      <th>303057</th>\n",
       "      <td>NaN</td>\n",
       "      <td>NaN</td>\n",
       "      <td>NaN</td>\n",
       "      <td>NaN</td>\n",
       "      <td>NaN</td>\n",
       "      <td>NaN</td>\n",
       "      <td>NaN</td>\n",
       "      <td>NaN</td>\n",
       "      <td>NaN</td>\n",
       "      <td>NaN</td>\n",
       "      <td>...</td>\n",
       "      <td>NaN</td>\n",
       "      <td>NaN</td>\n",
       "      <td>NaN</td>\n",
       "      <td>NaN</td>\n",
       "      <td>NaN</td>\n",
       "      <td>NaN</td>\n",
       "      <td>NaN</td>\n",
       "      <td>NaN</td>\n",
       "      <td>NaN</td>\n",
       "      <td>NaN</td>\n",
       "    </tr>\n",
       "    <tr>\n",
       "      <th>303650</th>\n",
       "      <td>NaN</td>\n",
       "      <td>NaN</td>\n",
       "      <td>NaN</td>\n",
       "      <td>NaN</td>\n",
       "      <td>NaN</td>\n",
       "      <td>NaN</td>\n",
       "      <td>NaN</td>\n",
       "      <td>NaN</td>\n",
       "      <td>NaN</td>\n",
       "      <td>NaN</td>\n",
       "      <td>...</td>\n",
       "      <td>NaN</td>\n",
       "      <td>NaN</td>\n",
       "      <td>NaN</td>\n",
       "      <td>NaN</td>\n",
       "      <td>NaN</td>\n",
       "      <td>NaN</td>\n",
       "      <td>NaN</td>\n",
       "      <td>NaN</td>\n",
       "      <td>NaN</td>\n",
       "      <td>NaN</td>\n",
       "    </tr>\n",
       "    <tr>\n",
       "      <th>305682</th>\n",
       "      <td>NaN</td>\n",
       "      <td>NaN</td>\n",
       "      <td>NaN</td>\n",
       "      <td>NaN</td>\n",
       "      <td>NaN</td>\n",
       "      <td>NaN</td>\n",
       "      <td>NaN</td>\n",
       "      <td>NaN</td>\n",
       "      <td>NaN</td>\n",
       "      <td>NaN</td>\n",
       "      <td>...</td>\n",
       "      <td>NaN</td>\n",
       "      <td>NaN</td>\n",
       "      <td>NaN</td>\n",
       "      <td>NaN</td>\n",
       "      <td>NaN</td>\n",
       "      <td>NaN</td>\n",
       "      <td>NaN</td>\n",
       "      <td>NaN</td>\n",
       "      <td>NaN</td>\n",
       "      <td>NaN</td>\n",
       "    </tr>\n",
       "    <tr>\n",
       "      <th>307305</th>\n",
       "      <td>NaN</td>\n",
       "      <td>NaN</td>\n",
       "      <td>NaN</td>\n",
       "      <td>NaN</td>\n",
       "      <td>NaN</td>\n",
       "      <td>NaN</td>\n",
       "      <td>NaN</td>\n",
       "      <td>NaN</td>\n",
       "      <td>NaN</td>\n",
       "      <td>NaN</td>\n",
       "      <td>...</td>\n",
       "      <td>NaN</td>\n",
       "      <td>NaN</td>\n",
       "      <td>NaN</td>\n",
       "      <td>NaN</td>\n",
       "      <td>NaN</td>\n",
       "      <td>NaN</td>\n",
       "      <td>NaN</td>\n",
       "      <td>NaN</td>\n",
       "      <td>NaN</td>\n",
       "      <td>NaN</td>\n",
       "    </tr>\n",
       "    <tr>\n",
       "      <th>313850</th>\n",
       "      <td>NaN</td>\n",
       "      <td>NaN</td>\n",
       "      <td>NaN</td>\n",
       "      <td>NaN</td>\n",
       "      <td>NaN</td>\n",
       "      <td>NaN</td>\n",
       "      <td>NaN</td>\n",
       "      <td>NaN</td>\n",
       "      <td>NaN</td>\n",
       "      <td>NaN</td>\n",
       "      <td>...</td>\n",
       "      <td>NaN</td>\n",
       "      <td>NaN</td>\n",
       "      <td>NaN</td>\n",
       "      <td>NaN</td>\n",
       "      <td>NaN</td>\n",
       "      <td>NaN</td>\n",
       "      <td>NaN</td>\n",
       "      <td>NaN</td>\n",
       "      <td>NaN</td>\n",
       "      <td>NaN</td>\n",
       "    </tr>\n",
       "  </tbody>\n",
       "</table>\n",
       "<p>11115 rows × 2438 columns</p>\n",
       "</div>"
      ],
      "text/plain": [
       "user_id  0     1     2     3     4     5     6     7     8     9     ...  \\\n",
       "game_id                                                              ...   \n",
       "1         NaN   NaN   NaN   NaN   NaN   NaN   NaN   NaN   5.0   NaN  ...   \n",
       "2         NaN   NaN   NaN   NaN   NaN   NaN   NaN   NaN   NaN   NaN  ...   \n",
       "3         NaN   NaN   NaN   NaN   NaN   NaN   NaN   NaN   4.0   NaN  ...   \n",
       "4         NaN   NaN   NaN   NaN   NaN   NaN   NaN   NaN   NaN   NaN  ...   \n",
       "5         NaN   NaN   8.0   NaN   NaN   NaN   NaN   NaN   7.0   NaN  ...   \n",
       "...       ...   ...   ...   ...   ...   ...   ...   ...   ...   ...  ...   \n",
       "303057    NaN   NaN   NaN   NaN   NaN   NaN   NaN   NaN   NaN   NaN  ...   \n",
       "303650    NaN   NaN   NaN   NaN   NaN   NaN   NaN   NaN   NaN   NaN  ...   \n",
       "305682    NaN   NaN   NaN   NaN   NaN   NaN   NaN   NaN   NaN   NaN  ...   \n",
       "307305    NaN   NaN   NaN   NaN   NaN   NaN   NaN   NaN   NaN   NaN  ...   \n",
       "313850    NaN   NaN   NaN   NaN   NaN   NaN   NaN   NaN   NaN   NaN  ...   \n",
       "\n",
       "user_id  2428  2429  2430  2431  2432  2433  2434  2435  2436  2437  \n",
       "game_id                                                              \n",
       "1         NaN   NaN   NaN   9.0  10.0   NaN   NaN   NaN   NaN   NaN  \n",
       "2         NaN   NaN   NaN   NaN   NaN   NaN   NaN   NaN   NaN   NaN  \n",
       "3         NaN   NaN   NaN  10.0   1.0   NaN   NaN   NaN   NaN   NaN  \n",
       "4         NaN   NaN   NaN   NaN   NaN   NaN   NaN   NaN   NaN   NaN  \n",
       "5         NaN   NaN   NaN   1.0   1.0   NaN   NaN   NaN   NaN   NaN  \n",
       "...       ...   ...   ...   ...   ...   ...   ...   ...   ...   ...  \n",
       "303057    NaN   NaN   NaN   NaN   NaN   NaN   NaN   NaN   NaN   NaN  \n",
       "303650    NaN   NaN   NaN   NaN   NaN   NaN   NaN   NaN   NaN   NaN  \n",
       "305682    NaN   NaN   NaN   NaN   NaN   NaN   NaN   NaN   NaN   NaN  \n",
       "307305    NaN   NaN   NaN   NaN   NaN   NaN   NaN   NaN   NaN   NaN  \n",
       "313850    NaN   NaN   NaN   NaN   NaN   NaN   NaN   NaN   NaN   NaN  \n",
       "\n",
       "[11115 rows x 2438 columns]"
      ]
     },
     "execution_count": 89,
     "metadata": {},
     "output_type": "execute_result"
    }
   ],
   "source": [
    "clustering"
   ]
  },
  {
   "cell_type": "markdown",
   "metadata": {},
   "source": [
    "Rows = Users\n",
    "Columns = Boardgames"
   ]
  },
  {
   "cell_type": "code",
   "execution_count": 90,
   "metadata": {},
   "outputs": [],
   "source": [
    "from scipy.sparse import csc_matrix\n",
    "from scipy.sparse.linalg import svds"
   ]
  },
  {
   "cell_type": "code",
   "execution_count": 91,
   "metadata": {},
   "outputs": [],
   "source": [
    "clustering1 = clustering.fillna(0)"
   ]
  },
  {
   "cell_type": "code",
   "execution_count": 92,
   "metadata": {},
   "outputs": [],
   "source": [
    "u, s, vt = svds(clustering1, k=8)"
   ]
  },
  {
   "cell_type": "code",
   "execution_count": 93,
   "metadata": {},
   "outputs": [
    {
     "data": {
      "text/plain": [
       "array([[-2.65199027e-04,  2.13156769e-01,  2.03206268e-01, ...,\n",
       "         1.02077730e-01,  4.72614313e-01, -3.02648740e-02],\n",
       "       [-1.33866881e-04,  1.96626154e-02,  4.08406813e-02, ...,\n",
       "         9.67691117e-03,  7.21559698e-02,  1.76199537e-02],\n",
       "       [ 2.07973521e-03,  2.90072927e-01,  1.04198573e-01, ...,\n",
       "         1.46370535e-01,  1.30219581e+00,  5.94359154e-01],\n",
       "       ...,\n",
       "       [-4.95463619e-05,  2.42649093e-03,  1.48328183e-03, ...,\n",
       "        -2.00496740e-03, -6.12406311e-03,  7.94225042e-03],\n",
       "       [ 1.35933107e-05, -2.48996766e-03,  2.42854513e-03, ...,\n",
       "         2.67933375e-03,  1.16359572e-02,  8.59494868e-03],\n",
       "       [ 1.55786262e-21, -7.56402149e-19, -7.92762495e-19, ...,\n",
       "        -2.47150604e-19, -1.42118011e-18,  2.51016040e-19]])"
      ]
     },
     "execution_count": 93,
     "metadata": {},
     "output_type": "execute_result"
    }
   ],
   "source": [
    "u.dot(np.diag(s).dot(vt))"
   ]
  },
  {
   "cell_type": "code",
   "execution_count": 94,
   "metadata": {},
   "outputs": [],
   "source": [
    "users_prediction = np.round(u.dot(np.diag(s).dot(vt)))"
   ]
  },
  {
   "cell_type": "code",
   "execution_count": 95,
   "metadata": {},
   "outputs": [
    {
     "data": {
      "text/plain": [
       "-0.0"
      ]
     },
     "execution_count": 95,
     "metadata": {},
     "output_type": "execute_result"
    }
   ],
   "source": [
    "users_prediction[0][440]"
   ]
  },
  {
   "cell_type": "markdown",
   "metadata": {},
   "source": [
    "- Rows = Users \n",
    "- Columns = Boardgames"
   ]
  },
  {
   "cell_type": "code",
   "execution_count": 96,
   "metadata": {
    "scrolled": false
   },
   "outputs": [
    {
     "data": {
      "text/plain": [
       "(11115, 2438)"
      ]
     },
     "execution_count": 96,
     "metadata": {},
     "output_type": "execute_result"
    }
   ],
   "source": [
    "clustering.shape"
   ]
  },
  {
   "cell_type": "code",
   "execution_count": 97,
   "metadata": {
    "scrolled": false
   },
   "outputs": [],
   "source": [
    "# list(clustering.columns)"
   ]
  },
  {
   "cell_type": "code",
   "execution_count": 98,
   "metadata": {},
   "outputs": [],
   "source": [
    "# list(range(0, 2438))"
   ]
  },
  {
   "cell_type": "code",
   "execution_count": 99,
   "metadata": {},
   "outputs": [],
   "source": [
    "columns_index = dict(zip(list(clustering.columns), list(range(0, 2438))))"
   ]
  },
  {
   "cell_type": "code",
   "execution_count": 100,
   "metadata": {},
   "outputs": [],
   "source": [
    "# Fazer o for loop pra pegar previsoes baseado no array \"user_prediction\""
   ]
  },
  {
   "cell_type": "code",
   "execution_count": null,
   "metadata": {},
   "outputs": [],
   "source": []
  },
  {
   "cell_type": "code",
   "execution_count": 101,
   "metadata": {},
   "outputs": [],
   "source": [
    "testset = trainset.build_anti_testset()"
   ]
  },
  {
   "cell_type": "code",
   "execution_count": 102,
   "metadata": {},
   "outputs": [],
   "source": [
    "predictions = svd.test(testset)"
   ]
  },
  {
   "cell_type": "code",
   "execution_count": 103,
   "metadata": {
    "scrolled": true
   },
   "outputs": [
    {
     "data": {
      "text/plain": [
       "[Prediction(uid=0, iid=278, r_ui=7.0350295792, est=7.2787385337952335, details={'was_impossible': False}),\n",
       " Prediction(uid=0, iid=12004, r_ui=7.0350295792, est=6.899825303284721, details={'was_impossible': False}),\n",
       " Prediction(uid=0, iid=9209, r_ui=7.0350295792, est=7.8323901648311764, details={'was_impossible': False}),\n",
       " Prediction(uid=0, iid=13, r_ui=7.0350295792, est=7.963737189160867, details={'was_impossible': False}),\n",
       " Prediction(uid=0, iid=118, r_ui=7.0350295792, est=8.263404173039444, details={'was_impossible': False}),\n",
       " Prediction(uid=0, iid=823, r_ui=7.0350295792, est=7.30086916752426, details={'was_impossible': False}),\n",
       " Prediction(uid=0, iid=3076, r_ui=7.0350295792, est=8.45165525643983, details={'was_impossible': False}),\n",
       " Prediction(uid=0, iid=18602, r_ui=7.0350295792, est=8.212179538281577, details={'was_impossible': False}),\n",
       " Prediction(uid=0, iid=5737, r_ui=7.0350295792, est=7.794854441548155, details={'was_impossible': False}),\n",
       " Prediction(uid=0, iid=15045, r_ui=7.0350295792, est=7.047671219246505, details={'was_impossible': False}),\n",
       " Prediction(uid=0, iid=9609, r_ui=7.0350295792, est=7.815653767382127, details={'was_impossible': False}),\n",
       " Prediction(uid=0, iid=10547, r_ui=7.0350295792, est=7.050088012568428, details={'was_impossible': False}),\n",
       " Prediction(uid=0, iid=5336, r_ui=7.0350295792, est=7.054433552724819, details={'was_impossible': False}),\n",
       " Prediction(uid=0, iid=7479, r_ui=7.0350295792, est=6.686469371597642, details={'was_impossible': False}),\n",
       " Prediction(uid=0, iid=17226, r_ui=7.0350295792, est=7.868026954368374, details={'was_impossible': False}),\n",
       " Prediction(uid=0, iid=15987, r_ui=7.0350295792, est=6.72504119221905, details={'was_impossible': False}),\n",
       " Prediction(uid=0, iid=9829, r_ui=7.0350295792, est=7.553087747852041, details={'was_impossible': False}),\n",
       " Prediction(uid=0, iid=3284, r_ui=7.0350295792, est=7.368219383121028, details={'was_impossible': False}),\n",
       " Prediction(uid=0, iid=5, r_ui=7.0350295792, est=7.8485549098272624, details={'was_impossible': False}),\n",
       " Prediction(uid=0, iid=5029, r_ui=7.0350295792, est=7.384715378214779, details={'was_impossible': False}),\n",
       " Prediction(uid=0, iid=2181, r_ui=7.0350295792, est=8.200974559626049, details={'was_impossible': False}),\n",
       " Prediction(uid=0, iid=22947, r_ui=7.0350295792, est=7.288521214207011, details={'was_impossible': False}),\n",
       " Prediction(uid=0, iid=4616, r_ui=7.0350295792, est=7.643582989098737, details={'was_impossible': False}),\n",
       " Prediction(uid=0, iid=171, r_ui=7.0350295792, est=7.640930374769385, details={'was_impossible': False}),\n",
       " Prediction(uid=0, iid=188, r_ui=7.0350295792, est=8.36738159933319, details={'was_impossible': False}),\n",
       " Prediction(uid=0, iid=36946, r_ui=7.0350295792, est=7.038304513916528, details={'was_impossible': False}),\n",
       " Prediction(uid=0, iid=9446, r_ui=7.0350295792, est=7.515208477091193, details={'was_impossible': False}),\n",
       " Prediction(uid=0, iid=822, r_ui=7.0350295792, est=7.625945250879555, details={'was_impossible': False}),\n",
       " Prediction(uid=0, iid=478, r_ui=7.0350295792, est=7.370795897570339, details={'was_impossible': False}),\n",
       " Prediction(uid=0, iid=143884, r_ui=7.0350295792, est=7.192823497864657, details={'was_impossible': False}),\n",
       " Prediction(uid=0, iid=157354, r_ui=7.0350295792, est=8.49345060250995, details={'was_impossible': False}),\n",
       " Prediction(uid=0, iid=102548, r_ui=7.0350295792, est=7.361687856586299, details={'was_impossible': False}),\n",
       " Prediction(uid=0, iid=17710, r_ui=7.0350295792, est=7.182830564334728, details={'was_impossible': False}),\n",
       " Prediction(uid=0, iid=1502, r_ui=7.0350295792, est=6.197886682947136, details={'was_impossible': False}),\n",
       " Prediction(uid=0, iid=226520, r_ui=7.0350295792, est=7.867620243321423, details={'was_impossible': False}),\n",
       " Prediction(uid=0, iid=48726, r_ui=7.0350295792, est=8.223984181227635, details={'was_impossible': False}),\n",
       " Prediction(uid=0, iid=54043, r_ui=7.0350295792, est=8.085692023957238, details={'was_impossible': False}),\n",
       " Prediction(uid=0, iid=85250, r_ui=7.0350295792, est=7.444422349532569, details={'was_impossible': False}),\n",
       " Prediction(uid=0, iid=2679, r_ui=7.0350295792, est=5.9469973779250145, details={'was_impossible': False}),\n",
       " Prediction(uid=0, iid=46213, r_ui=7.0350295792, est=7.795503942745138, details={'was_impossible': False}),\n",
       " Prediction(uid=0, iid=181304, r_ui=7.0350295792, est=7.945019900238474, details={'was_impossible': False}),\n",
       " Prediction(uid=0, iid=5782, r_ui=7.0350295792, est=7.582128330670059, details={'was_impossible': False}),\n",
       " Prediction(uid=0, iid=77423, r_ui=7.0350295792, est=8.424001224737, details={'was_impossible': False}),\n",
       " Prediction(uid=0, iid=121408, r_ui=7.0350295792, est=7.904585268068229, details={'was_impossible': False}),\n",
       " Prediction(uid=0, iid=41114, r_ui=7.0350295792, est=7.875160137535224, details={'was_impossible': False}),\n",
       " Prediction(uid=0, iid=150138, r_ui=7.0350295792, est=7.428974700747695, details={'was_impossible': False}),\n",
       " Prediction(uid=0, iid=16772, r_ui=7.0350295792, est=7.484460825913798, details={'was_impossible': False}),\n",
       " Prediction(uid=0, iid=39856, r_ui=7.0350295792, est=7.488018909139242, details={'was_impossible': False}),\n",
       " Prediction(uid=0, iid=2651, r_ui=7.0350295792, est=8.425071153457198, details={'was_impossible': False}),\n",
       " Prediction(uid=0, iid=255675, r_ui=7.0350295792, est=7.38658194812108, details={'was_impossible': False}),\n",
       " Prediction(uid=0, iid=40692, r_ui=7.0350295792, est=7.836506226949588, details={'was_impossible': False}),\n",
       " Prediction(uid=0, iid=34701, r_ui=7.0350295792, est=7.373830778257849, details={'was_impossible': False}),\n",
       " Prediction(uid=0, iid=245353, r_ui=7.0350295792, est=7.079500450855265, details={'was_impossible': False}),\n",
       " Prediction(uid=0, iid=70323, r_ui=7.0350295792, est=7.280742266982606, details={'was_impossible': False}),\n",
       " Prediction(uid=0, iid=28025, r_ui=7.0350295792, est=7.031362569591592, details={'was_impossible': False}),\n",
       " Prediction(uid=0, iid=119788, r_ui=7.0350295792, est=8.361451315714092, details={'was_impossible': False}),\n",
       " Prediction(uid=0, iid=148951, r_ui=7.0350295792, est=7.035555193060862, details={'was_impossible': False}),\n",
       " Prediction(uid=0, iid=226518, r_ui=7.0350295792, est=7.6320734215362815, details={'was_impossible': False}),\n",
       " Prediction(uid=0, iid=188834, r_ui=7.0350295792, est=7.949048408317379, details={'was_impossible': False}),\n",
       " Prediction(uid=0, iid=169786, r_ui=7.0350295792, est=8.82917327311834, details={'was_impossible': False}),\n",
       " Prediction(uid=0, iid=40834, r_ui=7.0350295792, est=7.978110307585116, details={'was_impossible': False}),\n",
       " Prediction(uid=0, iid=45315, r_ui=7.0350295792, est=7.950108447553984, details={'was_impossible': False}),\n",
       " Prediction(uid=0, iid=9220, r_ui=7.0350295792, est=7.186656558819048, details={'was_impossible': False}),\n",
       " Prediction(uid=0, iid=121410, r_ui=7.0350295792, est=7.234338410881013, details={'was_impossible': False}),\n",
       " Prediction(uid=0, iid=24480, r_ui=7.0350295792, est=7.897730421683574, details={'was_impossible': False}),\n",
       " Prediction(uid=0, iid=202408, r_ui=7.0350295792, est=7.698381248387829, details={'was_impossible': False}),\n",
       " Prediction(uid=0, iid=294612, r_ui=7.0350295792, est=7.7342411547689816, details={'was_impossible': False}),\n",
       " Prediction(uid=0, iid=203420, r_ui=7.0350295792, est=8.082237527786658, details={'was_impossible': False}),\n",
       " Prediction(uid=0, iid=27162, r_ui=7.0350295792, est=7.690802140469947, details={'was_impossible': False}),\n",
       " Prediction(uid=0, iid=98778, r_ui=7.0350295792, est=7.661821152242274, details={'was_impossible': False}),\n",
       " Prediction(uid=0, iid=2604, r_ui=7.0350295792, est=7.344948896711794, details={'was_impossible': False}),\n",
       " Prediction(uid=0, iid=503, r_ui=7.0350295792, est=7.756697693158161, details={'was_impossible': False}),\n",
       " Prediction(uid=0, iid=29223, r_ui=7.0350295792, est=7.6490770975731595, details={'was_impossible': False}),\n",
       " Prediction(uid=0, iid=9625, r_ui=7.0350295792, est=7.994150166184798, details={'was_impossible': False}),\n",
       " Prediction(uid=0, iid=147020, r_ui=7.0350295792, est=7.9816430902838365, details={'was_impossible': False}),\n",
       " Prediction(uid=0, iid=31594, r_ui=7.0350295792, est=7.3568065504936175, details={'was_impossible': False}),\n",
       " Prediction(uid=0, iid=144797, r_ui=7.0350295792, est=8.275940105634461, details={'was_impossible': False}),\n",
       " Prediction(uid=0, iid=700, r_ui=7.0350295792, est=6.846723055763215, details={'was_impossible': False}),\n",
       " Prediction(uid=0, iid=127398, r_ui=7.0350295792, est=7.83082802509894, details={'was_impossible': False}),\n",
       " Prediction(uid=0, iid=172, r_ui=7.0350295792, est=7.696526916253078, details={'was_impossible': False}),\n",
       " Prediction(uid=0, iid=128667, r_ui=7.0350295792, est=7.186382172693335, details={'was_impossible': False}),\n",
       " Prediction(uid=0, iid=146508, r_ui=7.0350295792, est=8.171826641895075, details={'was_impossible': False}),\n",
       " Prediction(uid=0, iid=215841, r_ui=7.0350295792, est=6.921107666726315, details={'was_impossible': False}),\n",
       " Prediction(uid=0, iid=90419, r_ui=7.0350295792, est=8.19107334123203, details={'was_impossible': False}),\n",
       " Prediction(uid=0, iid=161970, r_ui=7.0350295792, est=8.482953713727508, details={'was_impossible': False}),\n",
       " Prediction(uid=0, iid=466, r_ui=7.0350295792, est=6.621771645779934, details={'was_impossible': False}),\n",
       " Prediction(uid=0, iid=131357, r_ui=7.0350295792, est=7.440044454316626, details={'was_impossible': False}),\n",
       " Prediction(uid=0, iid=27173, r_ui=7.0350295792, est=7.90240660917056, details={'was_impossible': False}),\n",
       " Prediction(uid=0, iid=197572, r_ui=7.0350295792, est=7.955732297480689, details={'was_impossible': False}),\n",
       " Prediction(uid=0, iid=245352, r_ui=7.0350295792, est=7.928708329651287, details={'was_impossible': False}),\n",
       " Prediction(uid=0, iid=1768, r_ui=7.0350295792, est=6.964786823251367, details={'was_impossible': False}),\n",
       " Prediction(uid=0, iid=891, r_ui=7.0350295792, est=6.668901910479014, details={'was_impossible': False}),\n",
       " Prediction(uid=0, iid=2162, r_ui=7.0350295792, est=6.404444036211077, details={'was_impossible': False}),\n",
       " Prediction(uid=0, iid=147623, r_ui=7.0350295792, est=7.218222359687675, details={'was_impossible': False}),\n",
       " Prediction(uid=0, iid=42452, r_ui=7.0350295792, est=7.295862939676179, details={'was_impossible': False}),\n",
       " Prediction(uid=0, iid=10081, r_ui=7.0350295792, est=7.029776894430554, details={'was_impossible': False}),\n",
       " Prediction(uid=0, iid=35935, r_ui=7.0350295792, est=7.8219447994605815, details={'was_impossible': False}),\n",
       " Prediction(uid=0, iid=154458, r_ui=7.0350295792, est=7.576759496417686, details={'was_impossible': False}),\n",
       " Prediction(uid=0, iid=216094, r_ui=7.0350295792, est=7.518695525264009, details={'was_impossible': False}),\n",
       " Prediction(uid=0, iid=167355, r_ui=7.0350295792, est=8.604729259327426, details={'was_impossible': False}),\n",
       " Prediction(uid=0, iid=226522, r_ui=7.0350295792, est=8.254245907129858, details={'was_impossible': False}),\n",
       " Prediction(uid=0, iid=1899, r_ui=7.0350295792, est=6.188081881980667, details={'was_impossible': False}),\n",
       " Prediction(uid=0, iid=47, r_ui=7.0350295792, est=7.772377999346324, details={'was_impossible': False}),\n",
       " Prediction(uid=0, iid=34707, r_ui=7.0350295792, est=7.4470937757430695, details={'was_impossible': False}),\n",
       " Prediction(uid=0, iid=38862, r_ui=7.0350295792, est=7.738415447377277, details={'was_impossible': False}),\n",
       " Prediction(uid=0, iid=6923, r_ui=7.0350295792, est=7.062730936696511, details={'was_impossible': False}),\n",
       " Prediction(uid=0, iid=91312, r_ui=7.0350295792, est=7.786744249733653, details={'was_impossible': False}),\n",
       " Prediction(uid=0, iid=71721, r_ui=7.0350295792, est=7.149559159051954, details={'was_impossible': False}),\n",
       " Prediction(uid=0, iid=54998, r_ui=7.0350295792, est=8.184396337670146, details={'was_impossible': False}),\n",
       " Prediction(uid=0, iid=25613, r_ui=7.0350295792, est=8.570529431677118, details={'was_impossible': False}),\n",
       " Prediction(uid=0, iid=192860, r_ui=7.0350295792, est=7.325882551034485, details={'was_impossible': False}),\n",
       " Prediction(uid=0, iid=3201, r_ui=7.0350295792, est=7.805115920758491, details={'was_impossible': False}),\n",
       " Prediction(uid=0, iid=35677, r_ui=7.0350295792, est=8.030398758679468, details={'was_impossible': False}),\n",
       " Prediction(uid=0, iid=97207, r_ui=7.0350295792, est=8.15296209070276, details={'was_impossible': False}),\n",
       " Prediction(uid=0, iid=266192, r_ui=7.0350295792, est=8.647783595547043, details={'was_impossible': False}),\n",
       " Prediction(uid=0, iid=12333, r_ui=7.0350295792, est=8.746886406921734, details={'was_impossible': False}),\n",
       " Prediction(uid=0, iid=1829, r_ui=7.0350295792, est=7.635606601309855, details={'was_impossible': False}),\n",
       " Prediction(uid=0, iid=129622, r_ui=7.0350295792, est=7.517847837177524, details={'was_impossible': False}),\n",
       " Prediction(uid=0, iid=30869, r_ui=7.0350295792, est=7.448893512568688, details={'was_impossible': False}),\n",
       " Prediction(uid=0, iid=1568, r_ui=7.0350295792, est=7.512796685974441, details={'was_impossible': False}),\n",
       " Prediction(uid=0, iid=34119, r_ui=7.0350295792, est=7.6209422913010165, details={'was_impossible': False}),\n",
       " Prediction(uid=0, iid=188866, r_ui=7.0350295792, est=7.964735620230731, details={'was_impossible': False}),\n",
       " Prediction(uid=0, iid=155426, r_ui=7.0350295792, est=8.204397091896737, details={'was_impossible': False}),\n",
       " Prediction(uid=0, iid=21790, r_ui=7.0350295792, est=8.04213013356247, details={'was_impossible': False}),\n",
       " Prediction(uid=0, iid=163412, r_ui=7.0350295792, est=8.084790161923394, details={'was_impossible': False}),\n",
       " Prediction(uid=0, iid=74, r_ui=7.0350295792, est=6.67914634709211, details={'was_impossible': False}),\n",
       " Prediction(uid=0, iid=150996, r_ui=7.0350295792, est=7.108776577321377, details={'was_impossible': False}),\n",
       " Prediction(uid=0, iid=90137, r_ui=7.0350295792, est=7.912023457616974, details={'was_impossible': False}),\n",
       " Prediction(uid=0, iid=80869, r_ui=7.0350295792, est=7.154632041215707, details={'was_impossible': False}),\n",
       " Prediction(uid=0, iid=258413, r_ui=7.0350295792, est=7.435157772035657, details={'was_impossible': False}),\n",
       " Prediction(uid=0, iid=128882, r_ui=7.0350295792, est=7.892544870734065, details={'was_impossible': False}),\n",
       " Prediction(uid=0, iid=46158, r_ui=7.0350295792, est=7.569471266798951, details={'was_impossible': False}),\n",
       " Prediction(uid=0, iid=175155, r_ui=7.0350295792, est=8.287597181752519, details={'was_impossible': False}),\n",
       " Prediction(uid=0, iid=25623, r_ui=7.0350295792, est=7.2390552190654835, details={'was_impossible': False}),\n",
       " Prediction(uid=0, iid=7, r_ui=7.0350295792, est=7.064498927816274, details={'was_impossible': False}),\n",
       " Prediction(uid=0, iid=20551, r_ui=7.0350295792, est=7.981390081086277, details={'was_impossible': False}),\n",
       " Prediction(uid=0, iid=204836, r_ui=7.0350295792, est=7.0030661636186995, details={'was_impossible': False}),\n",
       " Prediction(uid=0, iid=203416, r_ui=7.0350295792, est=7.762930312022338, details={'was_impossible': False}),\n",
       " Prediction(uid=0, iid=715, r_ui=7.0350295792, est=7.5067654880807035, details={'was_impossible': False}),\n",
       " Prediction(uid=0, iid=100901, r_ui=7.0350295792, est=7.779580408053784, details={'was_impossible': False}),\n",
       " Prediction(uid=0, iid=14808, r_ui=7.0350295792, est=7.211702322925955, details={'was_impossible': False}),\n",
       " Prediction(uid=0, iid=43443, r_ui=7.0350295792, est=7.3006358325347485, details={'was_impossible': False}),\n",
       " Prediction(uid=0, iid=173346, r_ui=7.0350295792, est=8.494324564352558, details={'was_impossible': False}),\n",
       " Prediction(uid=0, iid=38054, r_ui=7.0350295792, est=7.83915166757089, details={'was_impossible': False}),\n",
       " Prediction(uid=0, iid=84419, r_ui=7.0350295792, est=8.140485768360481, details={'was_impossible': False}),\n",
       " Prediction(uid=0, iid=10167, r_ui=7.0350295792, est=6.785733409789935, details={'was_impossible': False}),\n",
       " Prediction(uid=0, iid=38949, r_ui=7.0350295792, est=7.0916585835466535, details={'was_impossible': False}),\n",
       " Prediction(uid=0, iid=84876, r_ui=7.0350295792, est=8.32899483624562, details={'was_impossible': False}),\n",
       " Prediction(uid=0, iid=128621, r_ui=7.0350295792, est=8.48531701138069, details={'was_impossible': False}),\n",
       " Prediction(uid=0, iid=144529, r_ui=7.0350295792, est=7.371305177507929, details={'was_impossible': False}),\n",
       " Prediction(uid=0, iid=17223, r_ui=7.0350295792, est=7.029489520786859, details={'was_impossible': False}),\n",
       " Prediction(uid=0, iid=20963, r_ui=7.0350295792, est=7.486159135289034, details={'was_impossible': False}),\n",
       " Prediction(uid=0, iid=32341, r_ui=7.0350295792, est=7.166638073288756, details={'was_impossible': False}),\n",
       " Prediction(uid=0, iid=216091, r_ui=7.0350295792, est=7.419132937730791, details={'was_impossible': False}),\n",
       " Prediction(uid=0, iid=108722, r_ui=7.0350295792, est=7.381022959507427, details={'was_impossible': False}),\n",
       " Prediction(uid=0, iid=10383, r_ui=7.0350295792, est=6.981401555513325, details={'was_impossible': False}),\n",
       " Prediction(uid=0, iid=18803, r_ui=7.0350295792, est=7.108993558367027, details={'was_impossible': False}),\n",
       " Prediction(uid=0, iid=205637, r_ui=7.0350295792, est=8.761319460608352, details={'was_impossible': False}),\n",
       " Prediction(uid=0, iid=230303, r_ui=7.0350295792, est=7.528028801048076, details={'was_impossible': False}),\n",
       " Prediction(uid=0, iid=171726, r_ui=7.0350295792, est=7.663643785483071, details={'was_impossible': False}),\n",
       " Prediction(uid=0, iid=1917, r_ui=7.0350295792, est=6.491616407061509, details={'was_impossible': False}),\n",
       " Prediction(uid=0, iid=110327, r_ui=7.0350295792, est=8.295279577165273, details={'was_impossible': False}),\n",
       " Prediction(uid=0, iid=250781, r_ui=7.0350295792, est=7.100674052473689, details={'was_impossible': False}),\n",
       " Prediction(uid=0, iid=230498, r_ui=7.0350295792, est=6.658257219401528, details={'was_impossible': False}),\n",
       " Prediction(uid=0, iid=14105, r_ui=7.0350295792, est=8.194290854449202, details={'was_impossible': False}),\n",
       " Prediction(uid=0, iid=258411, r_ui=7.0350295792, est=7.387026588345798, details={'was_impossible': False}),\n",
       " Prediction(uid=0, iid=50, r_ui=7.0350295792, est=7.90887643136333, details={'was_impossible': False}),\n",
       " Prediction(uid=0, iid=205059, r_ui=7.0350295792, est=8.171588252665241, details={'was_impossible': False}),\n",
       " Prediction(uid=0, iid=103885, r_ui=7.0350295792, est=7.705907399505344, details={'was_impossible': False}),\n",
       " Prediction(uid=0, iid=22038, r_ui=7.0350295792, est=7.287292759461315, details={'was_impossible': False}),\n",
       " Prediction(uid=0, iid=103886, r_ui=7.0350295792, est=7.227699564147263, details={'was_impossible': False}),\n",
       " Prediction(uid=0, iid=146021, r_ui=7.0350295792, est=6.997217216912714, details={'was_impossible': False}),\n",
       " Prediction(uid=0, iid=83330, r_ui=7.0350295792, est=7.805463107169679, details={'was_impossible': False}),\n",
       " Prediction(uid=0, iid=2653, r_ui=7.0350295792, est=7.84088459306318, details={'was_impossible': False}),\n",
       " Prediction(uid=0, iid=31260, r_ui=7.0350295792, est=8.569256549520144, details={'was_impossible': False}),\n",
       " Prediction(uid=0, iid=117854, r_ui=7.0350295792, est=7.0604567248766035, details={'was_impossible': False}),\n",
       " Prediction(uid=0, iid=432, r_ui=7.0350295792, est=7.628889130179199, details={'was_impossible': False}),\n",
       " Prediction(uid=0, iid=145888, r_ui=7.0350295792, est=7.41555390675573, details={'was_impossible': False}),\n",
       " Prediction(uid=0, iid=157526, r_ui=7.0350295792, est=7.612040706920739, details={'was_impossible': False}),\n",
       " Prediction(uid=0, iid=258412, r_ui=7.0350295792, est=7.241205609690329, details={'was_impossible': False}),\n",
       " Prediction(uid=0, iid=15512, r_ui=7.0350295792, est=7.605951511361177, details={'was_impossible': False}),\n",
       " Prediction(uid=0, iid=205398, r_ui=7.0350295792, est=7.4376749448392205, details={'was_impossible': False}),\n",
       " Prediction(uid=0, iid=203417, r_ui=7.0350295792, est=7.304020180195094, details={'was_impossible': False}),\n",
       " Prediction(uid=0, iid=28143, r_ui=7.0350295792, est=8.20688973736284, details={'was_impossible': False}),\n",
       " Prediction(uid=0, iid=177080, r_ui=7.0350295792, est=7.255432558963787, details={'was_impossible': False}),\n",
       " Prediction(uid=0, iid=245354, r_ui=7.0350295792, est=7.8184169181912075, details={'was_impossible': False}),\n",
       " Prediction(uid=0, iid=65244, r_ui=7.0350295792, est=7.023757042317791, details={'was_impossible': False}),\n",
       " Prediction(uid=0, iid=131325, r_ui=7.0350295792, est=7.37049806764756, details={'was_impossible': False}),\n",
       " Prediction(uid=0, iid=210179, r_ui=7.0350295792, est=7.539078868689323, details={'was_impossible': False}),\n",
       " Prediction(uid=0, iid=175621, r_ui=7.0350295792, est=6.7666073175350405, details={'was_impossible': False}),\n",
       " Prediction(uid=0, iid=230305, r_ui=7.0350295792, est=7.4623985005605356, details={'was_impossible': False}),\n",
       " Prediction(uid=0, iid=197097, r_ui=7.0350295792, est=7.921537705884043, details={'was_impossible': False}),\n",
       " Prediction(uid=0, iid=279613, r_ui=7.0350295792, est=7.968473849246092, details={'was_impossible': False}),\n",
       " Prediction(uid=0, iid=18833, r_ui=7.0350295792, est=7.938340770079262, details={'was_impossible': False}),\n",
       " Prediction(uid=0, iid=36218, r_ui=7.0350295792, est=7.777111394629729, details={'was_impossible': False}),\n",
       " Prediction(uid=0, iid=22827, r_ui=7.0350295792, est=7.915783152204414, details={'was_impossible': False}),\n",
       " Prediction(uid=0, iid=8098, r_ui=7.0350295792, est=7.150068780635369, details={'was_impossible': False}),\n",
       " Prediction(uid=0, iid=216092, r_ui=7.0350295792, est=7.7127438302109965, details={'was_impossible': False}),\n",
       " Prediction(uid=0, iid=145189, r_ui=7.0350295792, est=6.9410088197116755, details={'was_impossible': False}),\n",
       " Prediction(uid=0, iid=156858, r_ui=7.0350295792, est=8.324389425040616, details={'was_impossible': False}),\n",
       " Prediction(uid=0, iid=37904, r_ui=7.0350295792, est=7.693336755090862, details={'was_impossible': False}),\n",
       " Prediction(uid=0, iid=124361, r_ui=7.0350295792, est=8.429597177936985, details={'was_impossible': False}),\n",
       " Prediction(uid=0, iid=17133, r_ui=7.0350295792, est=8.457603013662284, details={'was_impossible': False}),\n",
       " Prediction(uid=0, iid=10630, r_ui=7.0350295792, est=8.166802351916704, details={'was_impossible': False}),\n",
       " Prediction(uid=0, iid=42, r_ui=7.0350295792, est=7.890381740248006, details={'was_impossible': False}),\n",
       " Prediction(uid=0, iid=160495, r_ui=7.0350295792, est=7.877452298706939, details={'was_impossible': False}),\n",
       " Prediction(uid=0, iid=244918, r_ui=7.0350295792, est=7.787328536861981, details={'was_impossible': False}),\n",
       " Prediction(uid=0, iid=12493, r_ui=7.0350295792, est=7.639276240026409, details={'was_impossible': False}),\n",
       " Prediction(uid=0, iid=92828, r_ui=7.0350295792, est=7.633421324855022, details={'was_impossible': False}),\n",
       " Prediction(uid=0, iid=167791, r_ui=7.0350295792, est=8.71274712567885, details={'was_impossible': False}),\n",
       " Prediction(uid=0, iid=3955, r_ui=7.0350295792, est=7.525198546788365, details={'was_impossible': False}),\n",
       " Prediction(uid=0, iid=154443, r_ui=7.0350295792, est=7.105486585236588, details={'was_impossible': False}),\n",
       " Prediction(uid=0, iid=127023, r_ui=7.0350295792, est=8.246121274890536, details={'was_impossible': False}),\n",
       " Prediction(uid=0, iid=180593, r_ui=7.0350295792, est=7.723044844729285, details={'was_impossible': False}),\n",
       " Prediction(uid=0, iid=145475, r_ui=7.0350295792, est=7.151039904590196, details={'was_impossible': False}),\n",
       " Prediction(uid=0, iid=152237, r_ui=7.0350295792, est=7.216491234429027, details={'was_impossible': False}),\n",
       " Prediction(uid=0, iid=100423, r_ui=7.0350295792, est=7.447643412756952, details={'was_impossible': False}),\n",
       " Prediction(uid=0, iid=143986, r_ui=7.0350295792, est=7.320530237092413, details={'was_impossible': False}),\n",
       " Prediction(uid=0, iid=150376, r_ui=7.0350295792, est=7.879321503881408, details={'was_impossible': False}),\n",
       " Prediction(uid=0, iid=180020, r_ui=7.0350295792, est=6.6058350422318295, details={'was_impossible': False}),\n",
       " Prediction(uid=0, iid=54625, r_ui=7.0350295792, est=8.191606825263657, details={'was_impossible': False}),\n",
       " Prediction(uid=0, iid=163967, r_ui=7.0350295792, est=7.670846980113412, details={'was_impossible': False}),\n",
       " Prediction(uid=0, iid=146791, r_ui=7.0350295792, est=8.294844987593395, details={'was_impossible': False}),\n",
       " Prediction(uid=0, iid=57660, r_ui=7.0350295792, est=7.751093008620204, details={'was_impossible': False}),\n",
       " Prediction(uid=0, iid=2511, r_ui=7.0350295792, est=7.925735556281317, details={'was_impossible': False}),\n",
       " Prediction(uid=0, iid=67436, r_ui=7.0350295792, est=6.940087533262851, details={'was_impossible': False}),\n",
       " Prediction(uid=0, iid=239188, r_ui=7.0350295792, est=8.31066881736508, details={'was_impossible': False}),\n",
       " Prediction(uid=0, iid=15818, r_ui=7.0350295792, est=7.2750691801701395, details={'was_impossible': False}),\n",
       " Prediction(uid=0, iid=463, r_ui=7.0350295792, est=8.937149158056403, details={'was_impossible': False}),\n",
       " Prediction(uid=0, iid=8924, r_ui=7.0350295792, est=7.4220067527933455, details={'was_impossible': False}),\n",
       " Prediction(uid=0, iid=22192, r_ui=7.0350295792, est=7.668147082009658, details={'was_impossible': False}),\n",
       " Prediction(uid=0, iid=250442, r_ui=7.0350295792, est=7.350108792268127, details={'was_impossible': False}),\n",
       " Prediction(uid=0, iid=22141, r_ui=7.0350295792, est=7.2757579674179, details={'was_impossible': False}),\n",
       " Prediction(uid=0, iid=107255, r_ui=7.0350295792, est=7.447348920150806, details={'was_impossible': False}),\n",
       " Prediction(uid=0, iid=104573, r_ui=7.0350295792, est=7.439506255727919, details={'was_impossible': False}),\n",
       " Prediction(uid=0, iid=174430, r_ui=7.0350295792, est=8.728794898443915, details={'was_impossible': False}),\n",
       " Prediction(uid=0, iid=217, r_ui=7.0350295792, est=6.995121144482017, details={'was_impossible': False}),\n",
       " Prediction(uid=0, iid=36739, r_ui=7.0350295792, est=6.824619431723922, details={'was_impossible': False}),\n",
       " Prediction(uid=0, iid=10093, r_ui=7.0350295792, est=6.835059784570591, details={'was_impossible': False}),\n",
       " Prediction(uid=0, iid=103343, r_ui=7.0350295792, est=8.244592507949049, details={'was_impossible': False}),\n",
       " Prediction(uid=0, iid=170216, r_ui=7.0350295792, est=8.245607604593303, details={'was_impossible': False}),\n",
       " Prediction(uid=0, iid=154203, r_ui=7.0350295792, est=7.998339781268683, details={'was_impossible': False}),\n",
       " Prediction(uid=0, iid=124742, r_ui=7.0350295792, est=8.809474137374789, details={'was_impossible': False}),\n",
       " Prediction(uid=0, iid=2381, r_ui=7.0350295792, est=7.0797448445534785, details={'was_impossible': False}),\n",
       " Prediction(uid=0, iid=202982, r_ui=7.0350295792, est=7.092136661369241, details={'was_impossible': False}),\n",
       " Prediction(uid=0, iid=38453, r_ui=7.0350295792, est=7.954056088406831, details={'was_impossible': False}),\n",
       " Prediction(uid=0, iid=37380, r_ui=7.0350295792, est=7.630816283220838, details={'was_impossible': False}),\n",
       " Prediction(uid=0, iid=15062, r_ui=7.0350295792, est=7.825993771233385, details={'was_impossible': False}),\n",
       " Prediction(uid=0, iid=12692, r_ui=7.0350295792, est=6.732897608415432, details={'was_impossible': False}),\n",
       " Prediction(uid=0, iid=72287, r_ui=7.0350295792, est=7.225909797568993, details={'was_impossible': False}),\n",
       " Prediction(uid=0, iid=38863, r_ui=7.0350295792, est=7.112202940328278, details={'was_impossible': False}),\n",
       " Prediction(uid=0, iid=68448, r_ui=7.0350295792, est=8.039560646990637, details={'was_impossible': False}),\n",
       " Prediction(uid=0, iid=14996, r_ui=7.0350295792, est=8.24577691283294, details={'was_impossible': False}),\n",
       " Prediction(uid=0, iid=153, r_ui=7.0350295792, est=7.273165449563391, details={'was_impossible': False}),\n",
       " Prediction(uid=0, iid=91536, r_ui=7.0350295792, est=7.130682549343854, details={'was_impossible': False}),\n",
       " Prediction(uid=0, iid=169654, r_ui=7.0350295792, est=7.41714140663108, details={'was_impossible': False}),\n",
       " Prediction(uid=0, iid=25821, r_ui=7.0350295792, est=7.0452175328846245, details={'was_impossible': False}),\n",
       " Prediction(uid=0, iid=266121, r_ui=7.0350295792, est=8.14837338400315, details={'was_impossible': False}),\n",
       " Prediction(uid=0, iid=187645, r_ui=7.0350295792, est=8.844171550156128, details={'was_impossible': False}),\n",
       " Prediction(uid=0, iid=11, r_ui=7.0350295792, est=7.723666483457595, details={'was_impossible': False}),\n",
       " Prediction(uid=0, iid=230802, r_ui=7.0350295792, est=8.38333240079654, details={'was_impossible': False}),\n",
       " Prediction(uid=0, iid=215842, r_ui=7.0350295792, est=6.970301590949022, details={'was_impossible': False}),\n",
       " Prediction(uid=0, iid=223931, r_ui=7.0350295792, est=7.425405899766242, details={'was_impossible': False}),\n",
       " Prediction(uid=0, iid=139030, r_ui=7.0350295792, est=7.039562504021386, details={'was_impossible': False}),\n",
       " Prediction(uid=0, iid=257501, r_ui=7.0350295792, est=8.100266063013422, details={'was_impossible': False}),\n",
       " Prediction(uid=0, iid=104363, r_ui=7.0350295792, est=7.4414610664270855, details={'was_impossible': False}),\n",
       " Prediction(uid=0, iid=109276, r_ui=7.0350295792, est=8.007020511011943, details={'was_impossible': False}),\n",
       " Prediction(uid=0, iid=93, r_ui=7.0350295792, est=8.165831315189527, details={'was_impossible': False}),\n",
       " Prediction(uid=0, iid=131835, r_ui=7.0350295792, est=6.543652251189682, details={'was_impossible': False}),\n",
       " Prediction(uid=0, iid=126163, r_ui=7.0350295792, est=7.950918463774366, details={'was_impossible': False}),\n",
       " Prediction(uid=0, iid=120677, r_ui=7.0350295792, est=8.627020161359662, details={'was_impossible': False}),\n",
       " Prediction(uid=0, iid=37111, r_ui=7.0350295792, est=7.968977759011229, details={'was_impossible': False}),\n",
       " Prediction(uid=0, iid=80006, r_ui=7.0350295792, est=6.839416182909062, details={'was_impossible': False}),\n",
       " Prediction(uid=0, iid=39463, r_ui=7.0350295792, est=7.388964928653316, details={'was_impossible': False}),\n",
       " Prediction(uid=0, iid=198773, r_ui=7.0350295792, est=7.921434445939075, details={'was_impossible': False}),\n",
       " Prediction(uid=0, iid=9674, r_ui=7.0350295792, est=7.823842700997939, details={'was_impossible': False}),\n",
       " Prediction(uid=0, iid=230304, r_ui=7.0350295792, est=6.517974026694718, details={'was_impossible': False}),\n",
       " Prediction(uid=0, iid=21241, r_ui=7.0350295792, est=7.888497595016172, details={'was_impossible': False}),\n",
       " Prediction(uid=0, iid=23730, r_ui=7.0350295792, est=7.46119683758597, details={'was_impossible': False}),\n",
       " Prediction(uid=0, iid=2596, r_ui=7.0350295792, est=7.32401507576489, details={'was_impossible': False}),\n",
       " Prediction(uid=0, iid=766, r_ui=7.0350295792, est=7.01272671811025, details={'was_impossible': False}),\n",
       " Prediction(uid=0, iid=8217, r_ui=7.0350295792, est=7.71100606453839, details={'was_impossible': False}),\n",
       " Prediction(uid=0, iid=2453, r_ui=7.0350295792, est=7.800249702195907, details={'was_impossible': False}),\n",
       " Prediction(uid=0, iid=770, r_ui=7.0350295792, est=7.006214754152294, details={'was_impossible': False}),\n",
       " Prediction(uid=0, iid=73761, r_ui=7.0350295792, est=7.588466848877034, details={'was_impossible': False}),\n",
       " Prediction(uid=0, iid=8045, r_ui=7.0350295792, est=7.815007006087692, details={'was_impossible': False}),\n",
       " Prediction(uid=0, iid=140, r_ui=7.0350295792, est=6.987119214217118, details={'was_impossible': False}),\n",
       " Prediction(uid=0, iid=423, r_ui=7.0350295792, est=7.478731577793711, details={'was_impossible': False}),\n",
       " Prediction(uid=0, iid=82397, r_ui=7.0350295792, est=7.254251498716707, details={'was_impossible': False}),\n",
       " Prediction(uid=0, iid=4421, r_ui=7.0350295792, est=7.249423315848984, details={'was_impossible': False}),\n",
       " Prediction(uid=0, iid=6472, r_ui=7.0350295792, est=7.955308186011129, details={'was_impossible': False}),\n",
       " Prediction(uid=0, iid=2121, r_ui=7.0350295792, est=7.185973730951447, details={'was_impossible': False}),\n",
       " Prediction(uid=0, iid=7854, r_ui=7.0350295792, est=8.315897792267815, details={'was_impossible': False}),\n",
       " Prediction(uid=0, iid=72125, r_ui=7.0350295792, est=8.162641432530044, details={'was_impossible': False}),\n",
       " Prediction(uid=0, iid=13886, r_ui=7.0350295792, est=7.006696543054732, details={'was_impossible': False}),\n",
       " Prediction(uid=0, iid=107529, r_ui=7.0350295792, est=7.416771871592575, details={'was_impossible': False}),\n",
       " Prediction(uid=0, iid=497, r_ui=7.0350295792, est=7.367789033438435, details={'was_impossible': False}),\n",
       " Prediction(uid=0, iid=6795, r_ui=7.0350295792, est=7.080838742790474, details={'was_impossible': False}),\n",
       " Prediction(uid=0, iid=83195, r_ui=7.0350295792, est=7.02261020176271, details={'was_impossible': False}),\n",
       " Prediction(uid=0, iid=19857, r_ui=7.0350295792, est=8.283988325633205, details={'was_impossible': False}),\n",
       " Prediction(uid=0, iid=520, r_ui=7.0350295792, est=6.775395590453345, details={'was_impossible': False}),\n",
       " Prediction(uid=0, iid=6569, r_ui=7.0350295792, est=7.174398955452235, details={'was_impossible': False}),\n",
       " Prediction(uid=0, iid=8130, r_ui=7.0350295792, est=7.012367360160874, details={'was_impossible': False}),\n",
       " Prediction(uid=0, iid=105134, r_ui=7.0350295792, est=8.040864030989814, details={'was_impossible': False}),\n",
       " Prediction(uid=0, iid=61692, r_ui=7.0350295792, est=7.599079006198746, details={'was_impossible': False}),\n",
       " Prediction(uid=0, iid=27172, r_ui=7.0350295792, est=7.523309824673916, details={'was_impossible': False}),\n",
       " Prediction(uid=0, iid=6688, r_ui=7.0350295792, est=7.7826535217891974, details={'was_impossible': False}),\n",
       " Prediction(uid=0, iid=166384, r_ui=7.0350295792, est=7.483530384292061, details={'was_impossible': False}),\n",
       " Prediction(uid=0, iid=380, r_ui=7.0350295792, est=7.072238119822487, details={'was_impossible': False}),\n",
       " Prediction(uid=0, iid=29411, r_ui=7.0350295792, est=7.331286944006784, details={'was_impossible': False}),\n",
       " Prediction(uid=0, iid=88, r_ui=7.0350295792, est=7.574983086112112, details={'was_impossible': False}),\n",
       " Prediction(uid=0, iid=12761, r_ui=7.0350295792, est=7.362036359721818, details={'was_impossible': False}),\n",
       " Prediction(uid=0, iid=45, r_ui=7.0350295792, est=7.817618649546946, details={'was_impossible': False}),\n",
       " Prediction(uid=0, iid=161936, r_ui=7.0350295792, est=8.849263854668251, details={'was_impossible': False}),\n",
       " Prediction(uid=0, iid=105, r_ui=7.0350295792, est=7.52742932920801, details={'was_impossible': False}),\n",
       " Prediction(uid=0, iid=27746, r_ui=7.0350295792, est=7.778718530603178, details={'was_impossible': False}),\n",
       " Prediction(uid=0, iid=98, r_ui=7.0350295792, est=7.335245346248212, details={'was_impossible': False}),\n",
       " Prediction(uid=0, iid=2936, r_ui=7.0350295792, est=6.8198224509625005, details={'was_impossible': False}),\n",
       " Prediction(uid=0, iid=2569, r_ui=7.0350295792, est=6.794303296216587, details={'was_impossible': False}),\n",
       " Prediction(uid=0, iid=107638, r_ui=7.0350295792, est=7.035637061885298, details={'was_impossible': False}),\n",
       " Prediction(uid=0, iid=3864, r_ui=7.0350295792, est=7.523386445557032, details={'was_impossible': False}),\n",
       " Prediction(uid=0, iid=134279, r_ui=7.0350295792, est=7.612681733738666, details={'was_impossible': False}),\n",
       " Prediction(uid=0, iid=79073, r_ui=7.0350295792, est=7.428850258596633, details={'was_impossible': False}),\n",
       " Prediction(uid=0, iid=5259, r_ui=7.0350295792, est=7.19383281359197, details={'was_impossible': False}),\n",
       " Prediction(uid=0, iid=1695, r_ui=7.0350295792, est=7.324198667959123, details={'was_impossible': False}),\n",
       " Prediction(uid=0, iid=56692, r_ui=7.0350295792, est=7.5970284293268495, details={'was_impossible': False}),\n",
       " Prediction(uid=0, iid=903, r_ui=7.0350295792, est=7.992730763307372, details={'was_impossible': False}),\n",
       " Prediction(uid=0, iid=327, r_ui=7.0350295792, est=7.43966846323632, details={'was_impossible': False}),\n",
       " Prediction(uid=0, iid=25951, r_ui=7.0350295792, est=7.265445924194489, details={'was_impossible': False}),\n",
       " Prediction(uid=0, iid=6657, r_ui=7.0350295792, est=7.007168379500081, details={'was_impossible': False}),\n",
       " Prediction(uid=0, iid=42052, r_ui=7.0350295792, est=8.198331136010239, details={'was_impossible': False}),\n",
       " Prediction(uid=0, iid=150, r_ui=7.0350295792, est=7.99329553923481, details={'was_impossible': False}),\n",
       " Prediction(uid=0, iid=21892, r_ui=7.0350295792, est=7.185878080034039, details={'was_impossible': False}),\n",
       " Prediction(uid=0, iid=25685, r_ui=7.0350295792, est=7.357822899032691, details={'was_impossible': False}),\n",
       " Prediction(uid=0, iid=136954, r_ui=7.0350295792, est=7.171240460069645, details={'was_impossible': False}),\n",
       " Prediction(uid=0, iid=170, r_ui=7.0350295792, est=7.348040059881905, details={'was_impossible': False}),\n",
       " Prediction(uid=0, iid=24508, r_ui=7.0350295792, est=8.030170963702862, details={'was_impossible': False}),\n",
       " Prediction(uid=0, iid=18258, r_ui=7.0350295792, est=7.658653612982262, details={'was_impossible': False}),\n",
       " Prediction(uid=0, iid=225818, r_ui=7.0350295792, est=7.781457412550024, details={'was_impossible': False}),\n",
       " Prediction(uid=0, iid=42105, r_ui=7.0350295792, est=7.511612366215938, details={'was_impossible': False}),\n",
       " Prediction(uid=0, iid=3851, r_ui=7.0350295792, est=7.276902347363709, details={'was_impossible': False}),\n",
       " Prediction(uid=0, iid=7717, r_ui=7.0350295792, est=7.510103022530432, details={'was_impossible': False}),\n",
       " Prediction(uid=0, iid=1912, r_ui=7.0350295792, est=7.162832597818491, details={'was_impossible': False}),\n",
       " Prediction(uid=0, iid=17521, r_ui=7.0350295792, est=7.0138907287439975, details={'was_impossible': False}),\n",
       " Prediction(uid=0, iid=2394, r_ui=7.0350295792, est=6.05365731275173, details={'was_impossible': False}),\n",
       " Prediction(uid=0, iid=9216, r_ui=7.0350295792, est=8.297640061197818, details={'was_impossible': False}),\n",
       " Prediction(uid=0, iid=521, r_ui=7.0350295792, est=8.164402014169415, details={'was_impossible': False}),\n",
       " Prediction(uid=0, iid=24068, r_ui=7.0350295792, est=7.715740867099566, details={'was_impossible': False}),\n",
       " Prediction(uid=0, iid=98315, r_ui=7.0350295792, est=7.503053081643391, details={'was_impossible': False}),\n",
       " Prediction(uid=0, iid=8915, r_ui=7.0350295792, est=7.057082007400926, details={'was_impossible': False}),\n",
       " Prediction(uid=0, iid=8203, r_ui=7.0350295792, est=7.181097309311422, details={'was_impossible': False}),\n",
       " Prediction(uid=0, iid=36522, r_ui=7.0350295792, est=7.80308587737677, details={'was_impossible': False}),\n",
       " Prediction(uid=0, iid=1354, r_ui=7.0350295792, est=7.548467347383224, details={'was_impossible': False}),\n",
       " Prediction(uid=0, iid=35503, r_ui=7.0350295792, est=7.748812949674175, details={'was_impossible': False}),\n",
       " Prediction(uid=0, iid=94246, r_ui=7.0350295792, est=7.948871623164891, details={'was_impossible': False}),\n",
       " Prediction(uid=0, iid=649, r_ui=7.0350295792, est=7.169363313083482, details={'was_impossible': False}),\n",
       " Prediction(uid=0, iid=3181, r_ui=7.0350295792, est=6.633104150564597, details={'was_impossible': False}),\n",
       " Prediction(uid=0, iid=4390, r_ui=7.0350295792, est=7.63478086725613, details={'was_impossible': False}),\n",
       " Prediction(uid=0, iid=382, r_ui=7.0350295792, est=7.126269386057433, details={'was_impossible': False}),\n",
       " Prediction(uid=0, iid=221107, r_ui=7.0350295792, est=8.246260700022193, details={'was_impossible': False}),\n",
       " Prediction(uid=0, iid=38506, r_ui=7.0350295792, est=7.060160336231069, details={'was_impossible': False}),\n",
       " Prediction(uid=0, iid=12296, r_ui=7.0350295792, est=7.220906756890433, details={'was_impossible': False}),\n",
       " Prediction(uid=0, iid=34599, r_ui=7.0350295792, est=7.106914625301753, details={'was_impossible': False}),\n",
       " Prediction(uid=0, iid=4286, r_ui=7.0350295792, est=7.275983838671172, details={'was_impossible': False}),\n",
       " Prediction(uid=0, iid=39684, r_ui=7.0350295792, est=7.550688569108767, details={'was_impossible': False}),\n",
       " Prediction(uid=0, iid=22278, r_ui=7.0350295792, est=7.669632317107404, details={'was_impossible': False}),\n",
       " Prediction(uid=0, iid=1270, r_ui=7.0350295792, est=7.324838093892781, details={'was_impossible': False}),\n",
       " Prediction(uid=0, iid=96848, r_ui=7.0350295792, est=8.1752077617447, details={'was_impossible': False}),\n",
       " Prediction(uid=0, iid=98085, r_ui=7.0350295792, est=7.327328755369329, details={'was_impossible': False}),\n",
       " Prediction(uid=0, iid=3318, r_ui=7.0350295792, est=7.1279394853666345, details={'was_impossible': False}),\n",
       " Prediction(uid=0, iid=13823, r_ui=7.0350295792, est=7.617925900752782, details={'was_impossible': False}),\n",
       " Prediction(uid=0, iid=2557, r_ui=7.0350295792, est=6.137062892938157, details={'was_impossible': False}),\n",
       " Prediction(uid=0, iid=857, r_ui=7.0350295792, est=7.048260569654053, details={'was_impossible': False}),\n",
       " Prediction(uid=0, iid=8481, r_ui=7.0350295792, est=7.58905633849106, details={'was_impossible': False}),\n",
       " Prediction(uid=0, iid=17166, r_ui=7.0350295792, est=7.3156363296088305, details={'was_impossible': False}),\n",
       " Prediction(uid=0, iid=54307, r_ui=7.0350295792, est=7.227118817737305, details={'was_impossible': False}),\n",
       " Prediction(uid=0, iid=173341, r_ui=7.0350295792, est=6.854208195867727, details={'was_impossible': False}),\n",
       " Prediction(uid=0, iid=1666, r_ui=7.0350295792, est=7.838787344502891, details={'was_impossible': False}),\n",
       " Prediction(uid=0, iid=47185, r_ui=7.0350295792, est=7.53768247178798, details={'was_impossible': False}),\n",
       " Prediction(uid=0, iid=1251, r_ui=7.0350295792, est=7.296197136595834, details={'was_impossible': False}),\n",
       " Prediction(uid=0, iid=17392, r_ui=7.0350295792, est=8.240635143859087, details={'was_impossible': False}),\n",
       " Prediction(uid=0, iid=12, r_ui=7.0350295792, est=7.910652492553923, details={'was_impossible': False}),\n",
       " Prediction(uid=0, iid=19419, r_ui=7.0350295792, est=6.985857152480541, details={'was_impossible': False}),\n",
       " Prediction(uid=0, iid=65556, r_ui=7.0350295792, est=7.244584415174587, details={'was_impossible': False}),\n",
       " Prediction(uid=0, iid=119337, r_ui=7.0350295792, est=6.865600074571591, details={'was_impossible': False}),\n",
       " Prediction(uid=0, iid=8107, r_ui=7.0350295792, est=7.021923535042625, details={'was_impossible': False}),\n",
       " Prediction(uid=0, iid=41569, r_ui=7.0350295792, est=7.046932762952631, details={'was_impossible': False}),\n",
       " Prediction(uid=0, iid=21754, r_ui=7.0350295792, est=7.196390584045057, details={'was_impossible': False}),\n",
       " Prediction(uid=0, iid=12830, r_ui=7.0350295792, est=6.96640580097671, details={'was_impossible': False}),\n",
       " Prediction(uid=0, iid=8051, r_ui=7.0350295792, est=7.801331007038589, details={'was_impossible': False}),\n",
       " Prediction(uid=0, iid=15364, r_ui=7.0350295792, est=7.998711730327825, details={'was_impossible': False}),\n",
       " Prediction(uid=0, iid=4636, r_ui=7.0350295792, est=6.869115230056961, details={'was_impossible': False}),\n",
       " Prediction(uid=0, iid=2471, r_ui=7.0350295792, est=6.614470823897587, details={'was_impossible': False}),\n",
       " Prediction(uid=0, iid=1072, r_ui=7.0350295792, est=7.43876261377787, details={'was_impossible': False}),\n",
       " Prediction(uid=0, iid=94, r_ui=7.0350295792, est=7.956632142548493, details={'was_impossible': False}),\n",
       " Prediction(uid=0, iid=5575, r_ui=7.0350295792, est=7.121158505317395, details={'was_impossible': False}),\n",
       " Prediction(uid=0, iid=173442, r_ui=7.0350295792, est=7.9957778178509775, details={'was_impossible': False}),\n",
       " Prediction(uid=0, iid=26566, r_ui=7.0350295792, est=7.4159618361912205, details={'was_impossible': False}),\n",
       " Prediction(uid=0, iid=116, r_ui=7.0350295792, est=7.186345824007981, details={'was_impossible': False}),\n",
       " Prediction(uid=0, iid=1111, r_ui=7.0350295792, est=7.250161732734584, details={'was_impossible': False}),\n",
       " Prediction(uid=0, iid=8124, r_ui=7.0350295792, est=7.2694021784205365, details={'was_impossible': False}),\n",
       " Prediction(uid=0, iid=696, r_ui=7.0350295792, est=6.820024181713151, details={'was_impossible': False}),\n",
       " Prediction(uid=0, iid=28047, r_ui=7.0350295792, est=7.2069918951455, details={'was_impossible': False}),\n",
       " Prediction(uid=0, iid=6411, r_ui=7.0350295792, est=7.412398536746238, details={'was_impossible': False}),\n",
       " Prediction(uid=0, iid=14017, r_ui=7.0350295792, est=7.048349376370237, details={'was_impossible': False}),\n",
       " Prediction(uid=0, iid=35052, r_ui=7.0350295792, est=7.663157271028161, details={'was_impossible': False}),\n",
       " Prediction(uid=0, iid=37196, r_ui=7.0350295792, est=7.002735082773678, details={'was_impossible': False}),\n",
       " Prediction(uid=0, iid=29368, r_ui=7.0350295792, est=7.6219156977286735, details={'was_impossible': False}),\n",
       " Prediction(uid=0, iid=404, r_ui=7.0350295792, est=6.960932886910308, details={'was_impossible': False}),\n",
       " Prediction(uid=0, iid=26859, r_ui=7.0350295792, est=6.843274806809542, details={'was_impossible': False}),\n",
       " Prediction(uid=0, iid=148261, r_ui=7.0350295792, est=6.5618412815197225, details={'was_impossible': False}),\n",
       " Prediction(uid=0, iid=30658, r_ui=7.0350295792, est=7.04310114560322, details={'was_impossible': False}),\n",
       " Prediction(uid=0, iid=56933, r_ui=7.0350295792, est=7.451912034363318, details={'was_impossible': False}),\n",
       " Prediction(uid=0, iid=6249, r_ui=7.0350295792, est=7.421528231340681, details={'was_impossible': False}),\n",
       " Prediction(uid=0, iid=24509, r_ui=7.0350295792, est=7.589285811984163, details={'was_impossible': False}),\n",
       " Prediction(uid=0, iid=20100, r_ui=7.0350295792, est=7.182634279587751, details={'was_impossible': False}),\n",
       " Prediction(uid=0, iid=124, r_ui=7.0350295792, est=7.700989799858669, details={'was_impossible': False}),\n",
       " Prediction(uid=0, iid=2842, r_ui=7.0350295792, est=7.996158413874848, details={'was_impossible': False}),\n",
       " Prediction(uid=0, iid=122522, r_ui=7.0350295792, est=7.027857548241135, details={'was_impossible': False}),\n",
       " Prediction(uid=0, iid=25224, r_ui=7.0350295792, est=7.519040452660998, details={'was_impossible': False}),\n",
       " Prediction(uid=0, iid=258, r_ui=7.0350295792, est=5.7926342913758, details={'was_impossible': False}),\n",
       " Prediction(uid=0, iid=57390, r_ui=7.0350295792, est=7.683222095065965, details={'was_impossible': False}),\n",
       " Prediction(uid=0, iid=2655, r_ui=7.0350295792, est=8.042484330152966, details={'was_impossible': False}),\n",
       " Prediction(uid=0, iid=4098, r_ui=7.0350295792, est=8.124973983492678, details={'was_impossible': False}),\n",
       " Prediction(uid=0, iid=63268, r_ui=7.0350295792, est=7.188023352697476, details={'was_impossible': False}),\n",
       " Prediction(uid=0, iid=320, r_ui=7.0350295792, est=7.235272222078025, details={'was_impossible': False}),\n",
       " Prediction(uid=0, iid=39351, r_ui=7.0350295792, est=7.39827665975583, details={'was_impossible': False}),\n",
       " Prediction(uid=0, iid=65515, r_ui=7.0350295792, est=7.077536637018296, details={'was_impossible': False}),\n",
       " Prediction(uid=0, iid=125, r_ui=7.0350295792, est=7.388453484463221, details={'was_impossible': False}),\n",
       " Prediction(uid=0, iid=30957, r_ui=7.0350295792, est=8.308123292615134, details={'was_impossible': False}),\n",
       " Prediction(uid=0, iid=15265, r_ui=7.0350295792, est=7.353008699055884, details={'was_impossible': False}),\n",
       " Prediction(uid=0, iid=7865, r_ui=7.0350295792, est=7.4591038088272885, details={'was_impossible': False}),\n",
       " Prediction(uid=0, iid=92415, r_ui=7.0350295792, est=7.510499505337741, details={'was_impossible': False}),\n",
       " Prediction(uid=0, iid=2921, r_ui=7.0350295792, est=5.61272817584414, details={'was_impossible': False}),\n",
       " Prediction(uid=0, iid=23686, r_ui=7.0350295792, est=7.282554345530829, details={'was_impossible': False}),\n",
       " Prediction(uid=0, iid=41833, r_ui=7.0350295792, est=7.059830851189182, details={'was_impossible': False}),\n",
       " Prediction(uid=0, iid=35497, r_ui=7.0350295792, est=7.391131509999007, details={'was_impossible': False}),\n",
       " Prediction(uid=0, iid=2809, r_ui=7.0350295792, est=7.238495737801807, details={'was_impossible': False}),\n",
       " Prediction(uid=0, iid=31481, r_ui=7.0350295792, est=8.067387483989659, details={'was_impossible': False}),\n",
       " Prediction(uid=0, iid=12902, r_ui=7.0350295792, est=7.897879764205387, details={'was_impossible': False}),\n",
       " Prediction(uid=0, iid=21523, r_ui=7.0350295792, est=7.46916988363551, details={'was_impossible': False}),\n",
       " Prediction(uid=0, iid=3633, r_ui=7.0350295792, est=6.545452358227115, details={'was_impossible': False}),\n",
       " Prediction(uid=0, iid=1262, r_ui=7.0350295792, est=7.424404726099615, details={'was_impossible': False}),\n",
       " Prediction(uid=0, iid=18, r_ui=7.0350295792, est=8.02879520162051, details={'was_impossible': False}),\n",
       " Prediction(uid=0, iid=234, r_ui=7.0350295792, est=8.398571696496434, details={'was_impossible': False}),\n",
       " Prediction(uid=0, iid=20134, r_ui=7.0350295792, est=7.687891352844821, details={'was_impossible': False}),\n",
       " Prediction(uid=0, iid=15318, r_ui=7.0350295792, est=6.883388590421237, details={'was_impossible': False}),\n",
       " Prediction(uid=0, iid=59946, r_ui=7.0350295792, est=7.111077300286821, details={'was_impossible': False}),\n",
       " Prediction(uid=0, iid=66587, r_ui=7.0350295792, est=7.076969331731645, details={'was_impossible': False}),\n",
       " Prediction(uid=0, iid=30324, r_ui=7.0350295792, est=6.961683928105615, details={'was_impossible': False}),\n",
       " Prediction(uid=0, iid=22532, r_ui=7.0350295792, est=7.339495791714187, details={'was_impossible': False}),\n",
       " Prediction(uid=0, iid=27961, r_ui=7.0350295792, est=7.0321882078084945, details={'was_impossible': False}),\n",
       " Prediction(uid=0, iid=6707, r_ui=7.0350295792, est=6.650818411006654, details={'was_impossible': False}),\n",
       " Prediction(uid=0, iid=249, r_ui=7.0350295792, est=7.6216919206239195, details={'was_impossible': False}),\n",
       " Prediction(uid=0, iid=25417, r_ui=7.0350295792, est=8.095290008579491, details={'was_impossible': False}),\n",
       " Prediction(uid=0, iid=29937, r_ui=7.0350295792, est=7.683786225839098, details={'was_impossible': False}),\n",
       " Prediction(uid=0, iid=2344, r_ui=7.0350295792, est=6.924982438317017, details={'was_impossible': False}),\n",
       " Prediction(uid=0, iid=603, r_ui=7.0350295792, est=7.257823873906004, details={'was_impossible': False}),\n",
       " Prediction(uid=0, iid=221, r_ui=7.0350295792, est=7.898730881204704, details={'was_impossible': False}),\n",
       " Prediction(uid=0, iid=181, r_ui=7.0350295792, est=6.6570558870986485, details={'was_impossible': False}),\n",
       " Prediction(uid=0, iid=6610, r_ui=7.0350295792, est=7.023591124543657, details={'was_impossible': False}),\n",
       " Prediction(uid=0, iid=3307, r_ui=7.0350295792, est=8.04035887196798, details={'was_impossible': False}),\n",
       " Prediction(uid=0, iid=115, r_ui=7.0350295792, est=7.360397212170384, details={'was_impossible': False}),\n",
       " Prediction(uid=0, iid=27710, r_ui=7.0350295792, est=6.3545359917575155, details={'was_impossible': False}),\n",
       " Prediction(uid=0, iid=6752, r_ui=7.0350295792, est=7.191836140217738, details={'was_impossible': False}),\n",
       " Prediction(uid=0, iid=915, r_ui=7.0350295792, est=6.398144142292698, details={'was_impossible': False}),\n",
       " Prediction(uid=0, iid=46410, r_ui=7.0350295792, est=6.9155236485290965, details={'was_impossible': False}),\n",
       " Prediction(uid=0, iid=910, r_ui=7.0350295792, est=7.319198802186762, details={'was_impossible': False}),\n",
       " Prediction(uid=0, iid=14039, r_ui=7.0350295792, est=7.242545376362803, details={'was_impossible': False}),\n",
       " Prediction(uid=0, iid=31483, r_ui=7.0350295792, est=7.860317820204502, details={'was_impossible': False}),\n",
       " Prediction(uid=0, iid=23142, r_ui=7.0350295792, est=6.83779894761416, details={'was_impossible': False}),\n",
       " Prediction(uid=0, iid=16747, r_ui=7.0350295792, est=7.50833136131988, details={'was_impossible': False}),\n",
       " Prediction(uid=0, iid=1513, r_ui=7.0350295792, est=8.299906172630294, details={'was_impossible': False}),\n",
       " Prediction(uid=0, iid=102680, r_ui=7.0350295792, est=8.05415596528169, details={'was_impossible': False}),\n",
       " Prediction(uid=0, iid=42688, r_ui=7.0350295792, est=7.432242921317002, details={'was_impossible': False}),\n",
       " Prediction(uid=0, iid=1244, r_ui=7.0350295792, est=7.371658396668482, details={'was_impossible': False}),\n",
       " Prediction(uid=0, iid=157096, r_ui=7.0350295792, est=7.374415695514277, details={'was_impossible': False}),\n",
       " Prediction(uid=0, iid=825, r_ui=7.0350295792, est=7.305156061256006, details={'was_impossible': False}),\n",
       " Prediction(uid=0, iid=21613, r_ui=7.0350295792, est=6.950656055664557, details={'was_impossible': False}),\n",
       " Prediction(uid=0, iid=804, r_ui=7.0350295792, est=7.597720187702624, details={'was_impossible': False}),\n",
       " Prediction(uid=0, iid=553, r_ui=7.0350295792, est=6.1271177142295405, details={'was_impossible': False}),\n",
       " Prediction(uid=0, iid=15, r_ui=7.0350295792, est=7.434693424852373, details={'was_impossible': False}),\n",
       " Prediction(uid=0, iid=12633, r_ui=7.0350295792, est=6.786709900605964, details={'was_impossible': False}),\n",
       " Prediction(uid=0, iid=24565, r_ui=7.0350295792, est=7.2418673159017475, details={'was_impossible': False}),\n",
       " Prediction(uid=0, iid=24827, r_ui=7.0350295792, est=7.160492396858668, details={'was_impossible': False}),\n",
       " Prediction(uid=0, iid=483, r_ui=7.0350295792, est=7.327368064340915, details={'was_impossible': False}),\n",
       " Prediction(uid=0, iid=554, r_ui=7.0350295792, est=7.369460408623125, details={'was_impossible': False}),\n",
       " Prediction(uid=0, iid=1482, r_ui=7.0350295792, est=6.496776898008883, details={'was_impossible': False}),\n",
       " Prediction(uid=0, iid=104710, r_ui=7.0350295792, est=7.565937184432066, details={'was_impossible': False}),\n",
       " Prediction(uid=0, iid=242, r_ui=7.0350295792, est=7.541985010940354, details={'was_impossible': False}),\n",
       " Prediction(uid=0, iid=472, r_ui=7.0350295792, est=7.2408386714211135, details={'was_impossible': False}),\n",
       " Prediction(uid=0, iid=15064, r_ui=7.0350295792, est=7.358677990325604, details={'was_impossible': False}),\n",
       " Prediction(uid=0, iid=30549, r_ui=7.0350295792, est=7.494371239026348, details={'was_impossible': False}),\n",
       " Prediction(uid=0, iid=34255, r_ui=7.0350295792, est=7.252926108805529, details={'was_impossible': False}),\n",
       " Prediction(uid=0, iid=3720, r_ui=7.0350295792, est=7.910499324890569, details={'was_impossible': False}),\n",
       " Prediction(uid=0, iid=12942, r_ui=7.0350295792, est=7.435336370219519, details={'was_impossible': False}),\n",
       " Prediction(uid=0, iid=27588, r_ui=7.0350295792, est=7.711245435902789, details={'was_impossible': False}),\n",
       " Prediction(uid=0, iid=41190, r_ui=7.0350295792, est=7.24621281799105, details={'was_impossible': False}),\n",
       " Prediction(uid=0, iid=59, r_ui=7.0350295792, est=7.020304160712114, details={'was_impossible': False}),\n",
       " Prediction(uid=0, iid=1, r_ui=7.0350295792, est=8.505208682214196, details={'was_impossible': False}),\n",
       " Prediction(uid=0, iid=357, r_ui=7.0350295792, est=7.2677320142361905, details={'was_impossible': False}),\n",
       " Prediction(uid=0, iid=36345, r_ui=7.0350295792, est=6.522115645680245, details={'was_impossible': False}),\n",
       " Prediction(uid=0, iid=9855, r_ui=7.0350295792, est=7.2658912222938525, details={'was_impossible': False}),\n",
       " Prediction(uid=0, iid=53953, r_ui=7.0350295792, est=7.54612781979235, details={'was_impossible': False}),\n",
       " Prediction(uid=0, iid=50719, r_ui=7.0350295792, est=7.211256510678219, details={'was_impossible': False}),\n",
       " Prediction(uid=0, iid=559, r_ui=7.0350295792, est=7.1645929736114375, details={'was_impossible': False}),\n",
       " Prediction(uid=0, iid=5895, r_ui=7.0350295792, est=5.749362378018984, details={'was_impossible': False}),\n",
       " Prediction(uid=0, iid=38703, r_ui=7.0350295792, est=7.180849584885048, details={'was_impossible': False}),\n",
       " Prediction(uid=0, iid=20528, r_ui=7.0350295792, est=7.252635828686955, details={'was_impossible': False}),\n",
       " Prediction(uid=0, iid=13642, r_ui=7.0350295792, est=7.894294624587768, details={'was_impossible': False}),\n",
       " Prediction(uid=0, iid=2243, r_ui=7.0350295792, est=6.609194151925866, details={'was_impossible': False}),\n",
       " Prediction(uid=0, iid=16403, r_ui=7.0350295792, est=7.3195361649811606, details={'was_impossible': False}),\n",
       " Prediction(uid=0, iid=192, r_ui=7.0350295792, est=7.000741049471419, details={'was_impossible': False}),\n",
       " Prediction(uid=0, iid=40508, r_ui=7.0350295792, est=6.020255760285493, details={'was_impossible': False}),\n",
       " Prediction(uid=0, iid=55165, r_ui=7.0350295792, est=7.550579708774261, details={'was_impossible': False}),\n",
       " Prediction(uid=0, iid=859, r_ui=7.0350295792, est=7.257397118504975, details={'was_impossible': False}),\n",
       " Prediction(uid=0, iid=1593, r_ui=7.0350295792, est=7.086245248546299, details={'was_impossible': False}),\n",
       " Prediction(uid=0, iid=96613, r_ui=7.0350295792, est=7.351172864595107, details={'was_impossible': False}),\n",
       " Prediction(uid=0, iid=712, r_ui=7.0350295792, est=7.610033897995354, details={'was_impossible': False}),\n",
       " Prediction(uid=0, iid=10612, r_ui=7.0350295792, est=7.30248693812164, details={'was_impossible': False}),\n",
       " Prediction(uid=0, iid=527, r_ui=7.0350295792, est=7.439012157507269, details={'was_impossible': False}),\n",
       " Prediction(uid=0, iid=19379, r_ui=7.0350295792, est=7.295532051755641, details={'was_impossible': False}),\n",
       " Prediction(uid=0, iid=619, r_ui=7.0350295792, est=7.489776738393853, details={'was_impossible': False}),\n",
       " Prediction(uid=0, iid=19237, r_ui=7.0350295792, est=6.787025286698729, details={'was_impossible': False}),\n",
       " Prediction(uid=0, iid=55690, r_ui=7.0350295792, est=8.940053612514518, details={'was_impossible': False}),\n",
       " Prediction(uid=0, iid=22111, r_ui=7.0350295792, est=7.207627761470529, details={'was_impossible': False}),\n",
       " Prediction(uid=0, iid=3487, r_ui=7.0350295792, est=7.464712772327303, details={'was_impossible': False}),\n",
       " Prediction(uid=0, iid=36634, r_ui=7.0350295792, est=7.448640153110509, details={'was_impossible': False}),\n",
       " Prediction(uid=0, iid=8675, r_ui=7.0350295792, est=7.312175996516983, details={'was_impossible': False}),\n",
       " Prediction(uid=0, iid=38797, r_ui=7.0350295792, est=7.423124698179488, details={'was_impossible': False}),\n",
       " Prediction(uid=0, iid=43111, r_ui=7.0350295792, est=8.367862238949009, details={'was_impossible': False}),\n",
       " Prediction(uid=0, iid=361, r_ui=7.0350295792, est=7.381857963533053, details={'was_impossible': False}),\n",
       " Prediction(uid=0, iid=760, r_ui=7.0350295792, est=7.46980685629255, details={'was_impossible': False}),\n",
       " Prediction(uid=0, iid=10934, r_ui=7.0350295792, est=7.027242530279308, details={'was_impossible': False}),\n",
       " Prediction(uid=0, iid=1044, r_ui=7.0350295792, est=7.717350597217712, details={'was_impossible': False}),\n",
       " Prediction(uid=0, iid=120217, r_ui=7.0350295792, est=7.047021664766354, details={'was_impossible': False}),\n",
       " Prediction(uid=0, iid=65611, r_ui=7.0350295792, est=5.7349130141716484, details={'was_impossible': False}),\n",
       " Prediction(uid=0, iid=4178, r_ui=7.0350295792, est=7.048954406350799, details={'was_impossible': False}),\n",
       " Prediction(uid=0, iid=13223, r_ui=7.0350295792, est=7.307640578226885, details={'was_impossible': False}),\n",
       " Prediction(uid=0, iid=3852, r_ui=7.0350295792, est=7.078208248542874, details={'was_impossible': False}),\n",
       " Prediction(uid=0, iid=555, r_ui=7.0350295792, est=8.283043898256047, details={'was_impossible': False}),\n",
       " Prediction(uid=0, iid=387, r_ui=7.0350295792, est=7.0676187946965445, details={'was_impossible': False}),\n",
       " Prediction(uid=0, iid=25642, r_ui=7.0350295792, est=7.284517109137591, details={'was_impossible': False}),\n",
       " Prediction(uid=0, iid=240, r_ui=7.0350295792, est=7.501110255578984, details={'was_impossible': False}),\n",
       " Prediction(uid=0, iid=2156, r_ui=7.0350295792, est=7.022423183711226, details={'was_impossible': False}),\n",
       " Prediction(uid=0, iid=21061, r_ui=7.0350295792, est=7.372058846285155, details={'was_impossible': False}),\n",
       " Prediction(uid=0, iid=686, r_ui=7.0350295792, est=7.546064174537528, details={'was_impossible': False}),\n",
       " Prediction(uid=0, iid=11733, r_ui=7.0350295792, est=7.319225542597507, details={'was_impossible': False}),\n",
       " Prediction(uid=0, iid=19727, r_ui=7.0350295792, est=7.310747599127187, details={'was_impossible': False}),\n",
       " Prediction(uid=0, iid=207, r_ui=7.0350295792, est=7.565652673707225, details={'was_impossible': False}),\n",
       " Prediction(uid=0, iid=69552, r_ui=7.0350295792, est=7.283784625724659, details={'was_impossible': False}),\n",
       " Prediction(uid=0, iid=3931, r_ui=7.0350295792, est=7.458824462329715, details={'was_impossible': False}),\n",
       " Prediction(uid=0, iid=41, r_ui=7.0350295792, est=7.694498931447769, details={'was_impossible': False}),\n",
       " Prediction(uid=0, iid=121, r_ui=7.0350295792, est=8.459089755459534, details={'was_impossible': False}),\n",
       " Prediction(uid=0, iid=12681, r_ui=7.0350295792, est=7.501066517301624, details={'was_impossible': False}),\n",
       " Prediction(uid=0, iid=42910, r_ui=7.0350295792, est=8.039330156816542, details={'was_impossible': False}),\n",
       " Prediction(uid=0, iid=138233, r_ui=7.0350295792, est=7.773623909530924, details={'was_impossible': False}),\n",
       " Prediction(uid=0, iid=39339, r_ui=7.0350295792, est=7.567436526152612, details={'was_impossible': False}),\n",
       " Prediction(uid=0, iid=215, r_ui=7.0350295792, est=7.949223066044731, details={'was_impossible': False}),\n",
       " Prediction(uid=0, iid=17329, r_ui=7.0350295792, est=7.587762700108306, details={'was_impossible': False}),\n",
       " Prediction(uid=0, iid=5135, r_ui=7.0350295792, est=6.9438375373779255, details={'was_impossible': False}),\n",
       " Prediction(uid=0, iid=1115, r_ui=7.0350295792, est=7.90020407545306, details={'was_impossible': False}),\n",
       " Prediction(uid=0, iid=24742, r_ui=7.0350295792, est=7.30810069854333, details={'was_impossible': False}),\n",
       " Prediction(uid=0, iid=18100, r_ui=7.0350295792, est=7.904817970533895, details={'was_impossible': False}),\n",
       " Prediction(uid=0, iid=27833, r_ui=7.0350295792, est=8.209458328109346, details={'was_impossible': False}),\n",
       " Prediction(uid=0, iid=30645, r_ui=7.0350295792, est=7.707885478374499, details={'was_impossible': False}),\n",
       " Prediction(uid=0, iid=32944, r_ui=7.0350295792, est=7.7876233465326, details={'was_impossible': False}),\n",
       " Prediction(uid=0, iid=2398, r_ui=7.0350295792, est=7.547290287844281, details={'was_impossible': False}),\n",
       " Prediction(uid=0, iid=90870, r_ui=7.0350295792, est=7.619879755240374, details={'was_impossible': False}),\n",
       " Prediction(uid=0, iid=902, r_ui=7.0350295792, est=7.418232941440439, details={'was_impossible': False}),\n",
       " Prediction(uid=0, iid=4143, r_ui=7.0350295792, est=5.95405932223018, details={'was_impossible': False}),\n",
       " Prediction(uid=0, iid=925, r_ui=7.0350295792, est=7.5400732760343665, details={'was_impossible': False}),\n",
       " Prediction(uid=0, iid=1338, r_ui=7.0350295792, est=7.878378523449929, details={'was_impossible': False}),\n",
       " Prediction(uid=0, iid=7805, r_ui=7.0350295792, est=7.42493583171344, details={'was_impossible': False}),\n",
       " Prediction(uid=0, iid=2060, r_ui=7.0350295792, est=6.688397651351715, details={'was_impossible': False}),\n",
       " Prediction(uid=0, iid=66825, r_ui=7.0350295792, est=7.252128800857499, details={'was_impossible': False}),\n",
       " Prediction(uid=0, iid=1406, r_ui=7.0350295792, est=6.232192040086169, details={'was_impossible': False}),\n",
       " Prediction(uid=0, iid=24703, r_ui=7.0350295792, est=7.201515794017321, details={'was_impossible': False}),\n",
       " Prediction(uid=0, iid=18291, r_ui=7.0350295792, est=7.279872069646823, details={'was_impossible': False}),\n",
       " Prediction(uid=0, iid=37400, r_ui=7.0350295792, est=7.311745472284402, details={'was_impossible': False}),\n",
       " Prediction(uid=0, iid=65907, r_ui=7.0350295792, est=7.279312620481454, details={'was_impossible': False}),\n",
       " Prediction(uid=0, iid=13780, r_ui=7.0350295792, est=7.6220927090458686, details={'was_impossible': False}),\n",
       " Prediction(uid=0, iid=12346, r_ui=7.0350295792, est=7.217730505523985, details={'was_impossible': False}),\n",
       " Prediction(uid=0, iid=8125, r_ui=7.0350295792, est=7.509610676460439, details={'was_impossible': False}),\n",
       " Prediction(uid=0, iid=24820, r_ui=7.0350295792, est=7.4129833796459055, details={'was_impossible': False}),\n",
       " Prediction(uid=0, iid=33160, r_ui=7.0350295792, est=7.980180138879083, details={'was_impossible': False}),\n",
       " Prediction(uid=0, iid=80934, r_ui=7.0350295792, est=7.373546351965232, details={'was_impossible': False}),\n",
       " Prediction(uid=0, iid=8989, r_ui=7.0350295792, est=7.459359548281964, details={'was_impossible': False}),\n",
       " Prediction(uid=0, iid=15889, r_ui=7.0350295792, est=7.523245026291713, details={'was_impossible': False}),\n",
       " Prediction(uid=0, iid=22348, r_ui=7.0350295792, est=7.4789745998601935, details={'was_impossible': False}),\n",
       " Prediction(uid=0, iid=61484, r_ui=7.0350295792, est=7.496613611470618, details={'was_impossible': False}),\n",
       " Prediction(uid=0, iid=46422, r_ui=7.0350295792, est=7.228408523943874, details={'was_impossible': False}),\n",
       " Prediction(uid=0, iid=904, r_ui=7.0350295792, est=7.783574813734423, details={'was_impossible': False}),\n",
       " Prediction(uid=0, iid=1261, r_ui=7.0350295792, est=7.700458742209543, details={'was_impossible': False}),\n",
       " Prediction(uid=0, iid=40398, r_ui=7.0350295792, est=7.2291830643477395, details={'was_impossible': False}),\n",
       " Prediction(uid=0, iid=39953, r_ui=7.0350295792, est=7.597974838499661, details={'was_impossible': False}),\n",
       " Prediction(uid=0, iid=20694, r_ui=7.0350295792, est=7.155203430340256, details={'was_impossible': False}),\n",
       " Prediction(uid=0, iid=8935, r_ui=7.0350295792, est=7.4868880085187985, details={'was_impossible': False}),\n",
       " Prediction(uid=0, iid=11551, r_ui=7.0350295792, est=7.310531607235668, details={'was_impossible': False}),\n",
       " Prediction(uid=0, iid=9675, r_ui=7.0350295792, est=7.173555397219632, details={'was_impossible': False}),\n",
       " Prediction(uid=0, iid=18736, r_ui=7.0350295792, est=7.235886569664331, details={'was_impossible': False}),\n",
       " Prediction(uid=0, iid=421, r_ui=7.0350295792, est=8.499560645745651, details={'was_impossible': False}),\n",
       " Prediction(uid=0, iid=2083, r_ui=7.0350295792, est=6.16622280509413, details={'was_impossible': False}),\n",
       " Prediction(uid=0, iid=748, r_ui=7.0350295792, est=7.1418387192251105, details={'was_impossible': False}),\n",
       " Prediction(uid=0, iid=1353, r_ui=7.0350295792, est=7.3055115454213935, details={'was_impossible': False}),\n",
       " Prediction(uid=0, iid=228, r_ui=7.0350295792, est=6.941459735461965, details={'was_impossible': False}),\n",
       " Prediction(uid=0, iid=51, r_ui=7.0350295792, est=7.669560106355354, details={'was_impossible': False}),\n",
       " Prediction(uid=0, iid=550, r_ui=7.0350295792, est=7.4029099606489375, details={'was_impossible': False}),\n",
       " Prediction(uid=0, iid=1143, r_ui=7.0350295792, est=7.706200006732052, details={'was_impossible': False}),\n",
       " Prediction(uid=0, iid=28, r_ui=7.0350295792, est=7.046728568937816, details={'was_impossible': False}),\n",
       " Prediction(uid=0, iid=34084, r_ui=7.0350295792, est=7.607297076623504, details={'was_impossible': False}),\n",
       " Prediction(uid=0, iid=1597, r_ui=7.0350295792, est=6.862088462483279, details={'was_impossible': False}),\n",
       " Prediction(uid=0, iid=311, r_ui=7.0350295792, est=7.309159255714159, details={'was_impossible': False}),\n",
       " Prediction(uid=0, iid=118063, r_ui=7.0350295792, est=7.296917091129171, details={'was_impossible': False}),\n",
       " Prediction(uid=0, iid=49, r_ui=7.0350295792, est=7.185863447744686, details={'was_impossible': False}),\n",
       " Prediction(uid=0, iid=11017, r_ui=7.0350295792, est=6.139066371259943, details={'was_impossible': False}),\n",
       " Prediction(uid=0, iid=107829, r_ui=7.0350295792, est=7.1475099050885085, details={'was_impossible': False}),\n",
       " Prediction(uid=0, iid=1231, r_ui=7.0350295792, est=8.097529845870172, details={'was_impossible': False}),\n",
       " Prediction(uid=0, iid=59294, r_ui=7.0350295792, est=8.104501839548337, details={'was_impossible': False}),\n",
       " Prediction(uid=0, iid=33604, r_ui=7.0350295792, est=7.447083889500609, details={'was_impossible': False}),\n",
       " Prediction(uid=0, iid=223855, r_ui=7.0350295792, est=7.903163284927451, details={'was_impossible': False}),\n",
       " Prediction(uid=0, iid=122, r_ui=7.0350295792, est=7.259833624197468, details={'was_impossible': False}),\n",
       " Prediction(uid=0, iid=651, r_ui=7.0350295792, est=7.347047468636907, details={'was_impossible': False}),\n",
       " Prediction(uid=0, iid=72420, r_ui=7.0350295792, est=6.99334568018899, details={'was_impossible': False}),\n",
       " Prediction(uid=0, iid=34635, r_ui=7.0350295792, est=7.943336299426016, details={'was_impossible': False}),\n",
       " Prediction(uid=0, iid=482, r_ui=7.0350295792, est=7.180000647411454, details={'was_impossible': False}),\n",
       " Prediction(uid=0, iid=29109, r_ui=7.0350295792, est=7.203743635408898, details={'was_impossible': False}),\n",
       " Prediction(uid=0, iid=2952, r_ui=7.0350295792, est=6.39141353020658, details={'was_impossible': False}),\n",
       " Prediction(uid=0, iid=5404, r_ui=7.0350295792, est=8.397123856786145, details={'was_impossible': False}),\n",
       " Prediction(uid=0, iid=69789, r_ui=7.0350295792, est=7.494604354576251, details={'was_impossible': False}),\n",
       " Prediction(uid=0, iid=15363, r_ui=7.0350295792, est=7.706387382180868, details={'was_impossible': False}),\n",
       " Prediction(uid=0, iid=152, r_ui=7.0350295792, est=7.649970252976385, details={'was_impossible': False}),\n",
       " Prediction(uid=0, iid=17449, r_ui=7.0350295792, est=7.136556643611073, details={'was_impossible': False}),\n",
       " Prediction(uid=0, iid=11170, r_ui=7.0350295792, est=7.828626614641838, details={'was_impossible': False}),\n",
       " Prediction(uid=0, iid=10, r_ui=7.0350295792, est=7.569270962265289, details={'was_impossible': False}),\n",
       " Prediction(uid=0, iid=150658, r_ui=7.0350295792, est=7.458617759546573, details={'was_impossible': False}),\n",
       " Prediction(uid=0, iid=27627, r_ui=7.0350295792, est=6.652227656471799, details={'was_impossible': False}),\n",
       " Prediction(uid=0, iid=101, r_ui=7.0350295792, est=7.501642087766837, details={'was_impossible': False}),\n",
       " Prediction(uid=0, iid=71061, r_ui=7.0350295792, est=7.199658164876877, details={'was_impossible': False}),\n",
       " Prediction(uid=0, iid=2536, r_ui=7.0350295792, est=7.330308651903942, details={'was_impossible': False}),\n",
       " Prediction(uid=0, iid=4651, r_ui=7.0350295792, est=7.12217188287791, details={'was_impossible': False}),\n",
       " Prediction(uid=0, iid=3, r_ui=7.0350295792, est=7.77884584964938, details={'was_impossible': False}),\n",
       " Prediction(uid=0, iid=7316, r_ui=7.0350295792, est=4.673222029980832, details={'was_impossible': False}),\n",
       " Prediction(uid=0, iid=55829, r_ui=7.0350295792, est=7.651723127320845, details={'was_impossible': False}),\n",
       " Prediction(uid=0, iid=23957, r_ui=7.0350295792, est=7.306274138738283, details={'was_impossible': False}),\n",
       " Prediction(uid=0, iid=11901, r_ui=7.0350295792, est=4.6496924495451735, details={'was_impossible': False}),\n",
       " Prediction(uid=0, iid=10889, r_ui=7.0350295792, est=7.308387864574598, details={'was_impossible': False}),\n",
       " Prediction(uid=0, iid=264198, r_ui=7.0350295792, est=7.713695324056146, details={'was_impossible': False}),\n",
       " Prediction(uid=0, iid=220, r_ui=7.0350295792, est=7.7943079760512175, details={'was_impossible': False}),\n",
       " Prediction(uid=0, iid=21632, r_ui=7.0350295792, est=7.061448250002539, details={'was_impossible': False}),\n",
       " Prediction(uid=0, iid=692, r_ui=7.0350295792, est=7.357147449147015, details={'was_impossible': False}),\n",
       " Prediction(uid=0, iid=80771, r_ui=7.0350295792, est=7.681825203292866, details={'was_impossible': False}),\n",
       " Prediction(uid=0, iid=398, r_ui=7.0350295792, est=7.385572194050355, details={'was_impossible': False}),\n",
       " Prediction(uid=0, iid=27708, r_ui=7.0350295792, est=7.69158534418057, details={'was_impossible': False}),\n",
       " Prediction(uid=0, iid=1159, r_ui=7.0350295792, est=7.437949239293706, details={'was_impossible': False}),\n",
       " Prediction(uid=0, iid=175, r_ui=7.0350295792, est=7.1740896406840635, details={'was_impossible': False}),\n",
       " Prediction(uid=0, iid=55706, r_ui=7.0350295792, est=7.179778744128239, details={'was_impossible': False}),\n",
       " Prediction(uid=0, iid=20043, r_ui=7.0350295792, est=7.323527004803311, details={'was_impossible': False}),\n",
       " Prediction(uid=0, iid=492, r_ui=7.0350295792, est=7.853204065173703, details={'was_impossible': False}),\n",
       " Prediction(uid=0, iid=21882, r_ui=7.0350295792, est=7.724100328934054, details={'was_impossible': False}),\n",
       " Prediction(uid=0, iid=8552, r_ui=7.0350295792, est=7.335186154008958, details={'was_impossible': False}),\n",
       " Prediction(uid=0, iid=30363, r_ui=7.0350295792, est=7.262487010991726, details={'was_impossible': False}),\n",
       " Prediction(uid=0, iid=2452, r_ui=7.0350295792, est=6.849693026080427, details={'was_impossible': False}),\n",
       " Prediction(uid=0, iid=15510, r_ui=7.0350295792, est=6.953929533677398, details={'was_impossible': False}),\n",
       " Prediction(uid=0, iid=9801, r_ui=7.0350295792, est=7.178179433405725, details={'was_impossible': False}),\n",
       " Prediction(uid=0, iid=927, r_ui=7.0350295792, est=7.112713484997733, details={'was_impossible': False}),\n",
       " Prediction(uid=0, iid=58, r_ui=7.0350295792, est=7.372893978850826, details={'was_impossible': False}),\n",
       " Prediction(uid=0, iid=1298, r_ui=7.0350295792, est=6.403402300836937, details={'was_impossible': False}),\n",
       " Prediction(uid=0, iid=25420, r_ui=7.0350295792, est=7.519338076945163, details={'was_impossible': False}),\n",
       " Prediction(uid=0, iid=142079, r_ui=7.0350295792, est=7.525513300538596, details={'was_impossible': False}),\n",
       " Prediction(uid=0, iid=25234, r_ui=7.0350295792, est=7.017232241340647, details={'was_impossible': False}),\n",
       " Prediction(uid=0, iid=69582, r_ui=7.0350295792, est=6.789018058913912, details={'was_impossible': False}),\n",
       " Prediction(uid=0, iid=69851, r_ui=7.0350295792, est=7.755040881697591, details={'was_impossible': False}),\n",
       " Prediction(uid=0, iid=1042, r_ui=7.0350295792, est=7.196865832298466, details={'was_impossible': False}),\n",
       " Prediction(uid=0, iid=30380, r_ui=7.0350295792, est=7.801314738487212, details={'was_impossible': False}),\n",
       " Prediction(uid=0, iid=66056, r_ui=7.0350295792, est=7.53957273841103, details={'was_impossible': False}),\n",
       " Prediction(uid=0, iid=5576, r_ui=7.0350295792, est=6.552379893812618, details={'was_impossible': False}),\n",
       " Prediction(uid=0, iid=1149, r_ui=7.0350295792, est=6.933374219187677, details={'was_impossible': False}),\n",
       " Prediction(uid=0, iid=12995, r_ui=7.0350295792, est=7.286226685069365, details={'was_impossible': False}),\n",
       " Prediction(uid=0, iid=4799, r_ui=7.0350295792, est=7.3010772857705435, details={'was_impossible': False}),\n",
       " Prediction(uid=0, iid=142557, r_ui=7.0350295792, est=7.169822062460999, details={'was_impossible': False}),\n",
       " Prediction(uid=0, iid=115233, r_ui=7.0350295792, est=7.490220948661077, details={'was_impossible': False}),\n",
       " Prediction(uid=0, iid=133038, r_ui=7.0350295792, est=7.382791282267143, details={'was_impossible': False}),\n",
       " Prediction(uid=0, iid=200147, r_ui=7.0350295792, est=7.769159696795081, details={'was_impossible': False}),\n",
       " Prediction(uid=0, iid=2389, r_ui=7.0350295792, est=7.106072861303672, details={'was_impossible': False}),\n",
       " Prediction(uid=0, iid=986, r_ui=7.0350295792, est=6.951576576402639, details={'was_impossible': False}),\n",
       " Prediction(uid=0, iid=1924, r_ui=7.0350295792, est=7.358126526027923, details={'was_impossible': False}),\n",
       " Prediction(uid=0, iid=1915, r_ui=7.0350295792, est=7.803355446470466, details={'was_impossible': False}),\n",
       " Prediction(uid=0, iid=171233, r_ui=7.0350295792, est=7.397198624692484, details={'was_impossible': False}),\n",
       " Prediction(uid=0, iid=43528, r_ui=7.0350295792, est=7.806353217120747, details={'was_impossible': False}),\n",
       " Prediction(uid=0, iid=138788, r_ui=7.0350295792, est=6.391782235835276, details={'was_impossible': False}),\n",
       " Prediction(uid=0, iid=182028, r_ui=7.0350295792, est=8.800211110760365, details={'was_impossible': False}),\n",
       " Prediction(uid=0, iid=21287, r_ui=7.0350295792, est=6.8903159398575715, details={'was_impossible': False}),\n",
       " Prediction(uid=0, iid=71836, r_ui=7.0350295792, est=7.440738420721284, details={'was_impossible': False}),\n",
       " Prediction(uid=0, iid=177079, r_ui=7.0350295792, est=7.352231379720837, details={'was_impossible': False}),\n",
       " Prediction(uid=0, iid=148575, r_ui=7.0350295792, est=7.583754927747314, details={'was_impossible': False}),\n",
       " Prediction(uid=0, iid=19999, r_ui=7.0350295792, est=7.67348554577649, details={'was_impossible': False}),\n",
       " Prediction(uid=0, iid=106, r_ui=7.0350295792, est=7.2600340760655335, details={'was_impossible': False}),\n",
       " Prediction(uid=0, iid=4488, r_ui=7.0350295792, est=7.537735860101688, details={'was_impossible': False}),\n",
       " Prediction(uid=0, iid=1867, r_ui=7.0350295792, est=6.936859648545418, details={'was_impossible': False}),\n",
       " Prediction(uid=0, iid=10496, r_ui=7.0350295792, est=6.769087654639526, details={'was_impossible': False}),\n",
       " Prediction(uid=0, iid=194577, r_ui=7.0350295792, est=7.3326689476326745, details={'was_impossible': False}),\n",
       " Prediction(uid=0, iid=92044, r_ui=7.0350295792, est=7.3927318093595735, details={'was_impossible': False}),\n",
       " Prediction(uid=0, iid=655, r_ui=7.0350295792, est=7.293398532222325, details={'was_impossible': False}),\n",
       " Prediction(uid=0, iid=7929, r_ui=7.0350295792, est=7.0970628327749665, details={'was_impossible': False}),\n",
       " Prediction(uid=0, iid=7860, r_ui=7.0350295792, est=6.9577934030182265, details={'was_impossible': False}),\n",
       " Prediction(uid=0, iid=91534, r_ui=7.0350295792, est=7.026010808071181, details={'was_impossible': False}),\n",
       " Prediction(uid=0, iid=181521, r_ui=7.0350295792, est=8.069955035132379, details={'was_impossible': False}),\n",
       " Prediction(uid=0, iid=11229, r_ui=7.0350295792, est=7.605777929883517, details={'was_impossible': False}),\n",
       " Prediction(uid=0, iid=112, r_ui=7.0350295792, est=7.6549440313535335, details={'was_impossible': False}),\n",
       " Prediction(uid=0, iid=31563, r_ui=7.0350295792, est=7.973134457057101, details={'was_impossible': False}),\n",
       " Prediction(uid=0, iid=16496, r_ui=7.0350295792, est=7.670258010388042, details={'was_impossible': False}),\n",
       " Prediction(uid=0, iid=75165, r_ui=7.0350295792, est=7.848514912854156, details={'was_impossible': False}),\n",
       " Prediction(uid=0, iid=29308, r_ui=7.0350295792, est=7.046793387770953, details={'was_impossible': False}),\n",
       " Prediction(uid=0, iid=90040, r_ui=7.0350295792, est=7.718954662059778, details={'was_impossible': False}),\n",
       " Prediction(uid=0, iid=2456, r_ui=7.0350295792, est=6.711565968416351, details={'was_impossible': False}),\n",
       " Prediction(uid=0, iid=147747, r_ui=7.0350295792, est=7.235604438240395, details={'was_impossible': False}),\n",
       " Prediction(uid=0, iid=136063, r_ui=7.0350295792, est=7.261300973707987, details={'was_impossible': False}),\n",
       " Prediction(uid=0, iid=826, r_ui=7.0350295792, est=7.187444055829954, details={'was_impossible': False}),\n",
       " Prediction(uid=0, iid=8190, r_ui=7.0350295792, est=7.306441452321479, details={'was_impossible': False}),\n",
       " Prediction(uid=0, iid=7944, r_ui=7.0350295792, est=7.297787371627163, details={'was_impossible': False}),\n",
       " Prediction(uid=0, iid=3139, r_ui=7.0350295792, est=7.721590857026464, details={'was_impossible': False}),\n",
       " Prediction(uid=0, iid=199, r_ui=7.0350295792, est=7.448415893214355, details={'was_impossible': False}),\n",
       " Prediction(uid=0, iid=1334, r_ui=7.0350295792, est=7.076186176615122, details={'was_impossible': False}),\n",
       " Prediction(uid=0, iid=4356, r_ui=7.0350295792, est=6.988041366359558, details={'was_impossible': False}),\n",
       " Prediction(uid=0, iid=7976, r_ui=7.0350295792, est=7.4094107694268, details={'was_impossible': False}),\n",
       " Prediction(uid=0, iid=4370, r_ui=7.0350295792, est=7.44350053641439, details={'was_impossible': False}),\n",
       " Prediction(uid=0, iid=3234, r_ui=7.0350295792, est=7.3125780699894625, details={'was_impossible': False}),\n",
       " Prediction(uid=0, iid=11385, r_ui=7.0350295792, est=6.923529142205953, details={'was_impossible': False}),\n",
       " Prediction(uid=0, iid=10915, r_ui=7.0350295792, est=7.125217803547663, details={'was_impossible': False}),\n",
       " Prediction(uid=0, iid=1794, r_ui=7.0350295792, est=7.449829967928124, details={'was_impossible': False}),\n",
       " Prediction(uid=0, iid=54, r_ui=7.0350295792, est=8.045647742747004, details={'was_impossible': False}),\n",
       " Prediction(uid=0, iid=76674, r_ui=7.0350295792, est=7.182218502150723, details={'was_impossible': False}),\n",
       " Prediction(uid=0, iid=4256, r_ui=7.0350295792, est=7.361026693444209, details={'was_impossible': False}),\n",
       " Prediction(uid=0, iid=50750, r_ui=7.0350295792, est=7.9859147686182395, details={'was_impossible': False}),\n",
       " Prediction(uid=0, iid=34887, r_ui=7.0350295792, est=7.706777518407022, details={'was_impossible': False}),\n",
       " Prediction(uid=0, iid=42057, r_ui=7.0350295792, est=7.299396086172322, details={'was_impossible': False}),\n",
       " Prediction(uid=0, iid=60435, r_ui=7.0350295792, est=7.476689648885075, details={'was_impossible': False}),\n",
       " Prediction(uid=0, iid=65781, r_ui=7.0350295792, est=7.145922146367079, details={'was_impossible': False}),\n",
       " Prediction(uid=0, iid=232, r_ui=7.0350295792, est=7.6311127963336665, details={'was_impossible': False}),\n",
       " Prediction(uid=0, iid=148949, r_ui=7.0350295792, est=7.617613337787457, details={'was_impossible': False}),\n",
       " Prediction(uid=0, iid=90041, r_ui=7.0350295792, est=7.12316305900746, details={'was_impossible': False}),\n",
       " Prediction(uid=0, iid=84671, r_ui=7.0350295792, est=6.960515505858389, details={'was_impossible': False}),\n",
       " Prediction(uid=0, iid=62227, r_ui=7.0350295792, est=7.503148985287027, details={'was_impossible': False}),\n",
       " Prediction(uid=0, iid=28089, r_ui=7.0350295792, est=7.50500656588023, details={'was_impossible': False}),\n",
       " Prediction(uid=0, iid=39242, r_ui=7.0350295792, est=7.50318543888925, details={'was_impossible': False}),\n",
       " Prediction(uid=0, iid=27356, r_ui=7.0350295792, est=6.911843507944875, details={'was_impossible': False}),\n",
       " Prediction(uid=0, iid=136280, r_ui=7.0350295792, est=7.570713631712805, details={'was_impossible': False}),\n",
       " Prediction(uid=0, iid=63759, r_ui=7.0350295792, est=7.386677331862076, details={'was_impossible': False}),\n",
       " Prediction(uid=0, iid=2612, r_ui=7.0350295792, est=7.179050274941774, details={'was_impossible': False}),\n",
       " Prediction(uid=0, iid=21763, r_ui=7.0350295792, est=7.646756461703474, details={'was_impossible': False}),\n",
       " Prediction(uid=0, iid=25669, r_ui=7.0350295792, est=7.148878812285472, details={'was_impossible': False}),\n",
       " Prediction(uid=0, iid=37387, r_ui=7.0350295792, est=7.718882493604427, details={'was_impossible': False}),\n",
       " Prediction(uid=0, iid=143693, r_ui=7.0350295792, est=8.259721051504467, details={'was_impossible': False}),\n",
       " Prediction(uid=0, iid=102652, r_ui=7.0350295792, est=7.542418669712655, details={'was_impossible': False}),\n",
       " Prediction(uid=0, iid=16267, r_ui=7.0350295792, est=7.124534573672854, details={'was_impossible': False}),\n",
       " Prediction(uid=0, iid=9441, r_ui=7.0350295792, est=7.175871489961738, details={'was_impossible': False}),\n",
       " Prediction(uid=0, iid=12589, r_ui=7.0350295792, est=7.357117068457679, details={'was_impossible': False}),\n",
       " Prediction(uid=0, iid=121764, r_ui=7.0350295792, est=7.338962064214451, details={'was_impossible': False}),\n",
       " Prediction(uid=0, iid=178900, r_ui=7.0350295792, est=7.92165552894935, details={'was_impossible': False}),\n",
       " Prediction(uid=0, iid=41002, r_ui=7.0350295792, est=7.938388475414833, details={'was_impossible': False}),\n",
       " Prediction(uid=0, iid=13301, r_ui=7.0350295792, est=7.416249017145371, details={'was_impossible': False}),\n",
       " Prediction(uid=0, iid=66505, r_ui=7.0350295792, est=7.529644314158004, details={'was_impossible': False}),\n",
       " Prediction(uid=0, iid=27976, r_ui=7.0350295792, est=7.886553957603624, details={'was_impossible': False}),\n",
       " Prediction(uid=0, iid=87890, r_ui=7.0350295792, est=7.460146261964935, details={'was_impossible': False}),\n",
       " Prediction(uid=0, iid=9341, r_ui=7.0350295792, est=6.794904175466637, details={'was_impossible': False}),\n",
       " Prediction(uid=0, iid=12002, r_ui=7.0350295792, est=7.856412349773056, details={'was_impossible': False}),\n",
       " Prediction(uid=0, iid=2392, r_ui=7.0350295792, est=6.302627880995556, details={'was_impossible': False}),\n",
       " Prediction(uid=0, iid=224316, r_ui=7.0350295792, est=7.494704391580414, details={'was_impossible': False}),\n",
       " Prediction(uid=0, iid=5716, r_ui=7.0350295792, est=7.485933433806446, details={'was_impossible': False}),\n",
       " Prediction(uid=0, iid=28396, r_ui=7.0350295792, est=7.184224009161769, details={'was_impossible': False}),\n",
       " Prediction(uid=0, iid=133848, r_ui=7.0350295792, est=7.673271480579138, details={'was_impossible': False}),\n",
       " Prediction(uid=0, iid=4077, r_ui=7.0350295792, est=6.592061660081647, details={'was_impossible': False}),\n",
       " Prediction(uid=0, iid=2281, r_ui=7.0350295792, est=6.354965267070953, details={'was_impossible': False}),\n",
       " Prediction(uid=0, iid=96345, r_ui=7.0350295792, est=7.075679385663789, details={'was_impossible': False}),\n",
       " Prediction(uid=0, iid=62853, r_ui=7.0350295792, est=7.208807835078122, details={'was_impossible': False}),\n",
       " Prediction(uid=0, iid=7688, r_ui=7.0350295792, est=6.579212366680005, details={'was_impossible': False}),\n",
       " Prediction(uid=0, iid=12962, r_ui=7.0350295792, est=8.004276851497886, details={'was_impossible': False}),\n",
       " Prediction(uid=0, iid=6873, r_ui=7.0350295792, est=7.009912681789553, details={'was_impossible': False}),\n",
       " Prediction(uid=0, iid=5130, r_ui=7.0350295792, est=6.395573577351683, details={'was_impossible': False}),\n",
       " Prediction(uid=0, iid=1410, r_ui=7.0350295792, est=5.303434873126944, details={'was_impossible': False}),\n",
       " Prediction(uid=0, iid=119432, r_ui=7.0350295792, est=7.482306675390065, details={'was_impossible': False}),\n",
       " Prediction(uid=0, iid=18399, r_ui=7.0350295792, est=7.104836972496075, details={'was_impossible': False}),\n",
       " Prediction(uid=0, iid=103651, r_ui=7.0350295792, est=7.211867785898684, details={'was_impossible': False}),\n",
       " Prediction(uid=0, iid=118000, r_ui=7.0350295792, est=7.999663171597251, details={'was_impossible': False}),\n",
       " Prediction(uid=0, iid=1515, r_ui=7.0350295792, est=6.611897954989572, details={'was_impossible': False}),\n",
       " Prediction(uid=0, iid=90305, r_ui=7.0350295792, est=7.38639715309588, details={'was_impossible': False}),\n",
       " Prediction(uid=0, iid=9464, r_ui=7.0350295792, est=7.1459157770457296, details={'was_impossible': False}),\n",
       " Prediction(uid=0, iid=6263, r_ui=7.0350295792, est=6.968027577326136, details={'was_impossible': False}),\n",
       " Prediction(uid=0, iid=91514, r_ui=7.0350295792, est=7.452640366866799, details={'was_impossible': False}),\n",
       " Prediction(uid=0, iid=24417, r_ui=7.0350295792, est=6.913481767170468, details={'was_impossible': False}),\n",
       " Prediction(uid=0, iid=123417, r_ui=7.0350295792, est=6.91349829852051, details={'was_impossible': False}),\n",
       " Prediction(uid=0, iid=148228, r_ui=7.0350295792, est=8.081706342359341, details={'was_impossible': False}),\n",
       " Prediction(uid=0, iid=23953, r_ui=7.0350295792, est=7.024646934153262, details={'was_impossible': False}),\n",
       " Prediction(uid=0, iid=191189, r_ui=7.0350295792, est=8.513225858611946, details={'was_impossible': False}),\n",
       " Prediction(uid=0, iid=37907, r_ui=7.0350295792, est=7.768025366748821, details={'was_impossible': False}),\n",
       " Prediction(uid=0, iid=132497, r_ui=7.0350295792, est=6.994711521886298, details={'was_impossible': False}),\n",
       " Prediction(uid=0, iid=8129, r_ui=7.0350295792, est=7.576496429332724, details={'was_impossible': False}),\n",
       " Prediction(uid=0, iid=116998, r_ui=7.0350295792, est=7.40770879860168, details={'was_impossible': False}),\n",
       " Prediction(uid=0, iid=3085, r_ui=7.0350295792, est=7.430189989960357, details={'was_impossible': False}),\n",
       " Prediction(uid=0, iid=5546, r_ui=7.0350295792, est=6.772179757879111, details={'was_impossible': False}),\n",
       " Prediction(uid=0, iid=13308, r_ui=7.0350295792, est=7.007710854172167, details={'was_impossible': False}),\n",
       " Prediction(uid=0, iid=25584, r_ui=7.0350295792, est=7.435411933123618, details={'was_impossible': False}),\n",
       " Prediction(uid=0, iid=40935, r_ui=7.0350295792, est=7.3122169790942255, details={'was_impossible': False}),\n",
       " Prediction(uid=0, iid=232918, r_ui=7.0350295792, est=7.175478347045835, details={'was_impossible': False}),\n",
       " Prediction(uid=0, iid=3818, r_ui=7.0350295792, est=7.074663121314618, details={'was_impossible': False}),\n",
       " Prediction(uid=0, iid=756, r_ui=7.0350295792, est=7.38025363605565, details={'was_impossible': False}),\n",
       " Prediction(uid=0, iid=15020, r_ui=7.0350295792, est=7.237468639350231, details={'was_impossible': False}),\n",
       " Prediction(uid=0, iid=71272, r_ui=7.0350295792, est=7.243335895944356, details={'was_impossible': False}),\n",
       " Prediction(uid=0, iid=156009, r_ui=7.0350295792, est=7.871139740752272, details={'was_impossible': False}),\n",
       " Prediction(uid=0, iid=293, r_ui=7.0350295792, est=7.2301805373832915, details={'was_impossible': False}),\n",
       " Prediction(uid=0, iid=1269, r_ui=7.0350295792, est=6.041074260027017, details={'was_impossible': False}),\n",
       " Prediction(uid=0, iid=63888, r_ui=7.0350295792, est=7.859031727618095, details={'was_impossible': False}),\n",
       " Prediction(uid=0, iid=41916, r_ui=7.0350295792, est=7.373626017388874, details={'was_impossible': False}),\n",
       " Prediction(uid=0, iid=300, r_ui=7.0350295792, est=7.307555564056465, details={'was_impossible': False}),\n",
       " Prediction(uid=0, iid=128271, r_ui=7.0350295792, est=8.225453154365075, details={'was_impossible': False}),\n",
       " Prediction(uid=0, iid=127060, r_ui=7.0350295792, est=7.591284828270309, details={'was_impossible': False}),\n",
       " Prediction(uid=0, iid=233371, r_ui=7.0350295792, est=8.433432877481449, details={'was_impossible': False}),\n",
       " Prediction(uid=0, iid=1002, r_ui=7.0350295792, est=7.517996068687667, details={'was_impossible': False}),\n",
       " Prediction(uid=0, iid=24770, r_ui=7.0350295792, est=7.190864149034025, details={'was_impossible': False}),\n",
       " Prediction(uid=0, iid=114912, r_ui=7.0350295792, est=7.3211783326068645, details={'was_impossible': False}),\n",
       " Prediction(uid=0, iid=12005, r_ui=7.0350295792, est=7.585693906484624, details={'was_impossible': False}),\n",
       " Prediction(uid=0, iid=875, r_ui=7.0350295792, est=8.708185880747077, details={'was_impossible': False}),\n",
       " Prediction(uid=0, iid=9004, r_ui=7.0350295792, est=6.751224166390951, details={'was_impossible': False}),\n",
       " Prediction(uid=0, iid=3452, r_ui=7.0350295792, est=7.13332308825722, details={'was_impossible': False}),\n",
       " Prediction(uid=0, iid=118048, r_ui=7.0350295792, est=8.149219160083607, details={'was_impossible': False}),\n",
       " Prediction(uid=0, iid=25568, r_ui=7.0350295792, est=8.027362970787744, details={'was_impossible': False}),\n",
       " Prediction(uid=0, iid=10502, r_ui=7.0350295792, est=6.414583389340899, details={'was_impossible': False}),\n",
       " Prediction(uid=0, iid=3800, r_ui=7.0350295792, est=7.32174061061525, details={'was_impossible': False}),\n",
       " Prediction(uid=0, iid=10799, r_ui=7.0350295792, est=5.875092492242526, details={'was_impossible': False}),\n",
       " Prediction(uid=0, iid=34585, r_ui=7.0350295792, est=7.367819553828867, details={'was_impossible': False}),\n",
       " Prediction(uid=0, iid=12826, r_ui=7.0350295792, est=6.861792538816834, details={'was_impossible': False}),\n",
       " Prediction(uid=0, iid=147116, r_ui=7.0350295792, est=7.1228223716150625, details={'was_impossible': False}),\n",
       " Prediction(uid=0, iid=126042, r_ui=7.0350295792, est=8.233091322068908, details={'was_impossible': False}),\n",
       " Prediction(uid=0, iid=2987, r_ui=7.0350295792, est=7.303139497128126, details={'was_impossible': False}),\n",
       " Prediction(uid=0, iid=31627, r_ui=7.0350295792, est=7.975964444361681, details={'was_impossible': False}),\n",
       " Prediction(uid=0, iid=121423, r_ui=7.0350295792, est=6.982056773367317, details={'was_impossible': False}),\n",
       " Prediction(uid=0, iid=20022, r_ui=7.0350295792, est=7.001758147244604, details={'was_impossible': False}),\n",
       " Prediction(uid=0, iid=144733, r_ui=7.0350295792, est=8.555101614867725, details={'was_impossible': False}),\n",
       " Prediction(uid=0, iid=31479, r_ui=7.0350295792, est=7.388273306980814, details={'was_impossible': False}),\n",
       " Prediction(uid=0, iid=391, r_ui=7.0350295792, est=6.873976623408696, details={'was_impossible': False}),\n",
       " Prediction(uid=0, iid=19409, r_ui=7.0350295792, est=6.660633434101239, details={'was_impossible': False}),\n",
       " Prediction(uid=0, iid=19100, r_ui=7.0350295792, est=7.882708801128447, details={'was_impossible': False}),\n",
       " Prediction(uid=0, iid=16992, r_ui=7.0350295792, est=7.540331163422623, details={'was_impossible': False}),\n",
       " Prediction(uid=0, iid=140620, r_ui=7.0350295792, est=7.909501765926272, details={'was_impossible': False}),\n",
       " Prediction(uid=0, iid=5894, r_ui=7.0350295792, est=5.479841212255304, details={'was_impossible': False}),\n",
       " Prediction(uid=0, iid=146130, r_ui=7.0350295792, est=6.774150316610966, details={'was_impossible': False}),\n",
       " Prediction(uid=0, iid=3570, r_ui=7.0350295792, est=7.242117580405114, details={'was_impossible': False}),\n",
       " Prediction(uid=0, iid=34219, r_ui=7.0350295792, est=7.619123820043982, details={'was_impossible': False}),\n",
       " Prediction(uid=0, iid=340, r_ui=7.0350295792, est=7.907734195197578, details={'was_impossible': False}),\n",
       " Prediction(uid=0, iid=2425, r_ui=7.0350295792, est=5.410793610183528, details={'was_impossible': False}),\n",
       " Prediction(uid=0, iid=2570, r_ui=7.0350295792, est=7.565304034659047, details={'was_impossible': False}),\n",
       " Prediction(uid=0, iid=37099, r_ui=7.0350295792, est=7.188745573010585, details={'was_impossible': False}),\n",
       " Prediction(uid=0, iid=216459, r_ui=7.0350295792, est=7.655896219672232, details={'was_impossible': False}),\n",
       " Prediction(uid=0, iid=354, r_ui=7.0350295792, est=7.219631097459433, details={'was_impossible': False}),\n",
       " Prediction(uid=0, iid=121297, r_ui=7.0350295792, est=7.652339769501979, details={'was_impossible': False}),\n",
       " Prediction(uid=0, iid=134150, r_ui=7.0350295792, est=6.995864628923215, details={'was_impossible': False}),\n",
       " Prediction(uid=0, iid=46, r_ui=7.0350295792, est=7.761806237411689, details={'was_impossible': False}),\n",
       " Prediction(uid=0, iid=32441, r_ui=7.0350295792, est=6.779382651043857, details={'was_impossible': False}),\n",
       " Prediction(uid=0, iid=174660, r_ui=7.0350295792, est=7.310576562971056, details={'was_impossible': False}),\n",
       " Prediction(uid=0, iid=6424, r_ui=7.0350295792, est=5.522023464424532, details={'was_impossible': False}),\n",
       " Prediction(uid=0, iid=23053, r_ui=7.0350295792, est=7.287060951267468, details={'was_impossible': False}),\n",
       " Prediction(uid=0, iid=103649, r_ui=7.0350295792, est=7.080250160387121, details={'was_impossible': False}),\n",
       " Prediction(uid=0, iid=39683, r_ui=7.0350295792, est=7.857789611585503, details={'was_impossible': False}),\n",
       " Prediction(uid=0, iid=394, r_ui=7.0350295792, est=7.172954081072378, details={'was_impossible': False}),\n",
       " Prediction(uid=0, iid=169, r_ui=7.0350295792, est=6.679895507708639, details={'was_impossible': False}),\n",
       " Prediction(uid=0, iid=41835, r_ui=7.0350295792, est=6.9519204957889915, details={'was_impossible': False}),\n",
       " Prediction(uid=0, iid=11971, r_ui=7.0350295792, est=7.638614765438388, details={'was_impossible': False}),\n",
       " Prediction(uid=0, iid=66362, r_ui=7.0350295792, est=7.753964402144597, details={'was_impossible': False}),\n",
       " Prediction(uid=0, iid=229632, r_ui=7.0350295792, est=7.354166948821139, details={'was_impossible': False}),\n",
       " Prediction(uid=0, iid=37615, r_ui=7.0350295792, est=7.197553026440203, details={'was_impossible': False}),\n",
       " Prediction(uid=0, iid=42215, r_ui=7.0350295792, est=7.816311965515424, details={'was_impossible': False}),\n",
       " Prediction(uid=0, iid=152765, r_ui=7.0350295792, est=7.872588733317104, details={'was_impossible': False}),\n",
       " Prediction(uid=0, iid=2955, r_ui=7.0350295792, est=7.600133560799771, details={'was_impossible': False}),\n",
       " Prediction(uid=0, iid=35570, r_ui=7.0350295792, est=8.1252850834317, details={'was_impossible': False}),\n",
       " Prediction(uid=0, iid=32116, r_ui=7.0350295792, est=7.075267542684535, details={'was_impossible': False}),\n",
       " Prediction(uid=0, iid=132372, r_ui=7.0350295792, est=7.94397255820127, details={'was_impossible': False}),\n",
       " Prediction(uid=0, iid=43015, r_ui=7.0350295792, est=7.672176869918568, details={'was_impossible': False}),\n",
       " Prediction(uid=0, iid=116954, r_ui=7.0350295792, est=7.640396242103999, details={'was_impossible': False}),\n",
       " Prediction(uid=0, iid=44163, r_ui=7.0350295792, est=7.539939375773594, details={'was_impossible': False}),\n",
       " Prediction(uid=0, iid=123260, r_ui=7.0350295792, est=7.875808703180197, details={'was_impossible': False}),\n",
       " Prediction(uid=0, iid=103185, r_ui=7.0350295792, est=7.43572377729705, details={'was_impossible': False}),\n",
       " Prediction(uid=0, iid=40831, r_ui=7.0350295792, est=7.510668757781597, details={'was_impossible': False}),\n",
       " Prediction(uid=0, iid=22345, r_ui=7.0350295792, est=7.769783682532832, details={'was_impossible': False}),\n",
       " Prediction(uid=0, iid=141572, r_ui=7.0350295792, est=7.762021076239898, details={'was_impossible': False}),\n",
       " Prediction(uid=0, iid=2944, r_ui=7.0350295792, est=7.031035556913701, details={'was_impossible': False}),\n",
       " Prediction(uid=0, iid=70149, r_ui=7.0350295792, est=7.992955515561722, details={'was_impossible': False}),\n",
       " Prediction(uid=0, iid=171623, r_ui=7.0350295792, est=8.391628115151997, details={'was_impossible': False}),\n",
       " Prediction(uid=0, iid=2719, r_ui=7.0350295792, est=5.948215082825126, details={'was_impossible': False}),\n",
       " Prediction(uid=0, iid=216734, r_ui=7.0350295792, est=7.765872616019363, details={'was_impossible': False}),\n",
       " Prediction(uid=0, iid=25643, r_ui=7.0350295792, est=7.946376930225644, details={'was_impossible': False}),\n",
       " Prediction(uid=0, iid=31506, r_ui=7.0350295792, est=7.190797383370323, details={'was_impossible': False}),\n",
       " Prediction(uid=0, iid=191004, r_ui=7.0350295792, est=7.118952658512428, details={'was_impossible': False}),\n",
       " Prediction(uid=0, iid=17025, r_ui=7.0350295792, est=6.893410781991939, details={'was_impossible': False}),\n",
       " Prediction(uid=0, iid=119890, r_ui=7.0350295792, est=7.519120854578667, details={'was_impossible': False}),\n",
       " Prediction(uid=0, iid=5795, r_ui=7.0350295792, est=7.265558739633974, details={'was_impossible': False}),\n",
       " Prediction(uid=0, iid=35435, r_ui=7.0350295792, est=7.687136103098512, details={'was_impossible': False}),\n",
       " Prediction(uid=0, iid=6351, r_ui=7.0350295792, est=7.109479991652086, details={'was_impossible': False}),\n",
       " Prediction(uid=0, iid=121921, r_ui=7.0350295792, est=8.497432518071415, details={'was_impossible': False}),\n",
       " Prediction(uid=0, iid=19646, r_ui=7.0350295792, est=7.62641271397414, details={'was_impossible': False}),\n",
       " Prediction(uid=0, iid=39276, r_ui=7.0350295792, est=7.017121318814569, details={'was_impossible': False}),\n",
       " Prediction(uid=0, iid=21441, r_ui=7.0350295792, est=7.56354466056454, details={'was_impossible': False}),\n",
       " Prediction(uid=0, iid=31552, r_ui=7.0350295792, est=7.563831712212346, details={'was_impossible': False}),\n",
       " Prediction(uid=0, iid=22237, r_ui=7.0350295792, est=7.469086958128278, details={'was_impossible': False}),\n",
       " Prediction(uid=0, iid=21348, r_ui=7.0350295792, est=7.975304091227315, details={'was_impossible': False}),\n",
       " Prediction(uid=0, iid=18901, r_ui=7.0350295792, est=6.893612295886469, details={'was_impossible': False}),\n",
       " Prediction(uid=0, iid=8964, r_ui=7.0350295792, est=7.199696963955223, details={'was_impossible': False}),\n",
       " Prediction(uid=0, iid=10640, r_ui=7.0350295792, est=6.790138632318635, details={'was_impossible': False}),\n",
       " Prediction(uid=0, iid=232043, r_ui=7.0350295792, est=7.974726803378774, details={'was_impossible': False}),\n",
       " Prediction(uid=0, iid=102794, r_ui=7.0350295792, est=8.53099382007769, details={'was_impossible': False}),\n",
       " Prediction(uid=0, iid=97842, r_ui=7.0350295792, est=7.829163868003817, details={'was_impossible': False}),\n",
       " Prediction(uid=0, iid=91523, r_ui=7.0350295792, est=7.222076498208683, details={'was_impossible': False}),\n",
       " Prediction(uid=0, iid=20545, r_ui=7.0350295792, est=7.083794636225601, details={'was_impossible': False}),\n",
       " Prediction(uid=0, iid=204583, r_ui=7.0350295792, est=7.943305972308754, details={'was_impossible': False}),\n",
       " Prediction(uid=0, iid=113294, r_ui=7.0350295792, est=7.082134558708423, details={'was_impossible': False}),\n",
       " Prediction(uid=0, iid=19841, r_ui=7.0350295792, est=6.685523203777722, details={'was_impossible': False}),\n",
       " Prediction(uid=0, iid=20096, r_ui=7.0350295792, est=6.927595100229267, details={'was_impossible': False}),\n",
       " Prediction(uid=0, iid=3886, r_ui=7.0350295792, est=6.666375074036633, details={'was_impossible': False}),\n",
       " Prediction(uid=0, iid=174570, r_ui=7.0350295792, est=7.8562644365101315, details={'was_impossible': False}),\n",
       " Prediction(uid=0, iid=37097, r_ui=7.0350295792, est=7.083225643822593, details={'was_impossible': False}),\n",
       " Prediction(uid=0, iid=1403, r_ui=7.0350295792, est=7.224206500684408, details={'was_impossible': False}),\n",
       " Prediction(uid=0, iid=26747, r_ui=7.0350295792, est=7.319202191411826, details={'was_impossible': False}),\n",
       " Prediction(uid=0, iid=4396, r_ui=7.0350295792, est=7.442430152585228, details={'was_impossible': False}),\n",
       " Prediction(uid=0, iid=131260, r_ui=7.0350295792, est=7.273676209040594, details={'was_impossible': False}),\n",
       " Prediction(uid=0, iid=13004, r_ui=7.0350295792, est=7.947117011454946, details={'was_impossible': False}),\n",
       " Prediction(uid=0, iid=146652, r_ui=7.0350295792, est=8.367317754955058, details={'was_impossible': False}),\n",
       " Prediction(uid=0, iid=140717, r_ui=7.0350295792, est=7.404303070077597, details={'was_impossible': False}),\n",
       " Prediction(uid=0, iid=127127, r_ui=7.0350295792, est=7.361788338293884, details={'was_impossible': False}),\n",
       " Prediction(uid=0, iid=40628, r_ui=7.0350295792, est=7.932319536265358, details={'was_impossible': False}),\n",
       " Prediction(uid=0, iid=22545, r_ui=7.0350295792, est=8.200540741422433, details={'was_impossible': False}),\n",
       " Prediction(uid=0, iid=137269, r_ui=7.0350295792, est=8.117447607879056, details={'was_impossible': False}),\n",
       " Prediction(uid=0, iid=53168, r_ui=7.0350295792, est=7.314156151072634, details={'was_impossible': False}),\n",
       " Prediction(uid=0, iid=5445, r_ui=7.0350295792, est=7.373390549164747, details={'was_impossible': False}),\n",
       " Prediction(uid=0, iid=3270, r_ui=7.0350295792, est=7.201159448048921, details={'was_impossible': False}),\n",
       " Prediction(uid=0, iid=40393, r_ui=7.0350295792, est=7.305366522804976, details={'was_impossible': False}),\n",
       " Prediction(uid=0, iid=22484, r_ui=7.0350295792, est=7.4970304103984775, details={'was_impossible': False}),\n",
       " Prediction(uid=0, iid=66116, r_ui=7.0350295792, est=7.10530521738225, details={'was_impossible': False}),\n",
       " Prediction(uid=0, iid=36648, r_ui=7.0350295792, est=7.913411479241537, details={'was_impossible': False}),\n",
       " Prediction(uid=0, iid=15817, r_ui=7.0350295792, est=7.651198185896846, details={'was_impossible': False}),\n",
       " Prediction(uid=0, iid=193738, r_ui=7.0350295792, est=9.164300977637245, details={'was_impossible': False}),\n",
       " Prediction(uid=0, iid=111124, r_ui=7.0350295792, est=7.756265298398058, details={'was_impossible': False}),\n",
       " Prediction(uid=0, iid=31730, r_ui=7.0350295792, est=7.6780603879042175, details={'was_impossible': False}),\n",
       " Prediction(uid=0, iid=75358, r_ui=7.0350295792, est=7.493378108542007, details={'was_impossible': False}),\n",
       " Prediction(uid=0, iid=39290, r_ui=7.0350295792, est=7.182629500410261, details={'was_impossible': False}),\n",
       " Prediction(uid=0, iid=122515, r_ui=7.0350295792, est=8.082545071099627, details={'was_impossible': False}),\n",
       " Prediction(uid=0, iid=31497, r_ui=7.0350295792, est=7.450900835123103, details={'was_impossible': False}),\n",
       " Prediction(uid=0, iid=70512, r_ui=7.0350295792, est=7.6931077772618135, details={'was_impossible': False}),\n",
       " Prediction(uid=0, iid=24901, r_ui=7.0350295792, est=7.122192567811541, details={'was_impossible': False}),\n",
       " Prediction(uid=0, iid=7262, r_ui=7.0350295792, est=6.536420605458019, details={'was_impossible': False}),\n",
       " Prediction(uid=0, iid=56796, r_ui=7.0350295792, est=7.469592023137481, details={'was_impossible': False}),\n",
       " Prediction(uid=0, iid=32125, r_ui=7.0350295792, est=7.63232354459696, details={'was_impossible': False}),\n",
       " Prediction(uid=0, iid=97803, r_ui=7.0350295792, est=7.085090819903193, details={'was_impossible': False}),\n",
       " Prediction(uid=0, iid=64826, r_ui=7.0350295792, est=7.13143952416267, details={'was_impossible': False}),\n",
       " Prediction(uid=0, iid=110277, r_ui=7.0350295792, est=7.517838750747815, details={'was_impossible': False}),\n",
       " Prediction(uid=0, iid=7483, r_ui=7.0350295792, est=7.115385817219301, details={'was_impossible': False}),\n",
       " Prediction(uid=0, iid=209010, r_ui=7.0350295792, est=8.74759455523403, details={'was_impossible': False}),\n",
       " Prediction(uid=0, iid=106662, r_ui=7.0350295792, est=7.521428183658465, details={'was_impossible': False}),\n",
       " Prediction(uid=0, iid=37628, r_ui=7.0350295792, est=7.5451490551064575, details={'was_impossible': False}),\n",
       " Prediction(uid=0, iid=37301, r_ui=7.0350295792, est=7.618391770447647, details={'was_impossible': False}),\n",
       " Prediction(uid=0, iid=6546, r_ui=7.0350295792, est=6.278421996551303, details={'was_impossible': False}),\n",
       " Prediction(uid=0, iid=2593, r_ui=7.0350295792, est=6.431023864721791, details={'was_impossible': False}),\n",
       " Prediction(uid=0, iid=11104, r_ui=7.0350295792, est=7.099484851079445, details={'was_impossible': False}),\n",
       " Prediction(uid=0, iid=14254, r_ui=7.0350295792, est=8.110241871642561, details={'was_impossible': False}),\n",
       " Prediction(uid=0, iid=103092, r_ui=7.0350295792, est=7.504121072294243, details={'was_impossible': False}),\n",
       " Prediction(uid=0, iid=475, r_ui=7.0350295792, est=7.990848484031333, details={'was_impossible': False}),\n",
       " Prediction(uid=0, iid=142687, r_ui=7.0350295792, est=7.375879773630177, details={'was_impossible': False}),\n",
       " Prediction(uid=0, iid=66214, r_ui=7.0350295792, est=7.525850219707782, details={'was_impossible': False}),\n",
       " Prediction(uid=0, iid=55697, r_ui=7.0350295792, est=7.869397950352762, details={'was_impossible': False}),\n",
       " Prediction(uid=0, iid=11231, r_ui=7.0350295792, est=7.171072553988393, details={'was_impossible': False}),\n",
       " Prediction(uid=0, iid=82420, r_ui=7.0350295792, est=7.935356506270447, details={'was_impossible': False}),\n",
       " Prediction(uid=0, iid=1452, r_ui=7.0350295792, est=7.356598234906188, details={'was_impossible': False}),\n",
       " Prediction(uid=0, iid=30356, r_ui=7.0350295792, est=7.299892818045939, details={'was_impossible': False}),\n",
       " Prediction(uid=0, iid=33359, r_ui=7.0350295792, est=6.982400351044229, details={'was_impossible': False}),\n",
       " Prediction(uid=0, iid=73439, r_ui=7.0350295792, est=8.07495522854922, details={'was_impossible': False}),\n",
       " Prediction(uid=0, iid=164928, r_ui=7.0350295792, est=8.129944934337386, details={'was_impossible': False}),\n",
       " Prediction(uid=0, iid=201, r_ui=7.0350295792, est=7.336481922148444, details={'was_impossible': False}),\n",
       " Prediction(uid=0, iid=58421, r_ui=7.0350295792, est=7.523739334873713, details={'was_impossible': False}),\n",
       " Prediction(uid=0, iid=66171, r_ui=7.0350295792, est=7.182519074025267, details={'was_impossible': False}),\n",
       " Prediction(uid=0, iid=28720, r_ui=7.0350295792, est=8.905323119556966, details={'was_impossible': False}),\n",
       " Prediction(uid=0, iid=13713, r_ui=7.0350295792, est=6.366741665031644, details={'was_impossible': False}),\n",
       " Prediction(uid=0, iid=180263, r_ui=7.0350295792, est=8.779999108640148, details={'was_impossible': False}),\n",
       " Prediction(uid=0, iid=2386, r_ui=7.0350295792, est=6.39168715858219, details={'was_impossible': False}),\n",
       " Prediction(uid=0, iid=65282, r_ui=7.0350295792, est=7.061161854225277, details={'was_impossible': False}),\n",
       " Prediction(uid=0, iid=25617, r_ui=7.0350295792, est=7.13234986093477, details={'was_impossible': False}),\n",
       " Prediction(uid=0, iid=15549, r_ui=7.0350295792, est=6.571092334441951, details={'was_impossible': False}),\n",
       " Prediction(uid=0, iid=204, r_ui=7.0350295792, est=7.768759567984703, details={'was_impossible': False}),\n",
       " Prediction(uid=0, iid=145639, r_ui=7.0350295792, est=7.679405772191747, details={'was_impossible': False}),\n",
       " Prediction(uid=0, iid=6955, r_ui=7.0350295792, est=7.094821127837946, details={'was_impossible': False}),\n",
       " Prediction(uid=0, iid=22198, r_ui=7.0350295792, est=7.419415644288397, details={'was_impossible': False}),\n",
       " Prediction(uid=0, iid=1382, r_ui=7.0350295792, est=7.648515863112134, details={'was_impossible': False}),\n",
       " Prediction(uid=0, iid=28723, r_ui=7.0350295792, est=7.147966896944925, details={'was_impossible': False}),\n",
       " Prediction(uid=0, iid=104006, r_ui=7.0350295792, est=7.911210490961495, details={'was_impossible': False}),\n",
       " Prediction(uid=0, iid=16986, r_ui=7.0350295792, est=7.206662822042775, details={'was_impossible': False}),\n",
       " Prediction(uid=0, iid=172225, r_ui=7.0350295792, est=6.371059913227244, details={'was_impossible': False}),\n",
       " Prediction(uid=0, iid=132531, r_ui=7.0350295792, est=8.345296557284913, details={'was_impossible': False}),\n",
       " Prediction(uid=0, iid=9217, r_ui=7.0350295792, est=8.192799870661043, details={'was_impossible': False}),\n",
       " Prediction(uid=0, iid=4099, r_ui=7.0350295792, est=7.695932961322131, details={'was_impossible': False}),\n",
       " Prediction(uid=0, iid=147151, r_ui=7.0350295792, est=7.282944951356143, details={'was_impossible': False}),\n",
       " Prediction(uid=0, iid=37046, r_ui=7.0350295792, est=7.7815617597367295, details={'was_impossible': False}),\n",
       " Prediction(uid=0, iid=124545, r_ui=7.0350295792, est=7.368023702497336, details={'was_impossible': False}),\n",
       " ...]"
      ]
     },
     "execution_count": 103,
     "metadata": {},
     "output_type": "execute_result"
    }
   ],
   "source": [
    "predictions"
   ]
  },
  {
   "cell_type": "code",
   "execution_count": 104,
   "metadata": {},
   "outputs": [],
   "source": [
    "from surprise.prediction_algorithms import knns\n",
    "from surprise.similarities import cosine, msd, pearson\n",
    "from surprise import accuracy"
   ]
  },
  {
   "cell_type": "markdown",
   "metadata": {},
   "source": [
    "# First Simple Model"
   ]
  },
  {
   "cell_type": "code",
   "execution_count": 105,
   "metadata": {},
   "outputs": [
    {
     "name": "stdout",
     "output_type": "stream",
     "text": [
      "RMSE: 0.6021\n",
      "0.6021122004673057\n"
     ]
    }
   ],
   "source": [
    "print(accuracy.rmse(predictions))"
   ]
  },
  {
   "cell_type": "code",
   "execution_count": 106,
   "metadata": {
    "scrolled": true
   },
   "outputs": [
    {
     "data": {
      "text/plain": [
       "Prediction(uid='34', iid='25', r_ui=None, est=7.0350295792, details={'was_impossible': False})"
      ]
     },
     "execution_count": 106,
     "metadata": {},
     "output_type": "execute_result"
    }
   ],
   "source": [
    "svd.predict('34', '25')"
   ]
  },
  {
   "cell_type": "code",
   "execution_count": 1,
   "metadata": {},
   "outputs": [
    {
     "name": "stdout",
     "output_type": "stream",
     "text": [
      "1\n"
     ]
    }
   ],
   "source": [
    "print(1)"
   ]
  },
  {
   "cell_type": "code",
   "execution_count": null,
   "metadata": {},
   "outputs": [],
   "source": []
  }
 ],
 "metadata": {
  "kernelspec": {
   "display_name": "Python [conda env:troubleshooting_is_pain]",
   "language": "python",
   "name": "conda-env-troubleshooting_is_pain-py"
  },
  "language_info": {
   "codemirror_mode": {
    "name": "ipython",
    "version": 3
   },
   "file_extension": ".py",
   "mimetype": "text/x-python",
   "name": "python",
   "nbconvert_exporter": "python",
   "pygments_lexer": "ipython3",
   "version": "3.8.8"
  }
 },
 "nbformat": 4,
 "nbformat_minor": 4
}
