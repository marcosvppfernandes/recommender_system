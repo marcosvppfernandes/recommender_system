{
 "cells": [
  {
   "cell_type": "markdown",
   "metadata": {},
   "source": [
    "## Board Games - Recommender System"
   ]
  },
  {
   "cell_type": "markdown",
   "metadata": {},
   "source": [
    "**The goal here is to make a supervised personalized recommendation system using collaborative filtering**"
   ]
  },
  {
   "cell_type": "markdown",
   "metadata": {},
   "source": [
    "- **Recommendation Systems** (also known as recommendation engines) are a relatively new prediction method that uses algorithms such as **Collaborative filtering** (CF) and Clustering that try to provide an insight not seen before by the user. In our case we initially try to implement a CF using a dataset with over 15 million rows. These reviews were scraped from https://boardgamegeek.com/."
   ]
  },
  {
   "cell_type": "markdown",
   "metadata": {},
   "source": [
    "- **Offering some context to board games**, the definition is pretty open, but you basically need a mechanic to use during the game and some sort of definition of who and how someone can win in that game. We can find games that uses pieces, boards, cards, dice, coins, resources and nowadays we even have eletronics involved in board games."
   ]
  },
  {
   "cell_type": "markdown",
   "metadata": {},
   "source": [
    "> **Our data counts with 3 different datasets:**\n",
    ">- **bgg_reviews**: Board Game Geek reviews with over 15 million reviews\n",
    ">- **games_info**: Information for the board game, with some other information like number of players and designer\n",
    ">- **reviews_summary**: A summary of the boardgame, how it is ranked on the website, and its average rating and how many users voted"
   ]
  },
  {
   "cell_type": "markdown",
   "metadata": {},
   "source": [
    "For our first recommender, since we are not planning for now to do NLP or use more in depth information like \"designer of the game\" for further analysis we are only going to use the first data set."
   ]
  },
  {
   "cell_type": "code",
   "execution_count": 1,
   "metadata": {},
   "outputs": [],
   "source": [
    "import random\n",
    "import pandas as pd\n",
    "import seaborn as sns\n",
    "from surprise import accuracy\n",
    "import matplotlib.pyplot as plt\n",
    "from surprise import Reader, Dataset, SVD\n",
    "from surprise.prediction_algorithms import knns\n",
    "from surprise.model_selection import GridSearchCV\n",
    "from surprise.model_selection import train_test_split\n",
    "from surprise.similarities import cosine, msd, pearson\n",
    "import warnings; warnings.simplefilter('ignore')"
   ]
  },
  {
   "cell_type": "code",
   "execution_count": 2,
   "metadata": {},
   "outputs": [],
   "source": [
    "bgg_reviews = pd.read_csv('../../../bgg-15m-reviews.csv')"
   ]
  },
  {
   "cell_type": "markdown",
   "metadata": {},
   "source": [
    "### Bring useful functions to the data exploration"
   ]
  },
  {
   "cell_type": "code",
   "execution_count": 3,
   "metadata": {},
   "outputs": [],
   "source": [
    "def basic_info(data):\n",
    "    \"\"\" Gets basic information to understand more of the data, also useful to delete columns that we know are categorical\"\"\"\n",
    "    print(\"Dataset shape is: \", data.shape)\n",
    "    print(\"Dataset size is: \", data.size)\n",
    "    print(data.duplicated().sum())\n",
    "    print(\"Dataset columns are: \", data.columns)\n",
    "    print(\"Dataset info is: \", data.info())\n",
    "    categorical = []\n",
    "    numerical = []\n",
    "    for i in data.columns:\n",
    "        if data[i].dtype == object:\n",
    "            categorical.append(i)\n",
    "        else:\n",
    "            numerical.append(i)\n",
    "    print(\"Categorical variables are:\\n \", categorical)\n",
    "    print(\"Numerical variables are:\\n \", numerical)\n",
    "    return categorical, numerical"
   ]
  },
  {
   "cell_type": "code",
   "execution_count": 4,
   "metadata": {},
   "outputs": [],
   "source": [
    "def columns_w_nan(data, y):\n",
    "    \"\"\" Returns the columns that have over y% of its data as missing value \"\"\"\n",
    "    temp = []\n",
    "    temp_perce = []\n",
    "    for x in data.columns:\n",
    "        if data[x].isna().sum() > 0:\n",
    "            percentage_of_data = data[x].isna().sum()/(list(data.shape)[0])\n",
    "            print(\"Row: {} : is made {}% of NaN Values.\".format(x, percentage_of_data.round(3)))\n",
    "            if percentage_of_data > y:\n",
    "                temp.append(x)\n",
    "                temp_perce.append(percentage_of_data)\n",
    "    if len(temp) > 0:\n",
    "        print('')            \n",
    "        print(temp)\n",
    "        print('')\n",
    "        print(temp_perce)"
   ]
  },
  {
   "cell_type": "code",
   "execution_count": 5,
   "metadata": {},
   "outputs": [
    {
     "name": "stdout",
     "output_type": "stream",
     "text": [
      "Dataset shape is:  (15823269, 6)\n",
      "Dataset size is:  94939614\n",
      "0\n",
      "Dataset columns are:  Index(['Unnamed: 0', 'user', 'rating', 'comment', 'ID', 'name'], dtype='object')\n",
      "<class 'pandas.core.frame.DataFrame'>\n",
      "RangeIndex: 15823269 entries, 0 to 15823268\n",
      "Data columns (total 6 columns):\n",
      " #   Column      Dtype  \n",
      "---  ------      -----  \n",
      " 0   Unnamed: 0  int64  \n",
      " 1   user        object \n",
      " 2   rating      float64\n",
      " 3   comment     object \n",
      " 4   ID          int64  \n",
      " 5   name        object \n",
      "dtypes: float64(1), int64(2), object(3)\n",
      "memory usage: 724.3+ MB\n",
      "Dataset info is:  None\n",
      "Categorical variables are:\n",
      "  ['user', 'comment', 'name']\n",
      "Numerical variables are:\n",
      "  ['Unnamed: 0', 'rating', 'ID']\n"
     ]
    },
    {
     "data": {
      "text/plain": [
       "(['user', 'comment', 'name'], ['Unnamed: 0', 'rating', 'ID'])"
      ]
     },
     "execution_count": 5,
     "metadata": {},
     "output_type": "execute_result"
    }
   ],
   "source": [
    "basic_info(bgg_reviews)"
   ]
  },
  {
   "cell_type": "code",
   "execution_count": 6,
   "metadata": {
    "scrolled": true
   },
   "outputs": [
    {
     "name": "stdout",
     "output_type": "stream",
     "text": [
      "Row: user : is made 0.0% of NaN Values.\n",
      "Row: comment : is made 0.811% of NaN Values.\n",
      "\n",
      "['comment']\n",
      "\n",
      "[0.8107203385090653]\n"
     ]
    }
   ],
   "source": [
    "columns_w_nan(bgg_reviews, 0.3)"
   ]
  },
  {
   "cell_type": "code",
   "execution_count": 7,
   "metadata": {},
   "outputs": [
    {
     "data": {
      "text/html": [
       "<div>\n",
       "<style scoped>\n",
       "    .dataframe tbody tr th:only-of-type {\n",
       "        vertical-align: middle;\n",
       "    }\n",
       "\n",
       "    .dataframe tbody tr th {\n",
       "        vertical-align: top;\n",
       "    }\n",
       "\n",
       "    .dataframe thead th {\n",
       "        text-align: right;\n",
       "    }\n",
       "</style>\n",
       "<table border=\"1\" class=\"dataframe\">\n",
       "  <thead>\n",
       "    <tr style=\"text-align: right;\">\n",
       "      <th></th>\n",
       "      <th>Unnamed: 0</th>\n",
       "      <th>user</th>\n",
       "      <th>rating</th>\n",
       "      <th>comment</th>\n",
       "      <th>ID</th>\n",
       "      <th>name</th>\n",
       "    </tr>\n",
       "  </thead>\n",
       "  <tbody>\n",
       "    <tr>\n",
       "      <th>6036524</th>\n",
       "      <td>6036524</td>\n",
       "      <td>ckessel</td>\n",
       "      <td>7.0</td>\n",
       "      <td>Eh. It's very Euro and it feels much like othe...</td>\n",
       "      <td>9216</td>\n",
       "      <td>Goa</td>\n",
       "    </tr>\n",
       "    <tr>\n",
       "      <th>1133390</th>\n",
       "      <td>1133390</td>\n",
       "      <td>mazinho</td>\n",
       "      <td>8.0</td>\n",
       "      <td>NaN</td>\n",
       "      <td>70323</td>\n",
       "      <td>King of Tokyo</td>\n",
       "    </tr>\n",
       "    <tr>\n",
       "      <th>12202475</th>\n",
       "      <td>12202475</td>\n",
       "      <td>mstadtner</td>\n",
       "      <td>7.0</td>\n",
       "      <td>Awesome, if frustrating game. It does a great ...</td>\n",
       "      <td>127518</td>\n",
       "      <td>A Distant Plain</td>\n",
       "    </tr>\n",
       "  </tbody>\n",
       "</table>\n",
       "</div>"
      ],
      "text/plain": [
       "          Unnamed: 0       user  rating  \\\n",
       "6036524      6036524    ckessel     7.0   \n",
       "1133390      1133390    mazinho     8.0   \n",
       "12202475    12202475  mstadtner     7.0   \n",
       "\n",
       "                                                    comment      ID  \\\n",
       "6036524   Eh. It's very Euro and it feels much like othe...    9216   \n",
       "1133390                                                 NaN   70323   \n",
       "12202475  Awesome, if frustrating game. It does a great ...  127518   \n",
       "\n",
       "                     name  \n",
       "6036524               Goa  \n",
       "1133390     King of Tokyo  \n",
       "12202475  A Distant Plain  "
      ]
     },
     "execution_count": 7,
     "metadata": {},
     "output_type": "execute_result"
    }
   ],
   "source": [
    "# We check what our data looks like (For example we noticed \"Unnamed: 0\" on our basic_info function)\n",
    "# and we set random_state for reproducibility\n",
    "bgg_reviews.sample(3, random_state=22)"
   ]
  },
  {
   "cell_type": "markdown",
   "metadata": {},
   "source": [
    "- Since we do not plan to use comments (in reality those are qualitative reviews) for now and they have a lot of missing values (around 80%), we drop them.\n",
    "- We also drop 'Unnamed: 0' because we notice it is a repeat of the index.\n",
    "- The other column we are going to drop is the 'name', because it is represented already by ID as you can see here:"
   ]
  },
  {
   "cell_type": "markdown",
   "metadata": {},
   "source": [
    "![title](../../../../capimages/part_1_install.png)"
   ]
  },
  {
   "cell_type": "markdown",
   "metadata": {},
   "source": [
    "King of Tokyo = 70323, great game by the way. Coolest dice I have ever seen."
   ]
  },
  {
   "cell_type": "code",
   "execution_count": 8,
   "metadata": {},
   "outputs": [],
   "source": [
    "# .drop and inplace=True so we keep our changes\n",
    "bgg_reviews.drop(columns=['comment', 'Unnamed: 0', 'name'], inplace=True)"
   ]
  },
  {
   "cell_type": "code",
   "execution_count": 9,
   "metadata": {},
   "outputs": [],
   "source": [
    "# We now drop the remaining NaN values that exist on the 0%, since having user is fundamental for our analysis\n",
    "bgg_reviews.dropna(inplace=True)"
   ]
  },
  {
   "cell_type": "code",
   "execution_count": 10,
   "metadata": {},
   "outputs": [
    {
     "data": {
      "text/html": [
       "<div>\n",
       "<style scoped>\n",
       "    .dataframe tbody tr th:only-of-type {\n",
       "        vertical-align: middle;\n",
       "    }\n",
       "\n",
       "    .dataframe tbody tr th {\n",
       "        vertical-align: top;\n",
       "    }\n",
       "\n",
       "    .dataframe thead th {\n",
       "        text-align: right;\n",
       "    }\n",
       "</style>\n",
       "<table border=\"1\" class=\"dataframe\">\n",
       "  <thead>\n",
       "    <tr style=\"text-align: right;\">\n",
       "      <th></th>\n",
       "      <th>user</th>\n",
       "      <th>rating</th>\n",
       "      <th>ID</th>\n",
       "    </tr>\n",
       "  </thead>\n",
       "  <tbody>\n",
       "    <tr>\n",
       "      <th>13907171</th>\n",
       "      <td>DeanMary</td>\n",
       "      <td>8.0</td>\n",
       "      <td>6137</td>\n",
       "    </tr>\n",
       "    <tr>\n",
       "      <th>147029</th>\n",
       "      <td>DarrylFerster</td>\n",
       "      <td>10.0</td>\n",
       "      <td>10630</td>\n",
       "    </tr>\n",
       "    <tr>\n",
       "      <th>13243091</th>\n",
       "      <td>Scubaroo</td>\n",
       "      <td>8.0</td>\n",
       "      <td>175695</td>\n",
       "    </tr>\n",
       "  </tbody>\n",
       "</table>\n",
       "</div>"
      ],
      "text/plain": [
       "                   user  rating      ID\n",
       "13907171       DeanMary     8.0    6137\n",
       "147029    DarrylFerster    10.0   10630\n",
       "13243091       Scubaroo     8.0  175695"
      ]
     },
     "execution_count": 10,
     "metadata": {},
     "output_type": "execute_result"
    }
   ],
   "source": [
    "# Sample of our data again to check how our data looks like\n",
    "bgg_reviews.sample(3, random_state=22)"
   ]
  },
  {
   "cell_type": "code",
   "execution_count": 11,
   "metadata": {},
   "outputs": [],
   "source": [
    "# We use cat.codes to designate each user an unique ID\n",
    "bgg_reviews['user'] = bgg_reviews['user'].astype('category').cat.codes"
   ]
  },
  {
   "cell_type": "code",
   "execution_count": 12,
   "metadata": {},
   "outputs": [],
   "source": [
    "# We change the name of the columns to follow more of a pattern and be more descriptive\n",
    "bgg_reviews.columns = ['user_id', 'rating', 'game_id']"
   ]
  },
  {
   "cell_type": "code",
   "execution_count": 13,
   "metadata": {},
   "outputs": [],
   "source": [
    "# Now we have to rearrange the columns to a form that the model understand, that is:\n",
    "cols = ['user_id', 'game_id', 'rating']\n",
    "bgg_reviews = bgg_reviews[cols]"
   ]
  },
  {
   "cell_type": "code",
   "execution_count": 14,
   "metadata": {
    "scrolled": false
   },
   "outputs": [
    {
     "data": {
      "text/plain": [
       "(array([1.8688e+04, 3.3100e+02, 1.3100e+02, 5.9000e+01, 3.5000e+01,\n",
       "        3.3000e+01, 1.1000e+01, 1.3000e+01, 5.0000e+00, 6.0000e+00,\n",
       "        1.0000e+00, 7.0000e+00, 3.0000e+00, 1.0000e+00, 1.0000e+00,\n",
       "        1.0000e+00, 1.0000e+00, 0.0000e+00, 0.0000e+00, 3.0000e+00]),\n",
       " array([3.00000e+01, 4.84020e+03, 9.65040e+03, 1.44606e+04, 1.92708e+04,\n",
       "        2.40810e+04, 2.88912e+04, 3.37014e+04, 3.85116e+04, 4.33218e+04,\n",
       "        4.81320e+04, 5.29422e+04, 5.77524e+04, 6.25626e+04, 6.73728e+04,\n",
       "        7.21830e+04, 7.69932e+04, 8.18034e+04, 8.66136e+04, 9.14238e+04,\n",
       "        9.62340e+04]),\n",
       " <BarContainer object of 20 artists>)"
      ]
     },
     "execution_count": 14,
     "metadata": {},
     "output_type": "execute_result"
    },
    {
     "data": {
      "image/png": "[encoded data removed]",
      "text/plain": [
       "<Figure size 432x288 with 1 Axes>"
      ]
     },
     "metadata": {
      "needs_background": "light"
     },
     "output_type": "display_data"
    }
   ],
   "source": [
    "# Game\n",
    "plt.hist(bgg_reviews['game_id'].value_counts(), bins=20)"
   ]
  },
  {
   "cell_type": "code",
   "execution_count": 62,
   "metadata": {
    "scrolled": false
   },
   "outputs": [
    {
     "data": {
      "text/plain": [
       "30549    96234\n",
       "822      96220\n",
       "13       96184\n",
       "68448    79870\n",
       "36218    74953\n",
       "Name: game_id, dtype: int64"
      ]
     },
     "execution_count": 62,
     "metadata": {},
     "output_type": "execute_result"
    }
   ],
   "source": [
    "bgg_reviews['game_id'].value_counts()[0:5]"
   ]
  },
  {
   "cell_type": "markdown",
   "metadata": {},
   "source": [
    "**Here we have our data ready to feed to whatever model we decide to use, but to make it lighter on the modeling we decide to use only a fraction of the whole data for now**:"
   ]
  },
  {
   "cell_type": "markdown",
   "metadata": {},
   "source": [
    "The data is sorted by game, which we should pay attention to the way we will get the data so we keep a \"healthy\" ratio of number of users and items"
   ]
  },
  {
   "cell_type": "code",
   "execution_count": 17,
   "metadata": {
    "scrolled": false
   },
   "outputs": [
    {
     "data": {
      "text/plain": [
       "'The number of board games is: 19330, and 351048 of users'"
      ]
     },
     "execution_count": 17,
     "metadata": {},
     "output_type": "execute_result"
    }
   ],
   "source": [
    "\"The number of board games is: {}, and {} of users\".format(len(bgg_reviews['game_id'].unique()),\n",
    "                                                           len(bgg_reviews['user_id'].unique()))"
   ]
  },
  {
   "cell_type": "markdown",
   "metadata": {},
   "source": [
    "The porportion is around 18 users for every 1 board game, so it is an item-item similarity situation.\n",
    "Let's try to keep the same proportion."
   ]
  },
  {
   "cell_type": "code",
   "execution_count": 18,
   "metadata": {},
   "outputs": [],
   "source": [
    "bgg_reviews_subset = bgg_reviews.sample(1000000, random_state=22)"
   ]
  },
  {
   "cell_type": "code",
   "execution_count": 19,
   "metadata": {},
   "outputs": [
    {
     "data": {
      "text/plain": [
       "'The number of board games is: 18893, and 189600 of users'"
      ]
     },
     "execution_count": 19,
     "metadata": {},
     "output_type": "execute_result"
    }
   ],
   "source": [
    "\"The number of board games is: {}, and {} of users\".format(len(bgg_reviews_subset['game_id'].unique()),\n",
    "                                                           len(bgg_reviews_subset['user_id'].unique()))"
   ]
  },
  {
   "cell_type": "markdown",
   "metadata": {},
   "source": [
    "**That's a worse proportion - around 10 instead of 18, but let's move on.**"
   ]
  },
  {
   "cell_type": "code",
   "execution_count": 53,
   "metadata": {
    "scrolled": true
   },
   "outputs": [
    {
     "data": {
      "text/html": [
       "<div>\n",
       "<style scoped>\n",
       "    .dataframe tbody tr th:only-of-type {\n",
       "        vertical-align: middle;\n",
       "    }\n",
       "\n",
       "    .dataframe tbody tr th {\n",
       "        vertical-align: top;\n",
       "    }\n",
       "\n",
       "    .dataframe thead th {\n",
       "        text-align: right;\n",
       "    }\n",
       "</style>\n",
       "<table border=\"1\" class=\"dataframe\">\n",
       "  <thead>\n",
       "    <tr style=\"text-align: right;\">\n",
       "      <th></th>\n",
       "      <th>user_id</th>\n",
       "      <th>game_id</th>\n",
       "      <th>rating</th>\n",
       "    </tr>\n",
       "  </thead>\n",
       "  <tbody>\n",
       "    <tr>\n",
       "      <th>13907171</th>\n",
       "      <td>38098</td>\n",
       "      <td>6137</td>\n",
       "      <td>8.0</td>\n",
       "    </tr>\n",
       "    <tr>\n",
       "      <th>147029</th>\n",
       "      <td>36743</td>\n",
       "      <td>10630</td>\n",
       "      <td>10.0</td>\n",
       "    </tr>\n",
       "    <tr>\n",
       "      <th>13243091</th>\n",
       "      <td>139805</td>\n",
       "      <td>175695</td>\n",
       "      <td>8.0</td>\n",
       "    </tr>\n",
       "    <tr>\n",
       "      <th>15117025</th>\n",
       "      <td>73348</td>\n",
       "      <td>7097</td>\n",
       "      <td>6.0</td>\n",
       "    </tr>\n",
       "    <tr>\n",
       "      <th>15114494</th>\n",
       "      <td>319493</td>\n",
       "      <td>10915</td>\n",
       "      <td>7.0</td>\n",
       "    </tr>\n",
       "  </tbody>\n",
       "</table>\n",
       "</div>"
      ],
      "text/plain": [
       "          user_id  game_id  rating\n",
       "13907171    38098     6137     8.0\n",
       "147029      36743    10630    10.0\n",
       "13243091   139805   175695     8.0\n",
       "15117025    73348     7097     6.0\n",
       "15114494   319493    10915     7.0"
      ]
     },
     "execution_count": 53,
     "metadata": {},
     "output_type": "execute_result"
    }
   ],
   "source": [
    "bgg_reviews_subset.head()"
   ]
  },
  {
   "cell_type": "code",
   "execution_count": 54,
   "metadata": {},
   "outputs": [
    {
     "data": {
      "text/plain": [
       "7.0547770227800015"
      ]
     },
     "execution_count": 54,
     "metadata": {},
     "output_type": "execute_result"
    }
   ],
   "source": [
    "bgg_reviews_subset['rating'].mean()"
   ]
  },
  {
   "cell_type": "code",
   "execution_count": 56,
   "metadata": {},
   "outputs": [
    {
     "data": {
      "text/plain": [
       "user_id    177504.361844\n",
       "game_id     70323.000000\n",
       "rating          7.210681\n",
       "dtype: float64"
      ]
     },
     "execution_count": 56,
     "metadata": {},
     "output_type": "execute_result"
    }
   ],
   "source": [
    "bgg_reviews_subset[bgg_reviews_subset['game_id'] == 70323].mean()"
   ]
  },
  {
   "cell_type": "markdown",
   "metadata": {},
   "source": [
    "## For our modeling we try different approaches to find the best one:\n",
    "**(Spoiler alert: it is going to be the last one)**"
   ]
  },
  {
   "cell_type": "markdown",
   "metadata": {},
   "source": [
    "We need to instatiate Reader to transform our dataset into a form that the library (Surprise) can read."
   ]
  },
  {
   "cell_type": "code",
   "execution_count": 20,
   "metadata": {},
   "outputs": [],
   "source": [
    "# We need to specify the range for the rating scale, since the default is 1 to 5\n",
    "reader = Reader(rating_scale=(1,10))"
   ]
  },
  {
   "cell_type": "markdown",
   "metadata": {},
   "source": [
    "- Neighborhood-Based"
   ]
  },
  {
   "cell_type": "code",
   "execution_count": 21,
   "metadata": {},
   "outputs": [],
   "source": [
    "# We transform the dataset into a surprise-dataset\n",
    "data = Dataset.load_from_df(bgg_reviews_subset, reader)"
   ]
  },
  {
   "cell_type": "code",
   "execution_count": 22,
   "metadata": {},
   "outputs": [],
   "source": [
    "# We run train-test split on the data so we can validate it later\n",
    "trainset, testset = train_test_split(data, test_size=0.25, random_state=22)"
   ]
  },
  {
   "cell_type": "code",
   "execution_count": 23,
   "metadata": {
    "scrolled": true
   },
   "outputs": [
    {
     "name": "stdout",
     "output_type": "stream",
     "text": [
      "Number of users:  171595 \n",
      "\n",
      "Number of items:  18440 \n",
      "\n"
     ]
    }
   ],
   "source": [
    "print('Number of users: ', trainset.n_users, '\\n')\n",
    "print('Number of items: ', trainset.n_items, '\\n')"
   ]
  },
  {
   "cell_type": "markdown",
   "metadata": {},
   "source": [
    "**We first try cosine similarity**"
   ]
  },
  {
   "cell_type": "code",
   "execution_count": 24,
   "metadata": {},
   "outputs": [],
   "source": [
    "# Here we define that we want cosine similarity approach and set the user_based to false, since we have more users than items\n",
    "sim_cos = {'name':'cosine', 'user_based':False}"
   ]
  },
  {
   "cell_type": "code",
   "execution_count": 25,
   "metadata": {},
   "outputs": [
    {
     "name": "stdout",
     "output_type": "stream",
     "text": [
      "Computing the cosine similarity matrix...\n",
      "Done computing similarity matrix.\n"
     ]
    },
    {
     "data": {
      "text/plain": [
       "<surprise.prediction_algorithms.knns.KNNBasic at 0x21026b8ccd0>"
      ]
     },
     "execution_count": 25,
     "metadata": {},
     "output_type": "execute_result"
    }
   ],
   "source": [
    "# We set the model (KNN) and use the sim_cos defined before\n",
    "basic = knns.KNNBasic(sim_options=sim_cos)\n",
    "# We fit the model\n",
    "basic.fit(trainset)"
   ]
  },
  {
   "cell_type": "code",
   "execution_count": 26,
   "metadata": {},
   "outputs": [],
   "source": [
    "# We get the predictions of our first model\n",
    "predictions = basic.test(testset)"
   ]
  },
  {
   "cell_type": "code",
   "execution_count": 27,
   "metadata": {},
   "outputs": [
    {
     "data": {
      "text/plain": [
       "Prediction(uid=241779, iid=4991, r_ui=7.0, est=9.0, details={'actual_k': 1, 'was_impossible': False})"
      ]
     },
     "execution_count": 27,
     "metadata": {},
     "output_type": "execute_result"
    }
   ],
   "source": [
    "# And this is what it looks like one prediction\n",
    "predictions[0]"
   ]
  },
  {
   "cell_type": "code",
   "execution_count": 28,
   "metadata": {
    "scrolled": false
   },
   "outputs": [
    {
     "name": "stdout",
     "output_type": "stream",
     "text": [
      "RMSE: 1.6322\n",
      "1.6321928161994432\n"
     ]
    }
   ],
   "source": [
    "# The accuracy that we are going to use is RMSE(root-mean-square error), but you can also use\n",
    "# MAE(Mean Absolute Error) and FCP(Fraction of Concordant Pairs).\n",
    "print(accuracy.rmse(predictions))"
   ]
  },
  {
   "cell_type": "markdown",
   "metadata": {},
   "source": [
    "**Now we try pearson correlation**"
   ]
  },
  {
   "cell_type": "code",
   "execution_count": 29,
   "metadata": {},
   "outputs": [
    {
     "name": "stdout",
     "output_type": "stream",
     "text": [
      "Computing the pearson similarity matrix...\n",
      "Done computing similarity matrix.\n"
     ]
    }
   ],
   "source": [
    "sim_pearson = {'name':'pearson', 'user_based':False}\n",
    "basic_pearson = knns.KNNBasic(sim_options=sim_pearson)\n",
    "basic_pearson.fit(trainset)\n",
    "predictions = basic_pearson.test(testset)"
   ]
  },
  {
   "cell_type": "code",
   "execution_count": 30,
   "metadata": {
    "scrolled": false
   },
   "outputs": [
    {
     "name": "stdout",
     "output_type": "stream",
     "text": [
      "RMSE: 1.6814\n",
      "1.6813701984732634\n"
     ]
    }
   ],
   "source": [
    "print(accuracy.rmse(predictions))"
   ]
  },
  {
   "cell_type": "markdown",
   "metadata": {},
   "source": [
    "It seems that cosine similarity is better for our situation, but lets try pearson with knn with means instead of the vanilla version:"
   ]
  },
  {
   "cell_type": "code",
   "execution_count": 31,
   "metadata": {
    "scrolled": true
   },
   "outputs": [
    {
     "name": "stdout",
     "output_type": "stream",
     "text": [
      "Computing the pearson similarity matrix...\n",
      "Done computing similarity matrix.\n"
     ]
    }
   ],
   "source": [
    "sim_pearson = {'name':'pearson', 'user_based':False}\n",
    "knn_means = knns.KNNWithMeans(sim_options=sim_pearson)\n",
    "knn_means.fit(trainset)\n",
    "predictions = knn_means.test(testset)\n"
   ]
  },
  {
   "cell_type": "code",
   "execution_count": 32,
   "metadata": {},
   "outputs": [
    {
     "name": "stdout",
     "output_type": "stream",
     "text": [
      "RMSE: 1.5124\n",
      "1.512350332149912\n"
     ]
    }
   ],
   "source": [
    "print(accuracy.rmse(predictions))"
   ]
  },
  {
   "cell_type": "markdown",
   "metadata": {},
   "source": [
    "And now Pearson with Baseline:"
   ]
  },
  {
   "cell_type": "code",
   "execution_count": 33,
   "metadata": {},
   "outputs": [
    {
     "name": "stdout",
     "output_type": "stream",
     "text": [
      "Estimating biases using als...\n",
      "Computing the pearson similarity matrix...\n",
      "Done computing similarity matrix.\n"
     ]
    }
   ],
   "source": [
    "sim_pearson = {'name':'pearson', 'user_based':False}\n",
    "knn_baseline = knns.KNNBaseline(sim_options=sim_pearson)\n",
    "knn_baseline.fit(trainset)\n",
    "predictions = knn_baseline.test(testset)"
   ]
  },
  {
   "cell_type": "code",
   "execution_count": 34,
   "metadata": {},
   "outputs": [
    {
     "name": "stdout",
     "output_type": "stream",
     "text": [
      "RMSE: 1.4672\n",
      "1.4671510425952061\n"
     ]
    }
   ],
   "source": [
    "print(accuracy.rmse(predictions))"
   ]
  },
  {
   "cell_type": "markdown",
   "metadata": {},
   "source": [
    "### We can also try Model-Based methods instead of Memory-Based"
   ]
  },
  {
   "cell_type": "markdown",
   "metadata": {},
   "source": [
    "SVD is the most well-known algorithm"
   ]
  },
  {
   "cell_type": "code",
   "execution_count": 37,
   "metadata": {},
   "outputs": [
    {
     "name": "stdout",
     "output_type": "stream",
     "text": [
      "RMSE: 1.3744\n",
      "1.374389443248155\n"
     ]
    }
   ],
   "source": [
    "svd = SVD(n_factors=100, n_epochs=10, lr_all=0.005, reg_all=0.4, verbose=False)\n",
    "svd.fit(trainset)\n",
    "predictions = svd.test(testset)\n",
    "print(accuracy.rmse(predictions))"
   ]
  },
  {
   "cell_type": "code",
   "execution_count": 68,
   "metadata": {
    "scrolled": true
   },
   "outputs": [
    {
     "data": {
      "text/html": [
       "<div>\n",
       "<style scoped>\n",
       "    .dataframe tbody tr th:only-of-type {\n",
       "        vertical-align: middle;\n",
       "    }\n",
       "\n",
       "    .dataframe tbody tr th {\n",
       "        vertical-align: top;\n",
       "    }\n",
       "\n",
       "    .dataframe thead th {\n",
       "        text-align: right;\n",
       "    }\n",
       "</style>\n",
       "<table border=\"1\" class=\"dataframe\">\n",
       "  <thead>\n",
       "    <tr style=\"text-align: right;\">\n",
       "      <th></th>\n",
       "      <th>user_id</th>\n",
       "      <th>game_id</th>\n",
       "      <th>rating</th>\n",
       "    </tr>\n",
       "  </thead>\n",
       "  <tbody>\n",
       "    <tr>\n",
       "      <th>13907171</th>\n",
       "      <td>38098</td>\n",
       "      <td>6137</td>\n",
       "      <td>8.0</td>\n",
       "    </tr>\n",
       "    <tr>\n",
       "      <th>147029</th>\n",
       "      <td>36743</td>\n",
       "      <td>10630</td>\n",
       "      <td>10.0</td>\n",
       "    </tr>\n",
       "    <tr>\n",
       "      <th>13243091</th>\n",
       "      <td>139805</td>\n",
       "      <td>175695</td>\n",
       "      <td>8.0</td>\n",
       "    </tr>\n",
       "    <tr>\n",
       "      <th>15117025</th>\n",
       "      <td>73348</td>\n",
       "      <td>7097</td>\n",
       "      <td>6.0</td>\n",
       "    </tr>\n",
       "    <tr>\n",
       "      <th>15114494</th>\n",
       "      <td>319493</td>\n",
       "      <td>10915</td>\n",
       "      <td>7.0</td>\n",
       "    </tr>\n",
       "  </tbody>\n",
       "</table>\n",
       "</div>"
      ],
      "text/plain": [
       "          user_id  game_id  rating\n",
       "13907171    38098     6137     8.0\n",
       "147029      36743    10630    10.0\n",
       "13243091   139805   175695     8.0\n",
       "15117025    73348     7097     6.0\n",
       "15114494   319493    10915     7.0"
      ]
     },
     "execution_count": 68,
     "metadata": {},
     "output_type": "execute_result"
    }
   ],
   "source": [
    "bgg_reviews_subset.head()"
   ]
  },
  {
   "cell_type": "code",
   "execution_count": 41,
   "metadata": {
    "scrolled": true
   },
   "outputs": [
    {
     "data": {
      "text/plain": [
       "Prediction(uid=73348, iid=1, r_ui=None, est=7.434814806894602, details={'was_impossible': False})"
      ]
     },
     "execution_count": 41,
     "metadata": {},
     "output_type": "execute_result"
    }
   ],
   "source": [
    "svd.predict(73348, 1)"
   ]
  },
  {
   "cell_type": "code",
   "execution_count": 69,
   "metadata": {
    "scrolled": true
   },
   "outputs": [
    {
     "data": {
      "text/plain": [
       "Prediction(uid=73348, iid=7097, r_ui=None, est=6.585540235479425, details={'was_impossible': False})"
      ]
     },
     "execution_count": 69,
     "metadata": {},
     "output_type": "execute_result"
    }
   ],
   "source": [
    "svd.predict(73348, 7097)"
   ]
  },
  {
   "cell_type": "code",
   "execution_count": 42,
   "metadata": {},
   "outputs": [
    {
     "data": {
      "text/plain": [
       "Prediction(uid=139805, iid=1, r_ui=None, est=7.910528243084789, details={'was_impossible': False})"
      ]
     },
     "execution_count": 42,
     "metadata": {},
     "output_type": "execute_result"
    }
   ],
   "source": [
    "svd.predict(139805, 1)"
   ]
  },
  {
   "cell_type": "code",
   "execution_count": 70,
   "metadata": {},
   "outputs": [
    {
     "data": {
      "text/plain": [
       "Prediction(uid=139805, iid=175695, r_ui=None, est=7.636191823182853, details={'was_impossible': False})"
      ]
     },
     "execution_count": 70,
     "metadata": {},
     "output_type": "execute_result"
    }
   ],
   "source": [
    "svd.predict(139805, 175695)"
   ]
  },
  {
   "cell_type": "markdown",
   "metadata": {},
   "source": [
    "### Unbiased Accuracy Estimation"
   ]
  },
  {
   "cell_type": "markdown",
   "metadata": {},
   "source": [
    "Here we try a different approach that uses validation and shuffle of the ratings to make the model more leakage-proof and have more of an unbiased estimation.\n",
    "You can find the documentation here(https://surprise.readthedocs.io/en/stable/FAQ.html#how-to-save-some-data-for-unbiased-accuracy-estimation)"
   ]
  },
  {
   "cell_type": "code",
   "execution_count": 44,
   "metadata": {},
   "outputs": [],
   "source": [
    "raw_ratings = data.raw_ratings\n",
    "random.shuffle(raw_ratings)\n",
    "threshold = int(.8 * len(raw_ratings))"
   ]
  },
  {
   "cell_type": "code",
   "execution_count": 45,
   "metadata": {},
   "outputs": [],
   "source": [
    "A_raw_ratings = raw_ratings[:threshold]"
   ]
  },
  {
   "cell_type": "code",
   "execution_count": 46,
   "metadata": {},
   "outputs": [],
   "source": [
    "B_raw_ratings = raw_ratings[threshold:]"
   ]
  },
  {
   "cell_type": "code",
   "execution_count": 47,
   "metadata": {},
   "outputs": [],
   "source": [
    "data.raw_ratings = A_raw_ratings"
   ]
  },
  {
   "cell_type": "code",
   "execution_count": 48,
   "metadata": {},
   "outputs": [],
   "source": [
    "param_grid = {'n_epochs': [5, 10], 'lr_all': [0.002, 0.005]}\n",
    "grid_search = GridSearchCV(SVD, param_grid, measures=['rmse'], cv=3)\n",
    "grid_search.fit(data)"
   ]
  },
  {
   "cell_type": "code",
   "execution_count": 49,
   "metadata": {},
   "outputs": [],
   "source": [
    "algo = grid_search.best_estimator['rmse']"
   ]
  },
  {
   "cell_type": "code",
   "execution_count": 50,
   "metadata": {},
   "outputs": [
    {
     "data": {
      "text/plain": [
       "<surprise.prediction_algorithms.matrix_factorization.SVD at 0x2103eec3a30>"
      ]
     },
     "execution_count": 50,
     "metadata": {},
     "output_type": "execute_result"
    }
   ],
   "source": [
    "trainset = data.build_full_trainset()\n",
    "algo.fit(trainset)"
   ]
  },
  {
   "cell_type": "code",
   "execution_count": 51,
   "metadata": {},
   "outputs": [
    {
     "name": "stdout",
     "output_type": "stream",
     "text": [
      "Biased accuracy on A,   RMSE: 1.1181\n"
     ]
    },
    {
     "data": {
      "text/plain": [
       "1.1180518353542077"
      ]
     },
     "execution_count": 51,
     "metadata": {},
     "output_type": "execute_result"
    }
   ],
   "source": [
    "predictions = algo.test(trainset.build_testset())\n",
    "print('Biased accuracy on A,', end='   ')\n",
    "accuracy.rmse(predictions)"
   ]
  },
  {
   "cell_type": "code",
   "execution_count": 52,
   "metadata": {
    "scrolled": false
   },
   "outputs": [
    {
     "name": "stdout",
     "output_type": "stream",
     "text": [
      "Unbiased accuracy on B, RMSE: 1.3590\n"
     ]
    },
    {
     "data": {
      "text/plain": [
       "1.3590320717254945"
      ]
     },
     "execution_count": 52,
     "metadata": {},
     "output_type": "execute_result"
    }
   ],
   "source": [
    "testset = data.construct_testset(B_raw_ratings)  # testset is now the set B\n",
    "predictions = algo.test(testset)\n",
    "print('Unbiased accuracy on B,', end=' ')\n",
    "accuracy.rmse(predictions)"
   ]
  }
 ],
 "metadata": {
  "kernelspec": {
   "display_name": "Python [conda env:troubleshooting_is_pain]",
   "language": "python",
   "name": "conda-env-troubleshooting_is_pain-py"
  },
  "language_info": {
   "codemirror_mode": {
    "name": "ipython",
    "version": 3
   },
   "file_extension": ".py",
   "mimetype": "text/x-python",
   "name": "python",
   "nbconvert_exporter": "python",
   "pygments_lexer": "ipython3",
   "version": "3.8.8"
  }
 },
 "nbformat": 4,
 "nbformat_minor": 4
}
