{
 "cells": [
  {
   "cell_type": "markdown",
   "metadata": {},
   "source": [
    "## Board Games - Recommender System"
   ]
  },
  {
   "cell_type": "markdown",
   "metadata": {},
   "source": [
    "**The goal here is to create a supervised personalized recommendation system using collaborative filtering**"
   ]
  },
  {
   "cell_type": "markdown",
   "metadata": {},
   "source": [
    "- **Recommendation Systems** (also known as recommendation engines) are a relatively new prediction method that uses algorithms such as **Collaborative filtering** (CF) and Clustering that try to provide a number N of items (not yet interacted) for a specific user based on the correlation between users and what they had interaction with. In our case we initially try to implement a CF using a dataset with over 15 million rows. These reviews were scraped from https://boardgamegeek.com/ and can be found [here](https://www.kaggle.com/jvanelteren/boardgamegeek-reviews?select=bgg-15m-reviews.csv)!"
   ]
  },
  {
   "cell_type": "markdown",
   "metadata": {},
   "source": [
    "> **Offering some context to board games**, the definition is pretty open, but normally the rules are clear, needs a mechanic to use during the game and some sort of definition of how someone can win in that game. We can find games that uses pieces, boards, cards, dice, coins, resources and nowadays we even have eletronics involved in board games."
   ]
  },
  {
   "cell_type": "markdown",
   "metadata": {},
   "source": [
    "![image](\"../capimages/board_game_cafe.jpg\")"
   ]
  },
  {
   "cell_type": "markdown",
   "metadata": {},
   "source": [
    "> **Our data consists with 3 different datasets:**\n",
    ">- **bgg_reviews**: Board Game Geek reviews with over 15 million entries, counts with rating, comments from a user towards a specific game.\n",
    ">- **games**: With information on over 19 thousand games. Counts with 56 columns, among these it has the year published, the weight (a kind of measure of difficulty), board game designer, minumum and maximum amount of players and the playing time.\n",
    ">- **reviews_summary**: It has all the information of the first dataset in a summarized way."
   ]
  },
  {
   "cell_type": "markdown",
   "metadata": {},
   "source": [
    "For this notebook we decided to use only the first two datasets."
   ]
  },
  {
   "cell_type": "code",
   "execution_count": 1,
   "metadata": {},
   "outputs": [],
   "source": [
    "import random\n",
    "import pickle\n",
    "import pandas as pd\n",
    "from math import sqrt\n",
    "import seaborn as sns\n",
    "from surprise import accuracy\n",
    "import matplotlib.pyplot as plt\n",
    "from collections import defaultdict\n",
    "from surprise import Reader, Dataset, SVD\n",
    "from surprise.prediction_algorithms import knns\n",
    "from sklearn.metrics import mean_absolute_error\n",
    "from surprise.model_selection import GridSearchCV\n",
    "from surprise.model_selection import train_test_split\n",
    "from surprise.similarities import cosine, msd, pearson\n",
    "import warnings; warnings.simplefilter('ignore')\n",
    "\n",
    "\n",
    "bgg_reviews = pd.read_csv('../../../bgg-15m-reviews.csv')\n",
    "games = pd.read_csv('../../../games_detailed_info.csv')\n",
    "reviews_summary = pd.read_csv('../../../2020-08-19.csv')"
   ]
  },
  {
   "cell_type": "markdown",
   "metadata": {},
   "source": [
    "### Bring useful functions to the data exploration"
   ]
  },
  {
   "cell_type": "code",
   "execution_count": 2,
   "metadata": {},
   "outputs": [],
   "source": [
    "def basic_info(data):\n",
    "    \"\"\"\n",
    "    Gets basic information to understand more of the data, also useful to delete columns that we know are categorical\n",
    "    \"\"\"\n",
    "    print(\"Dataset shape is: \", data.shape)\n",
    "    print(\"Dataset size is: \", data.size)\n",
    "    print(data.duplicated().sum())\n",
    "    print(\"Dataset columns are: \", data.columns)\n",
    "    print(\"Dataset info is: \", data.info())\n",
    "    categorical = []\n",
    "    numerical = []\n",
    "    for i in data.columns:\n",
    "        if data[i].dtype == object:\n",
    "            categorical.append(i)\n",
    "        else:\n",
    "            numerical.append(i)\n",
    "    print(\"Categorical variables are:\\n \", categorical)\n",
    "    print(\"Numerical variables are:\\n \", numerical)\n",
    "    return categorical, numerical"
   ]
  },
  {
   "cell_type": "code",
   "execution_count": 3,
   "metadata": {},
   "outputs": [],
   "source": [
    "def columns_w_nan(data, y=0.4):\n",
    "    \"\"\"\n",
    "    Returns the columns that have NaN values and it's percentage related to the total number;\n",
    "    Also returns a list with the name(s) of the columns that have y% made out of missing value.\n",
    "    \"\"\"\n",
    "    \n",
    "    temp = []\n",
    "    temp_perce = []\n",
    "    for x in data.columns:\n",
    "        if data[x].isna().sum() > 0:\n",
    "            percentage_of_data = data[x].isna().sum()/(list(data.shape)[0])\n",
    "            print(\"Row: {} : is made {}% of NaN Values.\".format(x, percentage_of_data.round(3)))\n",
    "            if percentage_of_data > y:\n",
    "                temp.append(x)\n",
    "                temp_perce.append(percentage_of_data)\n",
    "    if len(temp) > 0:\n",
    "        print('These are the columns that have a considerable amount of NaN values:')            \n",
    "        print(temp)\n",
    "    elif data.isna().sum().sum() != 0:\n",
    "        print('You might still have some NaN values')\n",
    "    else:\n",
    "        print('No NaN Values found')"
   ]
  },
  {
   "cell_type": "markdown",
   "metadata": {},
   "source": [
    "### First analysis of \"bgg_reviews\" dataset"
   ]
  },
  {
   "cell_type": "code",
   "execution_count": 4,
   "metadata": {},
   "outputs": [
    {
     "name": "stdout",
     "output_type": "stream",
     "text": [
      "Dataset shape is:  (15823269, 6)\n",
      "Dataset size is:  94939614\n",
      "0\n",
      "Dataset columns are:  Index(['Unnamed: 0', 'user', 'rating', 'comment', 'ID', 'name'], dtype='object')\n",
      "<class 'pandas.core.frame.DataFrame'>\n",
      "RangeIndex: 15823269 entries, 0 to 15823268\n",
      "Data columns (total 6 columns):\n",
      " #   Column      Dtype  \n",
      "---  ------      -----  \n",
      " 0   Unnamed: 0  int64  \n",
      " 1   user        object \n",
      " 2   rating      float64\n",
      " 3   comment     object \n",
      " 4   ID          int64  \n",
      " 5   name        object \n",
      "dtypes: float64(1), int64(2), object(3)\n",
      "memory usage: 724.3+ MB\n",
      "Dataset info is:  None\n",
      "Categorical variables are:\n",
      "  ['user', 'comment', 'name']\n",
      "Numerical variables are:\n",
      "  ['Unnamed: 0', 'rating', 'ID']\n"
     ]
    },
    {
     "data": {
      "text/plain": [
       "(['user', 'comment', 'name'], ['Unnamed: 0', 'rating', 'ID'])"
      ]
     },
     "execution_count": 4,
     "metadata": {},
     "output_type": "execute_result"
    }
   ],
   "source": [
    "basic_info(bgg_reviews)"
   ]
  },
  {
   "cell_type": "code",
   "execution_count": 5,
   "metadata": {
    "scrolled": true
   },
   "outputs": [
    {
     "name": "stdout",
     "output_type": "stream",
     "text": [
      "Row: user : is made 0.0% of NaN Values.\n",
      "Row: comment : is made 0.811% of NaN Values.\n",
      "These are the columns that have a considerable amount of NaN values:\n",
      "['comment']\n"
     ]
    }
   ],
   "source": [
    "columns_w_nan(bgg_reviews, 0.3)"
   ]
  },
  {
   "cell_type": "code",
   "execution_count": 6,
   "metadata": {},
   "outputs": [
    {
     "data": {
      "text/html": [
       "<div>\n",
       "<style scoped>\n",
       "    .dataframe tbody tr th:only-of-type {\n",
       "        vertical-align: middle;\n",
       "    }\n",
       "\n",
       "    .dataframe tbody tr th {\n",
       "        vertical-align: top;\n",
       "    }\n",
       "\n",
       "    .dataframe thead th {\n",
       "        text-align: right;\n",
       "    }\n",
       "</style>\n",
       "<table border=\"1\" class=\"dataframe\">\n",
       "  <thead>\n",
       "    <tr style=\"text-align: right;\">\n",
       "      <th></th>\n",
       "      <th>Unnamed: 0</th>\n",
       "      <th>user</th>\n",
       "      <th>rating</th>\n",
       "      <th>comment</th>\n",
       "      <th>ID</th>\n",
       "      <th>name</th>\n",
       "    </tr>\n",
       "  </thead>\n",
       "  <tbody>\n",
       "    <tr>\n",
       "      <th>0</th>\n",
       "      <td>0</td>\n",
       "      <td>Torsten</td>\n",
       "      <td>10.0</td>\n",
       "      <td>NaN</td>\n",
       "      <td>30549</td>\n",
       "      <td>Pandemic</td>\n",
       "    </tr>\n",
       "    <tr>\n",
       "      <th>1</th>\n",
       "      <td>1</td>\n",
       "      <td>mitnachtKAUBO-I</td>\n",
       "      <td>10.0</td>\n",
       "      <td>Hands down my favorite new game of BGG CON 200...</td>\n",
       "      <td>30549</td>\n",
       "      <td>Pandemic</td>\n",
       "    </tr>\n",
       "    <tr>\n",
       "      <th>2</th>\n",
       "      <td>2</td>\n",
       "      <td>avlawn</td>\n",
       "      <td>10.0</td>\n",
       "      <td>I tend to either love or easily tire of co-op ...</td>\n",
       "      <td>30549</td>\n",
       "      <td>Pandemic</td>\n",
       "    </tr>\n",
       "  </tbody>\n",
       "</table>\n",
       "</div>"
      ],
      "text/plain": [
       "   Unnamed: 0             user  rating  \\\n",
       "0           0          Torsten    10.0   \n",
       "1           1  mitnachtKAUBO-I    10.0   \n",
       "2           2           avlawn    10.0   \n",
       "\n",
       "                                             comment     ID      name  \n",
       "0                                                NaN  30549  Pandemic  \n",
       "1  Hands down my favorite new game of BGG CON 200...  30549  Pandemic  \n",
       "2  I tend to either love or easily tire of co-op ...  30549  Pandemic  "
      ]
     },
     "execution_count": 6,
     "metadata": {},
     "output_type": "execute_result"
    }
   ],
   "source": [
    "bgg_reviews.head(3)"
   ]
  },
  {
   "cell_type": "code",
   "execution_count": 7,
   "metadata": {},
   "outputs": [],
   "source": [
    "# We drop comment since it has so many NaN values and Unnamed that we see is a duplicate of the index\n",
    "bgg_reviews.drop(columns=['comment', 'Unnamed: 0'], inplace=True)"
   ]
  },
  {
   "cell_type": "code",
   "execution_count": 8,
   "metadata": {},
   "outputs": [],
   "source": [
    "# We now drop the remaining NaN values that exist on the 0%, since having user is fundamental for our analysis\n",
    "bgg_reviews.dropna(inplace=True)"
   ]
  },
  {
   "cell_type": "markdown",
   "metadata": {},
   "source": [
    "### First analysis of \"games\" dataset"
   ]
  },
  {
   "cell_type": "code",
   "execution_count": 9,
   "metadata": {},
   "outputs": [
    {
     "name": "stdout",
     "output_type": "stream",
     "text": [
      "Dataset shape is:  (19230, 56)\n",
      "Dataset size is:  1076880\n",
      "0\n",
      "Dataset columns are:  Index(['Unnamed: 0', 'type', 'id', 'thumbnail', 'image', 'primary',\n",
      "       'alternate', 'description', 'yearpublished', 'minplayers', 'maxplayers',\n",
      "       'suggested_num_players', 'suggested_playerage',\n",
      "       'suggested_language_dependence', 'playingtime', 'minplaytime',\n",
      "       'maxplaytime', 'minage', 'boardgamecategory', 'boardgamemechanic',\n",
      "       'boardgamefamily', 'boardgameexpansion', 'boardgameimplementation',\n",
      "       'boardgamedesigner', 'boardgameartist', 'boardgamepublisher',\n",
      "       'usersrated', 'average', 'bayesaverage', 'Board Game Rank',\n",
      "       'Strategy Game Rank', 'Family Game Rank', 'stddev', 'median', 'owned',\n",
      "       'trading', 'wanting', 'wishing', 'numcomments', 'numweights',\n",
      "       'averageweight', 'boardgameintegration', 'boardgamecompilation',\n",
      "       'Party Game Rank', 'Abstract Game Rank', 'Thematic Rank',\n",
      "       'War Game Rank', 'Customizable Rank', 'Children's Game Rank',\n",
      "       'RPG Item Rank', 'Accessory Rank', 'Video Game Rank', 'Amiga Rank',\n",
      "       'Commodore 64 Rank', 'Arcade Rank', 'Atari ST Rank'],\n",
      "      dtype='object')\n",
      "<class 'pandas.core.frame.DataFrame'>\n",
      "RangeIndex: 19230 entries, 0 to 19229\n",
      "Data columns (total 56 columns):\n",
      " #   Column                         Non-Null Count  Dtype  \n",
      "---  ------                         --------------  -----  \n",
      " 0   Unnamed: 0                     19230 non-null  int64  \n",
      " 1   type                           19230 non-null  object \n",
      " 2   id                             19230 non-null  int64  \n",
      " 3   thumbnail                      19211 non-null  object \n",
      " 4   image                          19211 non-null  object \n",
      " 5   primary                        19230 non-null  object \n",
      " 6   alternate                      7685 non-null   object \n",
      " 7   description                    19229 non-null  object \n",
      " 8   yearpublished                  19230 non-null  int64  \n",
      " 9   minplayers                     19230 non-null  int64  \n",
      " 10  maxplayers                     19230 non-null  int64  \n",
      " 11  suggested_num_players          19230 non-null  object \n",
      " 12  suggested_playerage            16884 non-null  object \n",
      " 13  suggested_language_dependence  16645 non-null  object \n",
      " 14  playingtime                    19230 non-null  int64  \n",
      " 15  minplaytime                    19230 non-null  int64  \n",
      " 16  maxplaytime                    19230 non-null  int64  \n",
      " 17  minage                         19230 non-null  int64  \n",
      " 18  boardgamecategory              19009 non-null  object \n",
      " 19  boardgamemechanic              17681 non-null  object \n",
      " 20  boardgamefamily                14743 non-null  object \n",
      " 21  boardgameexpansion             4784 non-null   object \n",
      " 22  boardgameimplementation        4091 non-null   object \n",
      " 23  boardgamedesigner              18800 non-null  object \n",
      " 24  boardgameartist                13833 non-null  object \n",
      " 25  boardgamepublisher             19230 non-null  object \n",
      " 26  usersrated                     19230 non-null  int64  \n",
      " 27  average                        19230 non-null  float64\n",
      " 28  bayesaverage                   19230 non-null  float64\n",
      " 29  Board Game Rank                19230 non-null  int64  \n",
      " 30  Strategy Game Rank             2075 non-null   float64\n",
      " 31  Family Game Rank               2001 non-null   float64\n",
      " 32  stddev                         19230 non-null  float64\n",
      " 33  median                         19230 non-null  int64  \n",
      " 34  owned                          19230 non-null  int64  \n",
      " 35  trading                        19230 non-null  int64  \n",
      " 36  wanting                        19230 non-null  int64  \n",
      " 37  wishing                        19230 non-null  int64  \n",
      " 38  numcomments                    19230 non-null  int64  \n",
      " 39  numweights                     19230 non-null  int64  \n",
      " 40  averageweight                  19230 non-null  float64\n",
      " 41  boardgameintegration           1418 non-null   object \n",
      " 42  boardgamecompilation           694 non-null    object \n",
      " 43  Party Game Rank                582 non-null    float64\n",
      " 44  Abstract Game Rank             1026 non-null   float64\n",
      " 45  Thematic Rank                  1125 non-null   float64\n",
      " 46  War Game Rank                  3213 non-null   float64\n",
      " 47  Customizable Rank              289 non-null    float64\n",
      " 48  Children's Game Rank           810 non-null    float64\n",
      " 49  RPG Item Rank                  1 non-null      float64\n",
      " 50  Accessory Rank                 1 non-null      float64\n",
      " 51  Video Game Rank                1 non-null      float64\n",
      " 52  Amiga Rank                     1 non-null      float64\n",
      " 53  Commodore 64 Rank              1 non-null      float64\n",
      " 54  Arcade Rank                    1 non-null      float64\n",
      " 55  Atari ST Rank                  1 non-null      float64\n",
      "dtypes: float64(19), int64(18), object(19)\n",
      "memory usage: 8.2+ MB\n",
      "Dataset info is:  None\n",
      "Categorical variables are:\n",
      "  ['type', 'thumbnail', 'image', 'primary', 'alternate', 'description', 'suggested_num_players', 'suggested_playerage', 'suggested_language_dependence', 'boardgamecategory', 'boardgamemechanic', 'boardgamefamily', 'boardgameexpansion', 'boardgameimplementation', 'boardgamedesigner', 'boardgameartist', 'boardgamepublisher', 'boardgameintegration', 'boardgamecompilation']\n",
      "Numerical variables are:\n",
      "  ['Unnamed: 0', 'id', 'yearpublished', 'minplayers', 'maxplayers', 'playingtime', 'minplaytime', 'maxplaytime', 'minage', 'usersrated', 'average', 'bayesaverage', 'Board Game Rank', 'Strategy Game Rank', 'Family Game Rank', 'stddev', 'median', 'owned', 'trading', 'wanting', 'wishing', 'numcomments', 'numweights', 'averageweight', 'Party Game Rank', 'Abstract Game Rank', 'Thematic Rank', 'War Game Rank', 'Customizable Rank', \"Children's Game Rank\", 'RPG Item Rank', 'Accessory Rank', 'Video Game Rank', 'Amiga Rank', 'Commodore 64 Rank', 'Arcade Rank', 'Atari ST Rank']\n"
     ]
    },
    {
     "data": {
      "text/plain": [
       "(['type',\n",
       "  'thumbnail',\n",
       "  'image',\n",
       "  'primary',\n",
       "  'alternate',\n",
       "  'description',\n",
       "  'suggested_num_players',\n",
       "  'suggested_playerage',\n",
       "  'suggested_language_dependence',\n",
       "  'boardgamecategory',\n",
       "  'boardgamemechanic',\n",
       "  'boardgamefamily',\n",
       "  'boardgameexpansion',\n",
       "  'boardgameimplementation',\n",
       "  'boardgamedesigner',\n",
       "  'boardgameartist',\n",
       "  'boardgamepublisher',\n",
       "  'boardgameintegration',\n",
       "  'boardgamecompilation'],\n",
       " ['Unnamed: 0',\n",
       "  'id',\n",
       "  'yearpublished',\n",
       "  'minplayers',\n",
       "  'maxplayers',\n",
       "  'playingtime',\n",
       "  'minplaytime',\n",
       "  'maxplaytime',\n",
       "  'minage',\n",
       "  'usersrated',\n",
       "  'average',\n",
       "  'bayesaverage',\n",
       "  'Board Game Rank',\n",
       "  'Strategy Game Rank',\n",
       "  'Family Game Rank',\n",
       "  'stddev',\n",
       "  'median',\n",
       "  'owned',\n",
       "  'trading',\n",
       "  'wanting',\n",
       "  'wishing',\n",
       "  'numcomments',\n",
       "  'numweights',\n",
       "  'averageweight',\n",
       "  'Party Game Rank',\n",
       "  'Abstract Game Rank',\n",
       "  'Thematic Rank',\n",
       "  'War Game Rank',\n",
       "  'Customizable Rank',\n",
       "  \"Children's Game Rank\",\n",
       "  'RPG Item Rank',\n",
       "  'Accessory Rank',\n",
       "  'Video Game Rank',\n",
       "  'Amiga Rank',\n",
       "  'Commodore 64 Rank',\n",
       "  'Arcade Rank',\n",
       "  'Atari ST Rank'])"
      ]
     },
     "execution_count": 9,
     "metadata": {},
     "output_type": "execute_result"
    }
   ],
   "source": [
    "basic_info(games)"
   ]
  },
  {
   "cell_type": "code",
   "execution_count": 10,
   "metadata": {
    "scrolled": true
   },
   "outputs": [
    {
     "name": "stdout",
     "output_type": "stream",
     "text": [
      "Row: thumbnail : is made 0.001% of NaN Values.\n",
      "Row: image : is made 0.001% of NaN Values.\n",
      "Row: alternate : is made 0.6% of NaN Values.\n",
      "Row: description : is made 0.0% of NaN Values.\n",
      "Row: suggested_playerage : is made 0.122% of NaN Values.\n",
      "Row: suggested_language_dependence : is made 0.134% of NaN Values.\n",
      "Row: boardgamecategory : is made 0.011% of NaN Values.\n",
      "Row: boardgamemechanic : is made 0.081% of NaN Values.\n",
      "Row: boardgamefamily : is made 0.233% of NaN Values.\n",
      "Row: boardgameexpansion : is made 0.751% of NaN Values.\n",
      "Row: boardgameimplementation : is made 0.787% of NaN Values.\n",
      "Row: boardgamedesigner : is made 0.022% of NaN Values.\n",
      "Row: boardgameartist : is made 0.281% of NaN Values.\n",
      "Row: Strategy Game Rank : is made 0.892% of NaN Values.\n",
      "Row: Family Game Rank : is made 0.896% of NaN Values.\n",
      "Row: boardgameintegration : is made 0.926% of NaN Values.\n",
      "Row: boardgamecompilation : is made 0.964% of NaN Values.\n",
      "Row: Party Game Rank : is made 0.97% of NaN Values.\n",
      "Row: Abstract Game Rank : is made 0.947% of NaN Values.\n",
      "Row: Thematic Rank : is made 0.941% of NaN Values.\n",
      "Row: War Game Rank : is made 0.833% of NaN Values.\n",
      "Row: Customizable Rank : is made 0.985% of NaN Values.\n",
      "Row: Children's Game Rank : is made 0.958% of NaN Values.\n",
      "Row: RPG Item Rank : is made 1.0% of NaN Values.\n",
      "Row: Accessory Rank : is made 1.0% of NaN Values.\n",
      "Row: Video Game Rank : is made 1.0% of NaN Values.\n",
      "Row: Amiga Rank : is made 1.0% of NaN Values.\n",
      "Row: Commodore 64 Rank : is made 1.0% of NaN Values.\n",
      "Row: Arcade Rank : is made 1.0% of NaN Values.\n",
      "Row: Atari ST Rank : is made 1.0% of NaN Values.\n",
      "These are the columns that have a considerable amount of NaN values:\n",
      "['alternate', 'boardgameexpansion', 'boardgameimplementation', 'Strategy Game Rank', 'Family Game Rank', 'boardgameintegration', 'boardgamecompilation', 'Party Game Rank', 'Abstract Game Rank', 'Thematic Rank', 'War Game Rank', 'Customizable Rank', \"Children's Game Rank\", 'RPG Item Rank', 'Accessory Rank', 'Video Game Rank', 'Amiga Rank', 'Commodore 64 Rank', 'Arcade Rank', 'Atari ST Rank']\n"
     ]
    }
   ],
   "source": [
    "columns_w_nan(games, 0.5)"
   ]
  },
  {
   "cell_type": "code",
   "execution_count": 11,
   "metadata": {},
   "outputs": [],
   "source": [
    "# We drop the columns that we don't plan to use for now, another reason would be the high number of NaN values\n",
    "games = games.drop(columns=['Unnamed: 0', 'alternate', 'boardgameexpansion', 'boardgameimplementation',\n",
    "                            'Strategy Game Rank', 'Family Game Rank', 'boardgameintegration',\n",
    "                            'boardgamecompilation', 'Party Game Rank', 'Abstract Game Rank',\n",
    "                            'Thematic Rank', 'War Game Rank', 'Customizable Rank', \"Children's Game Rank\",\n",
    "                            'RPG Item Rank', 'Accessory Rank', 'Video Game Rank', 'Amiga Rank',\n",
    "                            'Commodore 64 Rank', 'Arcade Rank', 'Atari ST Rank'])\n",
    "games.dropna(inplace=True)"
   ]
  },
  {
   "cell_type": "code",
   "execution_count": 12,
   "metadata": {},
   "outputs": [
    {
     "data": {
      "text/html": [
       "<div>\n",
       "<style scoped>\n",
       "    .dataframe tbody tr th:only-of-type {\n",
       "        vertical-align: middle;\n",
       "    }\n",
       "\n",
       "    .dataframe tbody tr th {\n",
       "        vertical-align: top;\n",
       "    }\n",
       "\n",
       "    .dataframe thead th {\n",
       "        text-align: right;\n",
       "    }\n",
       "</style>\n",
       "<table border=\"1\" class=\"dataframe\">\n",
       "  <thead>\n",
       "    <tr style=\"text-align: right;\">\n",
       "      <th></th>\n",
       "      <th>type</th>\n",
       "      <th>id</th>\n",
       "      <th>thumbnail</th>\n",
       "      <th>image</th>\n",
       "      <th>primary</th>\n",
       "      <th>description</th>\n",
       "      <th>yearpublished</th>\n",
       "      <th>minplayers</th>\n",
       "      <th>maxplayers</th>\n",
       "      <th>suggested_num_players</th>\n",
       "      <th>...</th>\n",
       "      <th>Board Game Rank</th>\n",
       "      <th>stddev</th>\n",
       "      <th>median</th>\n",
       "      <th>owned</th>\n",
       "      <th>trading</th>\n",
       "      <th>wanting</th>\n",
       "      <th>wishing</th>\n",
       "      <th>numcomments</th>\n",
       "      <th>numweights</th>\n",
       "      <th>averageweight</th>\n",
       "    </tr>\n",
       "  </thead>\n",
       "  <tbody>\n",
       "    <tr>\n",
       "      <th>0</th>\n",
       "      <td>boardgame</td>\n",
       "      <td>30549</td>\n",
       "      <td>https://cf.geekdo-images.com/thumb/img/HEKrtpT...</td>\n",
       "      <td>https://cf.geekdo-images.com/original/img/j-pf...</td>\n",
       "      <td>Pandemic</td>\n",
       "      <td>In Pandemic, several virulent diseases have br...</td>\n",
       "      <td>2008</td>\n",
       "      <td>2</td>\n",
       "      <td>4</td>\n",
       "      <td>[OrderedDict([('@numplayers', '1'), ('result',...</td>\n",
       "      <td>...</td>\n",
       "      <td>91</td>\n",
       "      <td>1.32632</td>\n",
       "      <td>0</td>\n",
       "      <td>144727</td>\n",
       "      <td>2191</td>\n",
       "      <td>640</td>\n",
       "      <td>8571</td>\n",
       "      <td>15778</td>\n",
       "      <td>5232</td>\n",
       "      <td>2.4148</td>\n",
       "    </tr>\n",
       "    <tr>\n",
       "      <th>1</th>\n",
       "      <td>boardgame</td>\n",
       "      <td>822</td>\n",
       "      <td>https://cf.geekdo-images.com/thumb/img/kqE4YJS...</td>\n",
       "      <td>https://cf.geekdo-images.com/original/img/o4p6...</td>\n",
       "      <td>Carcassonne</td>\n",
       "      <td>Carcassonne is a tile-placement game in which ...</td>\n",
       "      <td>2000</td>\n",
       "      <td>2</td>\n",
       "      <td>5</td>\n",
       "      <td>[OrderedDict([('@numplayers', '1'), ('result',...</td>\n",
       "      <td>...</td>\n",
       "      <td>173</td>\n",
       "      <td>1.30369</td>\n",
       "      <td>0</td>\n",
       "      <td>140066</td>\n",
       "      <td>1587</td>\n",
       "      <td>539</td>\n",
       "      <td>6286</td>\n",
       "      <td>17720</td>\n",
       "      <td>7304</td>\n",
       "      <td>1.9158</td>\n",
       "    </tr>\n",
       "    <tr>\n",
       "      <th>2</th>\n",
       "      <td>boardgame</td>\n",
       "      <td>13</td>\n",
       "      <td>https://cf.geekdo-images.com/thumb/img/g8LvJsd...</td>\n",
       "      <td>https://cf.geekdo-images.com/original/img/A-0y...</td>\n",
       "      <td>Catan</td>\n",
       "      <td>In Catan (formerly The Settlers of Catan), pla...</td>\n",
       "      <td>1995</td>\n",
       "      <td>3</td>\n",
       "      <td>4</td>\n",
       "      <td>[OrderedDict([('@numplayers', '1'), ('result',...</td>\n",
       "      <td>...</td>\n",
       "      <td>381</td>\n",
       "      <td>1.47908</td>\n",
       "      <td>0</td>\n",
       "      <td>144656</td>\n",
       "      <td>1825</td>\n",
       "      <td>474</td>\n",
       "      <td>5310</td>\n",
       "      <td>17859</td>\n",
       "      <td>7187</td>\n",
       "      <td>2.3264</td>\n",
       "    </tr>\n",
       "  </tbody>\n",
       "</table>\n",
       "<p>3 rows × 35 columns</p>\n",
       "</div>"
      ],
      "text/plain": [
       "        type     id                                          thumbnail  \\\n",
       "0  boardgame  30549  https://cf.geekdo-images.com/thumb/img/HEKrtpT...   \n",
       "1  boardgame    822  https://cf.geekdo-images.com/thumb/img/kqE4YJS...   \n",
       "2  boardgame     13  https://cf.geekdo-images.com/thumb/img/g8LvJsd...   \n",
       "\n",
       "                                               image      primary  \\\n",
       "0  https://cf.geekdo-images.com/original/img/j-pf...     Pandemic   \n",
       "1  https://cf.geekdo-images.com/original/img/o4p6...  Carcassonne   \n",
       "2  https://cf.geekdo-images.com/original/img/A-0y...        Catan   \n",
       "\n",
       "                                         description  yearpublished  \\\n",
       "0  In Pandemic, several virulent diseases have br...           2008   \n",
       "1  Carcassonne is a tile-placement game in which ...           2000   \n",
       "2  In Catan (formerly The Settlers of Catan), pla...           1995   \n",
       "\n",
       "   minplayers  maxplayers                              suggested_num_players  \\\n",
       "0           2           4  [OrderedDict([('@numplayers', '1'), ('result',...   \n",
       "1           2           5  [OrderedDict([('@numplayers', '1'), ('result',...   \n",
       "2           3           4  [OrderedDict([('@numplayers', '1'), ('result',...   \n",
       "\n",
       "   ... Board Game Rank   stddev  median   owned  trading  wanting wishing  \\\n",
       "0  ...              91  1.32632       0  144727     2191      640    8571   \n",
       "1  ...             173  1.30369       0  140066     1587      539    6286   \n",
       "2  ...             381  1.47908       0  144656     1825      474    5310   \n",
       "\n",
       "  numcomments numweights averageweight  \n",
       "0       15778       5232        2.4148  \n",
       "1       17720       7304        1.9158  \n",
       "2       17859       7187        2.3264  \n",
       "\n",
       "[3 rows x 35 columns]"
      ]
     },
     "execution_count": 12,
     "metadata": {},
     "output_type": "execute_result"
    }
   ],
   "source": [
    "# And that's how it looks like:\n",
    "games.head(3)"
   ]
  },
  {
   "cell_type": "code",
   "execution_count": 13,
   "metadata": {
    "scrolled": false
   },
   "outputs": [
    {
     "data": {
      "text/html": [
       "<div>\n",
       "<style scoped>\n",
       "    .dataframe tbody tr th:only-of-type {\n",
       "        vertical-align: middle;\n",
       "    }\n",
       "\n",
       "    .dataframe tbody tr th {\n",
       "        vertical-align: top;\n",
       "    }\n",
       "\n",
       "    .dataframe thead th {\n",
       "        text-align: right;\n",
       "    }\n",
       "</style>\n",
       "<table border=\"1\" class=\"dataframe\">\n",
       "  <thead>\n",
       "    <tr style=\"text-align: right;\">\n",
       "      <th></th>\n",
       "      <th>user</th>\n",
       "      <th>rating</th>\n",
       "      <th>ID</th>\n",
       "      <th>name</th>\n",
       "    </tr>\n",
       "  </thead>\n",
       "  <tbody>\n",
       "    <tr>\n",
       "      <th>13907171</th>\n",
       "      <td>DeanMary</td>\n",
       "      <td>8.0</td>\n",
       "      <td>6137</td>\n",
       "      <td>Drive</td>\n",
       "    </tr>\n",
       "    <tr>\n",
       "      <th>147029</th>\n",
       "      <td>DarrylFerster</td>\n",
       "      <td>10.0</td>\n",
       "      <td>10630</td>\n",
       "      <td>Memoir '44</td>\n",
       "    </tr>\n",
       "    <tr>\n",
       "      <th>13243091</th>\n",
       "      <td>Scubaroo</td>\n",
       "      <td>8.0</td>\n",
       "      <td>175695</td>\n",
       "      <td>Minerva</td>\n",
       "    </tr>\n",
       "  </tbody>\n",
       "</table>\n",
       "</div>"
      ],
      "text/plain": [
       "                   user  rating      ID        name\n",
       "13907171       DeanMary     8.0    6137       Drive\n",
       "147029    DarrylFerster    10.0   10630  Memoir '44\n",
       "13243091       Scubaroo     8.0  175695     Minerva"
      ]
     },
     "execution_count": 13,
     "metadata": {},
     "output_type": "execute_result"
    }
   ],
   "source": [
    "# That's our first EDA and preprocessing of the data\n",
    "# We set random_state for reproducibility.\n",
    "bgg_reviews.sample(3, random_state=22)"
   ]
  },
  {
   "cell_type": "markdown",
   "metadata": {},
   "source": [
    "- Since we do not plan to use comments (in reality those are qualitative reviews) for now and they have a lot of missing values (around 80%), we drop them.\n",
    "- We also drop 'Unnamed: 0' because we notice it is a repeat of the index.\n",
    "- The other column we are going to drop in the future is the 'ID', because it is represented already by 'name'."
   ]
  },
  {
   "cell_type": "markdown",
   "metadata": {},
   "source": [
    "We went to the website to verify if it was safe to drop ID or if it was assigned at random on the making of the dataset:"
   ]
  },
  {
   "cell_type": "markdown",
   "metadata": {},
   "source": [
    "![title](../capimages/kingoftokyo.jpg)"
   ]
  },
  {
   "cell_type": "markdown",
   "metadata": {},
   "source": [
    "King of Tokyo = 70323, we are good to go. (Great game by the way, and one of the coolest dice I have ever seen)"
   ]
  },
  {
   "cell_type": "markdown",
   "metadata": {},
   "source": [
    "### With the data cleaner we can move on to understand more of our data."
   ]
  },
  {
   "cell_type": "markdown",
   "metadata": {},
   "source": [
    "**How about what are the games with the biggest number of reviews in the website?**"
   ]
  },
  {
   "cell_type": "code",
   "execution_count": 14,
   "metadata": {
    "scrolled": false
   },
   "outputs": [
    {
     "data": {
      "text/plain": [
       "Text(0, 0.5, 'Name of the Boardgame')"
      ]
     },
     "execution_count": 14,
     "metadata": {},
     "output_type": "execute_result"
    },
    {
     "data": {
      "image/png": "[encoded data removed]",
      "text/plain": [
       "<Figure size 432x288 with 1 Axes>"
      ]
     },
     "metadata": {
      "needs_background": "light"
     },
     "output_type": "display_data"
    }
   ],
   "source": [
    "sns.cubehelix_palette(start=2, rot=0, dark=0, light=.95, reverse=True, as_cmap=True)\n",
    "ax = sns.barplot(x=list(bgg_reviews['name'].value_counts()[0:5]),\n",
    "                 y=bgg_reviews['name'].value_counts()[0:5].keys(), data=bgg_reviews, palette=\"icefire\")\n",
    "ax.set_xlabel('Number of Ratings')\n",
    "\n",
    "ax.set_ylabel(\"Name of the Boardgame\")"
   ]
  },
  {
   "cell_type": "markdown",
   "metadata": {},
   "source": [
    "- Close fight on top 3! Catan and Carcassone are classics from the 2000's while Pandemic and 7 Wonders came a little bit after that."
   ]
  },
  {
   "cell_type": "markdown",
   "metadata": {},
   "source": [
    "**How is the distribuition of number of reviews?**"
   ]
  },
  {
   "cell_type": "code",
   "execution_count": 15,
   "metadata": {},
   "outputs": [
    {
     "data": {
      "text/plain": [
       "Text(0.5, 1.0, 'Distribuition of reviews by game')"
      ]
     },
     "execution_count": 15,
     "metadata": {},
     "output_type": "execute_result"
    },
    {
     "data": {
      "image/png": "[encoded data removed]",
      "text/plain": [
       "<Figure size 432x288 with 1 Axes>"
      ]
     },
     "metadata": {
      "needs_background": "light"
     },
     "output_type": "display_data"
    }
   ],
   "source": [
    "# Number of reviews destribuition. We can see that we have the majority of the games with \"low\" number of reviews\n",
    "plt.hist(bgg_reviews['ID'], bins=30, color='seagreen', log=False)\n",
    "plt.title('Distribuition of reviews by game')"
   ]
  },
  {
   "cell_type": "markdown",
   "metadata": {},
   "source": [
    "- Like we would suspect: It is skewed to the right, meaning just a few had a huge amount of reviews/votes, forming the well known long-tail."
   ]
  },
  {
   "cell_type": "code",
   "execution_count": 16,
   "metadata": {},
   "outputs": [
    {
     "data": {
      "text/plain": [
       "count    19330.000000\n",
       "mean       818.582669\n",
       "std       3370.681916\n",
       "min         30.000000\n",
       "25%         55.000000\n",
       "50%        119.000000\n",
       "75%        378.000000\n",
       "max      96234.000000\n",
       "Name: ID, dtype: float64"
      ]
     },
     "execution_count": 16,
     "metadata": {},
     "output_type": "execute_result"
    }
   ],
   "source": [
    "# Looking at how much low and high number of reviews actually are:\n",
    "bgg_reviews['ID'].value_counts().describe()\n",
    "# We can see that the 75% is actually 378, but the mean is 818. Meaning we have some outliers bringing the value upwards."
   ]
  },
  {
   "cell_type": "markdown",
   "metadata": {},
   "source": [
    "**Another important feature in games is the \"weight\", that is how complicated a game is:**\n"
   ]
  },
  {
   "cell_type": "markdown",
   "metadata": {},
   "source": [
    "There is a well-known bias to give higher ratings to more complex games. That could be for several reasons that we are not even going to try to guess, but we should check for that in case we want to use on a more precise recommendation."
   ]
  },
  {
   "cell_type": "code",
   "execution_count": 17,
   "metadata": {
    "scrolled": true
   },
   "outputs": [
    {
     "data": {
      "text/plain": [
       "count    8819.000000\n",
       "mean        2.216246\n",
       "std         0.828627\n",
       "min         0.000000\n",
       "25%         1.564800\n",
       "50%         2.142900\n",
       "75%         2.771400\n",
       "max         4.900000\n",
       "Name: averageweight, dtype: float64"
      ]
     },
     "execution_count": 17,
     "metadata": {},
     "output_type": "execute_result"
    }
   ],
   "source": [
    "# Using describe we can have a quick overview of the values, the mean and the 75% percentile are pretty close, which \n",
    "# once again points to some outliers to higher numbers\n",
    "games['averageweight'].describe()"
   ]
  },
  {
   "cell_type": "code",
   "execution_count": 18,
   "metadata": {
    "scrolled": true
   },
   "outputs": [
    {
     "data": {
      "text/plain": [
       "count    1.582320e+07\n",
       "mean     7.054855e+00\n",
       "std      1.599638e+00\n",
       "min      1.401300e-45\n",
       "25%      6.000000e+00\n",
       "50%      7.000000e+00\n",
       "75%      8.000000e+00\n",
       "max      1.000000e+01\n",
       "Name: rating, dtype: float64"
      ]
     },
     "execution_count": 18,
     "metadata": {},
     "output_type": "execute_result"
    }
   ],
   "source": [
    "bgg_reviews['rating'].describe()"
   ]
  },
  {
   "cell_type": "markdown",
   "metadata": {},
   "source": [
    "- As we can see it seems to have a relationship, but to visualize that we need to get the dataset together"
   ]
  },
  {
   "cell_type": "markdown",
   "metadata": {},
   "source": [
    "**Since the information we need is in 2 different tables, lets join them together so we can analyze the rating per weights**"
   ]
  },
  {
   "cell_type": "code",
   "execution_count": 19,
   "metadata": {},
   "outputs": [],
   "source": [
    "# We first get the columns from \"games\" that we are interested, subsetting the bigger dataset\n",
    "games_weight = games[['id', 'averageweight', 'boardgamedesigner', 'thumbnail', 'image', 'primary']]"
   ]
  },
  {
   "cell_type": "code",
   "execution_count": 20,
   "metadata": {},
   "outputs": [],
   "source": [
    "# We rename 'primary' to 'name', so the merge can happen more smoothly\n",
    "games_weight.columns = ['id', 'averageweight', 'boardgamedesigner', 'thumbnail', 'image', 'name']"
   ]
  },
  {
   "cell_type": "code",
   "execution_count": 21,
   "metadata": {},
   "outputs": [],
   "source": [
    "# We rename the \"ID\" to \"id\" on the bgg_reviews dataset:\n",
    "bgg_reviews.columns = ['user', 'rating', 'id', 'name']"
   ]
  },
  {
   "cell_type": "code",
   "execution_count": 22,
   "metadata": {},
   "outputs": [],
   "source": [
    "rating_weight = bgg_reviews.merge(games_weight)"
   ]
  },
  {
   "cell_type": "code",
   "execution_count": 23,
   "metadata": {
    "scrolled": true
   },
   "outputs": [
    {
     "data": {
      "text/plain": [
       "4.9"
      ]
     },
     "execution_count": 23,
     "metadata": {},
     "output_type": "execute_result"
    }
   ],
   "source": [
    "# We verify the highest Weight of a game\n",
    "rating_weight.averageweight.max()"
   ]
  },
  {
   "cell_type": "code",
   "execution_count": 24,
   "metadata": {},
   "outputs": [],
   "source": [
    "# To both \"Weight\" and \"Rating\" be on the same scale, we multiply the weight by 2\n",
    "rating_weight['averageweight'] = rating_weight['averageweight']*2"
   ]
  },
  {
   "cell_type": "code",
   "execution_count": 25,
   "metadata": {},
   "outputs": [],
   "source": [
    "# For a quick analysis we drop the user column and create a new dataset because we might use the first one in the future\n",
    "rating_weight_comparison = rating_weight.drop(columns=['user'])"
   ]
  },
  {
   "cell_type": "code",
   "execution_count": 26,
   "metadata": {},
   "outputs": [],
   "source": [
    "rating_weight_comparison = rating_weight_comparison.groupby('name').mean()"
   ]
  },
  {
   "cell_type": "code",
   "execution_count": 27,
   "metadata": {},
   "outputs": [],
   "source": [
    "rating_weight_comparison =  rating_weight_comparison.sort_values(by='averageweight', ascending=True)"
   ]
  },
  {
   "cell_type": "code",
   "execution_count": 28,
   "metadata": {},
   "outputs": [],
   "source": [
    "# For some reason there are some 0's on weights - lets assume they are mistakes and remove them\n",
    "rating_weight_comparison['averageweight'] = rating_weight_comparison['averageweight'].where(rating_weight_comparison['averageweight'] > 0)"
   ]
  },
  {
   "cell_type": "code",
   "execution_count": 29,
   "metadata": {},
   "outputs": [],
   "source": [
    "rating_weight_comparison.dropna(inplace=True)"
   ]
  },
  {
   "cell_type": "code",
   "execution_count": 30,
   "metadata": {
    "scrolled": true
   },
   "outputs": [
    {
     "data": {
      "text/html": [
       "<div>\n",
       "<style scoped>\n",
       "    .dataframe tbody tr th:only-of-type {\n",
       "        vertical-align: middle;\n",
       "    }\n",
       "\n",
       "    .dataframe tbody tr th {\n",
       "        vertical-align: top;\n",
       "    }\n",
       "\n",
       "    .dataframe thead th {\n",
       "        text-align: right;\n",
       "    }\n",
       "</style>\n",
       "<table border=\"1\" class=\"dataframe\">\n",
       "  <thead>\n",
       "    <tr style=\"text-align: right;\">\n",
       "      <th></th>\n",
       "      <th>rating</th>\n",
       "      <th>id</th>\n",
       "      <th>averageweight</th>\n",
       "    </tr>\n",
       "    <tr>\n",
       "      <th>name</th>\n",
       "      <th></th>\n",
       "      <th></th>\n",
       "      <th></th>\n",
       "    </tr>\n",
       "  </thead>\n",
       "  <tbody>\n",
       "    <tr>\n",
       "      <th>Frankenstein</th>\n",
       "      <td>6.294944</td>\n",
       "      <td>151046.808989</td>\n",
       "      <td>1.011236</td>\n",
       "    </tr>\n",
       "    <tr>\n",
       "      <th>Monte Rolla</th>\n",
       "      <td>5.819149</td>\n",
       "      <td>11972.000000</td>\n",
       "      <td>2.000000</td>\n",
       "    </tr>\n",
       "    <tr>\n",
       "      <th>Micro Monsters</th>\n",
       "      <td>6.619481</td>\n",
       "      <td>100795.000000</td>\n",
       "      <td>2.000000</td>\n",
       "    </tr>\n",
       "  </tbody>\n",
       "</table>\n",
       "</div>"
      ],
      "text/plain": [
       "                  rating             id  averageweight\n",
       "name                                                  \n",
       "Frankenstein    6.294944  151046.808989       1.011236\n",
       "Monte Rolla     5.819149   11972.000000       2.000000\n",
       "Micro Monsters  6.619481  100795.000000       2.000000"
      ]
     },
     "execution_count": 30,
     "metadata": {},
     "output_type": "execute_result"
    }
   ],
   "source": [
    "rating_weight_comparison.head(3)"
   ]
  },
  {
   "cell_type": "code",
   "execution_count": 31,
   "metadata": {
    "scrolled": false
   },
   "outputs": [
    {
     "data": {
      "image/png": "[encoded data removed]",
      "text/plain": [
       "<Figure size 432x288 with 1 Axes>"
      ]
     },
     "metadata": {},
     "output_type": "display_data"
    }
   ],
   "source": [
    "sns.set_theme(style=\"darkgrid\")\n",
    "fig = sns.lineplot(x=\"averageweight\", y=\"rating\",\n",
    "             data=rating_weight_comparison)\n",
    "plt.xlabel(\"Weight\")\n",
    "plt.ylabel(\"Rating\")\n",
    "plt.title(\"Linear correlation - Weight x Rating\")\n",
    "plt.show(fig)"
   ]
  },
  {
   "cell_type": "markdown",
   "metadata": {},
   "source": [
    "- This kind of line graph is more descriptive but harder to see, let's try something else:"
   ]
  },
  {
   "cell_type": "code",
   "execution_count": 32,
   "metadata": {},
   "outputs": [],
   "source": [
    "# Here we use cut to bin the values so we can have a more clean data to visualize\n",
    "rating_weight_comparison['bin_rating'] = pd.cut(rating_weight_comparison['rating'], [0, 1, 2, 3, 4, 5, 6, 7, 8, 9, 10], labels=False)"
   ]
  },
  {
   "cell_type": "code",
   "execution_count": 33,
   "metadata": {},
   "outputs": [],
   "source": [
    "rating_weight_comparison['bin_weight'] = pd.cut(rating_weight_comparison['averageweight'], [0, 1, 2, 3, 4, 5, 6, 7, 8, 9, 10], labels=False)"
   ]
  },
  {
   "cell_type": "code",
   "execution_count": 34,
   "metadata": {
    "scrolled": true
   },
   "outputs": [
    {
     "data": {
      "image/png": "[encoded data removed]",
      "text/plain": [
       "<Figure size 432x288 with 1 Axes>"
      ]
     },
     "metadata": {},
     "output_type": "display_data"
    }
   ],
   "source": [
    "fig = sns.lineplot(data=rating_weight_comparison, x=\"bin_weight\", y=\"bin_rating\")\n",
    "plt.xlabel(\"Weight\")\n",
    "plt.ylabel(\"Rating\")\n",
    "plt.title(\"Linear correlation - Weight x Rating\")\n",
    "plt.show(fig)"
   ]
  },
  {
   "cell_type": "markdown",
   "metadata": {},
   "source": [
    "- We can see that there is a trend going upwards, where the highest rated games are at least 5(In a scale out of 1-10 in difficulty). But something important to notice is that it seems to exist a risk-reward situation, in both ends (being too easy or too hard) that might also play a factor."
   ]
  },
  {
   "cell_type": "markdown",
   "metadata": {},
   "source": [
    "**We are going to make also a filter for the recommendation system based on the WEIGHT for basically two reasons:**\n",
    "- Remove the bias - what is the best game for that person that has X weight.\n",
    "- Provide a more personalized recommendation, the person decide how hard the game he/she is going to receive, we are not always in the mood to play a super hard game but sometimes that is exactly what we are looking for."
   ]
  },
  {
   "cell_type": "markdown",
   "metadata": {},
   "source": [
    "### Let's get our data ready for our modeling"
   ]
  },
  {
   "cell_type": "code",
   "execution_count": 35,
   "metadata": {},
   "outputs": [],
   "source": [
    "# We change the name of the columns to follow more of a pattern and be more descriptive\n",
    "bgg_reviews.columns = ['user_id', 'rating', 'game_id', 'name']"
   ]
  },
  {
   "cell_type": "code",
   "execution_count": 36,
   "metadata": {},
   "outputs": [],
   "source": [
    "# We subset our data for being easier on the processing of the model\n",
    "bgg_reviews = bgg_reviews.sample(1800000 , random_state=22)"
   ]
  },
  {
   "cell_type": "markdown",
   "metadata": {},
   "source": [
    "- We decide to filter our data even further, based on the number of reviews.\n",
    "- The explanation for this is that this might improve the performance of the model by only having users with contribution enough that have actual value for the modeling."
   ]
  },
  {
   "cell_type": "code",
   "execution_count": 37,
   "metadata": {},
   "outputs": [
    {
     "data": {
      "text/plain": [
       "count    225367.000000\n",
       "mean          7.986972\n",
       "std          14.270001\n",
       "min           1.000000\n",
       "25%           1.000000\n",
       "50%           3.000000\n",
       "75%           8.000000\n",
       "max         680.000000\n",
       "Name: user_id, dtype: float64"
      ]
     },
     "execution_count": 37,
     "metadata": {},
     "output_type": "execute_result"
    }
   ],
   "source": [
    "# We decide setting the threshold at 8, based on the percentile(75%):\n",
    "bgg_reviews['user_id'].value_counts().describe()"
   ]
  },
  {
   "cell_type": "code",
   "execution_count": 38,
   "metadata": {},
   "outputs": [],
   "source": [
    "number_filter = bgg_reviews.groupby('user_id')['rating']\n",
    "number_filter = pd.DataFrame(number_filter.count())"
   ]
  },
  {
   "cell_type": "code",
   "execution_count": 39,
   "metadata": {},
   "outputs": [],
   "source": [
    "list_users = number_filter[number_filter['rating'] >= 8].index\n",
    "bgg_reviews =  bgg_reviews[bgg_reviews['user_id'].isin(list_users)]"
   ]
  },
  {
   "cell_type": "markdown",
   "metadata": {},
   "source": [
    "- Now we have a smaller but better dataset."
   ]
  },
  {
   "cell_type": "code",
   "execution_count": 40,
   "metadata": {},
   "outputs": [],
   "source": [
    "# Drop the column 'name' since we can use the ID and inplace=True so we keep our changes\n",
    "bgg_reviews.drop(columns=['game_id'], inplace=True)"
   ]
  },
  {
   "cell_type": "code",
   "execution_count": 41,
   "metadata": {
    "scrolled": true
   },
   "outputs": [
    {
     "data": {
      "text/html": [
       "<div>\n",
       "<style scoped>\n",
       "    .dataframe tbody tr th:only-of-type {\n",
       "        vertical-align: middle;\n",
       "    }\n",
       "\n",
       "    .dataframe tbody tr th {\n",
       "        vertical-align: top;\n",
       "    }\n",
       "\n",
       "    .dataframe thead th {\n",
       "        text-align: right;\n",
       "    }\n",
       "</style>\n",
       "<table border=\"1\" class=\"dataframe\">\n",
       "  <thead>\n",
       "    <tr style=\"text-align: right;\">\n",
       "      <th></th>\n",
       "      <th>user_id</th>\n",
       "      <th>rating</th>\n",
       "      <th>name</th>\n",
       "    </tr>\n",
       "  </thead>\n",
       "  <tbody>\n",
       "    <tr>\n",
       "      <th>13324509</th>\n",
       "      <td>Donald13</td>\n",
       "      <td>8.5</td>\n",
       "      <td>The World Cup Game</td>\n",
       "    </tr>\n",
       "    <tr>\n",
       "      <th>7277457</th>\n",
       "      <td>leobetosouza</td>\n",
       "      <td>6.0</td>\n",
       "      <td>Elysium</td>\n",
       "    </tr>\n",
       "    <tr>\n",
       "      <th>7632114</th>\n",
       "      <td>tribefan07</td>\n",
       "      <td>7.5</td>\n",
       "      <td>Cacao</td>\n",
       "    </tr>\n",
       "  </tbody>\n",
       "</table>\n",
       "</div>"
      ],
      "text/plain": [
       "               user_id  rating                name\n",
       "13324509      Donald13     8.5  The World Cup Game\n",
       "7277457   leobetosouza     6.0             Elysium\n",
       "7632114     tribefan07     7.5               Cacao"
      ]
     },
     "execution_count": 41,
     "metadata": {},
     "output_type": "execute_result"
    }
   ],
   "source": [
    "# Sample of our data again to check how our data looks like\n",
    "bgg_reviews.sample(3, random_state=22)"
   ]
  },
  {
   "cell_type": "code",
   "execution_count": 42,
   "metadata": {},
   "outputs": [],
   "source": [
    "# Now we have to rearrange the columns to a form that the model understand, that is:\n",
    "cols = ['user_id', 'name', 'rating']\n",
    "bgg_reviews = bgg_reviews[cols]"
   ]
  },
  {
   "cell_type": "markdown",
   "metadata": {},
   "source": [
    "**Here we have our data ready to feed to whatever model we decide to use, but to make it lighter on the modeling we decide to use only a fraction of the whole data for now**:"
   ]
  },
  {
   "cell_type": "markdown",
   "metadata": {},
   "source": [
    "The data is sorted by game, which we should pay attention to the way we will get the data so we keep a \"healthy\" ratio of number of users and items"
   ]
  },
  {
   "cell_type": "code",
   "execution_count": 43,
   "metadata": {
    "scrolled": false
   },
   "outputs": [
    {
     "data": {
      "text/plain": [
       "'The number of board games is: 18777, and 62696 of users'"
      ]
     },
     "execution_count": 43,
     "metadata": {},
     "output_type": "execute_result"
    }
   ],
   "source": [
    "\"The number of board games is: {}, and {} of users\".format(len(bgg_reviews['name'].unique()),\n",
    "                                                           len(bgg_reviews['user_id'].unique()))"
   ]
  },
  {
   "cell_type": "markdown",
   "metadata": {},
   "source": [
    "The porportion is around 3.3 users for every 1 board game, so it is an item-item similarity situation."
   ]
  },
  {
   "cell_type": "code",
   "execution_count": 46,
   "metadata": {},
   "outputs": [
    {
     "data": {
      "text/plain": [
       "6.897314802672811"
      ]
     },
     "execution_count": 46,
     "metadata": {},
     "output_type": "execute_result"
    }
   ],
   "source": [
    "# What is the mean of the ratings?\n",
    "bgg_reviews['rating'].mean()"
   ]
  },
  {
   "cell_type": "markdown",
   "metadata": {},
   "source": [
    "## For our modeling we try different approaches to find the best one:\n"
   ]
  },
  {
   "cell_type": "markdown",
   "metadata": {},
   "source": [
    "We need to instatiate Reader to transform our dataset into a form that the library (Surprise) can read."
   ]
  },
  {
   "cell_type": "code",
   "execution_count": 47,
   "metadata": {},
   "outputs": [],
   "source": [
    "# We need to specify the range for the rating scale, since the default is 1 to 5\n",
    "reader = Reader(rating_scale=(1,10))"
   ]
  },
  {
   "cell_type": "code",
   "execution_count": 48,
   "metadata": {},
   "outputs": [],
   "source": [
    "# We transform the dataset into a surprise-dataset\n",
    "data = Dataset.load_from_df(bgg_reviews, reader)"
   ]
  },
  {
   "cell_type": "code",
   "execution_count": 49,
   "metadata": {},
   "outputs": [],
   "source": [
    "# We run train-test split on the data so we can validate it later\n",
    "trainset, testset = train_test_split(data, test_size=0.25, random_state=22)"
   ]
  },
  {
   "cell_type": "code",
   "execution_count": 50,
   "metadata": {
    "scrolled": false
   },
   "outputs": [
    {
     "name": "stdout",
     "output_type": "stream",
     "text": [
      "Number of users:  62696 \n",
      "\n",
      "Number of items:  18543 \n",
      "\n"
     ]
    }
   ],
   "source": [
    "print('Number of users: ', trainset.n_users, '\\n')\n",
    "print('Number of items: ', trainset.n_items, '\\n')"
   ]
  },
  {
   "cell_type": "markdown",
   "metadata": {},
   "source": [
    "**We first try cosine similarity**"
   ]
  },
  {
   "cell_type": "code",
   "execution_count": 51,
   "metadata": {},
   "outputs": [],
   "source": [
    "# Here we define that we want cosine similarity approach and set the user_based to false, since we have more users than items\n",
    "sim_cos = {'name':'cosine', 'user_based':False}"
   ]
  },
  {
   "cell_type": "code",
   "execution_count": 52,
   "metadata": {},
   "outputs": [],
   "source": [
    "# We set the model (KNN) and use the sim_cos defined before\n",
    "basic = knns.KNNBasic(sim_options=sim_cos)"
   ]
  },
  {
   "cell_type": "code",
   "execution_count": 53,
   "metadata": {},
   "outputs": [
    {
     "name": "stdout",
     "output_type": "stream",
     "text": [
      "Computing the cosine similarity matrix...\n",
      "Done computing similarity matrix.\n"
     ]
    },
    {
     "data": {
      "text/plain": [
       "<surprise.prediction_algorithms.knns.KNNBasic at 0x1d303419f70>"
      ]
     },
     "execution_count": 53,
     "metadata": {},
     "output_type": "execute_result"
    }
   ],
   "source": [
    "# We fit the model\n",
    "basic.fit(trainset)"
   ]
  },
  {
   "cell_type": "code",
   "execution_count": 54,
   "metadata": {},
   "outputs": [],
   "source": [
    "# We get the predictions of our first model\n",
    "predictions = basic.test(testset)"
   ]
  },
  {
   "cell_type": "code",
   "execution_count": 55,
   "metadata": {},
   "outputs": [
    {
     "data": {
      "text/plain": [
       "Prediction(uid='Siroj', iid='Trajan', r_ui=8.0, est=7.332369499041609, details={'actual_k': 6, 'was_impossible': False})"
      ]
     },
     "execution_count": 55,
     "metadata": {},
     "output_type": "execute_result"
    }
   ],
   "source": [
    "# And this is what it looks like one prediction\n",
    "predictions[0]"
   ]
  },
  {
   "cell_type": "code",
   "execution_count": 56,
   "metadata": {
    "scrolled": false
   },
   "outputs": [
    {
     "name": "stdout",
     "output_type": "stream",
     "text": [
      "RMSE: 1.5014\n",
      "1.5013697486706932\n"
     ]
    }
   ],
   "source": [
    "# The accuracy that we are going to use is RMSE(root-mean-square error), but you can also use\n",
    "# MAE(Mean Absolute Error) and FCP(Fraction of Concordant Pairs).\n",
    "print(accuracy.rmse(predictions))"
   ]
  },
  {
   "cell_type": "markdown",
   "metadata": {},
   "source": [
    "**Now we try pearson correlation**"
   ]
  },
  {
   "cell_type": "code",
   "execution_count": 57,
   "metadata": {},
   "outputs": [
    {
     "name": "stdout",
     "output_type": "stream",
     "text": [
      "Computing the pearson similarity matrix...\n",
      "Done computing similarity matrix.\n"
     ]
    }
   ],
   "source": [
    "sim_pearson = {'name':'pearson', 'user_based':False}\n",
    "basic_pearson = knns.KNNBasic(sim_options=sim_pearson)\n",
    "basic_pearson.fit(trainset)\n",
    "predictions = basic_pearson.test(testset)"
   ]
  },
  {
   "cell_type": "code",
   "execution_count": 58,
   "metadata": {
    "scrolled": false
   },
   "outputs": [
    {
     "name": "stdout",
     "output_type": "stream",
     "text": [
      "RMSE: 1.5582\n",
      "1.5581676173341248\n"
     ]
    }
   ],
   "source": [
    "print(accuracy.rmse(predictions))"
   ]
  },
  {
   "cell_type": "markdown",
   "metadata": {},
   "source": [
    "It seems that cosine similarity is better for our situation, but lets try pearson with knn with means instead of the vanilla version:"
   ]
  },
  {
   "cell_type": "code",
   "execution_count": 59,
   "metadata": {
    "scrolled": true
   },
   "outputs": [
    {
     "name": "stdout",
     "output_type": "stream",
     "text": [
      "Computing the pearson similarity matrix...\n",
      "Done computing similarity matrix.\n"
     ]
    }
   ],
   "source": [
    "sim_pearson = {'name':'pearson', 'user_based':False}\n",
    "knn_means = knns.KNNWithMeans(sim_options=sim_pearson)\n",
    "knn_means.fit(trainset)\n",
    "predictions = knn_means.test(testset)\n"
   ]
  },
  {
   "cell_type": "code",
   "execution_count": 60,
   "metadata": {},
   "outputs": [
    {
     "name": "stdout",
     "output_type": "stream",
     "text": [
      "RMSE: 1.3691\n",
      "1.3690942538127555\n"
     ]
    }
   ],
   "source": [
    "print(accuracy.rmse(predictions))"
   ]
  },
  {
   "cell_type": "markdown",
   "metadata": {},
   "source": [
    "And now Pearson with Baseline:"
   ]
  },
  {
   "cell_type": "code",
   "execution_count": 61,
   "metadata": {},
   "outputs": [
    {
     "name": "stdout",
     "output_type": "stream",
     "text": [
      "Estimating biases using als...\n",
      "Computing the pearson similarity matrix...\n",
      "Done computing similarity matrix.\n"
     ]
    }
   ],
   "source": [
    "sim_pearson = {'name':'pearson', 'user_based':False}\n",
    "knn_baseline = knns.KNNBaseline(sim_options=sim_pearson)\n",
    "knn_baseline.fit(trainset)\n",
    "predictions = knn_baseline.test(testset)"
   ]
  },
  {
   "cell_type": "code",
   "execution_count": 62,
   "metadata": {
    "scrolled": true
   },
   "outputs": [
    {
     "name": "stdout",
     "output_type": "stream",
     "text": [
      "RMSE: 1.3577\n",
      "1.357696396493476\n"
     ]
    }
   ],
   "source": [
    "print(accuracy.rmse(predictions))"
   ]
  },
  {
   "cell_type": "markdown",
   "metadata": {},
   "source": [
    "This is the best result so far! But lets keep moving."
   ]
  },
  {
   "cell_type": "markdown",
   "metadata": {},
   "source": [
    "### We can also try Model-Based methods instead of Memory-Based"
   ]
  },
  {
   "cell_type": "markdown",
   "metadata": {},
   "source": [
    "SVD is the most well-known algorithm"
   ]
  },
  {
   "cell_type": "code",
   "execution_count": 63,
   "metadata": {
    "scrolled": true
   },
   "outputs": [
    {
     "name": "stdout",
     "output_type": "stream",
     "text": [
      "RMSE: 1.3117\n",
      "1.3116574399175387\n"
     ]
    }
   ],
   "source": [
    "# We ran gridsearch to find these parameters - it's in the other notebook in this repository if you want to take a look\n",
    "svd = SVD(n_factors=20, n_epochs=10, lr_all=0.005, reg_all=0.4, verbose=False)\n",
    "svd.fit(trainset)\n",
    "predictions = svd.test(testset)\n",
    "print(accuracy.rmse(predictions))"
   ]
  },
  {
   "cell_type": "markdown",
   "metadata": {
    "scrolled": true
   },
   "source": [
    "- This is a great score, can be translated as 1.31 out of a 10."
   ]
  },
  {
   "cell_type": "markdown",
   "metadata": {},
   "source": [
    "### Lets see how our predictions actually work!"
   ]
  },
  {
   "cell_type": "code",
   "execution_count": 64,
   "metadata": {
    "scrolled": false
   },
   "outputs": [
    {
     "data": {
      "text/html": [
       "<div>\n",
       "<style scoped>\n",
       "    .dataframe tbody tr th:only-of-type {\n",
       "        vertical-align: middle;\n",
       "    }\n",
       "\n",
       "    .dataframe tbody tr th {\n",
       "        vertical-align: top;\n",
       "    }\n",
       "\n",
       "    .dataframe thead th {\n",
       "        text-align: right;\n",
       "    }\n",
       "</style>\n",
       "<table border=\"1\" class=\"dataframe\">\n",
       "  <thead>\n",
       "    <tr style=\"text-align: right;\">\n",
       "      <th></th>\n",
       "      <th>user_id</th>\n",
       "      <th>name</th>\n",
       "      <th>rating</th>\n",
       "    </tr>\n",
       "  </thead>\n",
       "  <tbody>\n",
       "    <tr>\n",
       "      <th>13324509</th>\n",
       "      <td>Donald13</td>\n",
       "      <td>The World Cup Game</td>\n",
       "      <td>8.5</td>\n",
       "    </tr>\n",
       "    <tr>\n",
       "      <th>7277457</th>\n",
       "      <td>leobetosouza</td>\n",
       "      <td>Elysium</td>\n",
       "      <td>6.0</td>\n",
       "    </tr>\n",
       "    <tr>\n",
       "      <th>7632114</th>\n",
       "      <td>tribefan07</td>\n",
       "      <td>Cacao</td>\n",
       "      <td>7.5</td>\n",
       "    </tr>\n",
       "    <tr>\n",
       "      <th>5691093</th>\n",
       "      <td>KatsuIas</td>\n",
       "      <td>Harry Potter: Hogwarts Battle</td>\n",
       "      <td>8.0</td>\n",
       "    </tr>\n",
       "    <tr>\n",
       "      <th>10639613</th>\n",
       "      <td>_mrq_</td>\n",
       "      <td>Illuminati</td>\n",
       "      <td>6.5</td>\n",
       "    </tr>\n",
       "  </tbody>\n",
       "</table>\n",
       "</div>"
      ],
      "text/plain": [
       "               user_id                           name  rating\n",
       "13324509      Donald13             The World Cup Game     8.5\n",
       "7277457   leobetosouza                        Elysium     6.0\n",
       "7632114     tribefan07                          Cacao     7.5\n",
       "5691093       KatsuIas  Harry Potter: Hogwarts Battle     8.0\n",
       "10639613         _mrq_                     Illuminati     6.5"
      ]
     },
     "execution_count": 64,
     "metadata": {},
     "output_type": "execute_result"
    }
   ],
   "source": [
    "bgg_reviews.sample(5, random_state=22)"
   ]
  },
  {
   "cell_type": "code",
   "execution_count": 65,
   "metadata": {
    "scrolled": true
   },
   "outputs": [
    {
     "data": {
      "text/plain": [
       "Prediction(uid='leobetosouza', iid='Elysium', r_ui=None, est=7.067911160885226, details={'was_impossible': False})"
      ]
     },
     "execution_count": 65,
     "metadata": {},
     "output_type": "execute_result"
    }
   ],
   "source": [
    "# What user 319493 thinks of game 1?\n",
    "svd.predict('leobetosouza', 'Elysium')"
   ]
  },
  {
   "cell_type": "code",
   "execution_count": 66,
   "metadata": {
    "scrolled": true
   },
   "outputs": [
    {
     "data": {
      "text/plain": [
       "Prediction(uid='leobetosouza', iid='Cacao', r_ui=None, est=6.954608523251118, details={'was_impossible': False})"
      ]
     },
     "execution_count": 66,
     "metadata": {},
     "output_type": "execute_result"
    }
   ],
   "source": [
    "svd.predict('leobetosouza', 'Cacao')"
   ]
  },
  {
   "cell_type": "code",
   "execution_count": 67,
   "metadata": {
    "scrolled": true
   },
   "outputs": [
    {
     "data": {
      "text/plain": [
       "Prediction(uid='KatsuIas', iid='Harry Potter: Hogwarts Battle', r_ui=None, est=7.605735747785954, details={'was_impossible': False})"
      ]
     },
     "execution_count": 67,
     "metadata": {},
     "output_type": "execute_result"
    }
   ],
   "source": [
    "svd.predict('KatsuIas', 'Harry Potter: Hogwarts Battle')"
   ]
  },
  {
   "cell_type": "markdown",
   "metadata": {},
   "source": [
    "- As we can see our model is working great. Not only express how a user would feel about a game but also is really precise when try to guess a rating for a game that someone already voted for. But of course, still have space for improvement."
   ]
  },
  {
   "cell_type": "markdown",
   "metadata": {},
   "source": [
    "### Recommendation based on each user using collaborative filtering"
   ]
  },
  {
   "cell_type": "markdown",
   "metadata": {},
   "source": [
    "Here we develop how our final algorithm is going to look like. You get recommendations back based on the username!"
   ]
  },
  {
   "cell_type": "code",
   "execution_count": 68,
   "metadata": {},
   "outputs": [],
   "source": [
    "# We map the predictions for each single user and then get the highest predicted ratings for those games\n",
    "def get_top_n(predictions, n=5):\n",
    "    \"\"\"\n",
    "    Return the top-N recommendation for each user from a set of predictions.\n",
    "    \"\"\"\n",
    "    \n",
    "    top_n = defaultdict(list)\n",
    "    for uid, iid, true_r, est, _ in predictions:\n",
    "        top_n[uid].append((iid, est))\n",
    "      \n",
    "    for uid, user_ratings in top_n.items():\n",
    "        user_ratings.sort(key=lambda x: x[1], reverse=True)\n",
    "        top_n[uid] = user_ratings[:n]\n",
    "\n",
    "    return top_n"
   ]
  },
  {
   "cell_type": "code",
   "execution_count": 69,
   "metadata": {},
   "outputs": [],
   "source": [
    "def recommendation_nickname(user):\n",
    "    user_games = []\n",
    "    top_n = get_top_n(predictions)\n",
    "    for uid, user_ratings in top_n.items():\n",
    "        if uid == user:\n",
    "            user_games.append((uid, [iid for (iid, _) in user_ratings]))\n",
    "    if len(user_games[0][1]) > 2:\n",
    "        print(\"These are your recommendations of games you might like:\")\n",
    "        return user_games[0][1]\n",
    "    elif len(user_games[0][1]) < 3:\n",
    "        print(\"Did you know, the more games you review, the better our recommendation system works?\")\n",
    "        return user_games[0][1]\n",
    "    else:\n",
    "        print(\"Error: It seems like we don't have enough data on you - It could be a typo, \\\n",
    "              or a problem on our end - Please send us an e-mail with the screenshot on: the.new.recommender@gmail.com\")\n",
    "        "
   ]
  },
  {
   "cell_type": "code",
   "execution_count": 70,
   "metadata": {
    "scrolled": true
   },
   "outputs": [
    {
     "name": "stdout",
     "output_type": "stream",
     "text": [
      "These are your recommendations of games you might like:\n"
     ]
    },
    {
     "data": {
      "text/plain": [
       "['Raptor',\n",
       " 'Santorini',\n",
       " 'No Thanks!',\n",
       " 'One Night Ultimate Werewolf',\n",
       " \"Ca$h 'n Guns (Second Edition)\"]"
      ]
     },
     "execution_count": 70,
     "metadata": {},
     "output_type": "execute_result"
    }
   ],
   "source": [
    "recommendation_nickname('jollyfulpanda')"
   ]
  },
  {
   "cell_type": "markdown",
   "metadata": {},
   "source": [
    "## Next Steps and Level Up!"
   ]
  },
  {
   "cell_type": "markdown",
   "metadata": {},
   "source": [
    "**Here we set some goals to keep working in the future and try different methods**"
   ]
  },
  {
   "cell_type": "markdown",
   "metadata": {},
   "source": [
    "### Recommendation based on designer"
   ]
  },
  {
   "cell_type": "markdown",
   "metadata": {},
   "source": [
    "Here we try something different, I wanted to make some sort of recommendation based solely on the board game designer.\n",
    "Since us (the board gamers) are still developing a sense of categories for boardgames and trying to bin them more together, a great way to distinguish the mechanic of the game is by the designer."
   ]
  },
  {
   "cell_type": "code",
   "execution_count": 71,
   "metadata": {},
   "outputs": [],
   "source": [
    "temp_df = pd.read_csv('../../../bgg-15m-reviews.csv')"
   ]
  },
  {
   "cell_type": "code",
   "execution_count": 72,
   "metadata": {},
   "outputs": [],
   "source": [
    "temp_df.drop(columns=['comment', 'Unnamed: 0'], inplace=True)\n",
    "temp_df.dropna(inplace=True)\n",
    "temp_df.columns = ['user', 'rating', 'id', 'name']"
   ]
  },
  {
   "cell_type": "code",
   "execution_count": 73,
   "metadata": {},
   "outputs": [],
   "source": [
    "rat_wei_designer = temp_df.merge(games_weight)"
   ]
  },
  {
   "cell_type": "code",
   "execution_count": 74,
   "metadata": {},
   "outputs": [],
   "source": [
    "def get_recommendations(nickname):\n",
    "    \n",
    "    \"\"\" Recommendation based on the \"favorite\" designer of a person. \n",
    "    If the user doesn't have a votes or if it played all the games that the designer made the\n",
    "    recommendation will suggest the most popular games instead. \"\"\"\n",
    "    \n",
    "    error_counter = []\n",
    "    temp_dataset = rat_wei_designer[rat_wei_designer['user'] == str(nickname)].sort_values(by='rating', ascending=False)\n",
    "    if len(temp_dataset) > 0:\n",
    "        temp_dataset_2 = temp_dataset[0:(len(temp_dataset)//2)]\n",
    "    else:\n",
    "        error_counter += 1 \n",
    "    \n",
    "    list_of_designers = list(temp_dataset_2['boardgamedesigner'].unique())\n",
    "    list_of_games = list(temp_dataset_2['name'].unique())\n",
    "    \n",
    "    list_of_designers = list_of_designers[0:3]\n",
    "    \n",
    "    list_designer_based = []\n",
    "    list_designer_based_final = []\n",
    "    \n",
    "    for designer_name in list_of_designers:\n",
    "        list_designer_based.append(list(rat_wei_designer[rat_wei_designer.boardgamedesigner == designer_name]['name'].unique()))\n",
    "    \n",
    "    for x in list_designer_based:\n",
    "        for y in x:\n",
    "            if y not in list_of_games:\n",
    "                list_designer_based_final.append(y)\n",
    "    \n",
    "    \n",
    "    if len(list_designer_based_final) > 1:\n",
    "        print(\"These are your recommendations of games based on the designer(s) you seem to like:\")\n",
    "    elif len(list_designer_based_final) < 2:\n",
    "        print(\"Did you know, the more games you review, the better our recommendation system works?\")\n",
    "    else:\n",
    "        print(\"Error: It seems like we don't have enough data on you - It could be a typo, or a problem on our end - Please send us an e-mail with the screenshot please on: the.new.recommender@gmail.com\")\n",
    "    return random.sample(list_designer_based_final, 5)\n",
    "    \n",
    "    #return list_of_games\n",
    "    #return recommendation_designer_based"
   ]
  },
  {
   "cell_type": "code",
   "execution_count": 81,
   "metadata": {
    "scrolled": true
   },
   "outputs": [
    {
     "name": "stdout",
     "output_type": "stream",
     "text": [
      "These are your recommendations of games based on the designer(s) you seem to like:\n"
     ]
    },
    {
     "data": {
      "text/plain": [
       "['Ghooost!',\n",
       " 'King of New York',\n",
       " 'Mole Rats in Space',\n",
       " 'Forbidden Island',\n",
       " 'KeyForge: Age of Ascension',\n",
       " 'Forbidden Desert']"
      ]
     },
     "execution_count": 81,
     "metadata": {},
     "output_type": "execute_result"
    }
   ],
   "source": [
    "get_recommendations('Ichiruishu')"
   ]
  },
  {
   "cell_type": "markdown",
   "metadata": {},
   "source": [
    "### Saving the model using Pickle"
   ]
  },
  {
   "cell_type": "code",
   "execution_count": 76,
   "metadata": {},
   "outputs": [],
   "source": [
    "filename = 'model_final.sav'"
   ]
  },
  {
   "cell_type": "code",
   "execution_count": 77,
   "metadata": {},
   "outputs": [],
   "source": [
    "pickle.dump(svd, open(filename, 'wb'))"
   ]
  },
  {
   "cell_type": "code",
   "execution_count": 78,
   "metadata": {},
   "outputs": [],
   "source": [
    "loaded_model = pickle.load(open(filename, 'rb'))"
   ]
  },
  {
   "cell_type": "code",
   "execution_count": 79,
   "metadata": {},
   "outputs": [],
   "source": [
    "result = loaded_model.predict('KatsuIas', 'Harry Potter: Hogwarts Battle')"
   ]
  },
  {
   "cell_type": "code",
   "execution_count": 80,
   "metadata": {
    "scrolled": true
   },
   "outputs": [
    {
     "data": {
      "text/plain": [
       "Prediction(uid='KatsuIas', iid='Harry Potter: Hogwarts Battle', r_ui=None, est=7.605735747785954, details={'was_impossible': False})"
      ]
     },
     "execution_count": 80,
     "metadata": {},
     "output_type": "execute_result"
    }
   ],
   "source": [
    "result"
   ]
  }
 ],
 "metadata": {
  "kernelspec": {
   "display_name": "Python [conda env:troubleshooting_is_pain]",
   "language": "python",
   "name": "conda-env-troubleshooting_is_pain-py"
  },
  "language_info": {
   "codemirror_mode": {
    "name": "ipython",
    "version": 3
   },
   "file_extension": ".py",
   "mimetype": "text/x-python",
   "name": "python",
   "nbconvert_exporter": "python",
   "pygments_lexer": "ipython3",
   "version": "3.8.8"
  }
 },
 "nbformat": 4,
 "nbformat_minor": 4
}
